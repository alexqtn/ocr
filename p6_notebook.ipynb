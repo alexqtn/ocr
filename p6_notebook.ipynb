{
 "cells": [
  {
   "cell_type": "code",
   "execution_count": 509,
   "metadata": {},
   "outputs": [],
   "source": [
    "import pandas as pd\n",
    "import numpy as np\n",
    "import matplotlib.pyplot as plt\n",
    "import seaborn as sns\n",
    "from scipy.stats import chi2_contingency, f_oneway, ttest_ind, shapiro, pearsonr"
   ]
  },
  {
   "cell_type": "markdown",
   "metadata": {},
   "source": [
    "## Import Data (customers):"
   ]
  },
  {
   "cell_type": "code",
   "execution_count": 510,
   "metadata": {},
   "outputs": [
    {
     "data": {
      "text/html": [
       "<div>\n",
       "<style scoped>\n",
       "    .dataframe tbody tr th:only-of-type {\n",
       "        vertical-align: middle;\n",
       "    }\n",
       "\n",
       "    .dataframe tbody tr th {\n",
       "        vertical-align: top;\n",
       "    }\n",
       "\n",
       "    .dataframe thead th {\n",
       "        text-align: right;\n",
       "    }\n",
       "</style>\n",
       "<table border=\"1\" class=\"dataframe\">\n",
       "  <thead>\n",
       "    <tr style=\"text-align: right;\">\n",
       "      <th></th>\n",
       "      <th>client_id</th>\n",
       "      <th>sex</th>\n",
       "      <th>birth</th>\n",
       "    </tr>\n",
       "  </thead>\n",
       "  <tbody>\n",
       "    <tr>\n",
       "      <th>0</th>\n",
       "      <td>c_4410</td>\n",
       "      <td>f</td>\n",
       "      <td>1967</td>\n",
       "    </tr>\n",
       "    <tr>\n",
       "      <th>1</th>\n",
       "      <td>c_7839</td>\n",
       "      <td>f</td>\n",
       "      <td>1975</td>\n",
       "    </tr>\n",
       "    <tr>\n",
       "      <th>2</th>\n",
       "      <td>c_1699</td>\n",
       "      <td>f</td>\n",
       "      <td>1984</td>\n",
       "    </tr>\n",
       "    <tr>\n",
       "      <th>3</th>\n",
       "      <td>c_5961</td>\n",
       "      <td>f</td>\n",
       "      <td>1962</td>\n",
       "    </tr>\n",
       "    <tr>\n",
       "      <th>4</th>\n",
       "      <td>c_5320</td>\n",
       "      <td>m</td>\n",
       "      <td>1943</td>\n",
       "    </tr>\n",
       "  </tbody>\n",
       "</table>\n",
       "</div>"
      ],
      "text/plain": [
       "  client_id sex  birth\n",
       "0    c_4410   f   1967\n",
       "1    c_7839   f   1975\n",
       "2    c_1699   f   1984\n",
       "3    c_5961   f   1962\n",
       "4    c_5320   m   1943"
      ]
     },
     "execution_count": 510,
     "metadata": {},
     "output_type": "execute_result"
    }
   ],
   "source": [
    "customers = pd.read_csv('customers.csv')\n",
    "customers.head()"
   ]
  },
  {
   "cell_type": "code",
   "execution_count": 511,
   "metadata": {},
   "outputs": [
    {
     "name": "stdout",
     "output_type": "stream",
     "text": [
      "<class 'pandas.core.frame.DataFrame'>\n",
      "RangeIndex: 8623 entries, 0 to 8622\n",
      "Data columns (total 3 columns):\n",
      " #   Column     Non-Null Count  Dtype \n",
      "---  ------     --------------  ----- \n",
      " 0   client_id  8623 non-null   object\n",
      " 1   sex        8623 non-null   object\n",
      " 2   birth      8623 non-null   int64 \n",
      "dtypes: int64(1), object(2)\n",
      "memory usage: 202.2+ KB\n"
     ]
    }
   ],
   "source": [
    "customers.info()"
   ]
  },
  {
   "cell_type": "code",
   "execution_count": 512,
   "metadata": {},
   "outputs": [
    {
     "data": {
      "text/html": [
       "<div>\n",
       "<style scoped>\n",
       "    .dataframe tbody tr th:only-of-type {\n",
       "        vertical-align: middle;\n",
       "    }\n",
       "\n",
       "    .dataframe tbody tr th {\n",
       "        vertical-align: top;\n",
       "    }\n",
       "\n",
       "    .dataframe thead th {\n",
       "        text-align: right;\n",
       "    }\n",
       "</style>\n",
       "<table border=\"1\" class=\"dataframe\">\n",
       "  <thead>\n",
       "    <tr style=\"text-align: right;\">\n",
       "      <th></th>\n",
       "      <th>birth</th>\n",
       "    </tr>\n",
       "  </thead>\n",
       "  <tbody>\n",
       "    <tr>\n",
       "      <th>count</th>\n",
       "      <td>8623.000000</td>\n",
       "    </tr>\n",
       "    <tr>\n",
       "      <th>mean</th>\n",
       "      <td>1978.280877</td>\n",
       "    </tr>\n",
       "    <tr>\n",
       "      <th>std</th>\n",
       "      <td>16.919535</td>\n",
       "    </tr>\n",
       "    <tr>\n",
       "      <th>min</th>\n",
       "      <td>1929.000000</td>\n",
       "    </tr>\n",
       "    <tr>\n",
       "      <th>25%</th>\n",
       "      <td>1966.000000</td>\n",
       "    </tr>\n",
       "    <tr>\n",
       "      <th>50%</th>\n",
       "      <td>1979.000000</td>\n",
       "    </tr>\n",
       "    <tr>\n",
       "      <th>75%</th>\n",
       "      <td>1992.000000</td>\n",
       "    </tr>\n",
       "    <tr>\n",
       "      <th>max</th>\n",
       "      <td>2004.000000</td>\n",
       "    </tr>\n",
       "  </tbody>\n",
       "</table>\n",
       "</div>"
      ],
      "text/plain": [
       "             birth\n",
       "count  8623.000000\n",
       "mean   1978.280877\n",
       "std      16.919535\n",
       "min    1929.000000\n",
       "25%    1966.000000\n",
       "50%    1979.000000\n",
       "75%    1992.000000\n",
       "max    2004.000000"
      ]
     },
     "execution_count": 512,
     "metadata": {},
     "output_type": "execute_result"
    }
   ],
   "source": [
    "customers.describe()"
   ]
  },
  {
   "cell_type": "markdown",
   "metadata": {},
   "source": [
    "## Cleaning Data:"
   ]
  },
  {
   "cell_type": "code",
   "execution_count": 513,
   "metadata": {},
   "outputs": [
    {
     "data": {
      "text/plain": [
       "0"
      ]
     },
     "execution_count": 513,
     "metadata": {},
     "output_type": "execute_result"
    }
   ],
   "source": [
    "customers.duplicated(subset=['client_id']).sum()"
   ]
  },
  {
   "cell_type": "code",
   "execution_count": 514,
   "metadata": {},
   "outputs": [
    {
     "data": {
      "text/plain": [
       "client_id    0\n",
       "sex          0\n",
       "birth        0\n",
       "dtype: int64"
      ]
     },
     "execution_count": 514,
     "metadata": {},
     "output_type": "execute_result"
    }
   ],
   "source": [
    "customers.isna().sum()"
   ]
  },
  {
   "cell_type": "markdown",
   "metadata": {},
   "source": [
    "## Import Data (products):"
   ]
  },
  {
   "cell_type": "code",
   "execution_count": 515,
   "metadata": {},
   "outputs": [
    {
     "data": {
      "text/html": [
       "<div>\n",
       "<style scoped>\n",
       "    .dataframe tbody tr th:only-of-type {\n",
       "        vertical-align: middle;\n",
       "    }\n",
       "\n",
       "    .dataframe tbody tr th {\n",
       "        vertical-align: top;\n",
       "    }\n",
       "\n",
       "    .dataframe thead th {\n",
       "        text-align: right;\n",
       "    }\n",
       "</style>\n",
       "<table border=\"1\" class=\"dataframe\">\n",
       "  <thead>\n",
       "    <tr style=\"text-align: right;\">\n",
       "      <th></th>\n",
       "      <th>id_prod</th>\n",
       "      <th>price</th>\n",
       "      <th>categ</th>\n",
       "    </tr>\n",
       "  </thead>\n",
       "  <tbody>\n",
       "    <tr>\n",
       "      <th>0</th>\n",
       "      <td>0_1421</td>\n",
       "      <td>19.99</td>\n",
       "      <td>0</td>\n",
       "    </tr>\n",
       "    <tr>\n",
       "      <th>1</th>\n",
       "      <td>0_1368</td>\n",
       "      <td>5.13</td>\n",
       "      <td>0</td>\n",
       "    </tr>\n",
       "    <tr>\n",
       "      <th>2</th>\n",
       "      <td>0_731</td>\n",
       "      <td>17.99</td>\n",
       "      <td>0</td>\n",
       "    </tr>\n",
       "    <tr>\n",
       "      <th>3</th>\n",
       "      <td>1_587</td>\n",
       "      <td>4.99</td>\n",
       "      <td>1</td>\n",
       "    </tr>\n",
       "    <tr>\n",
       "      <th>4</th>\n",
       "      <td>0_1507</td>\n",
       "      <td>3.99</td>\n",
       "      <td>0</td>\n",
       "    </tr>\n",
       "  </tbody>\n",
       "</table>\n",
       "</div>"
      ],
      "text/plain": [
       "  id_prod  price  categ\n",
       "0  0_1421  19.99      0\n",
       "1  0_1368   5.13      0\n",
       "2   0_731  17.99      0\n",
       "3   1_587   4.99      1\n",
       "4  0_1507   3.99      0"
      ]
     },
     "execution_count": 515,
     "metadata": {},
     "output_type": "execute_result"
    }
   ],
   "source": [
    "products = pd.read_csv('products.csv')\n",
    "products.head()"
   ]
  },
  {
   "cell_type": "code",
   "execution_count": 516,
   "metadata": {},
   "outputs": [
    {
     "name": "stdout",
     "output_type": "stream",
     "text": [
      "<class 'pandas.core.frame.DataFrame'>\n",
      "RangeIndex: 3287 entries, 0 to 3286\n",
      "Data columns (total 3 columns):\n",
      " #   Column   Non-Null Count  Dtype  \n",
      "---  ------   --------------  -----  \n",
      " 0   id_prod  3287 non-null   object \n",
      " 1   price    3287 non-null   float64\n",
      " 2   categ    3287 non-null   int64  \n",
      "dtypes: float64(1), int64(1), object(1)\n",
      "memory usage: 77.2+ KB\n"
     ]
    }
   ],
   "source": [
    "products.info()"
   ]
  },
  {
   "cell_type": "code",
   "execution_count": 517,
   "metadata": {},
   "outputs": [
    {
     "data": {
      "text/html": [
       "<div>\n",
       "<style scoped>\n",
       "    .dataframe tbody tr th:only-of-type {\n",
       "        vertical-align: middle;\n",
       "    }\n",
       "\n",
       "    .dataframe tbody tr th {\n",
       "        vertical-align: top;\n",
       "    }\n",
       "\n",
       "    .dataframe thead th {\n",
       "        text-align: right;\n",
       "    }\n",
       "</style>\n",
       "<table border=\"1\" class=\"dataframe\">\n",
       "  <thead>\n",
       "    <tr style=\"text-align: right;\">\n",
       "      <th></th>\n",
       "      <th>price</th>\n",
       "      <th>categ</th>\n",
       "    </tr>\n",
       "  </thead>\n",
       "  <tbody>\n",
       "    <tr>\n",
       "      <th>count</th>\n",
       "      <td>3287.000000</td>\n",
       "      <td>3287.000000</td>\n",
       "    </tr>\n",
       "    <tr>\n",
       "      <th>mean</th>\n",
       "      <td>21.856641</td>\n",
       "      <td>0.370246</td>\n",
       "    </tr>\n",
       "    <tr>\n",
       "      <th>std</th>\n",
       "      <td>29.847908</td>\n",
       "      <td>0.615387</td>\n",
       "    </tr>\n",
       "    <tr>\n",
       "      <th>min</th>\n",
       "      <td>-1.000000</td>\n",
       "      <td>0.000000</td>\n",
       "    </tr>\n",
       "    <tr>\n",
       "      <th>25%</th>\n",
       "      <td>6.990000</td>\n",
       "      <td>0.000000</td>\n",
       "    </tr>\n",
       "    <tr>\n",
       "      <th>50%</th>\n",
       "      <td>13.060000</td>\n",
       "      <td>0.000000</td>\n",
       "    </tr>\n",
       "    <tr>\n",
       "      <th>75%</th>\n",
       "      <td>22.990000</td>\n",
       "      <td>1.000000</td>\n",
       "    </tr>\n",
       "    <tr>\n",
       "      <th>max</th>\n",
       "      <td>300.000000</td>\n",
       "      <td>2.000000</td>\n",
       "    </tr>\n",
       "  </tbody>\n",
       "</table>\n",
       "</div>"
      ],
      "text/plain": [
       "             price        categ\n",
       "count  3287.000000  3287.000000\n",
       "mean     21.856641     0.370246\n",
       "std      29.847908     0.615387\n",
       "min      -1.000000     0.000000\n",
       "25%       6.990000     0.000000\n",
       "50%      13.060000     0.000000\n",
       "75%      22.990000     1.000000\n",
       "max     300.000000     2.000000"
      ]
     },
     "execution_count": 517,
     "metadata": {},
     "output_type": "execute_result"
    }
   ],
   "source": [
    "products.describe()"
   ]
  },
  {
   "cell_type": "code",
   "execution_count": 518,
   "metadata": {},
   "outputs": [
    {
     "data": {
      "text/plain": [
       "array([0, 1, 2])"
      ]
     },
     "execution_count": 518,
     "metadata": {},
     "output_type": "execute_result"
    }
   ],
   "source": [
    "products.categ.unique()"
   ]
  },
  {
   "cell_type": "markdown",
   "metadata": {},
   "source": [
    "## Cleaning Data:"
   ]
  },
  {
   "cell_type": "code",
   "execution_count": 519,
   "metadata": {},
   "outputs": [
    {
     "data": {
      "text/plain": [
       "0"
      ]
     },
     "execution_count": 519,
     "metadata": {},
     "output_type": "execute_result"
    }
   ],
   "source": [
    "products.duplicated(subset=['id_prod']).sum()"
   ]
  },
  {
   "cell_type": "code",
   "execution_count": 520,
   "metadata": {},
   "outputs": [
    {
     "data": {
      "text/plain": [
       "id_prod    0\n",
       "price      0\n",
       "categ      0\n",
       "dtype: int64"
      ]
     },
     "execution_count": 520,
     "metadata": {},
     "output_type": "execute_result"
    }
   ],
   "source": [
    "products.isna().sum()"
   ]
  },
  {
   "cell_type": "code",
   "execution_count": 521,
   "metadata": {},
   "outputs": [
    {
     "data": {
      "text/html": [
       "<div>\n",
       "<style scoped>\n",
       "    .dataframe tbody tr th:only-of-type {\n",
       "        vertical-align: middle;\n",
       "    }\n",
       "\n",
       "    .dataframe tbody tr th {\n",
       "        vertical-align: top;\n",
       "    }\n",
       "\n",
       "    .dataframe thead th {\n",
       "        text-align: right;\n",
       "    }\n",
       "</style>\n",
       "<table border=\"1\" class=\"dataframe\">\n",
       "  <thead>\n",
       "    <tr style=\"text-align: right;\">\n",
       "      <th></th>\n",
       "      <th>id_prod</th>\n",
       "      <th>price</th>\n",
       "      <th>categ</th>\n",
       "    </tr>\n",
       "  </thead>\n",
       "  <tbody>\n",
       "    <tr>\n",
       "      <th>731</th>\n",
       "      <td>T_0</td>\n",
       "      <td>-1.0</td>\n",
       "      <td>0</td>\n",
       "    </tr>\n",
       "  </tbody>\n",
       "</table>\n",
       "</div>"
      ],
      "text/plain": [
       "    id_prod  price  categ\n",
       "731     T_0   -1.0      0"
      ]
     },
     "execution_count": 521,
     "metadata": {},
     "output_type": "execute_result"
    }
   ],
   "source": [
    "products[products['price'] == -1]"
   ]
  },
  {
   "cell_type": "code",
   "execution_count": 522,
   "metadata": {},
   "outputs": [
    {
     "data": {
      "text/html": [
       "<div>\n",
       "<style scoped>\n",
       "    .dataframe tbody tr th:only-of-type {\n",
       "        vertical-align: middle;\n",
       "    }\n",
       "\n",
       "    .dataframe tbody tr th {\n",
       "        vertical-align: top;\n",
       "    }\n",
       "\n",
       "    .dataframe thead th {\n",
       "        text-align: right;\n",
       "    }\n",
       "</style>\n",
       "<table border=\"1\" class=\"dataframe\">\n",
       "  <thead>\n",
       "    <tr style=\"text-align: right;\">\n",
       "      <th></th>\n",
       "      <th>price</th>\n",
       "      <th>categ</th>\n",
       "    </tr>\n",
       "  </thead>\n",
       "  <tbody>\n",
       "    <tr>\n",
       "      <th>count</th>\n",
       "      <td>3286.000000</td>\n",
       "      <td>3286.000000</td>\n",
       "    </tr>\n",
       "    <tr>\n",
       "      <th>mean</th>\n",
       "      <td>21.863597</td>\n",
       "      <td>0.370359</td>\n",
       "    </tr>\n",
       "    <tr>\n",
       "      <th>std</th>\n",
       "      <td>29.849786</td>\n",
       "      <td>0.615446</td>\n",
       "    </tr>\n",
       "    <tr>\n",
       "      <th>min</th>\n",
       "      <td>0.620000</td>\n",
       "      <td>0.000000</td>\n",
       "    </tr>\n",
       "    <tr>\n",
       "      <th>25%</th>\n",
       "      <td>6.990000</td>\n",
       "      <td>0.000000</td>\n",
       "    </tr>\n",
       "    <tr>\n",
       "      <th>50%</th>\n",
       "      <td>13.075000</td>\n",
       "      <td>0.000000</td>\n",
       "    </tr>\n",
       "    <tr>\n",
       "      <th>75%</th>\n",
       "      <td>22.990000</td>\n",
       "      <td>1.000000</td>\n",
       "    </tr>\n",
       "    <tr>\n",
       "      <th>max</th>\n",
       "      <td>300.000000</td>\n",
       "      <td>2.000000</td>\n",
       "    </tr>\n",
       "  </tbody>\n",
       "</table>\n",
       "</div>"
      ],
      "text/plain": [
       "             price        categ\n",
       "count  3286.000000  3286.000000\n",
       "mean     21.863597     0.370359\n",
       "std      29.849786     0.615446\n",
       "min       0.620000     0.000000\n",
       "25%       6.990000     0.000000\n",
       "50%      13.075000     0.000000\n",
       "75%      22.990000     1.000000\n",
       "max     300.000000     2.000000"
      ]
     },
     "execution_count": 522,
     "metadata": {},
     "output_type": "execute_result"
    }
   ],
   "source": [
    "products = products.drop(products.index[731])\n",
    "products.describe()"
   ]
  },
  {
   "cell_type": "markdown",
   "metadata": {},
   "source": [
    "## Import Data (transactions):"
   ]
  },
  {
   "cell_type": "code",
   "execution_count": 523,
   "metadata": {},
   "outputs": [
    {
     "data": {
      "text/html": [
       "<div>\n",
       "<style scoped>\n",
       "    .dataframe tbody tr th:only-of-type {\n",
       "        vertical-align: middle;\n",
       "    }\n",
       "\n",
       "    .dataframe tbody tr th {\n",
       "        vertical-align: top;\n",
       "    }\n",
       "\n",
       "    .dataframe thead th {\n",
       "        text-align: right;\n",
       "    }\n",
       "</style>\n",
       "<table border=\"1\" class=\"dataframe\">\n",
       "  <thead>\n",
       "    <tr style=\"text-align: right;\">\n",
       "      <th></th>\n",
       "      <th>id_prod</th>\n",
       "      <th>date</th>\n",
       "      <th>session_id</th>\n",
       "      <th>client_id</th>\n",
       "    </tr>\n",
       "  </thead>\n",
       "  <tbody>\n",
       "    <tr>\n",
       "      <th>0</th>\n",
       "      <td>0_1518</td>\n",
       "      <td>2022-05-20 13:21:29.043970</td>\n",
       "      <td>s_211425</td>\n",
       "      <td>c_103</td>\n",
       "    </tr>\n",
       "    <tr>\n",
       "      <th>1</th>\n",
       "      <td>1_251</td>\n",
       "      <td>2022-02-02 07:55:19.149409</td>\n",
       "      <td>s_158752</td>\n",
       "      <td>c_8534</td>\n",
       "    </tr>\n",
       "    <tr>\n",
       "      <th>2</th>\n",
       "      <td>0_1277</td>\n",
       "      <td>2022-06-18 15:44:33.155329</td>\n",
       "      <td>s_225667</td>\n",
       "      <td>c_6714</td>\n",
       "    </tr>\n",
       "    <tr>\n",
       "      <th>3</th>\n",
       "      <td>2_209</td>\n",
       "      <td>2021-06-24 04:19:29.835891</td>\n",
       "      <td>s_52962</td>\n",
       "      <td>c_6941</td>\n",
       "    </tr>\n",
       "    <tr>\n",
       "      <th>4</th>\n",
       "      <td>0_1509</td>\n",
       "      <td>2023-01-11 08:22:08.194479</td>\n",
       "      <td>s_325227</td>\n",
       "      <td>c_4232</td>\n",
       "    </tr>\n",
       "  </tbody>\n",
       "</table>\n",
       "</div>"
      ],
      "text/plain": [
       "  id_prod                        date session_id client_id\n",
       "0  0_1518  2022-05-20 13:21:29.043970   s_211425     c_103\n",
       "1   1_251  2022-02-02 07:55:19.149409   s_158752    c_8534\n",
       "2  0_1277  2022-06-18 15:44:33.155329   s_225667    c_6714\n",
       "3   2_209  2021-06-24 04:19:29.835891    s_52962    c_6941\n",
       "4  0_1509  2023-01-11 08:22:08.194479   s_325227    c_4232"
      ]
     },
     "execution_count": 523,
     "metadata": {},
     "output_type": "execute_result"
    }
   ],
   "source": [
    "transactions = pd.read_csv('transactions.csv')\n",
    "transactions.head()"
   ]
  },
  {
   "cell_type": "code",
   "execution_count": 524,
   "metadata": {},
   "outputs": [
    {
     "name": "stdout",
     "output_type": "stream",
     "text": [
      "<class 'pandas.core.frame.DataFrame'>\n",
      "RangeIndex: 679532 entries, 0 to 679531\n",
      "Data columns (total 4 columns):\n",
      " #   Column      Non-Null Count   Dtype \n",
      "---  ------      --------------   ----- \n",
      " 0   id_prod     679532 non-null  object\n",
      " 1   date        679532 non-null  object\n",
      " 2   session_id  679532 non-null  object\n",
      " 3   client_id   679532 non-null  object\n",
      "dtypes: object(4)\n",
      "memory usage: 20.7+ MB\n"
     ]
    }
   ],
   "source": [
    "transactions.info()"
   ]
  },
  {
   "cell_type": "code",
   "execution_count": 525,
   "metadata": {},
   "outputs": [
    {
     "data": {
      "text/html": [
       "<div>\n",
       "<style scoped>\n",
       "    .dataframe tbody tr th:only-of-type {\n",
       "        vertical-align: middle;\n",
       "    }\n",
       "\n",
       "    .dataframe tbody tr th {\n",
       "        vertical-align: top;\n",
       "    }\n",
       "\n",
       "    .dataframe thead th {\n",
       "        text-align: right;\n",
       "    }\n",
       "</style>\n",
       "<table border=\"1\" class=\"dataframe\">\n",
       "  <thead>\n",
       "    <tr style=\"text-align: right;\">\n",
       "      <th></th>\n",
       "      <th>id_prod</th>\n",
       "      <th>date</th>\n",
       "      <th>session_id</th>\n",
       "      <th>client_id</th>\n",
       "    </tr>\n",
       "  </thead>\n",
       "  <tbody>\n",
       "    <tr>\n",
       "      <th>count</th>\n",
       "      <td>679532</td>\n",
       "      <td>679532</td>\n",
       "      <td>679532</td>\n",
       "      <td>679532</td>\n",
       "    </tr>\n",
       "    <tr>\n",
       "      <th>unique</th>\n",
       "      <td>3267</td>\n",
       "      <td>679371</td>\n",
       "      <td>342316</td>\n",
       "      <td>8602</td>\n",
       "    </tr>\n",
       "    <tr>\n",
       "      <th>top</th>\n",
       "      <td>1_369</td>\n",
       "      <td>test_2021-03-01 02:30:02.237413</td>\n",
       "      <td>s_0</td>\n",
       "      <td>c_1609</td>\n",
       "    </tr>\n",
       "    <tr>\n",
       "      <th>freq</th>\n",
       "      <td>2252</td>\n",
       "      <td>13</td>\n",
       "      <td>200</td>\n",
       "      <td>25488</td>\n",
       "    </tr>\n",
       "  </tbody>\n",
       "</table>\n",
       "</div>"
      ],
      "text/plain": [
       "       id_prod                             date session_id client_id\n",
       "count   679532                           679532     679532    679532\n",
       "unique    3267                           679371     342316      8602\n",
       "top      1_369  test_2021-03-01 02:30:02.237413        s_0    c_1609\n",
       "freq      2252                               13        200     25488"
      ]
     },
     "execution_count": 525,
     "metadata": {},
     "output_type": "execute_result"
    }
   ],
   "source": [
    "transactions.describe()"
   ]
  },
  {
   "cell_type": "markdown",
   "metadata": {},
   "source": [
    "## Cleaning Data:"
   ]
  },
  {
   "cell_type": "code",
   "execution_count": 526,
   "metadata": {},
   "outputs": [
    {
     "data": {
      "text/html": [
       "<div>\n",
       "<style scoped>\n",
       "    .dataframe tbody tr th:only-of-type {\n",
       "        vertical-align: middle;\n",
       "    }\n",
       "\n",
       "    .dataframe tbody tr th {\n",
       "        vertical-align: top;\n",
       "    }\n",
       "\n",
       "    .dataframe thead th {\n",
       "        text-align: right;\n",
       "    }\n",
       "</style>\n",
       "<table border=\"1\" class=\"dataframe\">\n",
       "  <thead>\n",
       "    <tr style=\"text-align: right;\">\n",
       "      <th></th>\n",
       "      <th>id_prod</th>\n",
       "      <th>date</th>\n",
       "      <th>session_id</th>\n",
       "      <th>client_id</th>\n",
       "      <th>reference</th>\n",
       "      <th>heure</th>\n",
       "    </tr>\n",
       "  </thead>\n",
       "  <tbody>\n",
       "    <tr>\n",
       "      <th>0</th>\n",
       "      <td>0_1518</td>\n",
       "      <td>2022-05-20</td>\n",
       "      <td>s_211425</td>\n",
       "      <td>c_103</td>\n",
       "      <td>043970</td>\n",
       "      <td>13:21:29</td>\n",
       "    </tr>\n",
       "    <tr>\n",
       "      <th>1</th>\n",
       "      <td>1_251</td>\n",
       "      <td>2022-02-02</td>\n",
       "      <td>s_158752</td>\n",
       "      <td>c_8534</td>\n",
       "      <td>149409</td>\n",
       "      <td>07:55:19</td>\n",
       "    </tr>\n",
       "    <tr>\n",
       "      <th>2</th>\n",
       "      <td>0_1277</td>\n",
       "      <td>2022-06-18</td>\n",
       "      <td>s_225667</td>\n",
       "      <td>c_6714</td>\n",
       "      <td>155329</td>\n",
       "      <td>15:44:33</td>\n",
       "    </tr>\n",
       "    <tr>\n",
       "      <th>3</th>\n",
       "      <td>2_209</td>\n",
       "      <td>2021-06-24</td>\n",
       "      <td>s_52962</td>\n",
       "      <td>c_6941</td>\n",
       "      <td>835891</td>\n",
       "      <td>04:19:29</td>\n",
       "    </tr>\n",
       "    <tr>\n",
       "      <th>4</th>\n",
       "      <td>0_1509</td>\n",
       "      <td>2023-01-11</td>\n",
       "      <td>s_325227</td>\n",
       "      <td>c_4232</td>\n",
       "      <td>194479</td>\n",
       "      <td>08:22:08</td>\n",
       "    </tr>\n",
       "  </tbody>\n",
       "</table>\n",
       "</div>"
      ],
      "text/plain": [
       "  id_prod        date session_id client_id reference     heure\n",
       "0  0_1518  2022-05-20   s_211425     c_103    043970  13:21:29\n",
       "1   1_251  2022-02-02   s_158752    c_8534    149409  07:55:19\n",
       "2  0_1277  2022-06-18   s_225667    c_6714    155329  15:44:33\n",
       "3   2_209  2021-06-24    s_52962    c_6941    835891  04:19:29\n",
       "4  0_1509  2023-01-11   s_325227    c_4232    194479  08:22:08"
      ]
     },
     "execution_count": 526,
     "metadata": {},
     "output_type": "execute_result"
    }
   ],
   "source": [
    "transactions[['date', 'reference']] = transactions.date.str.split('.', expand=True)\n",
    "transactions[['date', 'heure']] = transactions.date.str.split(' ', expand=True)\n",
    "transactions.head()"
   ]
  },
  {
   "cell_type": "code",
   "execution_count": 527,
   "metadata": {},
   "outputs": [
    {
     "data": {
      "text/plain": [
       "id_prod       object\n",
       "date          object\n",
       "session_id    object\n",
       "client_id     object\n",
       "reference     object\n",
       "heure         object\n",
       "dtype: object"
      ]
     },
     "execution_count": 527,
     "metadata": {},
     "output_type": "execute_result"
    }
   ],
   "source": [
    "transactions.dtypes"
   ]
  },
  {
   "cell_type": "code",
   "execution_count": 528,
   "metadata": {},
   "outputs": [
    {
     "data": {
      "text/plain": [
       "array(['2022-05-20', '2022-02-02', '2022-06-18', '2021-06-24',\n",
       "       '2023-01-11', '2022-10-20', '2022-06-03', '2021-06-26',\n",
       "       '2022-12-27', '2021-11-29', '2022-10-07', '2021-06-06',\n",
       "       '2023-02-12', '2022-04-28', '2021-09-04', '2021-08-18',\n",
       "       '2022-05-08', '2022-09-13', '2021-09-20', '2022-02-28',\n",
       "       '2023-01-15', '2023-02-04', '2023-01-13', '2021-08-24',\n",
       "       '2021-12-14', '2022-07-24', '2021-05-16', '2021-05-03',\n",
       "       '2022-02-03', '2022-07-27', '2022-07-01', '2021-06-21',\n",
       "       '2021-07-07', '2022-03-19', '2022-04-23', '2021-12-10',\n",
       "       '2021-09-02', '2022-09-30', '2022-08-23', '2021-12-02',\n",
       "       '2022-05-30', '2021-05-28', '2022-02-07', '2023-02-26',\n",
       "       '2023-02-01', '2022-09-16', '2022-03-23', '2021-09-25',\n",
       "       '2022-07-13', '2021-07-23', '2021-05-18', '2022-07-17',\n",
       "       '2022-06-16', '2022-07-11', '2022-10-01', '2021-12-09',\n",
       "       '2021-09-05', '2021-03-27', '2021-09-01', '2021-09-29',\n",
       "       '2022-01-01', '2022-05-01', '2021-05-06', '2022-10-05',\n",
       "       '2021-10-02', '2023-02-24', '2023-02-14', '2021-10-03',\n",
       "       '2021-05-29', '2021-11-13', '2022-08-18', '2022-02-05',\n",
       "       '2021-08-11', '2023-02-07', '2021-08-23', '2022-08-12',\n",
       "       '2021-10-13', '2021-05-05', '2023-01-02', '2022-11-13',\n",
       "       '2021-07-08', '2021-03-25', '2021-10-24', '2022-03-17',\n",
       "       '2022-01-04', '2022-07-09', '2021-06-12', '2022-01-12',\n",
       "       '2022-12-02', '2021-10-05', '2021-09-07', '2022-08-02',\n",
       "       '2022-11-05', '2021-11-04', '2022-06-22', '2021-10-06',\n",
       "       '2022-01-02', '2022-01-19', '2021-04-17', '2021-05-30',\n",
       "       '2023-02-05', '2021-03-21', '2022-12-12', '2021-07-12',\n",
       "       '2022-12-22', '2021-03-01', '2022-04-18', '2022-04-16',\n",
       "       '2021-09-16', '2023-01-08', '2021-06-01', '2021-07-30',\n",
       "       '2021-12-23', '2021-03-12', '2021-03-23', '2022-03-13',\n",
       "       '2022-05-11', '2023-02-21', '2022-05-29', '2022-10-11',\n",
       "       '2022-09-28', '2021-04-15', '2022-03-03', '2022-09-26',\n",
       "       '2023-01-26', '2023-01-22', '2021-04-05', '2022-04-08',\n",
       "       '2021-11-24', '2021-06-07', '2022-12-07', '2022-02-24',\n",
       "       '2022-11-12', '2022-06-01', '2021-05-01', '2021-11-14',\n",
       "       '2021-03-07', '2022-06-17', '2022-01-28', '2021-12-07',\n",
       "       '2021-06-11', '2022-06-15', '2021-05-31', '2022-12-15',\n",
       "       '2022-07-29', '2021-03-19', '2021-08-06', '2022-03-06',\n",
       "       '2022-08-30', '2022-09-11', '2022-11-02', '2021-11-08',\n",
       "       '2021-09-10', '2021-12-15', '2021-04-25', '2021-09-21',\n",
       "       '2021-11-06', '2021-11-16', '2021-09-26', '2022-12-21',\n",
       "       '2021-03-14', '2021-12-03', '2021-07-21', '2022-11-21',\n",
       "       '2021-11-09', '2022-03-28', '2021-05-04', '2021-12-08',\n",
       "       '2021-08-12', '2022-10-19', '2022-08-07', '2022-05-06',\n",
       "       '2022-10-23', '2022-10-03', '2022-07-08', '2021-11-18',\n",
       "       '2022-10-15', '2022-07-04', '2021-05-09', '2022-04-19',\n",
       "       '2022-02-04', '2021-12-06', '2021-06-27', '2022-12-13',\n",
       "       '2021-07-26', '2022-11-27', '2021-10-15', '2021-04-14',\n",
       "       '2022-11-09', '2021-05-21', '2021-08-19', '2022-05-28',\n",
       "       '2022-05-16', '2022-02-12', '2023-01-24', '2021-08-28',\n",
       "       '2021-11-27', '2022-06-23', '2022-02-20', '2021-12-11',\n",
       "       '2022-09-10', '2022-01-07', '2021-06-16', '2021-06-17',\n",
       "       '2022-09-23', '2021-11-12', '2021-03-31', '2022-11-10',\n",
       "       '2022-09-08', '2022-08-16', '2021-04-12', '2022-06-11',\n",
       "       '2023-02-03', '2021-07-03', '2021-06-28', '2022-02-17',\n",
       "       '2021-04-07', '2022-11-03', '2022-05-02', '2022-02-19',\n",
       "       '2022-10-10', '2022-02-09', '2022-07-30', '2022-02-06',\n",
       "       '2021-03-17', '2022-04-04', '2022-02-11', '2022-03-08',\n",
       "       '2022-09-07', '2022-02-08', '2021-10-09', '2022-11-01',\n",
       "       '2021-03-20', '2022-08-11', '2022-04-22', '2022-03-29',\n",
       "       '2021-06-09', '2022-08-24', '2022-07-05', '2021-04-23',\n",
       "       '2021-10-08', '2021-09-09', '2022-06-28', '2021-09-12',\n",
       "       '2021-06-13', '2021-04-06', '2023-01-05', '2021-03-13',\n",
       "       '2022-01-09', '2021-08-29', '2022-06-24', '2022-07-20',\n",
       "       '2022-02-23', '2022-09-20', '2021-04-08', '2021-03-15',\n",
       "       '2022-12-11', '2022-12-20', '2022-07-02', '2022-07-28',\n",
       "       '2022-02-21', '2021-09-06', '2022-03-12', '2022-11-07',\n",
       "       '2022-09-22', '2022-05-04', '2022-03-18', '2022-12-06',\n",
       "       '2022-10-04', '2022-12-10', '2022-01-08', '2021-12-29',\n",
       "       '2021-03-10', '2022-06-08', '2021-09-28', '2022-04-11',\n",
       "       '2022-01-30', '2022-12-30', '2022-06-12', '2021-08-20',\n",
       "       '2022-07-23', '2022-01-11', '2021-09-08', '2022-03-20',\n",
       "       '2023-02-28', '2021-06-14', '2021-11-03', '2022-11-15',\n",
       "       '2022-03-09', '2021-10-14', '2022-07-10', '2021-11-23',\n",
       "       '2021-06-25', '2023-01-25', '2022-04-21', '2021-07-25',\n",
       "       '2022-11-19', '2021-04-09', '2023-01-12', '2022-06-06',\n",
       "       '2021-10-30', '2022-09-27', '2022-10-06', '2021-06-10',\n",
       "       '2022-10-02', '2022-08-29', '2021-03-02', '2021-12-28',\n",
       "       '2021-04-02', '2022-10-18', '2022-03-14', '2022-12-19',\n",
       "       '2021-04-03', '2023-01-21', '2021-11-26', '2021-03-03',\n",
       "       '2021-10-19', '2021-07-19', '2022-08-01', '2021-11-11',\n",
       "       '2021-09-17', '2022-04-03', '2021-12-13', '2022-12-14',\n",
       "       '2021-08-03', '2021-12-12', '2022-02-27', '2022-12-04',\n",
       "       '2022-03-04', '2023-02-13', '2022-08-20', '2022-04-14',\n",
       "       '2022-11-26', '2021-08-25', '2022-12-26', '2022-05-25',\n",
       "       '2022-11-04', '2021-09-23', '2022-03-24', '2021-12-16',\n",
       "       '2022-06-05', '2021-06-08', '2021-12-01', '2022-10-27',\n",
       "       '2022-06-27', '2021-08-21', '2023-02-10', '2022-02-14',\n",
       "       '2023-02-08', '2022-08-08', '2021-09-18', '2021-06-15',\n",
       "       '2022-01-23', '2021-05-13', '2021-07-05', '2021-12-30',\n",
       "       '2022-09-19', '2021-11-01', '2022-07-12', '2023-01-27',\n",
       "       '2022-07-31', '2022-02-25', '2023-02-27', '2022-04-05',\n",
       "       '2021-09-27', '2022-10-13', '2022-04-13', '2023-01-04',\n",
       "       '2022-10-14', '2021-03-16', '2022-07-14', '2021-07-29',\n",
       "       '2022-04-30', '2021-11-05', '2021-03-28', '2021-08-09',\n",
       "       '2021-07-28', '2022-01-17', '2022-10-25', '2022-08-04',\n",
       "       '2021-03-11', '2021-11-21', '2021-07-11', '2021-04-04',\n",
       "       '2021-04-18', '2022-06-21', '2021-07-09', '2022-01-16',\n",
       "       '2021-08-16', '2021-09-03', '2021-09-15', '2021-10-21',\n",
       "       '2021-11-07', '2022-06-26', '2022-05-22', '2021-04-29',\n",
       "       '2021-10-22', '2023-01-18', '2022-05-19', '2022-05-17',\n",
       "       '2022-02-16', '2022-11-23', '2023-02-02', '2022-04-29',\n",
       "       '2022-08-03', '2023-02-09', '2022-10-16', '2021-11-15',\n",
       "       '2023-01-28', '2022-10-09', '2022-04-26', '2022-09-21',\n",
       "       '2021-04-10', '2021-04-22', '2022-03-05', '2021-03-22',\n",
       "       '2021-10-25', '2023-02-15', '2021-04-27', '2021-08-31',\n",
       "       '2022-09-25', '2022-02-26', '2021-08-15', '2022-06-07',\n",
       "       '2021-07-06', '2022-06-04', '2023-01-10', '2022-04-15',\n",
       "       '2021-05-25', '2023-02-23', '2021-06-30', '2021-08-26',\n",
       "       '2022-02-15', '2021-12-27', '2022-09-09', '2021-06-22',\n",
       "       '2021-12-18', '2021-07-13', '2022-06-20', '2022-08-19',\n",
       "       '2022-03-21', '2022-12-25', '2021-07-14', '2022-04-27',\n",
       "       '2022-09-12', '2023-01-14', '2022-05-09', '2022-12-09',\n",
       "       '2021-03-05', '2022-07-25', '2022-06-19', '2022-04-06',\n",
       "       '2021-08-02', '2022-08-05', '2022-09-03', '2022-06-30',\n",
       "       '2022-01-29', '2022-05-03', '2022-09-24', '2022-01-20',\n",
       "       '2022-03-07', '2022-06-14', '2021-05-22', '2022-09-18',\n",
       "       '2022-11-17', '2021-03-04', '2021-08-30', '2021-11-30',\n",
       "       '2021-07-20', '2023-02-25', '2023-02-19', '2022-11-16',\n",
       "       '2021-04-01', '2021-08-01', '2021-10-20', '2022-04-12',\n",
       "       '2021-05-12', '2022-12-29', '2022-12-17', '2022-03-30',\n",
       "       '2022-12-31', '2022-01-24', '2021-08-07', '2022-11-20',\n",
       "       '2021-05-17', '2021-07-01', '2023-02-17', '2022-04-02',\n",
       "       '2022-03-10', '2021-04-24', '2022-10-08', '2021-05-08',\n",
       "       '2023-01-29', '2021-09-19', '2021-08-04', '2023-01-23',\n",
       "       '2022-02-01', '2022-08-15', '2021-10-23', '2021-05-11',\n",
       "       '2022-03-16', '2022-12-24', '2022-03-27', '2021-09-11',\n",
       "       '2021-04-30', '2021-04-28', '2022-07-03', '2022-05-26',\n",
       "       '2023-02-16', '2022-03-01', '2021-08-22', '2022-02-18',\n",
       "       '2021-05-23', '2022-04-07', '2022-04-25', '2021-07-17',\n",
       "       '2021-08-05', '2021-07-04', '2021-03-09', '2022-01-05',\n",
       "       '2021-11-10', '2022-01-14', '2022-04-20', '2022-12-23',\n",
       "       '2022-05-10', '2022-05-24', '2022-12-03', '2021-05-24',\n",
       "       '2021-08-08', '2023-02-06', '2022-02-13', '2022-08-21',\n",
       "       '2021-06-29', '2021-12-22', '2022-03-26', '2022-09-02',\n",
       "       '2021-04-16', '2021-05-14', '2022-03-25', '2022-08-27',\n",
       "       '2022-10-26', '2022-09-14', '2021-11-20', '2022-05-21',\n",
       "       '2022-12-05', '2021-11-22', '2022-07-15', '2021-05-07',\n",
       "       '2021-07-02', '2022-05-27', '2022-01-25', '2022-03-11',\n",
       "       '2022-01-26', '2023-01-16', '2022-11-06', '2022-10-29',\n",
       "       '2021-03-06', '2021-07-18', '2022-11-30', '2022-03-22',\n",
       "       '2022-12-18', '2022-10-17', '2021-12-21', '2022-08-17',\n",
       "       '2022-07-19', '2022-11-11', '2022-11-08', '2022-01-06',\n",
       "       '2022-01-31', '2021-09-30', '2021-03-18', '2022-02-22',\n",
       "       '2022-03-15', '2022-01-03', '2021-07-15', '2022-11-18',\n",
       "       '2021-08-27', '2021-06-03', '2022-11-25', '2022-06-10',\n",
       "       '2021-03-24', '2021-06-19', '2021-11-28', '2021-04-13',\n",
       "       '2022-02-10', '2021-09-22', '2022-04-01', '2022-05-05',\n",
       "       '2021-12-24', '2022-10-31', '2021-05-27', '2021-10-10',\n",
       "       '2022-08-22', '2022-11-28', '2021-05-15', '2022-03-02',\n",
       "       '2023-02-20', '2022-05-23', '2021-12-17', '2021-05-19',\n",
       "       '2021-10-18', '2021-04-11', '2022-01-10', '2021-12-31',\n",
       "       '2022-12-01', '2021-12-19', '2021-04-19', '2021-05-10',\n",
       "       '2022-01-22', '2022-08-28', '2022-09-05', '2022-04-24',\n",
       "       '2021-09-24', '2023-02-18', '2022-08-13', '2022-10-12',\n",
       "       '2021-03-30', '2023-02-22', '2021-08-14', '2021-06-18',\n",
       "       '2022-05-15', '2021-11-02', '2022-08-09', '2022-09-15',\n",
       "       '2021-10-28', '2022-08-31', '2022-07-06', '2021-06-05',\n",
       "       '2021-10-11', '2021-03-26', '2022-05-07', '2022-07-21',\n",
       "       '2022-11-24', '2021-12-04', '2022-08-06', '2021-07-16',\n",
       "       '2022-10-30', '2022-07-26', '2022-12-16', '2021-10-26',\n",
       "       '2021-06-02', '2022-05-13', '2021-12-25', '2022-08-10',\n",
       "       '2022-08-26', '2021-07-10', '2021-05-20', '2022-01-15',\n",
       "       '2021-05-26', '2023-01-31', '2021-10-16', '2021-11-25',\n",
       "       '2021-04-21', '2023-01-20', '2022-11-14', '2022-04-09',\n",
       "       '2022-09-01', '2023-01-06', '2022-10-22', '2022-06-02',\n",
       "       '2021-12-05', '2021-06-20', '2021-04-26', '2021-12-20',\n",
       "       '2021-07-31', '2023-01-09', '2021-05-02', '2022-09-17',\n",
       "       '2022-06-13', '2022-10-21', '2021-11-17', '2022-05-12',\n",
       "       '2022-05-18', '2021-10-31', '2021-07-24', '2022-08-25',\n",
       "       '2022-11-29', '2022-10-28', '2023-01-19', '2021-12-26',\n",
       "       '2022-12-28', '2021-09-14', '2022-01-21', '2023-01-17',\n",
       "       '2023-01-03', '2021-06-04', '2023-02-11', '2022-09-06',\n",
       "       '2022-05-14', '2022-11-22', '2022-03-31', '2022-04-17',\n",
       "       '2021-06-23', '2021-09-13', '2021-03-29', '2021-10-29',\n",
       "       '2022-07-18', '2021-10-12', '2021-04-20', '2022-07-22',\n",
       "       '2022-01-27', '2021-10-17', '2023-01-07', '2021-10-07',\n",
       "       '2021-07-22', '2021-08-13', '2022-07-07', '2021-10-01',\n",
       "       '2022-01-18', '2023-01-30', '2022-12-08', '2022-04-10',\n",
       "       '2023-01-01', '2021-03-08', 'test_2021-03-01', '2022-09-29',\n",
       "       '2022-10-24', '2021-08-17', '2022-06-25', '2022-06-09',\n",
       "       '2021-08-10', '2022-09-04', '2022-05-31', '2022-06-29',\n",
       "       '2022-07-16', '2021-11-19', '2021-07-27', '2022-01-13',\n",
       "       '2021-10-27', '2022-08-14', '2021-10-04'], dtype=object)"
      ]
     },
     "execution_count": 528,
     "metadata": {},
     "output_type": "execute_result"
    }
   ],
   "source": [
    "transactions.date.unique()"
   ]
  },
  {
   "cell_type": "code",
   "execution_count": 529,
   "metadata": {},
   "outputs": [],
   "source": [
    "transactions['date'] = transactions.date.replace(['test_2021-03-01'], '2021-03-01')"
   ]
  },
  {
   "cell_type": "code",
   "execution_count": 530,
   "metadata": {},
   "outputs": [],
   "source": [
    "transactions['date'] = pd.to_datetime(transactions['date'])"
   ]
  },
  {
   "cell_type": "code",
   "execution_count": 531,
   "metadata": {},
   "outputs": [
    {
     "data": {
      "text/html": [
       "<div>\n",
       "<style scoped>\n",
       "    .dataframe tbody tr th:only-of-type {\n",
       "        vertical-align: middle;\n",
       "    }\n",
       "\n",
       "    .dataframe tbody tr th {\n",
       "        vertical-align: top;\n",
       "    }\n",
       "\n",
       "    .dataframe thead th {\n",
       "        text-align: right;\n",
       "    }\n",
       "</style>\n",
       "<table border=\"1\" class=\"dataframe\">\n",
       "  <thead>\n",
       "    <tr style=\"text-align: right;\">\n",
       "      <th></th>\n",
       "      <th>id_prod</th>\n",
       "      <th>date</th>\n",
       "      <th>session_id</th>\n",
       "      <th>client_id</th>\n",
       "      <th>reference</th>\n",
       "      <th>heure</th>\n",
       "      <th>year</th>\n",
       "      <th>month</th>\n",
       "      <th>day</th>\n",
       "    </tr>\n",
       "  </thead>\n",
       "  <tbody>\n",
       "    <tr>\n",
       "      <th>0</th>\n",
       "      <td>0_1518</td>\n",
       "      <td>2022-05-20</td>\n",
       "      <td>s_211425</td>\n",
       "      <td>c_103</td>\n",
       "      <td>043970</td>\n",
       "      <td>13:21:29</td>\n",
       "      <td>2022</td>\n",
       "      <td>5</td>\n",
       "      <td>20</td>\n",
       "    </tr>\n",
       "    <tr>\n",
       "      <th>1</th>\n",
       "      <td>1_251</td>\n",
       "      <td>2022-02-02</td>\n",
       "      <td>s_158752</td>\n",
       "      <td>c_8534</td>\n",
       "      <td>149409</td>\n",
       "      <td>07:55:19</td>\n",
       "      <td>2022</td>\n",
       "      <td>2</td>\n",
       "      <td>2</td>\n",
       "    </tr>\n",
       "    <tr>\n",
       "      <th>2</th>\n",
       "      <td>0_1277</td>\n",
       "      <td>2022-06-18</td>\n",
       "      <td>s_225667</td>\n",
       "      <td>c_6714</td>\n",
       "      <td>155329</td>\n",
       "      <td>15:44:33</td>\n",
       "      <td>2022</td>\n",
       "      <td>6</td>\n",
       "      <td>18</td>\n",
       "    </tr>\n",
       "    <tr>\n",
       "      <th>3</th>\n",
       "      <td>2_209</td>\n",
       "      <td>2021-06-24</td>\n",
       "      <td>s_52962</td>\n",
       "      <td>c_6941</td>\n",
       "      <td>835891</td>\n",
       "      <td>04:19:29</td>\n",
       "      <td>2021</td>\n",
       "      <td>6</td>\n",
       "      <td>24</td>\n",
       "    </tr>\n",
       "    <tr>\n",
       "      <th>4</th>\n",
       "      <td>0_1509</td>\n",
       "      <td>2023-01-11</td>\n",
       "      <td>s_325227</td>\n",
       "      <td>c_4232</td>\n",
       "      <td>194479</td>\n",
       "      <td>08:22:08</td>\n",
       "      <td>2023</td>\n",
       "      <td>1</td>\n",
       "      <td>11</td>\n",
       "    </tr>\n",
       "  </tbody>\n",
       "</table>\n",
       "</div>"
      ],
      "text/plain": [
       "  id_prod       date session_id client_id reference     heure  year  month  \\\n",
       "0  0_1518 2022-05-20   s_211425     c_103    043970  13:21:29  2022      5   \n",
       "1   1_251 2022-02-02   s_158752    c_8534    149409  07:55:19  2022      2   \n",
       "2  0_1277 2022-06-18   s_225667    c_6714    155329  15:44:33  2022      6   \n",
       "3   2_209 2021-06-24    s_52962    c_6941    835891  04:19:29  2021      6   \n",
       "4  0_1509 2023-01-11   s_325227    c_4232    194479  08:22:08  2023      1   \n",
       "\n",
       "   day  \n",
       "0   20  \n",
       "1    2  \n",
       "2   18  \n",
       "3   24  \n",
       "4   11  "
      ]
     },
     "execution_count": 531,
     "metadata": {},
     "output_type": "execute_result"
    }
   ],
   "source": [
    "transactions['year'] = transactions['date'].dt.year\n",
    "transactions['month'] = transactions['date'].dt.month\n",
    "transactions['day'] = transactions['date'].dt.day\n",
    "transactions.head()"
   ]
  },
  {
   "cell_type": "code",
   "execution_count": 532,
   "metadata": {},
   "outputs": [],
   "source": [
    "transactions['reference'] = transactions.reference.astype(int)"
   ]
  },
  {
   "cell_type": "code",
   "execution_count": 533,
   "metadata": {},
   "outputs": [
    {
     "data": {
      "text/plain": [
       "1025"
      ]
     },
     "execution_count": 533,
     "metadata": {},
     "output_type": "execute_result"
    }
   ],
   "source": [
    "transactions.duplicated(subset=['id_prod', 'session_id', 'client_id']).sum()"
   ]
  },
  {
   "cell_type": "code",
   "execution_count": 534,
   "metadata": {},
   "outputs": [
    {
     "data": {
      "text/html": [
       "<div>\n",
       "<style scoped>\n",
       "    .dataframe tbody tr th:only-of-type {\n",
       "        vertical-align: middle;\n",
       "    }\n",
       "\n",
       "    .dataframe tbody tr th {\n",
       "        vertical-align: top;\n",
       "    }\n",
       "\n",
       "    .dataframe thead th {\n",
       "        text-align: right;\n",
       "    }\n",
       "</style>\n",
       "<table border=\"1\" class=\"dataframe\">\n",
       "  <thead>\n",
       "    <tr style=\"text-align: right;\">\n",
       "      <th></th>\n",
       "      <th>id_prod</th>\n",
       "      <th>date</th>\n",
       "      <th>session_id</th>\n",
       "      <th>client_id</th>\n",
       "      <th>reference</th>\n",
       "      <th>heure</th>\n",
       "      <th>year</th>\n",
       "      <th>month</th>\n",
       "      <th>day</th>\n",
       "    </tr>\n",
       "  </thead>\n",
       "  <tbody>\n",
       "    <tr>\n",
       "      <th>0</th>\n",
       "      <td>0_1518</td>\n",
       "      <td>2022-05-20</td>\n",
       "      <td>s_211425</td>\n",
       "      <td>c_103</td>\n",
       "      <td>43970</td>\n",
       "      <td>13:21:29</td>\n",
       "      <td>2022</td>\n",
       "      <td>5</td>\n",
       "      <td>20</td>\n",
       "    </tr>\n",
       "    <tr>\n",
       "      <th>1</th>\n",
       "      <td>1_251</td>\n",
       "      <td>2022-02-02</td>\n",
       "      <td>s_158752</td>\n",
       "      <td>c_8534</td>\n",
       "      <td>149409</td>\n",
       "      <td>07:55:19</td>\n",
       "      <td>2022</td>\n",
       "      <td>2</td>\n",
       "      <td>2</td>\n",
       "    </tr>\n",
       "    <tr>\n",
       "      <th>2</th>\n",
       "      <td>0_1277</td>\n",
       "      <td>2022-06-18</td>\n",
       "      <td>s_225667</td>\n",
       "      <td>c_6714</td>\n",
       "      <td>155329</td>\n",
       "      <td>15:44:33</td>\n",
       "      <td>2022</td>\n",
       "      <td>6</td>\n",
       "      <td>18</td>\n",
       "    </tr>\n",
       "    <tr>\n",
       "      <th>3</th>\n",
       "      <td>2_209</td>\n",
       "      <td>2021-06-24</td>\n",
       "      <td>s_52962</td>\n",
       "      <td>c_6941</td>\n",
       "      <td>835891</td>\n",
       "      <td>04:19:29</td>\n",
       "      <td>2021</td>\n",
       "      <td>6</td>\n",
       "      <td>24</td>\n",
       "    </tr>\n",
       "    <tr>\n",
       "      <th>4</th>\n",
       "      <td>0_1509</td>\n",
       "      <td>2023-01-11</td>\n",
       "      <td>s_325227</td>\n",
       "      <td>c_4232</td>\n",
       "      <td>194479</td>\n",
       "      <td>08:22:08</td>\n",
       "      <td>2023</td>\n",
       "      <td>1</td>\n",
       "      <td>11</td>\n",
       "    </tr>\n",
       "    <tr>\n",
       "      <th>...</th>\n",
       "      <td>...</td>\n",
       "      <td>...</td>\n",
       "      <td>...</td>\n",
       "      <td>...</td>\n",
       "      <td>...</td>\n",
       "      <td>...</td>\n",
       "      <td>...</td>\n",
       "      <td>...</td>\n",
       "      <td>...</td>\n",
       "    </tr>\n",
       "    <tr>\n",
       "      <th>679527</th>\n",
       "      <td>0_1551</td>\n",
       "      <td>2022-01-15</td>\n",
       "      <td>s_150195</td>\n",
       "      <td>c_8489</td>\n",
       "      <td>246925</td>\n",
       "      <td>13:05:06</td>\n",
       "      <td>2022</td>\n",
       "      <td>1</td>\n",
       "      <td>15</td>\n",
       "    </tr>\n",
       "    <tr>\n",
       "      <th>679528</th>\n",
       "      <td>1_639</td>\n",
       "      <td>2022-03-19</td>\n",
       "      <td>s_181434</td>\n",
       "      <td>c_4370</td>\n",
       "      <td>429229</td>\n",
       "      <td>16:03:23</td>\n",
       "      <td>2022</td>\n",
       "      <td>3</td>\n",
       "      <td>19</td>\n",
       "    </tr>\n",
       "    <tr>\n",
       "      <th>679529</th>\n",
       "      <td>0_1425</td>\n",
       "      <td>2022-12-20</td>\n",
       "      <td>s_314704</td>\n",
       "      <td>c_304</td>\n",
       "      <td>584749</td>\n",
       "      <td>04:33:37</td>\n",
       "      <td>2022</td>\n",
       "      <td>12</td>\n",
       "      <td>20</td>\n",
       "    </tr>\n",
       "    <tr>\n",
       "      <th>679530</th>\n",
       "      <td>0_1994</td>\n",
       "      <td>2021-07-16</td>\n",
       "      <td>s_63204</td>\n",
       "      <td>c_2227</td>\n",
       "      <td>350579</td>\n",
       "      <td>20:36:35</td>\n",
       "      <td>2021</td>\n",
       "      <td>7</td>\n",
       "      <td>16</td>\n",
       "    </tr>\n",
       "    <tr>\n",
       "      <th>679531</th>\n",
       "      <td>1_523</td>\n",
       "      <td>2022-09-28</td>\n",
       "      <td>s_274568</td>\n",
       "      <td>c_3873</td>\n",
       "      <td>973763</td>\n",
       "      <td>01:12:01</td>\n",
       "      <td>2022</td>\n",
       "      <td>9</td>\n",
       "      <td>28</td>\n",
       "    </tr>\n",
       "  </tbody>\n",
       "</table>\n",
       "<p>678507 rows × 9 columns</p>\n",
       "</div>"
      ],
      "text/plain": [
       "       id_prod       date session_id client_id  reference     heure  year  \\\n",
       "0       0_1518 2022-05-20   s_211425     c_103      43970  13:21:29  2022   \n",
       "1        1_251 2022-02-02   s_158752    c_8534     149409  07:55:19  2022   \n",
       "2       0_1277 2022-06-18   s_225667    c_6714     155329  15:44:33  2022   \n",
       "3        2_209 2021-06-24    s_52962    c_6941     835891  04:19:29  2021   \n",
       "4       0_1509 2023-01-11   s_325227    c_4232     194479  08:22:08  2023   \n",
       "...        ...        ...        ...       ...        ...       ...   ...   \n",
       "679527  0_1551 2022-01-15   s_150195    c_8489     246925  13:05:06  2022   \n",
       "679528   1_639 2022-03-19   s_181434    c_4370     429229  16:03:23  2022   \n",
       "679529  0_1425 2022-12-20   s_314704     c_304     584749  04:33:37  2022   \n",
       "679530  0_1994 2021-07-16    s_63204    c_2227     350579  20:36:35  2021   \n",
       "679531   1_523 2022-09-28   s_274568    c_3873     973763  01:12:01  2022   \n",
       "\n",
       "        month  day  \n",
       "0           5   20  \n",
       "1           2    2  \n",
       "2           6   18  \n",
       "3           6   24  \n",
       "4           1   11  \n",
       "...       ...  ...  \n",
       "679527      1   15  \n",
       "679528      3   19  \n",
       "679529     12   20  \n",
       "679530      7   16  \n",
       "679531      9   28  \n",
       "\n",
       "[678507 rows x 9 columns]"
      ]
     },
     "execution_count": 534,
     "metadata": {},
     "output_type": "execute_result"
    }
   ],
   "source": [
    "transactions.drop_duplicates(subset=['id_prod', 'session_id', 'client_id'])"
   ]
  },
  {
   "cell_type": "code",
   "execution_count": 535,
   "metadata": {},
   "outputs": [
    {
     "data": {
      "text/plain": [
       "id_prod       0\n",
       "date          0\n",
       "session_id    0\n",
       "client_id     0\n",
       "reference     0\n",
       "heure         0\n",
       "year          0\n",
       "month         0\n",
       "day           0\n",
       "dtype: int64"
      ]
     },
     "execution_count": 535,
     "metadata": {},
     "output_type": "execute_result"
    }
   ],
   "source": [
    "transactions.isna().sum()"
   ]
  },
  {
   "cell_type": "markdown",
   "metadata": {},
   "source": [
    "### Jointure,  calcul du CA, du Nb de vente et du panier moyen:"
   ]
  },
  {
   "cell_type": "markdown",
   "metadata": {},
   "source": [
    "#### Jointure sur les tables transactions et products"
   ]
  },
  {
   "cell_type": "code",
   "execution_count": 536,
   "metadata": {},
   "outputs": [
    {
     "data": {
      "text/html": [
       "<div>\n",
       "<style scoped>\n",
       "    .dataframe tbody tr th:only-of-type {\n",
       "        vertical-align: middle;\n",
       "    }\n",
       "\n",
       "    .dataframe tbody tr th {\n",
       "        vertical-align: top;\n",
       "    }\n",
       "\n",
       "    .dataframe thead th {\n",
       "        text-align: right;\n",
       "    }\n",
       "</style>\n",
       "<table border=\"1\" class=\"dataframe\">\n",
       "  <thead>\n",
       "    <tr style=\"text-align: right;\">\n",
       "      <th></th>\n",
       "      <th>id_prod</th>\n",
       "      <th>date</th>\n",
       "      <th>session_id</th>\n",
       "      <th>client_id</th>\n",
       "      <th>reference</th>\n",
       "      <th>heure</th>\n",
       "      <th>year</th>\n",
       "      <th>month</th>\n",
       "      <th>day</th>\n",
       "      <th>price</th>\n",
       "      <th>categ</th>\n",
       "    </tr>\n",
       "  </thead>\n",
       "  <tbody>\n",
       "    <tr>\n",
       "      <th>0</th>\n",
       "      <td>0_1518</td>\n",
       "      <td>2022-05-20</td>\n",
       "      <td>s_211425</td>\n",
       "      <td>c_103</td>\n",
       "      <td>43970</td>\n",
       "      <td>13:21:29</td>\n",
       "      <td>2022</td>\n",
       "      <td>5</td>\n",
       "      <td>20</td>\n",
       "      <td>4.18</td>\n",
       "      <td>0.0</td>\n",
       "    </tr>\n",
       "    <tr>\n",
       "      <th>1</th>\n",
       "      <td>1_251</td>\n",
       "      <td>2022-02-02</td>\n",
       "      <td>s_158752</td>\n",
       "      <td>c_8534</td>\n",
       "      <td>149409</td>\n",
       "      <td>07:55:19</td>\n",
       "      <td>2022</td>\n",
       "      <td>2</td>\n",
       "      <td>2</td>\n",
       "      <td>15.99</td>\n",
       "      <td>1.0</td>\n",
       "    </tr>\n",
       "    <tr>\n",
       "      <th>2</th>\n",
       "      <td>0_1277</td>\n",
       "      <td>2022-06-18</td>\n",
       "      <td>s_225667</td>\n",
       "      <td>c_6714</td>\n",
       "      <td>155329</td>\n",
       "      <td>15:44:33</td>\n",
       "      <td>2022</td>\n",
       "      <td>6</td>\n",
       "      <td>18</td>\n",
       "      <td>7.99</td>\n",
       "      <td>0.0</td>\n",
       "    </tr>\n",
       "    <tr>\n",
       "      <th>3</th>\n",
       "      <td>2_209</td>\n",
       "      <td>2021-06-24</td>\n",
       "      <td>s_52962</td>\n",
       "      <td>c_6941</td>\n",
       "      <td>835891</td>\n",
       "      <td>04:19:29</td>\n",
       "      <td>2021</td>\n",
       "      <td>6</td>\n",
       "      <td>24</td>\n",
       "      <td>69.99</td>\n",
       "      <td>2.0</td>\n",
       "    </tr>\n",
       "    <tr>\n",
       "      <th>4</th>\n",
       "      <td>0_1509</td>\n",
       "      <td>2023-01-11</td>\n",
       "      <td>s_325227</td>\n",
       "      <td>c_4232</td>\n",
       "      <td>194479</td>\n",
       "      <td>08:22:08</td>\n",
       "      <td>2023</td>\n",
       "      <td>1</td>\n",
       "      <td>11</td>\n",
       "      <td>4.99</td>\n",
       "      <td>0.0</td>\n",
       "    </tr>\n",
       "  </tbody>\n",
       "</table>\n",
       "</div>"
      ],
      "text/plain": [
       "  id_prod       date session_id client_id  reference     heure  year  month  \\\n",
       "0  0_1518 2022-05-20   s_211425     c_103      43970  13:21:29  2022      5   \n",
       "1   1_251 2022-02-02   s_158752    c_8534     149409  07:55:19  2022      2   \n",
       "2  0_1277 2022-06-18   s_225667    c_6714     155329  15:44:33  2022      6   \n",
       "3   2_209 2021-06-24    s_52962    c_6941     835891  04:19:29  2021      6   \n",
       "4  0_1509 2023-01-11   s_325227    c_4232     194479  08:22:08  2023      1   \n",
       "\n",
       "   day  price  categ  \n",
       "0   20   4.18    0.0  \n",
       "1    2  15.99    1.0  \n",
       "2   18   7.99    0.0  \n",
       "3   24  69.99    2.0  \n",
       "4   11   4.99    0.0  "
      ]
     },
     "execution_count": 536,
     "metadata": {},
     "output_type": "execute_result"
    }
   ],
   "source": [
    "#Jointure1:\n",
    "chiffre = transactions.merge(products, on='id_prod', how='left')\n",
    "chiffre.head()"
   ]
  },
  {
   "cell_type": "code",
   "execution_count": 537,
   "metadata": {},
   "outputs": [
    {
     "name": "stdout",
     "output_type": "stream",
     "text": [
      "<class 'pandas.core.frame.DataFrame'>\n",
      "Int64Index: 679532 entries, 0 to 679531\n",
      "Data columns (total 11 columns):\n",
      " #   Column      Non-Null Count   Dtype         \n",
      "---  ------      --------------   -----         \n",
      " 0   id_prod     679532 non-null  object        \n",
      " 1   date        679532 non-null  datetime64[ns]\n",
      " 2   session_id  679532 non-null  object        \n",
      " 3   client_id   679532 non-null  object        \n",
      " 4   reference   679532 non-null  int64         \n",
      " 5   heure       679532 non-null  object        \n",
      " 6   year        679532 non-null  int64         \n",
      " 7   month       679532 non-null  int64         \n",
      " 8   day         679532 non-null  int64         \n",
      " 9   price       679111 non-null  float64       \n",
      " 10  categ       679111 non-null  float64       \n",
      "dtypes: datetime64[ns](1), float64(2), int64(4), object(4)\n",
      "memory usage: 62.2+ MB\n"
     ]
    }
   ],
   "source": [
    "chiffre.info()"
   ]
  },
  {
   "cell_type": "code",
   "execution_count": 538,
   "metadata": {},
   "outputs": [
    {
     "data": {
      "text/html": [
       "<div>\n",
       "<style scoped>\n",
       "    .dataframe tbody tr th:only-of-type {\n",
       "        vertical-align: middle;\n",
       "    }\n",
       "\n",
       "    .dataframe tbody tr th {\n",
       "        vertical-align: top;\n",
       "    }\n",
       "\n",
       "    .dataframe thead th {\n",
       "        text-align: right;\n",
       "    }\n",
       "</style>\n",
       "<table border=\"1\" class=\"dataframe\">\n",
       "  <thead>\n",
       "    <tr style=\"text-align: right;\">\n",
       "      <th></th>\n",
       "      <th>reference</th>\n",
       "      <th>year</th>\n",
       "      <th>month</th>\n",
       "      <th>day</th>\n",
       "      <th>price</th>\n",
       "      <th>categ</th>\n",
       "    </tr>\n",
       "  </thead>\n",
       "  <tbody>\n",
       "    <tr>\n",
       "      <th>count</th>\n",
       "      <td>679532.000000</td>\n",
       "      <td>679532.000000</td>\n",
       "      <td>679532.000000</td>\n",
       "      <td>679532.000000</td>\n",
       "      <td>679111.000000</td>\n",
       "      <td>679111.000000</td>\n",
       "    </tr>\n",
       "    <tr>\n",
       "      <th>mean</th>\n",
       "      <td>499816.610323</td>\n",
       "      <td>2021.670305</td>\n",
       "      <td>6.503323</td>\n",
       "      <td>15.759546</td>\n",
       "      <td>17.454773</td>\n",
       "      <td>0.441953</td>\n",
       "    </tr>\n",
       "    <tr>\n",
       "      <th>std</th>\n",
       "      <td>288454.682180</td>\n",
       "      <td>0.617570</td>\n",
       "      <td>3.480723</td>\n",
       "      <td>8.805453</td>\n",
       "      <td>18.328998</td>\n",
       "      <td>0.595042</td>\n",
       "    </tr>\n",
       "    <tr>\n",
       "      <th>min</th>\n",
       "      <td>4.000000</td>\n",
       "      <td>2021.000000</td>\n",
       "      <td>1.000000</td>\n",
       "      <td>1.000000</td>\n",
       "      <td>0.620000</td>\n",
       "      <td>0.000000</td>\n",
       "    </tr>\n",
       "    <tr>\n",
       "      <th>25%</th>\n",
       "      <td>249921.000000</td>\n",
       "      <td>2021.000000</td>\n",
       "      <td>3.000000</td>\n",
       "      <td>8.000000</td>\n",
       "      <td>8.870000</td>\n",
       "      <td>0.000000</td>\n",
       "    </tr>\n",
       "    <tr>\n",
       "      <th>50%</th>\n",
       "      <td>499590.000000</td>\n",
       "      <td>2022.000000</td>\n",
       "      <td>6.000000</td>\n",
       "      <td>16.000000</td>\n",
       "      <td>13.990000</td>\n",
       "      <td>0.000000</td>\n",
       "    </tr>\n",
       "    <tr>\n",
       "      <th>75%</th>\n",
       "      <td>749427.500000</td>\n",
       "      <td>2022.000000</td>\n",
       "      <td>9.000000</td>\n",
       "      <td>23.000000</td>\n",
       "      <td>18.990000</td>\n",
       "      <td>1.000000</td>\n",
       "    </tr>\n",
       "    <tr>\n",
       "      <th>max</th>\n",
       "      <td>999996.000000</td>\n",
       "      <td>2023.000000</td>\n",
       "      <td>12.000000</td>\n",
       "      <td>31.000000</td>\n",
       "      <td>300.000000</td>\n",
       "      <td>2.000000</td>\n",
       "    </tr>\n",
       "  </tbody>\n",
       "</table>\n",
       "</div>"
      ],
      "text/plain": [
       "           reference           year          month            day  \\\n",
       "count  679532.000000  679532.000000  679532.000000  679532.000000   \n",
       "mean   499816.610323    2021.670305       6.503323      15.759546   \n",
       "std    288454.682180       0.617570       3.480723       8.805453   \n",
       "min         4.000000    2021.000000       1.000000       1.000000   \n",
       "25%    249921.000000    2021.000000       3.000000       8.000000   \n",
       "50%    499590.000000    2022.000000       6.000000      16.000000   \n",
       "75%    749427.500000    2022.000000       9.000000      23.000000   \n",
       "max    999996.000000    2023.000000      12.000000      31.000000   \n",
       "\n",
       "               price          categ  \n",
       "count  679111.000000  679111.000000  \n",
       "mean       17.454773       0.441953  \n",
       "std        18.328998       0.595042  \n",
       "min         0.620000       0.000000  \n",
       "25%         8.870000       0.000000  \n",
       "50%        13.990000       0.000000  \n",
       "75%        18.990000       1.000000  \n",
       "max       300.000000       2.000000  "
      ]
     },
     "execution_count": 538,
     "metadata": {},
     "output_type": "execute_result"
    }
   ],
   "source": [
    "chiffre.describe()"
   ]
  },
  {
   "cell_type": "code",
   "execution_count": 539,
   "metadata": {},
   "outputs": [
    {
     "data": {
      "text/plain": [
       "1025"
      ]
     },
     "execution_count": 539,
     "metadata": {},
     "output_type": "execute_result"
    }
   ],
   "source": [
    "chiffre.duplicated(subset=(['id_prod', 'session_id', 'client_id'])).sum()"
   ]
  },
  {
   "cell_type": "code",
   "execution_count": 540,
   "metadata": {},
   "outputs": [],
   "source": [
    "chiffre = chiffre.drop_duplicates(subset=(['id_prod', 'session_id', 'client_id']))"
   ]
  },
  {
   "cell_type": "markdown",
   "metadata": {},
   "source": [
    "#### Jointure des tables chiffre et customers:"
   ]
  },
  {
   "cell_type": "code",
   "execution_count": 541,
   "metadata": {},
   "outputs": [
    {
     "data": {
      "text/html": [
       "<div>\n",
       "<style scoped>\n",
       "    .dataframe tbody tr th:only-of-type {\n",
       "        vertical-align: middle;\n",
       "    }\n",
       "\n",
       "    .dataframe tbody tr th {\n",
       "        vertical-align: top;\n",
       "    }\n",
       "\n",
       "    .dataframe thead th {\n",
       "        text-align: right;\n",
       "    }\n",
       "</style>\n",
       "<table border=\"1\" class=\"dataframe\">\n",
       "  <thead>\n",
       "    <tr style=\"text-align: right;\">\n",
       "      <th></th>\n",
       "      <th>id_prod</th>\n",
       "      <th>date</th>\n",
       "      <th>session_id</th>\n",
       "      <th>client_id</th>\n",
       "      <th>reference</th>\n",
       "      <th>heure</th>\n",
       "      <th>year</th>\n",
       "      <th>month</th>\n",
       "      <th>day</th>\n",
       "      <th>price</th>\n",
       "      <th>categ</th>\n",
       "      <th>sex</th>\n",
       "      <th>birth</th>\n",
       "    </tr>\n",
       "  </thead>\n",
       "  <tbody>\n",
       "    <tr>\n",
       "      <th>0</th>\n",
       "      <td>0_1518</td>\n",
       "      <td>2022-05-20</td>\n",
       "      <td>s_211425</td>\n",
       "      <td>c_103</td>\n",
       "      <td>43970</td>\n",
       "      <td>13:21:29</td>\n",
       "      <td>2022</td>\n",
       "      <td>5</td>\n",
       "      <td>20</td>\n",
       "      <td>4.18</td>\n",
       "      <td>0.0</td>\n",
       "      <td>f</td>\n",
       "      <td>1986</td>\n",
       "    </tr>\n",
       "    <tr>\n",
       "      <th>1</th>\n",
       "      <td>1_251</td>\n",
       "      <td>2022-02-02</td>\n",
       "      <td>s_158752</td>\n",
       "      <td>c_8534</td>\n",
       "      <td>149409</td>\n",
       "      <td>07:55:19</td>\n",
       "      <td>2022</td>\n",
       "      <td>2</td>\n",
       "      <td>2</td>\n",
       "      <td>15.99</td>\n",
       "      <td>1.0</td>\n",
       "      <td>m</td>\n",
       "      <td>1988</td>\n",
       "    </tr>\n",
       "    <tr>\n",
       "      <th>2</th>\n",
       "      <td>0_1277</td>\n",
       "      <td>2022-06-18</td>\n",
       "      <td>s_225667</td>\n",
       "      <td>c_6714</td>\n",
       "      <td>155329</td>\n",
       "      <td>15:44:33</td>\n",
       "      <td>2022</td>\n",
       "      <td>6</td>\n",
       "      <td>18</td>\n",
       "      <td>7.99</td>\n",
       "      <td>0.0</td>\n",
       "      <td>f</td>\n",
       "      <td>1968</td>\n",
       "    </tr>\n",
       "    <tr>\n",
       "      <th>3</th>\n",
       "      <td>2_209</td>\n",
       "      <td>2021-06-24</td>\n",
       "      <td>s_52962</td>\n",
       "      <td>c_6941</td>\n",
       "      <td>835891</td>\n",
       "      <td>04:19:29</td>\n",
       "      <td>2021</td>\n",
       "      <td>6</td>\n",
       "      <td>24</td>\n",
       "      <td>69.99</td>\n",
       "      <td>2.0</td>\n",
       "      <td>m</td>\n",
       "      <td>2000</td>\n",
       "    </tr>\n",
       "    <tr>\n",
       "      <th>4</th>\n",
       "      <td>0_1509</td>\n",
       "      <td>2023-01-11</td>\n",
       "      <td>s_325227</td>\n",
       "      <td>c_4232</td>\n",
       "      <td>194479</td>\n",
       "      <td>08:22:08</td>\n",
       "      <td>2023</td>\n",
       "      <td>1</td>\n",
       "      <td>11</td>\n",
       "      <td>4.99</td>\n",
       "      <td>0.0</td>\n",
       "      <td>m</td>\n",
       "      <td>1980</td>\n",
       "    </tr>\n",
       "  </tbody>\n",
       "</table>\n",
       "</div>"
      ],
      "text/plain": [
       "  id_prod       date session_id client_id  reference     heure  year  month  \\\n",
       "0  0_1518 2022-05-20   s_211425     c_103      43970  13:21:29  2022      5   \n",
       "1   1_251 2022-02-02   s_158752    c_8534     149409  07:55:19  2022      2   \n",
       "2  0_1277 2022-06-18   s_225667    c_6714     155329  15:44:33  2022      6   \n",
       "3   2_209 2021-06-24    s_52962    c_6941     835891  04:19:29  2021      6   \n",
       "4  0_1509 2023-01-11   s_325227    c_4232     194479  08:22:08  2023      1   \n",
       "\n",
       "   day  price  categ sex  birth  \n",
       "0   20   4.18    0.0   f   1986  \n",
       "1    2  15.99    1.0   m   1988  \n",
       "2   18   7.99    0.0   f   1968  \n",
       "3   24  69.99    2.0   m   2000  \n",
       "4   11   4.99    0.0   m   1980  "
      ]
     },
     "execution_count": 541,
     "metadata": {},
     "output_type": "execute_result"
    }
   ],
   "source": [
    "#Jointure2:\n",
    "df = chiffre.merge(customers, on='client_id', how='left')\n",
    "df.head()"
   ]
  },
  {
   "cell_type": "code",
   "execution_count": 542,
   "metadata": {},
   "outputs": [
    {
     "name": "stdout",
     "output_type": "stream",
     "text": [
      "<class 'pandas.core.frame.DataFrame'>\n",
      "Int64Index: 678507 entries, 0 to 678506\n",
      "Data columns (total 13 columns):\n",
      " #   Column      Non-Null Count   Dtype         \n",
      "---  ------      --------------   -----         \n",
      " 0   id_prod     678507 non-null  object        \n",
      " 1   date        678507 non-null  datetime64[ns]\n",
      " 2   session_id  678507 non-null  object        \n",
      " 3   client_id   678507 non-null  object        \n",
      " 4   reference   678507 non-null  int64         \n",
      " 5   heure       678507 non-null  object        \n",
      " 6   year        678507 non-null  int64         \n",
      " 7   month       678507 non-null  int64         \n",
      " 8   day         678507 non-null  int64         \n",
      " 9   price       678284 non-null  float64       \n",
      " 10  categ       678284 non-null  float64       \n",
      " 11  sex         678507 non-null  object        \n",
      " 12  birth       678507 non-null  int64         \n",
      "dtypes: datetime64[ns](1), float64(2), int64(5), object(5)\n",
      "memory usage: 72.5+ MB\n"
     ]
    }
   ],
   "source": [
    "df.info()"
   ]
  },
  {
   "cell_type": "code",
   "execution_count": 543,
   "metadata": {},
   "outputs": [
    {
     "data": {
      "text/html": [
       "<div>\n",
       "<style scoped>\n",
       "    .dataframe tbody tr th:only-of-type {\n",
       "        vertical-align: middle;\n",
       "    }\n",
       "\n",
       "    .dataframe tbody tr th {\n",
       "        vertical-align: top;\n",
       "    }\n",
       "\n",
       "    .dataframe thead th {\n",
       "        text-align: right;\n",
       "    }\n",
       "</style>\n",
       "<table border=\"1\" class=\"dataframe\">\n",
       "  <thead>\n",
       "    <tr style=\"text-align: right;\">\n",
       "      <th></th>\n",
       "      <th>reference</th>\n",
       "      <th>year</th>\n",
       "      <th>month</th>\n",
       "      <th>day</th>\n",
       "      <th>price</th>\n",
       "      <th>categ</th>\n",
       "      <th>birth</th>\n",
       "    </tr>\n",
       "  </thead>\n",
       "  <tbody>\n",
       "    <tr>\n",
       "      <th>count</th>\n",
       "      <td>678507.000000</td>\n",
       "      <td>678507.000000</td>\n",
       "      <td>678507.000000</td>\n",
       "      <td>678507.000000</td>\n",
       "      <td>678284.000000</td>\n",
       "      <td>678284.000000</td>\n",
       "      <td>678507.000000</td>\n",
       "    </tr>\n",
       "    <tr>\n",
       "      <th>mean</th>\n",
       "      <td>499932.611106</td>\n",
       "      <td>2021.670479</td>\n",
       "      <td>6.504549</td>\n",
       "      <td>15.764652</td>\n",
       "      <td>17.450650</td>\n",
       "      <td>0.441787</td>\n",
       "      <td>1977.808606</td>\n",
       "    </tr>\n",
       "    <tr>\n",
       "      <th>std</th>\n",
       "      <td>288461.575349</td>\n",
       "      <td>0.617539</td>\n",
       "      <td>3.480698</td>\n",
       "      <td>8.803260</td>\n",
       "      <td>18.324117</td>\n",
       "      <td>0.594888</td>\n",
       "      <td>13.574492</td>\n",
       "    </tr>\n",
       "    <tr>\n",
       "      <th>min</th>\n",
       "      <td>4.000000</td>\n",
       "      <td>2021.000000</td>\n",
       "      <td>1.000000</td>\n",
       "      <td>1.000000</td>\n",
       "      <td>0.620000</td>\n",
       "      <td>0.000000</td>\n",
       "      <td>1929.000000</td>\n",
       "    </tr>\n",
       "    <tr>\n",
       "      <th>25%</th>\n",
       "      <td>250175.500000</td>\n",
       "      <td>2021.000000</td>\n",
       "      <td>3.000000</td>\n",
       "      <td>8.000000</td>\n",
       "      <td>8.870000</td>\n",
       "      <td>0.000000</td>\n",
       "      <td>1970.000000</td>\n",
       "    </tr>\n",
       "    <tr>\n",
       "      <th>50%</th>\n",
       "      <td>499798.000000</td>\n",
       "      <td>2022.000000</td>\n",
       "      <td>6.000000</td>\n",
       "      <td>16.000000</td>\n",
       "      <td>13.990000</td>\n",
       "      <td>0.000000</td>\n",
       "      <td>1980.000000</td>\n",
       "    </tr>\n",
       "    <tr>\n",
       "      <th>75%</th>\n",
       "      <td>749595.000000</td>\n",
       "      <td>2022.000000</td>\n",
       "      <td>9.000000</td>\n",
       "      <td>23.000000</td>\n",
       "      <td>18.990000</td>\n",
       "      <td>1.000000</td>\n",
       "      <td>1987.000000</td>\n",
       "    </tr>\n",
       "    <tr>\n",
       "      <th>max</th>\n",
       "      <td>999996.000000</td>\n",
       "      <td>2023.000000</td>\n",
       "      <td>12.000000</td>\n",
       "      <td>31.000000</td>\n",
       "      <td>300.000000</td>\n",
       "      <td>2.000000</td>\n",
       "      <td>2004.000000</td>\n",
       "    </tr>\n",
       "  </tbody>\n",
       "</table>\n",
       "</div>"
      ],
      "text/plain": [
       "           reference           year          month            day  \\\n",
       "count  678507.000000  678507.000000  678507.000000  678507.000000   \n",
       "mean   499932.611106    2021.670479       6.504549      15.764652   \n",
       "std    288461.575349       0.617539       3.480698       8.803260   \n",
       "min         4.000000    2021.000000       1.000000       1.000000   \n",
       "25%    250175.500000    2021.000000       3.000000       8.000000   \n",
       "50%    499798.000000    2022.000000       6.000000      16.000000   \n",
       "75%    749595.000000    2022.000000       9.000000      23.000000   \n",
       "max    999996.000000    2023.000000      12.000000      31.000000   \n",
       "\n",
       "               price          categ          birth  \n",
       "count  678284.000000  678284.000000  678507.000000  \n",
       "mean       17.450650       0.441787    1977.808606  \n",
       "std        18.324117       0.594888      13.574492  \n",
       "min         0.620000       0.000000    1929.000000  \n",
       "25%         8.870000       0.000000    1970.000000  \n",
       "50%        13.990000       0.000000    1980.000000  \n",
       "75%        18.990000       1.000000    1987.000000  \n",
       "max       300.000000       2.000000    2004.000000  "
      ]
     },
     "execution_count": 543,
     "metadata": {},
     "output_type": "execute_result"
    }
   ],
   "source": [
    "df.describe()"
   ]
  },
  {
   "cell_type": "code",
   "execution_count": 544,
   "metadata": {},
   "outputs": [
    {
     "data": {
      "text/plain": [
       "0"
      ]
     },
     "execution_count": 544,
     "metadata": {},
     "output_type": "execute_result"
    }
   ],
   "source": [
    "df.duplicated(subset=(['id_prod', 'session_id', 'client_id'])).sum()"
   ]
  },
  {
   "cell_type": "markdown",
   "metadata": {},
   "source": [
    "#### Indicateur de base:"
   ]
  },
  {
   "cell_type": "code",
   "execution_count": 545,
   "metadata": {},
   "outputs": [
    {
     "name": "stdout",
     "output_type": "stream",
     "text": [
      "Nombre de ventes: 678507\n"
     ]
    }
   ],
   "source": [
    "#Nombre de vente:\n",
    "vente = df.session_id.count()\n",
    "print('Nombre de ventes:', vente)"
   ]
  },
  {
   "cell_type": "code",
   "execution_count": 546,
   "metadata": {},
   "outputs": [
    {
     "name": "stdout",
     "output_type": "stream",
     "text": [
      "Chiffre d'affaire: 11836496.99\n"
     ]
    }
   ],
   "source": [
    "#Calcul du CA:\n",
    "ca = df.price.sum()\n",
    "print(\"Chiffre d'affaire:\", ca.round(2))"
   ]
  },
  {
   "cell_type": "code",
   "execution_count": 547,
   "metadata": {},
   "outputs": [
    {
     "name": "stdout",
     "output_type": "stream",
     "text": [
      "panier moyen: 17.44\n"
     ]
    }
   ],
   "source": [
    "#Panier moyen:\n",
    "panier = ca/vente\n",
    "print('panier moyen:', panier.round(2))"
   ]
  },
  {
   "cell_type": "markdown",
   "metadata": {},
   "source": [
    "### 1) Analyse du chiffre d'affaire dans le temps:"
   ]
  },
  {
   "cell_type": "code",
   "execution_count": 548,
   "metadata": {},
   "outputs": [
    {
     "data": {
      "text/html": [
       "<div>\n",
       "<style scoped>\n",
       "    .dataframe tbody tr th:only-of-type {\n",
       "        vertical-align: middle;\n",
       "    }\n",
       "\n",
       "    .dataframe tbody tr th {\n",
       "        vertical-align: top;\n",
       "    }\n",
       "\n",
       "    .dataframe thead th {\n",
       "        text-align: right;\n",
       "    }\n",
       "</style>\n",
       "<table border=\"1\" class=\"dataframe\">\n",
       "  <thead>\n",
       "    <tr style=\"text-align: right;\">\n",
       "      <th></th>\n",
       "      <th>month</th>\n",
       "      <th>year</th>\n",
       "      <th>categ</th>\n",
       "      <th>ca</th>\n",
       "    </tr>\n",
       "  </thead>\n",
       "  <tbody>\n",
       "    <tr>\n",
       "      <th>0</th>\n",
       "      <td>1</td>\n",
       "      <td>2022</td>\n",
       "      <td>0.0</td>\n",
       "      <td>164087.78</td>\n",
       "    </tr>\n",
       "    <tr>\n",
       "      <th>1</th>\n",
       "      <td>1</td>\n",
       "      <td>2022</td>\n",
       "      <td>1.0</td>\n",
       "      <td>255855.84</td>\n",
       "    </tr>\n",
       "    <tr>\n",
       "      <th>2</th>\n",
       "      <td>1</td>\n",
       "      <td>2022</td>\n",
       "      <td>2.0</td>\n",
       "      <td>104805.69</td>\n",
       "    </tr>\n",
       "    <tr>\n",
       "      <th>3</th>\n",
       "      <td>1</td>\n",
       "      <td>2023</td>\n",
       "      <td>0.0</td>\n",
       "      <td>181039.31</td>\n",
       "    </tr>\n",
       "    <tr>\n",
       "      <th>4</th>\n",
       "      <td>1</td>\n",
       "      <td>2023</td>\n",
       "      <td>1.0</td>\n",
       "      <td>209854.45</td>\n",
       "    </tr>\n",
       "  </tbody>\n",
       "</table>\n",
       "</div>"
      ],
      "text/plain": [
       "   month  year  categ         ca\n",
       "0      1  2022    0.0  164087.78\n",
       "1      1  2022    1.0  255855.84\n",
       "2      1  2022    2.0  104805.69\n",
       "3      1  2023    0.0  181039.31\n",
       "4      1  2023    1.0  209854.45"
      ]
     },
     "execution_count": 548,
     "metadata": {},
     "output_type": "execute_result"
    }
   ],
   "source": [
    "# calcul du chiffre d'affaire par mois:\n",
    "chiffre_per_month = df.groupby(['month', 'year', 'categ']).price.sum().reset_index()\n",
    "chiffre_per_month = chiffre_per_month.rename(columns={'price':'ca'})\n",
    "chiffre_per_month.head()"
   ]
  },
  {
   "cell_type": "markdown",
   "metadata": {},
   "source": [
    "#### Analyse sur l'année 2021"
   ]
  },
  {
   "cell_type": "code",
   "execution_count": 549,
   "metadata": {},
   "outputs": [
    {
     "data": {
      "text/html": [
       "<div>\n",
       "<style scoped>\n",
       "    .dataframe tbody tr th:only-of-type {\n",
       "        vertical-align: middle;\n",
       "    }\n",
       "\n",
       "    .dataframe tbody tr th {\n",
       "        vertical-align: top;\n",
       "    }\n",
       "\n",
       "    .dataframe thead th {\n",
       "        text-align: right;\n",
       "    }\n",
       "</style>\n",
       "<table border=\"1\" class=\"dataframe\">\n",
       "  <thead>\n",
       "    <tr style=\"text-align: right;\">\n",
       "      <th></th>\n",
       "      <th>month</th>\n",
       "      <th>year</th>\n",
       "      <th>categ</th>\n",
       "      <th>ca</th>\n",
       "    </tr>\n",
       "  </thead>\n",
       "  <tbody>\n",
       "    <tr>\n",
       "      <th>12</th>\n",
       "      <td>3</td>\n",
       "      <td>2021</td>\n",
       "      <td>0.0</td>\n",
       "      <td>193404.91</td>\n",
       "    </tr>\n",
       "    <tr>\n",
       "      <th>13</th>\n",
       "      <td>3</td>\n",
       "      <td>2021</td>\n",
       "      <td>1.0</td>\n",
       "      <td>186747.68</td>\n",
       "    </tr>\n",
       "    <tr>\n",
       "      <th>14</th>\n",
       "      <td>3</td>\n",
       "      <td>2021</td>\n",
       "      <td>2.0</td>\n",
       "      <td>101837.27</td>\n",
       "    </tr>\n",
       "    <tr>\n",
       "      <th>18</th>\n",
       "      <td>4</td>\n",
       "      <td>2021</td>\n",
       "      <td>0.0</td>\n",
       "      <td>204927.31</td>\n",
       "    </tr>\n",
       "    <tr>\n",
       "      <th>19</th>\n",
       "      <td>4</td>\n",
       "      <td>2021</td>\n",
       "      <td>1.0</td>\n",
       "      <td>155998.12</td>\n",
       "    </tr>\n",
       "  </tbody>\n",
       "</table>\n",
       "</div>"
      ],
      "text/plain": [
       "    month  year  categ         ca\n",
       "12      3  2021    0.0  193404.91\n",
       "13      3  2021    1.0  186747.68\n",
       "14      3  2021    2.0  101837.27\n",
       "18      4  2021    0.0  204927.31\n",
       "19      4  2021    1.0  155998.12"
      ]
     },
     "execution_count": 549,
     "metadata": {},
     "output_type": "execute_result"
    }
   ],
   "source": [
    "# Année 2021:\n",
    "chiffre_2021 = chiffre_per_month[chiffre_per_month['year'] == 2021]\n",
    "chiffre_2021.head()"
   ]
  },
  {
   "cell_type": "code",
   "execution_count": 550,
   "metadata": {},
   "outputs": [
    {
     "name": "stdout",
     "output_type": "stream",
     "text": [
      "chiffre 2021: 4764537.13\n"
     ]
    }
   ],
   "source": [
    "# calcul chiffre d'affaire:\n",
    "print('chiffre 2021:',chiffre_2021.ca.sum().round(2))"
   ]
  },
  {
   "cell_type": "markdown",
   "metadata": {},
   "source": [
    "#### Analyse sur l'année 2022"
   ]
  },
  {
   "cell_type": "code",
   "execution_count": 551,
   "metadata": {},
   "outputs": [
    {
     "data": {
      "text/html": [
       "<div>\n",
       "<style scoped>\n",
       "    .dataframe tbody tr th:only-of-type {\n",
       "        vertical-align: middle;\n",
       "    }\n",
       "\n",
       "    .dataframe tbody tr th {\n",
       "        vertical-align: top;\n",
       "    }\n",
       "\n",
       "    .dataframe thead th {\n",
       "        text-align: right;\n",
       "    }\n",
       "</style>\n",
       "<table border=\"1\" class=\"dataframe\">\n",
       "  <thead>\n",
       "    <tr style=\"text-align: right;\">\n",
       "      <th></th>\n",
       "      <th>month</th>\n",
       "      <th>year</th>\n",
       "      <th>categ</th>\n",
       "      <th>ca</th>\n",
       "    </tr>\n",
       "  </thead>\n",
       "  <tbody>\n",
       "    <tr>\n",
       "      <th>0</th>\n",
       "      <td>1</td>\n",
       "      <td>2022</td>\n",
       "      <td>0.0</td>\n",
       "      <td>164087.78</td>\n",
       "    </tr>\n",
       "    <tr>\n",
       "      <th>1</th>\n",
       "      <td>1</td>\n",
       "      <td>2022</td>\n",
       "      <td>1.0</td>\n",
       "      <td>255855.84</td>\n",
       "    </tr>\n",
       "    <tr>\n",
       "      <th>2</th>\n",
       "      <td>1</td>\n",
       "      <td>2022</td>\n",
       "      <td>2.0</td>\n",
       "      <td>104805.69</td>\n",
       "    </tr>\n",
       "    <tr>\n",
       "      <th>6</th>\n",
       "      <td>2</td>\n",
       "      <td>2022</td>\n",
       "      <td>0.0</td>\n",
       "      <td>182964.20</td>\n",
       "    </tr>\n",
       "    <tr>\n",
       "      <th>7</th>\n",
       "      <td>2</td>\n",
       "      <td>2022</td>\n",
       "      <td>1.0</td>\n",
       "      <td>212765.47</td>\n",
       "    </tr>\n",
       "  </tbody>\n",
       "</table>\n",
       "</div>"
      ],
      "text/plain": [
       "   month  year  categ         ca\n",
       "0      1  2022    0.0  164087.78\n",
       "1      1  2022    1.0  255855.84\n",
       "2      1  2022    2.0  104805.69\n",
       "6      2  2022    0.0  182964.20\n",
       "7      2  2022    1.0  212765.47"
      ]
     },
     "execution_count": 551,
     "metadata": {},
     "output_type": "execute_result"
    }
   ],
   "source": [
    "# Année 2022:\n",
    "chiffre_2022 = chiffre_per_month[chiffre_per_month['year'] == 2022]\n",
    "chiffre_2022.head()"
   ]
  },
  {
   "cell_type": "code",
   "execution_count": 552,
   "metadata": {},
   "outputs": [
    {
     "name": "stdout",
     "output_type": "stream",
     "text": [
      "chiffre 2022: 6099289.95\n"
     ]
    }
   ],
   "source": [
    "# calcul chiffre d'affaire\n",
    "print('chiffre 2022:',chiffre_2022.ca.sum().round(2))"
   ]
  },
  {
   "cell_type": "markdown",
   "metadata": {},
   "source": [
    "#### Analyse sur l'année 2023"
   ]
  },
  {
   "cell_type": "code",
   "execution_count": 553,
   "metadata": {},
   "outputs": [
    {
     "data": {
      "text/html": [
       "<div>\n",
       "<style scoped>\n",
       "    .dataframe tbody tr th:only-of-type {\n",
       "        vertical-align: middle;\n",
       "    }\n",
       "\n",
       "    .dataframe tbody tr th {\n",
       "        vertical-align: top;\n",
       "    }\n",
       "\n",
       "    .dataframe thead th {\n",
       "        text-align: right;\n",
       "    }\n",
       "</style>\n",
       "<table border=\"1\" class=\"dataframe\">\n",
       "  <thead>\n",
       "    <tr style=\"text-align: right;\">\n",
       "      <th></th>\n",
       "      <th>month</th>\n",
       "      <th>year</th>\n",
       "      <th>categ</th>\n",
       "      <th>ca</th>\n",
       "    </tr>\n",
       "  </thead>\n",
       "  <tbody>\n",
       "    <tr>\n",
       "      <th>3</th>\n",
       "      <td>1</td>\n",
       "      <td>2023</td>\n",
       "      <td>0.0</td>\n",
       "      <td>181039.31</td>\n",
       "    </tr>\n",
       "    <tr>\n",
       "      <th>4</th>\n",
       "      <td>1</td>\n",
       "      <td>2023</td>\n",
       "      <td>1.0</td>\n",
       "      <td>209854.45</td>\n",
       "    </tr>\n",
       "    <tr>\n",
       "      <th>5</th>\n",
       "      <td>1</td>\n",
       "      <td>2023</td>\n",
       "      <td>2.0</td>\n",
       "      <td>125809.23</td>\n",
       "    </tr>\n",
       "    <tr>\n",
       "      <th>9</th>\n",
       "      <td>2</td>\n",
       "      <td>2023</td>\n",
       "      <td>0.0</td>\n",
       "      <td>162248.36</td>\n",
       "    </tr>\n",
       "    <tr>\n",
       "      <th>10</th>\n",
       "      <td>2</td>\n",
       "      <td>2023</td>\n",
       "      <td>1.0</td>\n",
       "      <td>180122.70</td>\n",
       "    </tr>\n",
       "  </tbody>\n",
       "</table>\n",
       "</div>"
      ],
      "text/plain": [
       "    month  year  categ         ca\n",
       "3       1  2023    0.0  181039.31\n",
       "4       1  2023    1.0  209854.45\n",
       "5       1  2023    2.0  125809.23\n",
       "9       2  2023    0.0  162248.36\n",
       "10      2  2023    1.0  180122.70"
      ]
     },
     "execution_count": 553,
     "metadata": {},
     "output_type": "execute_result"
    }
   ],
   "source": [
    "# Année 2023:\n",
    "chiffre_2023 = chiffre_per_month[chiffre_per_month['year'] == 2023]\n",
    "chiffre_2023.head()"
   ]
  },
  {
   "cell_type": "code",
   "execution_count": 554,
   "metadata": {},
   "outputs": [
    {
     "name": "stdout",
     "output_type": "stream",
     "text": [
      "chiffre 2023: 972669.91\n"
     ]
    }
   ],
   "source": [
    "print('chiffre 2023:',chiffre_2023.ca.sum().round(2))"
   ]
  },
  {
   "cell_type": "markdown",
   "metadata": {},
   "source": [
    "#### Graphique"
   ]
  },
  {
   "cell_type": "code",
   "execution_count": 555,
   "metadata": {},
   "outputs": [
    {
     "data": {
      "text/html": [
       "<div>\n",
       "<style scoped>\n",
       "    .dataframe tbody tr th:only-of-type {\n",
       "        vertical-align: middle;\n",
       "    }\n",
       "\n",
       "    .dataframe tbody tr th {\n",
       "        vertical-align: top;\n",
       "    }\n",
       "\n",
       "    .dataframe thead th {\n",
       "        text-align: right;\n",
       "    }\n",
       "</style>\n",
       "<table border=\"1\" class=\"dataframe\">\n",
       "  <thead>\n",
       "    <tr style=\"text-align: right;\">\n",
       "      <th></th>\n",
       "      <th>month</th>\n",
       "      <th>ca</th>\n",
       "    </tr>\n",
       "  </thead>\n",
       "  <tbody>\n",
       "    <tr>\n",
       "      <th>0</th>\n",
       "      <td>2021/03</td>\n",
       "      <td>481989.86</td>\n",
       "    </tr>\n",
       "    <tr>\n",
       "      <th>1</th>\n",
       "      <td>2021/04</td>\n",
       "      <td>475410.58</td>\n",
       "    </tr>\n",
       "    <tr>\n",
       "      <th>2</th>\n",
       "      <td>2021/05</td>\n",
       "      <td>492140.59</td>\n",
       "    </tr>\n",
       "    <tr>\n",
       "      <th>3</th>\n",
       "      <td>2021/06</td>\n",
       "      <td>483466.03</td>\n",
       "    </tr>\n",
       "    <tr>\n",
       "      <th>4</th>\n",
       "      <td>2021/07</td>\n",
       "      <td>481841.22</td>\n",
       "    </tr>\n",
       "  </tbody>\n",
       "</table>\n",
       "</div>"
      ],
      "text/plain": [
       "     month         ca\n",
       "0  2021/03  481989.86\n",
       "1  2021/04  475410.58\n",
       "2  2021/05  492140.59\n",
       "3  2021/06  483466.03\n",
       "4  2021/07  481841.22"
      ]
     },
     "execution_count": 555,
     "metadata": {},
     "output_type": "execute_result"
    }
   ],
   "source": [
    "data1 = df[['date', 'price', 'categ']]\n",
    "data1 = data1.rename(columns={'price':'ca'})\n",
    "data1['month'] = data1['date'].dt.strftime('%Y/%m')\n",
    "data1 = data1.groupby('month').ca.sum().reset_index()\n",
    "data1.head()"
   ]
  },
  {
   "cell_type": "code",
   "execution_count": 556,
   "metadata": {},
   "outputs": [
    {
     "data": {
      "text/html": [
       "<div>\n",
       "<style scoped>\n",
       "    .dataframe tbody tr th:only-of-type {\n",
       "        vertical-align: middle;\n",
       "    }\n",
       "\n",
       "    .dataframe tbody tr th {\n",
       "        vertical-align: top;\n",
       "    }\n",
       "\n",
       "    .dataframe thead th {\n",
       "        text-align: right;\n",
       "    }\n",
       "</style>\n",
       "<table border=\"1\" class=\"dataframe\">\n",
       "  <thead>\n",
       "    <tr style=\"text-align: right;\">\n",
       "      <th></th>\n",
       "      <th>month</th>\n",
       "      <th>ca</th>\n",
       "      <th>moyenne_mobile</th>\n",
       "    </tr>\n",
       "  </thead>\n",
       "  <tbody>\n",
       "    <tr>\n",
       "      <th>0</th>\n",
       "      <td>2021/03</td>\n",
       "      <td>481989.86</td>\n",
       "      <td>481989.860000</td>\n",
       "    </tr>\n",
       "    <tr>\n",
       "      <th>1</th>\n",
       "      <td>2021/04</td>\n",
       "      <td>475410.58</td>\n",
       "      <td>478700.220000</td>\n",
       "    </tr>\n",
       "    <tr>\n",
       "      <th>2</th>\n",
       "      <td>2021/05</td>\n",
       "      <td>492140.59</td>\n",
       "      <td>483180.343333</td>\n",
       "    </tr>\n",
       "    <tr>\n",
       "      <th>3</th>\n",
       "      <td>2021/06</td>\n",
       "      <td>483466.03</td>\n",
       "      <td>483672.400000</td>\n",
       "    </tr>\n",
       "    <tr>\n",
       "      <th>4</th>\n",
       "      <td>2021/07</td>\n",
       "      <td>481841.22</td>\n",
       "      <td>485815.946667</td>\n",
       "    </tr>\n",
       "  </tbody>\n",
       "</table>\n",
       "</div>"
      ],
      "text/plain": [
       "     month         ca  moyenne_mobile\n",
       "0  2021/03  481989.86   481989.860000\n",
       "1  2021/04  475410.58   478700.220000\n",
       "2  2021/05  492140.59   483180.343333\n",
       "3  2021/06  483466.03   483672.400000\n",
       "4  2021/07  481841.22   485815.946667"
      ]
     },
     "execution_count": 556,
     "metadata": {},
     "output_type": "execute_result"
    }
   ],
   "source": [
    "#moyenne mobile\n",
    "data2 = data1\n",
    "moyenne_mobile = data1.rolling(3,min_periods=1).mean()\n",
    "data2['moyenne_mobile'] = moyenne_mobile\n",
    "data2.head()"
   ]
  },
  {
   "cell_type": "code",
   "execution_count": 557,
   "metadata": {},
   "outputs": [
    {
     "data": {
      "image/png": "[encoded data removed]",
      "text/plain": [
       "<Figure size 1440x576 with 1 Axes>"
      ]
     },
     "metadata": {},
     "output_type": "display_data"
    }
   ],
   "source": [
    "#Graph 4:\n",
    "plt.figure(figsize=(20,8))\n",
    "sns.set_theme(style='darkgrid')\n",
    "\n",
    "sns.lineplot(data=data1, x='month', y='ca', marker='o', label='CA')\n",
    "sns.lineplot(data=data2, x='month', y='moyenne_mobile', marker='o', label='Moyen mobile')\n",
    "\n",
    "plt.title(\"Tendance du CA \")\n",
    "plt.xlabel('mois')\n",
    "plt.ylabel('chiffre')\n",
    "\n",
    "plt.show()"
   ]
  },
  {
   "cell_type": "code",
   "execution_count": 558,
   "metadata": {},
   "outputs": [
    {
     "name": "stderr",
     "output_type": "stream",
     "text": [
      "<ipython-input-558-0e11527d1956>:2: SettingWithCopyWarning: \n",
      "A value is trying to be set on a copy of a slice from a DataFrame.\n",
      "Try using .loc[row_indexer,col_indexer] = value instead\n",
      "\n",
      "See the caveats in the documentation: https://pandas.pydata.org/pandas-docs/stable/user_guide/indexing.html#returning-a-view-versus-a-copy\n",
      "  data3['month'] = data3['date'].dt.strftime('%Y/%m')\n"
     ]
    },
    {
     "data": {
      "text/html": [
       "<div>\n",
       "<style scoped>\n",
       "    .dataframe tbody tr th:only-of-type {\n",
       "        vertical-align: middle;\n",
       "    }\n",
       "\n",
       "    .dataframe tbody tr th {\n",
       "        vertical-align: top;\n",
       "    }\n",
       "\n",
       "    .dataframe thead th {\n",
       "        text-align: right;\n",
       "    }\n",
       "</style>\n",
       "<table border=\"1\" class=\"dataframe\">\n",
       "  <thead>\n",
       "    <tr style=\"text-align: right;\">\n",
       "      <th></th>\n",
       "      <th>month</th>\n",
       "      <th>categ</th>\n",
       "      <th>ca</th>\n",
       "    </tr>\n",
       "  </thead>\n",
       "  <tbody>\n",
       "    <tr>\n",
       "      <th>0</th>\n",
       "      <td>2021/03</td>\n",
       "      <td>0.0</td>\n",
       "      <td>193404.91</td>\n",
       "    </tr>\n",
       "    <tr>\n",
       "      <th>1</th>\n",
       "      <td>2021/03</td>\n",
       "      <td>1.0</td>\n",
       "      <td>186747.68</td>\n",
       "    </tr>\n",
       "    <tr>\n",
       "      <th>2</th>\n",
       "      <td>2021/03</td>\n",
       "      <td>2.0</td>\n",
       "      <td>101837.27</td>\n",
       "    </tr>\n",
       "    <tr>\n",
       "      <th>3</th>\n",
       "      <td>2021/04</td>\n",
       "      <td>0.0</td>\n",
       "      <td>204927.31</td>\n",
       "    </tr>\n",
       "    <tr>\n",
       "      <th>4</th>\n",
       "      <td>2021/04</td>\n",
       "      <td>1.0</td>\n",
       "      <td>155998.12</td>\n",
       "    </tr>\n",
       "  </tbody>\n",
       "</table>\n",
       "</div>"
      ],
      "text/plain": [
       "     month  categ         ca\n",
       "0  2021/03    0.0  193404.91\n",
       "1  2021/03    1.0  186747.68\n",
       "2  2021/03    2.0  101837.27\n",
       "3  2021/04    0.0  204927.31\n",
       "4  2021/04    1.0  155998.12"
      ]
     },
     "execution_count": 558,
     "metadata": {},
     "output_type": "execute_result"
    }
   ],
   "source": [
    "data3 = df[['date', 'price', 'categ']]\n",
    "data3['month'] = data3['date'].dt.strftime('%Y/%m')\n",
    "data3 = data3.groupby(['month', 'categ']).price.sum().reset_index()\n",
    "data3 = data3.rename(columns={'price':'ca'})\n",
    "data3 = data3[['month', 'categ', 'ca']]\n",
    "data3.head()"
   ]
  },
  {
   "cell_type": "code",
   "execution_count": 559,
   "metadata": {},
   "outputs": [
    {
     "data": {
      "image/png": "[encoded data removed]",
      "text/plain": [
       "<Figure size 1440x576 with 1 Axes>"
      ]
     },
     "metadata": {},
     "output_type": "display_data"
    }
   ],
   "source": [
    "plt.figure(figsize=(20, 8))\n",
    "sns.set_theme(style=\"darkgrid\")\n",
    "\n",
    "sns.lineplot(data=data3, x='month', y='ca', hue='categ', marker='o')\n",
    "\n",
    "\n",
    "plt.title(\"Chiffre d'affaire en fonction de la categorie\")\n",
    "plt.xlabel('mois')\n",
    "plt.ylabel('chiffre')\n",
    "\n",
    "\n",
    "plt.show()"
   ]
  },
  {
   "cell_type": "code",
   "execution_count": 560,
   "metadata": {},
   "outputs": [
    {
     "data": {
      "text/html": [
       "<div>\n",
       "<style scoped>\n",
       "    .dataframe tbody tr th:only-of-type {\n",
       "        vertical-align: middle;\n",
       "    }\n",
       "\n",
       "    .dataframe tbody tr th {\n",
       "        vertical-align: top;\n",
       "    }\n",
       "\n",
       "    .dataframe thead th {\n",
       "        text-align: right;\n",
       "    }\n",
       "</style>\n",
       "<table border=\"1\" class=\"dataframe\">\n",
       "  <thead>\n",
       "    <tr style=\"text-align: right;\">\n",
       "      <th></th>\n",
       "      <th>year</th>\n",
       "      <th>month</th>\n",
       "      <th>categ</th>\n",
       "      <th>ca</th>\n",
       "    </tr>\n",
       "  </thead>\n",
       "  <tbody>\n",
       "    <tr>\n",
       "      <th>21</th>\n",
       "      <td>2021</td>\n",
       "      <td>10</td>\n",
       "      <td>0.0</td>\n",
       "      <td>199071.60</td>\n",
       "    </tr>\n",
       "    <tr>\n",
       "      <th>22</th>\n",
       "      <td>2021</td>\n",
       "      <td>10</td>\n",
       "      <td>1.0</td>\n",
       "      <td>33735.72</td>\n",
       "    </tr>\n",
       "    <tr>\n",
       "      <th>23</th>\n",
       "      <td>2021</td>\n",
       "      <td>10</td>\n",
       "      <td>2.0</td>\n",
       "      <td>87540.21</td>\n",
       "    </tr>\n",
       "  </tbody>\n",
       "</table>\n",
       "</div>"
      ],
      "text/plain": [
       "    year  month  categ         ca\n",
       "21  2021     10    0.0  199071.60\n",
       "22  2021     10    1.0   33735.72\n",
       "23  2021     10    2.0   87540.21"
      ]
     },
     "execution_count": 560,
     "metadata": {},
     "output_type": "execute_result"
    }
   ],
   "source": [
    "#Vérification du chiffre octobre/2021:\n",
    "chiffre2 = df[['year', 'month', 'categ', 'price']]\n",
    "chiffre3 = chiffre2.groupby(['year', 'month', 'categ']).price.sum().reset_index()\n",
    "chiffre4 = chiffre3[(chiffre3['month']==10) & (chiffre3['year']==2021)]\n",
    "chiffre4 = chiffre4.rename(columns={'price':'ca'})\n",
    "chiffre4.head()"
   ]
  },
  {
   "cell_type": "code",
   "execution_count": 561,
   "metadata": {},
   "outputs": [
    {
     "data": {
      "text/html": [
       "<div>\n",
       "<style scoped>\n",
       "    .dataframe tbody tr th:only-of-type {\n",
       "        vertical-align: middle;\n",
       "    }\n",
       "\n",
       "    .dataframe tbody tr th {\n",
       "        vertical-align: top;\n",
       "    }\n",
       "\n",
       "    .dataframe thead th {\n",
       "        text-align: right;\n",
       "    }\n",
       "</style>\n",
       "<table border=\"1\" class=\"dataframe\">\n",
       "  <thead>\n",
       "    <tr style=\"text-align: right;\">\n",
       "      <th></th>\n",
       "      <th>id_prod</th>\n",
       "      <th>date</th>\n",
       "      <th>session_id</th>\n",
       "      <th>client_id</th>\n",
       "      <th>reference</th>\n",
       "      <th>heure</th>\n",
       "      <th>year</th>\n",
       "      <th>month</th>\n",
       "      <th>day</th>\n",
       "      <th>price</th>\n",
       "      <th>categ</th>\n",
       "      <th>sex</th>\n",
       "      <th>birth</th>\n",
       "    </tr>\n",
       "  </thead>\n",
       "  <tbody>\n",
       "    <tr>\n",
       "      <th>0</th>\n",
       "      <td>0_1518</td>\n",
       "      <td>2022-05-20</td>\n",
       "      <td>s_211425</td>\n",
       "      <td>c_103</td>\n",
       "      <td>43970</td>\n",
       "      <td>13:21:29</td>\n",
       "      <td>2022</td>\n",
       "      <td>5</td>\n",
       "      <td>20</td>\n",
       "      <td>4.18</td>\n",
       "      <td>0.0</td>\n",
       "      <td>f</td>\n",
       "      <td>1986</td>\n",
       "    </tr>\n",
       "    <tr>\n",
       "      <th>1</th>\n",
       "      <td>1_251</td>\n",
       "      <td>2022-02-02</td>\n",
       "      <td>s_158752</td>\n",
       "      <td>c_8534</td>\n",
       "      <td>149409</td>\n",
       "      <td>07:55:19</td>\n",
       "      <td>2022</td>\n",
       "      <td>2</td>\n",
       "      <td>2</td>\n",
       "      <td>15.99</td>\n",
       "      <td>1.0</td>\n",
       "      <td>m</td>\n",
       "      <td>1988</td>\n",
       "    </tr>\n",
       "    <tr>\n",
       "      <th>2</th>\n",
       "      <td>0_1277</td>\n",
       "      <td>2022-06-18</td>\n",
       "      <td>s_225667</td>\n",
       "      <td>c_6714</td>\n",
       "      <td>155329</td>\n",
       "      <td>15:44:33</td>\n",
       "      <td>2022</td>\n",
       "      <td>6</td>\n",
       "      <td>18</td>\n",
       "      <td>7.99</td>\n",
       "      <td>0.0</td>\n",
       "      <td>f</td>\n",
       "      <td>1968</td>\n",
       "    </tr>\n",
       "    <tr>\n",
       "      <th>3</th>\n",
       "      <td>2_209</td>\n",
       "      <td>2021-06-24</td>\n",
       "      <td>s_52962</td>\n",
       "      <td>c_6941</td>\n",
       "      <td>835891</td>\n",
       "      <td>04:19:29</td>\n",
       "      <td>2021</td>\n",
       "      <td>6</td>\n",
       "      <td>24</td>\n",
       "      <td>69.99</td>\n",
       "      <td>2.0</td>\n",
       "      <td>m</td>\n",
       "      <td>2000</td>\n",
       "    </tr>\n",
       "    <tr>\n",
       "      <th>4</th>\n",
       "      <td>0_1509</td>\n",
       "      <td>2023-01-11</td>\n",
       "      <td>s_325227</td>\n",
       "      <td>c_4232</td>\n",
       "      <td>194479</td>\n",
       "      <td>08:22:08</td>\n",
       "      <td>2023</td>\n",
       "      <td>1</td>\n",
       "      <td>11</td>\n",
       "      <td>4.99</td>\n",
       "      <td>0.0</td>\n",
       "      <td>m</td>\n",
       "      <td>1980</td>\n",
       "    </tr>\n",
       "  </tbody>\n",
       "</table>\n",
       "</div>"
      ],
      "text/plain": [
       "  id_prod       date session_id client_id  reference     heure  year  month  \\\n",
       "0  0_1518 2022-05-20   s_211425     c_103      43970  13:21:29  2022      5   \n",
       "1   1_251 2022-02-02   s_158752    c_8534     149409  07:55:19  2022      2   \n",
       "2  0_1277 2022-06-18   s_225667    c_6714     155329  15:44:33  2022      6   \n",
       "3   2_209 2021-06-24    s_52962    c_6941     835891  04:19:29  2021      6   \n",
       "4  0_1509 2023-01-11   s_325227    c_4232     194479  08:22:08  2023      1   \n",
       "\n",
       "   day  price  categ sex  birth  \n",
       "0   20   4.18    0.0   f   1986  \n",
       "1    2  15.99    1.0   m   1988  \n",
       "2   18   7.99    0.0   f   1968  \n",
       "3   24  69.99    2.0   m   2000  \n",
       "4   11   4.99    0.0   m   1980  "
      ]
     },
     "execution_count": 561,
     "metadata": {},
     "output_type": "execute_result"
    }
   ],
   "source": [
    "#Exclure le mois d'octobre 2021 pour eviter de biaisé nos données:\n",
    "df.drop(df.loc[(df['month']==10)&(df['year']==2021)].index, inplace=True)\n",
    "df.head()"
   ]
  },
  {
   "cell_type": "code",
   "execution_count": 562,
   "metadata": {},
   "outputs": [],
   "source": [
    "#Courbe sans octobre/2021"
   ]
  },
  {
   "cell_type": "code",
   "execution_count": 563,
   "metadata": {},
   "outputs": [
    {
     "data": {
      "text/html": [
       "<div>\n",
       "<style scoped>\n",
       "    .dataframe tbody tr th:only-of-type {\n",
       "        vertical-align: middle;\n",
       "    }\n",
       "\n",
       "    .dataframe tbody tr th {\n",
       "        vertical-align: top;\n",
       "    }\n",
       "\n",
       "    .dataframe thead th {\n",
       "        text-align: right;\n",
       "    }\n",
       "</style>\n",
       "<table border=\"1\" class=\"dataframe\">\n",
       "  <thead>\n",
       "    <tr style=\"text-align: right;\">\n",
       "      <th></th>\n",
       "      <th>month</th>\n",
       "      <th>ca</th>\n",
       "    </tr>\n",
       "  </thead>\n",
       "  <tbody>\n",
       "    <tr>\n",
       "      <th>0</th>\n",
       "      <td>2021/03</td>\n",
       "      <td>481989.86</td>\n",
       "    </tr>\n",
       "    <tr>\n",
       "      <th>1</th>\n",
       "      <td>2021/04</td>\n",
       "      <td>475410.58</td>\n",
       "    </tr>\n",
       "    <tr>\n",
       "      <th>2</th>\n",
       "      <td>2021/05</td>\n",
       "      <td>492140.59</td>\n",
       "    </tr>\n",
       "    <tr>\n",
       "      <th>3</th>\n",
       "      <td>2021/06</td>\n",
       "      <td>483466.03</td>\n",
       "    </tr>\n",
       "    <tr>\n",
       "      <th>4</th>\n",
       "      <td>2021/07</td>\n",
       "      <td>481841.22</td>\n",
       "    </tr>\n",
       "  </tbody>\n",
       "</table>\n",
       "</div>"
      ],
      "text/plain": [
       "     month         ca\n",
       "0  2021/03  481989.86\n",
       "1  2021/04  475410.58\n",
       "2  2021/05  492140.59\n",
       "3  2021/06  483466.03\n",
       "4  2021/07  481841.22"
      ]
     },
     "execution_count": 563,
     "metadata": {},
     "output_type": "execute_result"
    }
   ],
   "source": [
    "data1 = df[['date', 'price', 'categ']]\n",
    "data1 = data1.rename(columns={'price':'ca'})\n",
    "data1['month'] = data1['date'].dt.strftime('%Y/%m')\n",
    "data1 = data1.groupby('month').ca.sum().reset_index()\n",
    "data1.head()"
   ]
  },
  {
   "cell_type": "code",
   "execution_count": 564,
   "metadata": {},
   "outputs": [
    {
     "data": {
      "text/html": [
       "<div>\n",
       "<style scoped>\n",
       "    .dataframe tbody tr th:only-of-type {\n",
       "        vertical-align: middle;\n",
       "    }\n",
       "\n",
       "    .dataframe tbody tr th {\n",
       "        vertical-align: top;\n",
       "    }\n",
       "\n",
       "    .dataframe thead th {\n",
       "        text-align: right;\n",
       "    }\n",
       "</style>\n",
       "<table border=\"1\" class=\"dataframe\">\n",
       "  <thead>\n",
       "    <tr style=\"text-align: right;\">\n",
       "      <th></th>\n",
       "      <th>month</th>\n",
       "      <th>ca</th>\n",
       "      <th>moyenne_mobile</th>\n",
       "    </tr>\n",
       "  </thead>\n",
       "  <tbody>\n",
       "    <tr>\n",
       "      <th>0</th>\n",
       "      <td>2021/03</td>\n",
       "      <td>481989.86</td>\n",
       "      <td>481989.860000</td>\n",
       "    </tr>\n",
       "    <tr>\n",
       "      <th>1</th>\n",
       "      <td>2021/04</td>\n",
       "      <td>475410.58</td>\n",
       "      <td>478700.220000</td>\n",
       "    </tr>\n",
       "    <tr>\n",
       "      <th>2</th>\n",
       "      <td>2021/05</td>\n",
       "      <td>492140.59</td>\n",
       "      <td>483180.343333</td>\n",
       "    </tr>\n",
       "    <tr>\n",
       "      <th>3</th>\n",
       "      <td>2021/06</td>\n",
       "      <td>483466.03</td>\n",
       "      <td>483672.400000</td>\n",
       "    </tr>\n",
       "    <tr>\n",
       "      <th>4</th>\n",
       "      <td>2021/07</td>\n",
       "      <td>481841.22</td>\n",
       "      <td>485815.946667</td>\n",
       "    </tr>\n",
       "  </tbody>\n",
       "</table>\n",
       "</div>"
      ],
      "text/plain": [
       "     month         ca  moyenne_mobile\n",
       "0  2021/03  481989.86   481989.860000\n",
       "1  2021/04  475410.58   478700.220000\n",
       "2  2021/05  492140.59   483180.343333\n",
       "3  2021/06  483466.03   483672.400000\n",
       "4  2021/07  481841.22   485815.946667"
      ]
     },
     "execution_count": 564,
     "metadata": {},
     "output_type": "execute_result"
    }
   ],
   "source": [
    "#moyenne mobile\n",
    "data2 = data1\n",
    "moyenne_mobile = data1.rolling(3,min_periods=1).mean()\n",
    "data2['moyenne_mobile'] = moyenne_mobile\n",
    "data2.head()"
   ]
  },
  {
   "cell_type": "code",
   "execution_count": 565,
   "metadata": {},
   "outputs": [
    {
     "data": {
      "image/png": "[encoded data removed]",
      "text/plain": [
       "<Figure size 1440x576 with 1 Axes>"
      ]
     },
     "metadata": {},
     "output_type": "display_data"
    }
   ],
   "source": [
    "#Graph 4:\n",
    "plt.figure(figsize=(20,8))\n",
    "sns.set_theme(style='darkgrid')\n",
    "\n",
    "sns.lineplot(data=data1, x='month', y='ca', marker='o', label='CA')\n",
    "sns.lineplot(data=data2, x='month', y='moyenne_mobile', marker='o', label='Moyen mobile')\n",
    "\n",
    "plt.title(\"Tendance du CA \")\n",
    "plt.xlabel('mois')\n",
    "plt.ylabel('chiffre')\n",
    "\n",
    "plt.show()"
   ]
  },
  {
   "cell_type": "markdown",
   "metadata": {},
   "source": [
    "#### Conclusion : L' analyse effectué sur le CA sur les différentes années. Nous donne comme information un CA en décroissance depuis février/2022. Une indication sur un biais concernant les données de la catégories 1 sur octobre/2021 (Graph2). Et pour terminé un classement du CA par catégories qui donne: 2<0<1.\n",
    "\n",
    "\n",
    "#### Axe d’amélioration: Pour améliorer notre compréhension du CA, il faut récupérer les données biaisées sur octobre/2021. Il serait intéressant d’un point de vue marketing de ce concentrer sur les ventes liées à la catégorie 2. En effet, cette catégorie est sous-représenté dans le CA et en améliorer ces ventes permettra de faire croitre notre CA de manière globale."
   ]
  },
  {
   "cell_type": "markdown",
   "metadata": {},
   "source": [
    "### 2) Analyses du chiffre par catégories:"
   ]
  },
  {
   "cell_type": "markdown",
   "metadata": {},
   "source": [
    "#### Dataframe groupant les references et le prix"
   ]
  },
  {
   "cell_type": "code",
   "execution_count": 566,
   "metadata": {},
   "outputs": [
    {
     "name": "stdout",
     "output_type": "stream",
     "text": [
      "     id_prod  categ        ca\n",
      "3094   2_159    2.0  92119.69\n",
      "3068   2_135    2.0  66644.34\n",
      "3043   2_112    2.0  62367.11\n",
      "3032   2_102    2.0  58844.30\n",
      "3150   2_209    2.0  55362.09\n",
      "2617   1_395    1.0  53892.41\n",
      "2589   1_369    1.0  53497.70\n",
      "3041   2_110    2.0  51916.50\n",
      "2639   1_414    1.0  51568.12\n",
      "3199    2_39    2.0  51147.18\n"
     ]
    }
   ],
   "source": [
    "#top references:\n",
    "chiffre_ref = df.groupby(['id_prod', 'categ']).price.sum().reset_index()\n",
    "chiffre_ref = chiffre_ref.rename(columns={'price':'ca'})\n",
    "print(chiffre_ref.sort_values(by='ca', ascending=False).head(10))"
   ]
  },
  {
   "cell_type": "code",
   "execution_count": 567,
   "metadata": {},
   "outputs": [
    {
     "name": "stdout",
     "output_type": "stream",
     "text": [
      "     id_prod  categ    ca\n",
      "594   0_1539    0.0  0.99\n",
      "2177   0_898    0.0  1.27\n",
      "313   0_1284    0.0  1.38\n",
      "1895   0_643    0.0  1.98\n",
      "718   0_1653    0.0  1.98\n",
      "664   0_1601    0.0  1.99\n",
      "2077   0_807    0.0  1.99\n",
      "1782   0_541    0.0  1.99\n",
      "801   0_1728    0.0  2.27\n",
      "1542   0_324    0.0  2.36\n"
     ]
    }
   ],
   "source": [
    "#flop references:\n",
    "print(chiffre_ref.sort_values(by='ca').head(10))"
   ]
  },
  {
   "cell_type": "markdown",
   "metadata": {},
   "source": [
    "#### Dataframe groupant les categories et le chiffre"
   ]
  },
  {
   "cell_type": "code",
   "execution_count": 568,
   "metadata": {},
   "outputs": [
    {
     "data": {
      "text/html": [
       "<div>\n",
       "<style scoped>\n",
       "    .dataframe tbody tr th:only-of-type {\n",
       "        vertical-align: middle;\n",
       "    }\n",
       "\n",
       "    .dataframe tbody tr th {\n",
       "        vertical-align: top;\n",
       "    }\n",
       "\n",
       "    .dataframe thead th {\n",
       "        text-align: right;\n",
       "    }\n",
       "</style>\n",
       "<table border=\"1\" class=\"dataframe\">\n",
       "  <thead>\n",
       "    <tr style=\"text-align: right;\">\n",
       "      <th></th>\n",
       "      <th>categ</th>\n",
       "      <th>ca</th>\n",
       "    </tr>\n",
       "  </thead>\n",
       "  <tbody>\n",
       "    <tr>\n",
       "      <th>0</th>\n",
       "      <td>0.0</td>\n",
       "      <td>4215665.12</td>\n",
       "    </tr>\n",
       "    <tr>\n",
       "      <th>1</th>\n",
       "      <td>1.0</td>\n",
       "      <td>4614385.16</td>\n",
       "    </tr>\n",
       "    <tr>\n",
       "      <th>2</th>\n",
       "      <td>2.0</td>\n",
       "      <td>2686099.18</td>\n",
       "    </tr>\n",
       "  </tbody>\n",
       "</table>\n",
       "</div>"
      ],
      "text/plain": [
       "   categ          ca\n",
       "0    0.0  4215665.12\n",
       "1    1.0  4614385.16\n",
       "2    2.0  2686099.18"
      ]
     },
     "execution_count": 568,
     "metadata": {},
     "output_type": "execute_result"
    }
   ],
   "source": [
    "#Chiffre réalisé par catégories:\n",
    "chiffre_categorie = chiffre_ref.groupby('categ').ca.sum().reset_index()\n",
    "chiffre_categorie.head()"
   ]
  },
  {
   "cell_type": "markdown",
   "metadata": {},
   "source": [
    "#### Graphique1"
   ]
  },
  {
   "cell_type": "code",
   "execution_count": 569,
   "metadata": {},
   "outputs": [
    {
     "data": {
      "image/png": "[encoded data removed]",
      "text/plain": [
       "<Figure size 576x360 with 1 Axes>"
      ]
     },
     "metadata": {},
     "output_type": "display_data"
    }
   ],
   "source": [
    "#Visualisation du chiffre par categories:\n",
    "\n",
    "plt.figure(figsize=(8, 5))\n",
    "sns.set_theme(style=\"darkgrid\")\n",
    "\n",
    "sns.barplot(data=chiffre_categorie, x=chiffre_categorie.categ, y=chiffre_categorie.ca)\n",
    "\n",
    "plt.title('chiffre par catégories')\n",
    "plt.xlabel('catégories')\n",
    "plt.ylabel('chiffre')\n",
    "\n",
    "\n",
    "\n",
    "plt.show()"
   ]
  },
  {
   "cell_type": "code",
   "execution_count": 570,
   "metadata": {},
   "outputs": [
    {
     "data": {
      "image/png": "[encoded data removed]",
      "text/plain": [
       "<Figure size 576x576 with 1 Axes>"
      ]
     },
     "metadata": {},
     "output_type": "display_data"
    }
   ],
   "source": [
    "plt.figure(figsize=(8, 8))\n",
    "sns.set_theme(style=\"darkgrid\")\n",
    "\n",
    "sns.boxplot(data=df, x=df.categ, y=df.price)\n",
    "\n",
    "plt.title('price par catégories')\n",
    "plt.xlabel('catégories')\n",
    "plt.ylabel('price')\n",
    "\n",
    "\n",
    "\n",
    "plt.show()"
   ]
  },
  {
   "cell_type": "code",
   "execution_count": 571,
   "metadata": {},
   "outputs": [
    {
     "data": {
      "text/html": [
       "<div>\n",
       "<style scoped>\n",
       "    .dataframe tbody tr th:only-of-type {\n",
       "        vertical-align: middle;\n",
       "    }\n",
       "\n",
       "    .dataframe tbody tr th {\n",
       "        vertical-align: top;\n",
       "    }\n",
       "\n",
       "    .dataframe thead th {\n",
       "        text-align: right;\n",
       "    }\n",
       "</style>\n",
       "<table border=\"1\" class=\"dataframe\">\n",
       "  <thead>\n",
       "    <tr style=\"text-align: right;\">\n",
       "      <th></th>\n",
       "      <th>id_prod</th>\n",
       "      <th>categ</th>\n",
       "      <th>ca</th>\n",
       "    </tr>\n",
       "  </thead>\n",
       "  <tbody>\n",
       "    <tr>\n",
       "      <th>0</th>\n",
       "      <td>0_0</td>\n",
       "      <td>0.0</td>\n",
       "      <td>3.75</td>\n",
       "    </tr>\n",
       "    <tr>\n",
       "      <th>1</th>\n",
       "      <td>0_1</td>\n",
       "      <td>0.0</td>\n",
       "      <td>10.99</td>\n",
       "    </tr>\n",
       "    <tr>\n",
       "      <th>2</th>\n",
       "      <td>0_10</td>\n",
       "      <td>0.0</td>\n",
       "      <td>17.95</td>\n",
       "    </tr>\n",
       "    <tr>\n",
       "      <th>3</th>\n",
       "      <td>0_100</td>\n",
       "      <td>0.0</td>\n",
       "      <td>20.60</td>\n",
       "    </tr>\n",
       "    <tr>\n",
       "      <th>4</th>\n",
       "      <td>0_1000</td>\n",
       "      <td>0.0</td>\n",
       "      <td>6.84</td>\n",
       "    </tr>\n",
       "    <tr>\n",
       "      <th>...</th>\n",
       "      <td>...</td>\n",
       "      <td>...</td>\n",
       "      <td>...</td>\n",
       "    </tr>\n",
       "    <tr>\n",
       "      <th>3258</th>\n",
       "      <td>2_95</td>\n",
       "      <td>2.0</td>\n",
       "      <td>98.99</td>\n",
       "    </tr>\n",
       "    <tr>\n",
       "      <th>3259</th>\n",
       "      <td>2_96</td>\n",
       "      <td>2.0</td>\n",
       "      <td>47.91</td>\n",
       "    </tr>\n",
       "    <tr>\n",
       "      <th>3260</th>\n",
       "      <td>2_97</td>\n",
       "      <td>2.0</td>\n",
       "      <td>160.99</td>\n",
       "    </tr>\n",
       "    <tr>\n",
       "      <th>3261</th>\n",
       "      <td>2_98</td>\n",
       "      <td>2.0</td>\n",
       "      <td>149.74</td>\n",
       "    </tr>\n",
       "    <tr>\n",
       "      <th>3262</th>\n",
       "      <td>2_99</td>\n",
       "      <td>2.0</td>\n",
       "      <td>84.99</td>\n",
       "    </tr>\n",
       "  </tbody>\n",
       "</table>\n",
       "<p>3263 rows × 3 columns</p>\n",
       "</div>"
      ],
      "text/plain": [
       "     id_prod  categ      ca\n",
       "0        0_0    0.0    3.75\n",
       "1        0_1    0.0   10.99\n",
       "2       0_10    0.0   17.95\n",
       "3      0_100    0.0   20.60\n",
       "4     0_1000    0.0    6.84\n",
       "...      ...    ...     ...\n",
       "3258    2_95    2.0   98.99\n",
       "3259    2_96    2.0   47.91\n",
       "3260    2_97    2.0  160.99\n",
       "3261    2_98    2.0  149.74\n",
       "3262    2_99    2.0   84.99\n",
       "\n",
       "[3263 rows x 3 columns]"
      ]
     },
     "execution_count": 571,
     "metadata": {},
     "output_type": "execute_result"
    }
   ],
   "source": [
    "test = df.groupby(['id_prod', 'categ']).price.mean().reset_index()\n",
    "test = test.rename(columns={'price':'ca'})\n",
    "test"
   ]
  },
  {
   "cell_type": "code",
   "execution_count": 572,
   "metadata": {},
   "outputs": [
    {
     "name": "stdout",
     "output_type": "stream",
     "text": [
      "p_value: 3.614263855912892e-198\n"
     ]
    }
   ],
   "source": [
    "#Test statistique (Student):\n",
    "t, p = ttest_ind(test[test['categ'] == 1].ca, test[test['categ'] == 0].ca)\n",
    "print('p_value:', p)"
   ]
  },
  {
   "cell_type": "code",
   "execution_count": 573,
   "metadata": {},
   "outputs": [
    {
     "name": "stdout",
     "output_type": "stream",
     "text": [
      "p_value: 0.0\n"
     ]
    }
   ],
   "source": [
    "t, p = ttest_ind(test[test['categ'] == 2].ca, test[test['categ'] == 0].ca)\n",
    "print('p_value:', p)"
   ]
  },
  {
   "cell_type": "code",
   "execution_count": 574,
   "metadata": {},
   "outputs": [
    {
     "name": "stdout",
     "output_type": "stream",
     "text": [
      "p_value: 4.224774180438824e-205\n"
     ]
    }
   ],
   "source": [
    "t, p = ttest_ind(test[test['categ'] == 1].ca, test[test['categ'] == 2].ca)\n",
    "print('p_value:', p)"
   ]
  },
  {
   "cell_type": "code",
   "execution_count": 575,
   "metadata": {},
   "outputs": [
    {
     "name": "stdout",
     "output_type": "stream",
     "text": [
      "p_value: 3.6142638559065296e-198\n"
     ]
    }
   ],
   "source": [
    "#Test statistique (Anova):\n",
    "f, p = f_oneway(test[test['categ'] == 1].ca, test[test['categ'] == 0].ca)\n",
    "print('p_value:', p)"
   ]
  },
  {
   "cell_type": "code",
   "execution_count": 576,
   "metadata": {},
   "outputs": [
    {
     "name": "stdout",
     "output_type": "stream",
     "text": [
      "p_value: 0.0\n"
     ]
    }
   ],
   "source": [
    "f, p = f_oneway(test[test['categ'] == 2].ca, test[test['categ'] == 0].ca)\n",
    "print('p_value:', p)"
   ]
  },
  {
   "cell_type": "code",
   "execution_count": 577,
   "metadata": {},
   "outputs": [
    {
     "name": "stdout",
     "output_type": "stream",
     "text": [
      "p_value: 4.224774180438876e-205\n"
     ]
    }
   ],
   "source": [
    "f, p = f_oneway(test[test['categ'] == 1].ca, test[test['categ'] == 2].ca)\n",
    "print('p_value:', p)"
   ]
  },
  {
   "cell_type": "code",
   "execution_count": 578,
   "metadata": {},
   "outputs": [
    {
     "name": "stdout",
     "output_type": "stream",
     "text": [
      "p_value: 2.1718305732007215e-29\n"
     ]
    }
   ],
   "source": [
    "#test normalité (Shapiro-Wilk):\n",
    "t, p = shapiro(test[test['categ'] == 0].ca)\n",
    "print('p_value:', p)"
   ]
  },
  {
   "cell_type": "code",
   "execution_count": 579,
   "metadata": {},
   "outputs": [
    {
     "name": "stdout",
     "output_type": "stream",
     "text": [
      "panier moyen categorie 0: 10.64\n"
     ]
    }
   ],
   "source": [
    "#panier moyen categorie 0:\n",
    "nb_vente0 = df[df['categ'] == 0]\n",
    "panier_moyen0 = nb_vente0.price.sum()/nb_vente0.session_id.count()\n",
    "print('panier moyen categorie 0:', panier_moyen0.round(2))"
   ]
  },
  {
   "cell_type": "code",
   "execution_count": 580,
   "metadata": {},
   "outputs": [
    {
     "name": "stdout",
     "output_type": "stream",
     "text": [
      "panier moyen categorie 1: 20.49\n"
     ]
    }
   ],
   "source": [
    "#panier moyen categorie 1:\n",
    "nb_vente1 = df[df['categ'] == 1]\n",
    "panier_moyen1 = nb_vente1.price.sum()/nb_vente1.session_id.count()\n",
    "print('panier moyen categorie 1:', panier_moyen1.round(2))"
   ]
  },
  {
   "cell_type": "code",
   "execution_count": 581,
   "metadata": {},
   "outputs": [
    {
     "name": "stdout",
     "output_type": "stream",
     "text": [
      "panier moyen categorie 2: 76.27\n"
     ]
    }
   ],
   "source": [
    "#panier moyen categorie 2:\n",
    "nb_vente2 = df[df['categ'] == 2]\n",
    "panier_moyen2 = nb_vente2.price.sum()/nb_vente2.session_id.count()\n",
    "print('panier moyen categorie 2:', panier_moyen2.round(2))"
   ]
  },
  {
   "cell_type": "markdown",
   "metadata": {},
   "source": [
    "#### Conclusion: L’analyse du CA par catégories, nous permet de validé le classement des catégories 2<0<1. Mais également de comprendre pourquoi la catégorie 2 est sous représenté dans le CA par rapport aux 2 autres. Cela est dû aux produits plus onéreux de cette catégorie. Le test de student effectué nous indique l’influence de la catégorie dans le chiffre généré.\n",
    "\n",
    "\n",
    "#### Axe d’amélioration: Pour améliorer notre CA, d’après les dernières observation. Il faut mieux encadrer les prix des différents articles dans la catégories 2. Cela aura pour conséquence d’avoir plus de ventes pour cette catégories."
   ]
  },
  {
   "cell_type": "markdown",
   "metadata": {},
   "source": [
    "### 3) Analyse sur le profil clients et la répartition du chiffre d'affaire:"
   ]
  },
  {
   "cell_type": "markdown",
   "metadata": {},
   "source": [
    "#### Etude en fonction du genre"
   ]
  },
  {
   "cell_type": "code",
   "execution_count": 582,
   "metadata": {},
   "outputs": [
    {
     "data": {
      "text/html": [
       "<div>\n",
       "<style scoped>\n",
       "    .dataframe tbody tr th:only-of-type {\n",
       "        vertical-align: middle;\n",
       "    }\n",
       "\n",
       "    .dataframe tbody tr th {\n",
       "        vertical-align: top;\n",
       "    }\n",
       "\n",
       "    .dataframe thead th {\n",
       "        text-align: right;\n",
       "    }\n",
       "</style>\n",
       "<table border=\"1\" class=\"dataframe\">\n",
       "  <thead>\n",
       "    <tr style=\"text-align: right;\">\n",
       "      <th></th>\n",
       "      <th>categ</th>\n",
       "      <th>sex</th>\n",
       "      <th>ca</th>\n",
       "    </tr>\n",
       "  </thead>\n",
       "  <tbody>\n",
       "    <tr>\n",
       "      <th>0</th>\n",
       "      <td>0.0</td>\n",
       "      <td>f</td>\n",
       "      <td>2.090415e+06</td>\n",
       "    </tr>\n",
       "    <tr>\n",
       "      <th>1</th>\n",
       "      <td>0.0</td>\n",
       "      <td>m</td>\n",
       "      <td>2.125250e+06</td>\n",
       "    </tr>\n",
       "    <tr>\n",
       "      <th>2</th>\n",
       "      <td>1.0</td>\n",
       "      <td>f</td>\n",
       "      <td>2.339170e+06</td>\n",
       "    </tr>\n",
       "    <tr>\n",
       "      <th>3</th>\n",
       "      <td>1.0</td>\n",
       "      <td>m</td>\n",
       "      <td>2.275215e+06</td>\n",
       "    </tr>\n",
       "    <tr>\n",
       "      <th>4</th>\n",
       "      <td>2.0</td>\n",
       "      <td>f</td>\n",
       "      <td>1.267843e+06</td>\n",
       "    </tr>\n",
       "  </tbody>\n",
       "</table>\n",
       "</div>"
      ],
      "text/plain": [
       "   categ sex            ca\n",
       "0    0.0   f  2.090415e+06\n",
       "1    0.0   m  2.125250e+06\n",
       "2    1.0   f  2.339170e+06\n",
       "3    1.0   m  2.275215e+06\n",
       "4    2.0   f  1.267843e+06"
      ]
     },
     "execution_count": 582,
     "metadata": {},
     "output_type": "execute_result"
    }
   ],
   "source": [
    "#Dataframe:\n",
    "df2 = df.groupby(['categ', 'sex']).price.sum().reset_index()\n",
    "df2 = df2.rename(columns={'price' : 'ca'})\n",
    "df2.head()"
   ]
  },
  {
   "cell_type": "code",
   "execution_count": 583,
   "metadata": {},
   "outputs": [
    {
     "data": {
      "text/html": [
       "<div>\n",
       "<style scoped>\n",
       "    .dataframe tbody tr th:only-of-type {\n",
       "        vertical-align: middle;\n",
       "    }\n",
       "\n",
       "    .dataframe tbody tr th {\n",
       "        vertical-align: top;\n",
       "    }\n",
       "\n",
       "    .dataframe thead th {\n",
       "        text-align: right;\n",
       "    }\n",
       "</style>\n",
       "<table border=\"1\" class=\"dataframe\">\n",
       "  <thead>\n",
       "    <tr style=\"text-align: right;\">\n",
       "      <th></th>\n",
       "      <th>categ</th>\n",
       "      <th>ca</th>\n",
       "    </tr>\n",
       "  </thead>\n",
       "  <tbody>\n",
       "    <tr>\n",
       "      <th>0</th>\n",
       "      <td>0.0</td>\n",
       "      <td>2.125250e+06</td>\n",
       "    </tr>\n",
       "    <tr>\n",
       "      <th>1</th>\n",
       "      <td>1.0</td>\n",
       "      <td>2.275215e+06</td>\n",
       "    </tr>\n",
       "    <tr>\n",
       "      <th>2</th>\n",
       "      <td>2.0</td>\n",
       "      <td>1.418256e+06</td>\n",
       "    </tr>\n",
       "  </tbody>\n",
       "</table>\n",
       "</div>"
      ],
      "text/plain": [
       "   categ            ca\n",
       "0    0.0  2.125250e+06\n",
       "1    1.0  2.275215e+06\n",
       "2    2.0  1.418256e+06"
      ]
     },
     "execution_count": 583,
     "metadata": {},
     "output_type": "execute_result"
    }
   ],
   "source": [
    "#Cas sex Homme:\n",
    "df_h = df2[df2['sex'] == 'm'].groupby('categ').ca.sum().reset_index()\n",
    "df_h.head()"
   ]
  },
  {
   "cell_type": "code",
   "execution_count": 584,
   "metadata": {},
   "outputs": [
    {
     "data": {
      "text/html": [
       "<div>\n",
       "<style scoped>\n",
       "    .dataframe tbody tr th:only-of-type {\n",
       "        vertical-align: middle;\n",
       "    }\n",
       "\n",
       "    .dataframe tbody tr th {\n",
       "        vertical-align: top;\n",
       "    }\n",
       "\n",
       "    .dataframe thead th {\n",
       "        text-align: right;\n",
       "    }\n",
       "</style>\n",
       "<table border=\"1\" class=\"dataframe\">\n",
       "  <thead>\n",
       "    <tr style=\"text-align: right;\">\n",
       "      <th></th>\n",
       "      <th>categ</th>\n",
       "      <th>ca</th>\n",
       "    </tr>\n",
       "  </thead>\n",
       "  <tbody>\n",
       "    <tr>\n",
       "      <th>0</th>\n",
       "      <td>0.0</td>\n",
       "      <td>2.090415e+06</td>\n",
       "    </tr>\n",
       "    <tr>\n",
       "      <th>1</th>\n",
       "      <td>1.0</td>\n",
       "      <td>2.339170e+06</td>\n",
       "    </tr>\n",
       "    <tr>\n",
       "      <th>2</th>\n",
       "      <td>2.0</td>\n",
       "      <td>1.267843e+06</td>\n",
       "    </tr>\n",
       "  </tbody>\n",
       "</table>\n",
       "</div>"
      ],
      "text/plain": [
       "   categ            ca\n",
       "0    0.0  2.090415e+06\n",
       "1    1.0  2.339170e+06\n",
       "2    2.0  1.267843e+06"
      ]
     },
     "execution_count": 584,
     "metadata": {},
     "output_type": "execute_result"
    }
   ],
   "source": [
    "#Cas sex femme:\n",
    "df_f = df2[df2['sex'] == 'f'].groupby('categ').ca.sum().reset_index()\n",
    "df_f.head()"
   ]
  },
  {
   "cell_type": "code",
   "execution_count": 585,
   "metadata": {},
   "outputs": [
    {
     "name": "stdout",
     "output_type": "stream",
     "text": [
      "chiffre homme: 5818721.08\n"
     ]
    }
   ],
   "source": [
    "#Chiffre homme:\n",
    "print('chiffre homme:', df_h.ca.sum().round(2))"
   ]
  },
  {
   "cell_type": "code",
   "execution_count": 586,
   "metadata": {},
   "outputs": [
    {
     "name": "stdout",
     "output_type": "stream",
     "text": [
      "chiffre femme: 5697428.38\n"
     ]
    }
   ],
   "source": [
    "#Chiffre femme:\n",
    "print('chiffre femme:', df_f.ca.sum().round(2))"
   ]
  },
  {
   "cell_type": "code",
   "execution_count": 587,
   "metadata": {},
   "outputs": [
    {
     "data": {
      "image/png": "[encoded data removed]",
      "text/plain": [
       "<Figure size 720x360 with 1 Axes>"
      ]
     },
     "metadata": {},
     "output_type": "display_data"
    }
   ],
   "source": [
    "#Visualisation:\n",
    "fig = plt.subplots(figsize=(10, 5))\n",
    "sns.set_theme(style='darkgrid')\n",
    "sns.diverging_palette(250, 30, l=65, center=\"dark\", as_cmap=True)\n",
    "\n",
    "sns.barplot(data=df2, x='categ', y='ca', hue='sex', palette='viridis')\n",
    "\n",
    "plt.title(\"CA réalisé par catégories en fonction du genre\")\n",
    "\n",
    "plt.show()"
   ]
  },
  {
   "cell_type": "code",
   "execution_count": 588,
   "metadata": {},
   "outputs": [
    {
     "data": {
      "text/html": [
       "<div>\n",
       "<style scoped>\n",
       "    .dataframe tbody tr th:only-of-type {\n",
       "        vertical-align: middle;\n",
       "    }\n",
       "\n",
       "    .dataframe tbody tr th {\n",
       "        vertical-align: top;\n",
       "    }\n",
       "\n",
       "    .dataframe thead tr th {\n",
       "        text-align: left;\n",
       "    }\n",
       "\n",
       "    .dataframe thead tr:last-of-type th {\n",
       "        text-align: right;\n",
       "    }\n",
       "</style>\n",
       "<table border=\"1\" class=\"dataframe\">\n",
       "  <thead>\n",
       "    <tr>\n",
       "      <th></th>\n",
       "      <th colspan=\"2\" halign=\"left\">session_id</th>\n",
       "    </tr>\n",
       "    <tr>\n",
       "      <th>sex</th>\n",
       "      <th>f</th>\n",
       "      <th>m</th>\n",
       "    </tr>\n",
       "    <tr>\n",
       "      <th>categ</th>\n",
       "      <th></th>\n",
       "      <th></th>\n",
       "    </tr>\n",
       "  </thead>\n",
       "  <tbody>\n",
       "    <tr>\n",
       "      <th>0.0</th>\n",
       "      <td>196745</td>\n",
       "      <td>199522</td>\n",
       "    </tr>\n",
       "    <tr>\n",
       "      <th>1.0</th>\n",
       "      <td>113948</td>\n",
       "      <td>111279</td>\n",
       "    </tr>\n",
       "    <tr>\n",
       "      <th>2.0</th>\n",
       "      <td>16697</td>\n",
       "      <td>18519</td>\n",
       "    </tr>\n",
       "  </tbody>\n",
       "</table>\n",
       "</div>"
      ],
      "text/plain": [
       "      session_id        \n",
       "sex            f       m\n",
       "categ                   \n",
       "0.0       196745  199522\n",
       "1.0       113948  111279\n",
       "2.0        16697   18519"
      ]
     },
     "execution_count": 588,
     "metadata": {},
     "output_type": "execute_result"
    }
   ],
   "source": [
    "#Tableau de contingence:\n",
    "test1 = df[['categ', 'sex', 'session_id']]\n",
    "test1 = pd.pivot_table(test1, index=['categ'], columns=['sex'], values=['session_id'], aggfunc='count')\n",
    "test1"
   ]
  },
  {
   "cell_type": "code",
   "execution_count": 589,
   "metadata": {},
   "outputs": [
    {
     "name": "stdout",
     "output_type": "stream",
     "text": [
      "p_value: 4.654041575702618e-31\n"
     ]
    }
   ],
   "source": [
    "#Test statistique (Chi2):\n",
    "chi2, pval, dof, expected = chi2_contingency(test1)\n",
    "print('p_value:', pval)"
   ]
  },
  {
   "cell_type": "markdown",
   "metadata": {},
   "source": [
    "#### Conclusion: L’analyse par genre nous indique que le CA est bien répartie en fonction du genre. En revanche, on peut observé une légère disparité concernant l’intérêt des hommes et des femmes sur le choix des catégories d’achat. Le test du Chi2, nous indique bien une influence du sex concernant le chiffre généré par categories.\n",
    "\n",
    "#### Axe d’amélioration: On pourrait suggérer à nos clients de sex féminin, des articles de la catégorie 1 et à nos clients de sex masculin, des articles de catégories 0 ou 2."
   ]
  },
  {
   "cell_type": "markdown",
   "metadata": {},
   "source": [
    "#### Lien entre l'année de naissance et le panier moyen:"
   ]
  },
  {
   "cell_type": "code",
   "execution_count": 590,
   "metadata": {},
   "outputs": [
    {
     "data": {
      "text/html": [
       "<div>\n",
       "<style scoped>\n",
       "    .dataframe tbody tr th:only-of-type {\n",
       "        vertical-align: middle;\n",
       "    }\n",
       "\n",
       "    .dataframe tbody tr th {\n",
       "        vertical-align: top;\n",
       "    }\n",
       "\n",
       "    .dataframe thead th {\n",
       "        text-align: right;\n",
       "    }\n",
       "</style>\n",
       "<table border=\"1\" class=\"dataframe\">\n",
       "  <thead>\n",
       "    <tr style=\"text-align: right;\">\n",
       "      <th></th>\n",
       "      <th>birth</th>\n",
       "      <th>mean</th>\n",
       "    </tr>\n",
       "  </thead>\n",
       "  <tbody>\n",
       "    <tr>\n",
       "      <th>0</th>\n",
       "      <td>1929</td>\n",
       "      <td>16.065729</td>\n",
       "    </tr>\n",
       "    <tr>\n",
       "      <th>1</th>\n",
       "      <td>1930</td>\n",
       "      <td>17.834414</td>\n",
       "    </tr>\n",
       "    <tr>\n",
       "      <th>2</th>\n",
       "      <td>1931</td>\n",
       "      <td>16.409695</td>\n",
       "    </tr>\n",
       "    <tr>\n",
       "      <th>3</th>\n",
       "      <td>1932</td>\n",
       "      <td>16.394676</td>\n",
       "    </tr>\n",
       "    <tr>\n",
       "      <th>4</th>\n",
       "      <td>1933</td>\n",
       "      <td>16.175096</td>\n",
       "    </tr>\n",
       "  </tbody>\n",
       "</table>\n",
       "</div>"
      ],
      "text/plain": [
       "   birth       mean\n",
       "0   1929  16.065729\n",
       "1   1930  17.834414\n",
       "2   1931  16.409695\n",
       "3   1932  16.394676\n",
       "4   1933  16.175096"
      ]
     },
     "execution_count": 590,
     "metadata": {},
     "output_type": "execute_result"
    }
   ],
   "source": [
    "#Dataframe:\n",
    "df_p = df[['birth', 'price']].groupby('birth').price.mean().reset_index()\n",
    "df_p = df_p.rename(columns={'price':'mean'})\n",
    "df_p.head()"
   ]
  },
  {
   "cell_type": "code",
   "execution_count": 591,
   "metadata": {},
   "outputs": [
    {
     "data": {
      "image/png": "[encoded data removed]",
      "text/plain": [
       "<Figure size 576x360 with 1 Axes>"
      ]
     },
     "metadata": {},
     "output_type": "display_data"
    }
   ],
   "source": [
    "#Graphique panier moyen:\n",
    "plt.figure(figsize=(8, 5))\n",
    "sns.set_theme(style='darkgrid')\n",
    "\n",
    "sns.scatterplot(data=df_p, x='birth', y='mean')\n",
    "\n",
    "plt.title('Panier Moyen')\n",
    "\n",
    "plt.legend(labels=(['Panier']))\n",
    "\n",
    "plt.show()  "
   ]
  },
  {
   "cell_type": "markdown",
   "metadata": {},
   "source": [
    "#### Etude par cluster d'age"
   ]
  },
  {
   "cell_type": "code",
   "execution_count": 592,
   "metadata": {},
   "outputs": [
    {
     "data": {
      "text/html": [
       "<div>\n",
       "<style scoped>\n",
       "    .dataframe tbody tr th:only-of-type {\n",
       "        vertical-align: middle;\n",
       "    }\n",
       "\n",
       "    .dataframe tbody tr th {\n",
       "        vertical-align: top;\n",
       "    }\n",
       "\n",
       "    .dataframe thead th {\n",
       "        text-align: right;\n",
       "    }\n",
       "</style>\n",
       "<table border=\"1\" class=\"dataframe\">\n",
       "  <thead>\n",
       "    <tr style=\"text-align: right;\">\n",
       "      <th></th>\n",
       "      <th>categ</th>\n",
       "      <th>birth</th>\n",
       "      <th>ca</th>\n",
       "    </tr>\n",
       "  </thead>\n",
       "  <tbody>\n",
       "    <tr>\n",
       "      <th>0</th>\n",
       "      <td>0.0</td>\n",
       "      <td>1929</td>\n",
       "      <td>691.99</td>\n",
       "    </tr>\n",
       "    <tr>\n",
       "      <th>1</th>\n",
       "      <td>0.0</td>\n",
       "      <td>1930</td>\n",
       "      <td>792.10</td>\n",
       "    </tr>\n",
       "    <tr>\n",
       "      <th>2</th>\n",
       "      <td>0.0</td>\n",
       "      <td>1931</td>\n",
       "      <td>842.82</td>\n",
       "    </tr>\n",
       "    <tr>\n",
       "      <th>3</th>\n",
       "      <td>0.0</td>\n",
       "      <td>1932</td>\n",
       "      <td>1289.36</td>\n",
       "    </tr>\n",
       "    <tr>\n",
       "      <th>4</th>\n",
       "      <td>0.0</td>\n",
       "      <td>1933</td>\n",
       "      <td>1385.00</td>\n",
       "    </tr>\n",
       "  </tbody>\n",
       "</table>\n",
       "</div>"
      ],
      "text/plain": [
       "   categ  birth       ca\n",
       "0    0.0   1929   691.99\n",
       "1    0.0   1930   792.10\n",
       "2    0.0   1931   842.82\n",
       "3    0.0   1932  1289.36\n",
       "4    0.0   1933  1385.00"
      ]
     },
     "execution_count": 592,
     "metadata": {},
     "output_type": "execute_result"
    }
   ],
   "source": [
    "#Dataframe:\n",
    "df3 = df.groupby(['categ', 'birth']).price.sum().reset_index()\n",
    "df3 = df3.rename(columns={'price' : 'ca'})\n",
    "df3.head()"
   ]
  },
  {
   "cell_type": "code",
   "execution_count": 593,
   "metadata": {},
   "outputs": [
    {
     "data": {
      "text/html": [
       "<div>\n",
       "<style scoped>\n",
       "    .dataframe tbody tr th:only-of-type {\n",
       "        vertical-align: middle;\n",
       "    }\n",
       "\n",
       "    .dataframe tbody tr th {\n",
       "        vertical-align: top;\n",
       "    }\n",
       "\n",
       "    .dataframe thead th {\n",
       "        text-align: right;\n",
       "    }\n",
       "</style>\n",
       "<table border=\"1\" class=\"dataframe\">\n",
       "  <thead>\n",
       "    <tr style=\"text-align: right;\">\n",
       "      <th></th>\n",
       "      <th>categ</th>\n",
       "      <th>birth</th>\n",
       "      <th>ca</th>\n",
       "      <th>cluster</th>\n",
       "    </tr>\n",
       "  </thead>\n",
       "  <tbody>\n",
       "    <tr>\n",
       "      <th>0</th>\n",
       "      <td>0.0</td>\n",
       "      <td>1929</td>\n",
       "      <td>691.99</td>\n",
       "      <td>3/ 40+</td>\n",
       "    </tr>\n",
       "    <tr>\n",
       "      <th>1</th>\n",
       "      <td>0.0</td>\n",
       "      <td>1930</td>\n",
       "      <td>792.10</td>\n",
       "      <td>3/ 40+</td>\n",
       "    </tr>\n",
       "    <tr>\n",
       "      <th>2</th>\n",
       "      <td>0.0</td>\n",
       "      <td>1931</td>\n",
       "      <td>842.82</td>\n",
       "      <td>3/ 40+</td>\n",
       "    </tr>\n",
       "    <tr>\n",
       "      <th>3</th>\n",
       "      <td>0.0</td>\n",
       "      <td>1932</td>\n",
       "      <td>1289.36</td>\n",
       "      <td>3/ 40+</td>\n",
       "    </tr>\n",
       "    <tr>\n",
       "      <th>4</th>\n",
       "      <td>0.0</td>\n",
       "      <td>1933</td>\n",
       "      <td>1385.00</td>\n",
       "      <td>3/ 40+</td>\n",
       "    </tr>\n",
       "  </tbody>\n",
       "</table>\n",
       "</div>"
      ],
      "text/plain": [
       "   categ  birth       ca cluster\n",
       "0    0.0   1929   691.99  3/ 40+\n",
       "1    0.0   1930   792.10  3/ 40+\n",
       "2    0.0   1931   842.82  3/ 40+\n",
       "3    0.0   1932  1289.36  3/ 40+\n",
       "4    0.0   1933  1385.00  3/ 40+"
      ]
     },
     "execution_count": 593,
     "metadata": {},
     "output_type": "execute_result"
    }
   ],
   "source": [
    "#Cluster d'age:\n",
    "\n",
    "cluster = []\n",
    "\n",
    "for year in df3['birth']:\n",
    "    if year >= 1996:\n",
    "        year = '1/ <25'\n",
    "    elif year >= 1981: \n",
    "        year = '2/ 25_40'\n",
    "    else:\n",
    "        year = '3/ 40+'\n",
    "    cluster.append(year)\n",
    "\n",
    "\n",
    "df3['cluster'] = cluster\n",
    "df3.head()"
   ]
  },
  {
   "cell_type": "code",
   "execution_count": 594,
   "metadata": {},
   "outputs": [
    {
     "data": {
      "text/html": [
       "<div>\n",
       "<style scoped>\n",
       "    .dataframe tbody tr th:only-of-type {\n",
       "        vertical-align: middle;\n",
       "    }\n",
       "\n",
       "    .dataframe tbody tr th {\n",
       "        vertical-align: top;\n",
       "    }\n",
       "\n",
       "    .dataframe thead th {\n",
       "        text-align: right;\n",
       "    }\n",
       "</style>\n",
       "<table border=\"1\" class=\"dataframe\">\n",
       "  <thead>\n",
       "    <tr style=\"text-align: right;\">\n",
       "      <th></th>\n",
       "      <th>cluster</th>\n",
       "      <th>categ</th>\n",
       "      <th>ca</th>\n",
       "    </tr>\n",
       "  </thead>\n",
       "  <tbody>\n",
       "    <tr>\n",
       "      <th>0</th>\n",
       "      <td>1/ &lt;25</td>\n",
       "      <td>0.0</td>\n",
       "      <td>122359.70</td>\n",
       "    </tr>\n",
       "    <tr>\n",
       "      <th>1</th>\n",
       "      <td>1/ &lt;25</td>\n",
       "      <td>1.0</td>\n",
       "      <td>446659.15</td>\n",
       "    </tr>\n",
       "    <tr>\n",
       "      <th>2</th>\n",
       "      <td>1/ &lt;25</td>\n",
       "      <td>2.0</td>\n",
       "      <td>1805786.97</td>\n",
       "    </tr>\n",
       "    <tr>\n",
       "      <th>3</th>\n",
       "      <td>2/ 25_40</td>\n",
       "      <td>0.0</td>\n",
       "      <td>1706569.79</td>\n",
       "    </tr>\n",
       "    <tr>\n",
       "      <th>4</th>\n",
       "      <td>2/ 25_40</td>\n",
       "      <td>1.0</td>\n",
       "      <td>1185019.77</td>\n",
       "    </tr>\n",
       "  </tbody>\n",
       "</table>\n",
       "</div>"
      ],
      "text/plain": [
       "    cluster  categ          ca\n",
       "0    1/ <25    0.0   122359.70\n",
       "1    1/ <25    1.0   446659.15\n",
       "2    1/ <25    2.0  1805786.97\n",
       "3  2/ 25_40    0.0  1706569.79\n",
       "4  2/ 25_40    1.0  1185019.77"
      ]
     },
     "execution_count": 594,
     "metadata": {},
     "output_type": "execute_result"
    }
   ],
   "source": [
    "df3_c = df3.groupby(['cluster', 'categ']).ca.sum().reset_index()\n",
    "df3_c.head()"
   ]
  },
  {
   "cell_type": "code",
   "execution_count": 595,
   "metadata": {},
   "outputs": [
    {
     "data": {
      "image/png": "[encoded data removed]",
      "text/plain": [
       "<Figure size 720x360 with 1 Axes>"
      ]
     },
     "metadata": {},
     "output_type": "display_data"
    }
   ],
   "source": [
    "#Visualisation:\n",
    "fig = plt.subplots(figsize=(10, 5))\n",
    "sns.set_theme(style='darkgrid')\n",
    "sns.color_palette(\"rocket\")\n",
    "\n",
    "sns.barplot(data=df3_c, x=df3_c.categ, y=df3_c.ca, hue=df3_c.cluster, palette='magma')\n",
    "\n",
    "plt.title(\"CA réalisé par catégories en fonction de l'age\")\n",
    "\n",
    "plt.show()"
   ]
  },
  {
   "cell_type": "code",
   "execution_count": 596,
   "metadata": {},
   "outputs": [
    {
     "data": {
      "text/html": [
       "<div>\n",
       "<style scoped>\n",
       "    .dataframe tbody tr th:only-of-type {\n",
       "        vertical-align: middle;\n",
       "    }\n",
       "\n",
       "    .dataframe tbody tr th {\n",
       "        vertical-align: top;\n",
       "    }\n",
       "\n",
       "    .dataframe thead th {\n",
       "        text-align: right;\n",
       "    }\n",
       "</style>\n",
       "<table border=\"1\" class=\"dataframe\">\n",
       "  <thead>\n",
       "    <tr style=\"text-align: right;\">\n",
       "      <th></th>\n",
       "      <th>cluster</th>\n",
       "      <th>categ</th>\n",
       "      <th>ca</th>\n",
       "    </tr>\n",
       "  </thead>\n",
       "  <tbody>\n",
       "    <tr>\n",
       "      <th>0</th>\n",
       "      <td>1/ &lt;25</td>\n",
       "      <td>0.0</td>\n",
       "      <td>13595.522222</td>\n",
       "    </tr>\n",
       "    <tr>\n",
       "      <th>1</th>\n",
       "      <td>1/ &lt;25</td>\n",
       "      <td>1.0</td>\n",
       "      <td>49628.794444</td>\n",
       "    </tr>\n",
       "    <tr>\n",
       "      <th>2</th>\n",
       "      <td>1/ &lt;25</td>\n",
       "      <td>2.0</td>\n",
       "      <td>200642.996667</td>\n",
       "    </tr>\n",
       "    <tr>\n",
       "      <th>3</th>\n",
       "      <td>2/ 25_40</td>\n",
       "      <td>0.0</td>\n",
       "      <td>113771.319333</td>\n",
       "    </tr>\n",
       "    <tr>\n",
       "      <th>4</th>\n",
       "      <td>2/ 25_40</td>\n",
       "      <td>1.0</td>\n",
       "      <td>79001.318000</td>\n",
       "    </tr>\n",
       "    <tr>\n",
       "      <th>5</th>\n",
       "      <td>2/ 25_40</td>\n",
       "      <td>2.0</td>\n",
       "      <td>45569.431333</td>\n",
       "    </tr>\n",
       "    <tr>\n",
       "      <th>6</th>\n",
       "      <td>3/ 40+</td>\n",
       "      <td>0.0</td>\n",
       "      <td>45898.762115</td>\n",
       "    </tr>\n",
       "    <tr>\n",
       "      <th>7</th>\n",
       "      <td>3/ 40+</td>\n",
       "      <td>1.0</td>\n",
       "      <td>57359.735385</td>\n",
       "    </tr>\n",
       "    <tr>\n",
       "      <th>8</th>\n",
       "      <td>3/ 40+</td>\n",
       "      <td>2.0</td>\n",
       "      <td>3784.052692</td>\n",
       "    </tr>\n",
       "  </tbody>\n",
       "</table>\n",
       "</div>"
      ],
      "text/plain": [
       "    cluster  categ             ca\n",
       "0    1/ <25    0.0   13595.522222\n",
       "1    1/ <25    1.0   49628.794444\n",
       "2    1/ <25    2.0  200642.996667\n",
       "3  2/ 25_40    0.0  113771.319333\n",
       "4  2/ 25_40    1.0   79001.318000\n",
       "5  2/ 25_40    2.0   45569.431333\n",
       "6    3/ 40+    0.0   45898.762115\n",
       "7    3/ 40+    1.0   57359.735385\n",
       "8    3/ 40+    2.0    3784.052692"
      ]
     },
     "execution_count": 596,
     "metadata": {},
     "output_type": "execute_result"
    }
   ],
   "source": [
    "test2 = df3.groupby(['cluster', 'categ']).ca.mean().reset_index()\n",
    "test2"
   ]
  },
  {
   "cell_type": "code",
   "execution_count": 597,
   "metadata": {},
   "outputs": [
    {
     "data": {
      "text/html": [
       "<div>\n",
       "<style scoped>\n",
       "    .dataframe tbody tr th:only-of-type {\n",
       "        vertical-align: middle;\n",
       "    }\n",
       "\n",
       "    .dataframe tbody tr th {\n",
       "        vertical-align: top;\n",
       "    }\n",
       "\n",
       "    .dataframe thead th {\n",
       "        text-align: right;\n",
       "    }\n",
       "</style>\n",
       "<table border=\"1\" class=\"dataframe\">\n",
       "  <thead>\n",
       "    <tr style=\"text-align: right;\">\n",
       "      <th>cluster</th>\n",
       "      <th>1/ &lt;25</th>\n",
       "      <th>2/ 25_40</th>\n",
       "      <th>3/ 40+</th>\n",
       "    </tr>\n",
       "    <tr>\n",
       "      <th>categ</th>\n",
       "      <th></th>\n",
       "      <th></th>\n",
       "      <th></th>\n",
       "    </tr>\n",
       "  </thead>\n",
       "  <tbody>\n",
       "    <tr>\n",
       "      <th>0.0</th>\n",
       "      <td>13595.522222</td>\n",
       "      <td>113771.319333</td>\n",
       "      <td>45898.762115</td>\n",
       "    </tr>\n",
       "    <tr>\n",
       "      <th>1.0</th>\n",
       "      <td>49628.794444</td>\n",
       "      <td>79001.318000</td>\n",
       "      <td>57359.735385</td>\n",
       "    </tr>\n",
       "    <tr>\n",
       "      <th>2.0</th>\n",
       "      <td>200642.996667</td>\n",
       "      <td>45569.431333</td>\n",
       "      <td>3784.052692</td>\n",
       "    </tr>\n",
       "  </tbody>\n",
       "</table>\n",
       "</div>"
      ],
      "text/plain": [
       "cluster         1/ <25       2/ 25_40        3/ 40+\n",
       "categ                                              \n",
       "0.0       13595.522222  113771.319333  45898.762115\n",
       "1.0       49628.794444   79001.318000  57359.735385\n",
       "2.0      200642.996667   45569.431333   3784.052692"
      ]
     },
     "execution_count": 597,
     "metadata": {},
     "output_type": "execute_result"
    }
   ],
   "source": [
    "#Tableau de contingence:\n",
    "test2_1 = pd.pivot_table(test2, index='categ', columns='cluster', values='ca')\n",
    "test2_1"
   ]
  },
  {
   "cell_type": "code",
   "execution_count": 598,
   "metadata": {},
   "outputs": [
    {
     "name": "stdout",
     "output_type": "stream",
     "text": [
      "p_value: 0.0\n"
     ]
    }
   ],
   "source": [
    "#Test statistique (Chi2):\n",
    "chi2, pval, dof, expected = chi2_contingency(test2_1)\n",
    "print('p_value:', pval)"
   ]
  },
  {
   "cell_type": "code",
   "execution_count": 599,
   "metadata": {},
   "outputs": [
    {
     "data": {
      "text/html": [
       "<div>\n",
       "<style scoped>\n",
       "    .dataframe tbody tr th:only-of-type {\n",
       "        vertical-align: middle;\n",
       "    }\n",
       "\n",
       "    .dataframe tbody tr th {\n",
       "        vertical-align: top;\n",
       "    }\n",
       "\n",
       "    .dataframe thead th {\n",
       "        text-align: right;\n",
       "    }\n",
       "</style>\n",
       "<table border=\"1\" class=\"dataframe\">\n",
       "  <thead>\n",
       "    <tr style=\"text-align: right;\">\n",
       "      <th></th>\n",
       "      <th>cluster</th>\n",
       "      <th>ca</th>\n",
       "    </tr>\n",
       "  </thead>\n",
       "  <tbody>\n",
       "    <tr>\n",
       "      <th>0</th>\n",
       "      <td>1/ &lt;25</td>\n",
       "      <td>2374805.82</td>\n",
       "    </tr>\n",
       "    <tr>\n",
       "      <th>1</th>\n",
       "      <td>2/ 25_40</td>\n",
       "      <td>3575131.03</td>\n",
       "    </tr>\n",
       "    <tr>\n",
       "      <th>2</th>\n",
       "      <td>3/ 40+</td>\n",
       "      <td>5566212.61</td>\n",
       "    </tr>\n",
       "  </tbody>\n",
       "</table>\n",
       "</div>"
      ],
      "text/plain": [
       "    cluster          ca\n",
       "0    1/ <25  2374805.82\n",
       "1  2/ 25_40  3575131.03\n",
       "2    3/ 40+  5566212.61"
      ]
     },
     "execution_count": 599,
     "metadata": {},
     "output_type": "execute_result"
    }
   ],
   "source": [
    "#CA par tranche d'age:\n",
    "df3_c2 = df3_c.groupby('cluster').ca.sum().reset_index()\n",
    "df3_c2"
   ]
  },
  {
   "cell_type": "markdown",
   "metadata": {},
   "source": [
    "#### Analyse sur l'année de naissance et le montant total:"
   ]
  },
  {
   "cell_type": "code",
   "execution_count": 600,
   "metadata": {},
   "outputs": [
    {
     "data": {
      "text/html": [
       "<div>\n",
       "<style scoped>\n",
       "    .dataframe tbody tr th:only-of-type {\n",
       "        vertical-align: middle;\n",
       "    }\n",
       "\n",
       "    .dataframe tbody tr th {\n",
       "        vertical-align: top;\n",
       "    }\n",
       "\n",
       "    .dataframe thead th {\n",
       "        text-align: right;\n",
       "    }\n",
       "</style>\n",
       "<table border=\"1\" class=\"dataframe\">\n",
       "  <thead>\n",
       "    <tr style=\"text-align: right;\">\n",
       "      <th></th>\n",
       "      <th>birth</th>\n",
       "      <th>ca</th>\n",
       "    </tr>\n",
       "  </thead>\n",
       "  <tbody>\n",
       "    <tr>\n",
       "      <th>0</th>\n",
       "      <td>1929</td>\n",
       "      <td>3197.08</td>\n",
       "    </tr>\n",
       "    <tr>\n",
       "      <th>1</th>\n",
       "      <td>1930</td>\n",
       "      <td>3959.24</td>\n",
       "    </tr>\n",
       "    <tr>\n",
       "      <th>2</th>\n",
       "      <td>1931</td>\n",
       "      <td>2691.19</td>\n",
       "    </tr>\n",
       "    <tr>\n",
       "      <th>3</th>\n",
       "      <td>1932</td>\n",
       "      <td>4803.64</td>\n",
       "    </tr>\n",
       "    <tr>\n",
       "      <th>4</th>\n",
       "      <td>1933</td>\n",
       "      <td>5078.98</td>\n",
       "    </tr>\n",
       "  </tbody>\n",
       "</table>\n",
       "</div>"
      ],
      "text/plain": [
       "   birth       ca\n",
       "0   1929  3197.08\n",
       "1   1930  3959.24\n",
       "2   1931  2691.19\n",
       "3   1932  4803.64\n",
       "4   1933  5078.98"
      ]
     },
     "execution_count": 600,
     "metadata": {},
     "output_type": "execute_result"
    }
   ],
   "source": [
    "#Dataframe groupé par année de naissance:\n",
    "df_a = df3.groupby('birth').ca.sum().reset_index()\n",
    "df_a.head()"
   ]
  },
  {
   "cell_type": "code",
   "execution_count": 601,
   "metadata": {},
   "outputs": [
    {
     "data": {
      "image/png": "[encoded data removed]",
      "text/plain": [
       "<Figure size 576x360 with 1 Axes>"
      ]
     },
     "metadata": {},
     "output_type": "display_data"
    }
   ],
   "source": [
    "#Graphique groupé par année de naissance:\n",
    "plt.figure(figsize=(8, 5))\n",
    "sns.set_theme(style='darkgrid')\n",
    "\n",
    "sns.scatterplot(data=df_a, x='birth', y='ca')\n",
    "\n",
    "plt.title('Dépenses')\n",
    "\n",
    "plt.legend(labels=(['Panier']))\n",
    "\n",
    "plt.show()       "
   ]
  },
  {
   "cell_type": "code",
   "execution_count": 602,
   "metadata": {},
   "outputs": [
    {
     "name": "stdout",
     "output_type": "stream",
     "text": [
      "corrélation: 0.7789832592133058\n"
     ]
    }
   ],
   "source": [
    "#test de corrélation (pearson):\n",
    "t, p = pearsonr(df_a.birth, df_a.ca)\n",
    "print('corrélation:', t)"
   ]
  },
  {
   "cell_type": "code",
   "execution_count": 603,
   "metadata": {},
   "outputs": [
    {
     "data": {
      "text/html": [
       "<div>\n",
       "<style scoped>\n",
       "    .dataframe tbody tr th:only-of-type {\n",
       "        vertical-align: middle;\n",
       "    }\n",
       "\n",
       "    .dataframe tbody tr th {\n",
       "        vertical-align: top;\n",
       "    }\n",
       "\n",
       "    .dataframe thead th {\n",
       "        text-align: right;\n",
       "    }\n",
       "</style>\n",
       "<table border=\"1\" class=\"dataframe\">\n",
       "  <thead>\n",
       "    <tr style=\"text-align: right;\">\n",
       "      <th></th>\n",
       "      <th>birth</th>\n",
       "      <th>ca</th>\n",
       "    </tr>\n",
       "  </thead>\n",
       "  <tbody>\n",
       "    <tr>\n",
       "      <th>0</th>\n",
       "      <td>1929</td>\n",
       "      <td>3197.08</td>\n",
       "    </tr>\n",
       "    <tr>\n",
       "      <th>1</th>\n",
       "      <td>1930</td>\n",
       "      <td>3959.24</td>\n",
       "    </tr>\n",
       "    <tr>\n",
       "      <th>2</th>\n",
       "      <td>1931</td>\n",
       "      <td>2691.19</td>\n",
       "    </tr>\n",
       "    <tr>\n",
       "      <th>3</th>\n",
       "      <td>1932</td>\n",
       "      <td>4803.64</td>\n",
       "    </tr>\n",
       "    <tr>\n",
       "      <th>4</th>\n",
       "      <td>1933</td>\n",
       "      <td>5078.98</td>\n",
       "    </tr>\n",
       "  </tbody>\n",
       "</table>\n",
       "</div>"
      ],
      "text/plain": [
       "   birth       ca\n",
       "0   1929  3197.08\n",
       "1   1930  3959.24\n",
       "2   1931  2691.19\n",
       "3   1932  4803.64\n",
       "4   1933  5078.98"
      ]
     },
     "execution_count": 603,
     "metadata": {},
     "output_type": "execute_result"
    }
   ],
   "source": [
    "#Vérification de la corrélation pour l'année de naissance <= 1980:\n",
    "df_a2 = df_a[df_a['birth'] <= 1980]\n",
    "df_a2.head()"
   ]
  },
  {
   "cell_type": "code",
   "execution_count": 604,
   "metadata": {},
   "outputs": [
    {
     "data": {
      "image/png": "[encoded data removed]",
      "text/plain": [
       "<Figure size 576x360 with 1 Axes>"
      ]
     },
     "metadata": {},
     "output_type": "display_data"
    }
   ],
   "source": [
    "#Graphique groupé par année de naissance:\n",
    "plt.figure(figsize=(8, 5))\n",
    "sns.set_theme(style='darkgrid')\n",
    "\n",
    "sns.scatterplot(data=df_a2, x='birth', y='ca')\n",
    "\n",
    "plt.title('Dépenses')\n",
    "\n",
    "plt.legend(labels=(['Panier']))\n",
    "\n",
    "plt.show() "
   ]
  },
  {
   "cell_type": "code",
   "execution_count": 605,
   "metadata": {},
   "outputs": [
    {
     "name": "stdout",
     "output_type": "stream",
     "text": [
      "corrélation: 0.8478060785507859\n"
     ]
    }
   ],
   "source": [
    "#test de corrélation (pearsonr):\n",
    "t, p = pearsonr(df_a2.ca, df_a2.birth)\n",
    "print('corrélation:', t)"
   ]
  },
  {
   "cell_type": "markdown",
   "metadata": {},
   "source": [
    "#### Lien entre l'année de naissance et la fréquence d'achat:"
   ]
  },
  {
   "cell_type": "code",
   "execution_count": 606,
   "metadata": {},
   "outputs": [
    {
     "data": {
      "text/html": [
       "<div>\n",
       "<style scoped>\n",
       "    .dataframe tbody tr th:only-of-type {\n",
       "        vertical-align: middle;\n",
       "    }\n",
       "\n",
       "    .dataframe tbody tr th {\n",
       "        vertical-align: top;\n",
       "    }\n",
       "\n",
       "    .dataframe thead th {\n",
       "        text-align: right;\n",
       "    }\n",
       "</style>\n",
       "<table border=\"1\" class=\"dataframe\">\n",
       "  <thead>\n",
       "    <tr style=\"text-align: right;\">\n",
       "      <th></th>\n",
       "      <th>id_prod</th>\n",
       "      <th>date</th>\n",
       "      <th>session_id</th>\n",
       "      <th>client_id</th>\n",
       "      <th>reference</th>\n",
       "      <th>heure</th>\n",
       "      <th>year</th>\n",
       "      <th>month</th>\n",
       "      <th>day</th>\n",
       "      <th>price</th>\n",
       "      <th>categ</th>\n",
       "      <th>sex</th>\n",
       "      <th>birth</th>\n",
       "      <th>cluster</th>\n",
       "    </tr>\n",
       "  </thead>\n",
       "  <tbody>\n",
       "    <tr>\n",
       "      <th>0</th>\n",
       "      <td>0_1518</td>\n",
       "      <td>2022-05-20</td>\n",
       "      <td>s_211425</td>\n",
       "      <td>c_103</td>\n",
       "      <td>43970</td>\n",
       "      <td>13:21:29</td>\n",
       "      <td>2022</td>\n",
       "      <td>5</td>\n",
       "      <td>20</td>\n",
       "      <td>4.18</td>\n",
       "      <td>0.0</td>\n",
       "      <td>f</td>\n",
       "      <td>1986</td>\n",
       "      <td>2/ 25_40</td>\n",
       "    </tr>\n",
       "    <tr>\n",
       "      <th>1</th>\n",
       "      <td>1_251</td>\n",
       "      <td>2022-02-02</td>\n",
       "      <td>s_158752</td>\n",
       "      <td>c_8534</td>\n",
       "      <td>149409</td>\n",
       "      <td>07:55:19</td>\n",
       "      <td>2022</td>\n",
       "      <td>2</td>\n",
       "      <td>2</td>\n",
       "      <td>15.99</td>\n",
       "      <td>1.0</td>\n",
       "      <td>m</td>\n",
       "      <td>1988</td>\n",
       "      <td>2/ 25_40</td>\n",
       "    </tr>\n",
       "    <tr>\n",
       "      <th>2</th>\n",
       "      <td>0_1277</td>\n",
       "      <td>2022-06-18</td>\n",
       "      <td>s_225667</td>\n",
       "      <td>c_6714</td>\n",
       "      <td>155329</td>\n",
       "      <td>15:44:33</td>\n",
       "      <td>2022</td>\n",
       "      <td>6</td>\n",
       "      <td>18</td>\n",
       "      <td>7.99</td>\n",
       "      <td>0.0</td>\n",
       "      <td>f</td>\n",
       "      <td>1968</td>\n",
       "      <td>3/ 40+</td>\n",
       "    </tr>\n",
       "    <tr>\n",
       "      <th>3</th>\n",
       "      <td>2_209</td>\n",
       "      <td>2021-06-24</td>\n",
       "      <td>s_52962</td>\n",
       "      <td>c_6941</td>\n",
       "      <td>835891</td>\n",
       "      <td>04:19:29</td>\n",
       "      <td>2021</td>\n",
       "      <td>6</td>\n",
       "      <td>24</td>\n",
       "      <td>69.99</td>\n",
       "      <td>2.0</td>\n",
       "      <td>m</td>\n",
       "      <td>2000</td>\n",
       "      <td>1/ &lt;25</td>\n",
       "    </tr>\n",
       "    <tr>\n",
       "      <th>4</th>\n",
       "      <td>0_1509</td>\n",
       "      <td>2023-01-11</td>\n",
       "      <td>s_325227</td>\n",
       "      <td>c_4232</td>\n",
       "      <td>194479</td>\n",
       "      <td>08:22:08</td>\n",
       "      <td>2023</td>\n",
       "      <td>1</td>\n",
       "      <td>11</td>\n",
       "      <td>4.99</td>\n",
       "      <td>0.0</td>\n",
       "      <td>m</td>\n",
       "      <td>1980</td>\n",
       "      <td>3/ 40+</td>\n",
       "    </tr>\n",
       "  </tbody>\n",
       "</table>\n",
       "</div>"
      ],
      "text/plain": [
       "  id_prod       date session_id client_id  reference     heure  year  month  \\\n",
       "0  0_1518 2022-05-20   s_211425     c_103      43970  13:21:29  2022      5   \n",
       "1   1_251 2022-02-02   s_158752    c_8534     149409  07:55:19  2022      2   \n",
       "2  0_1277 2022-06-18   s_225667    c_6714     155329  15:44:33  2022      6   \n",
       "3   2_209 2021-06-24    s_52962    c_6941     835891  04:19:29  2021      6   \n",
       "4  0_1509 2023-01-11   s_325227    c_4232     194479  08:22:08  2023      1   \n",
       "\n",
       "   day  price  categ sex  birth   cluster  \n",
       "0   20   4.18    0.0   f   1986  2/ 25_40  \n",
       "1    2  15.99    1.0   m   1988  2/ 25_40  \n",
       "2   18   7.99    0.0   f   1968    3/ 40+  \n",
       "3   24  69.99    2.0   m   2000    1/ <25  \n",
       "4   11   4.99    0.0   m   1980    3/ 40+  "
      ]
     },
     "execution_count": 606,
     "metadata": {},
     "output_type": "execute_result"
    }
   ],
   "source": [
    "#Cluster d'age:\n",
    "\n",
    "cluster = []\n",
    "\n",
    "for year in df['birth']:\n",
    "    if year >= 1996:\n",
    "        year = '1/ <25'\n",
    "    elif year >= 1981:\n",
    "        year = '2/ 25_40'\n",
    "    else:\n",
    "        year = '3/ 40+'\n",
    "    cluster.append(year)\n",
    "\n",
    "df['cluster'] = cluster\n",
    "df.head()"
   ]
  },
  {
   "cell_type": "code",
   "execution_count": 607,
   "metadata": {},
   "outputs": [
    {
     "data": {
      "text/plain": [
       "cluster\n",
       "1/ <25      10.96\n",
       "2/ 25_40    20.88\n",
       "3/ 40+      23.33\n",
       "dtype: float64"
      ]
     },
     "execution_count": 607,
     "metadata": {},
     "output_type": "execute_result"
    }
   ],
   "source": [
    "#Calcul de la fréquence d'achat pour 2022:\n",
    "df_a2 = df[['session_id', 'cluster', 'client_id', 'price', 'year']]\n",
    "nb_transaction = df_a2[df_a2['year']== 2022].groupby('cluster').session_id.nunique()\n",
    "nb_client = df_a2.groupby('cluster').client_id.nunique()\n",
    "frequence = nb_transaction / nb_client\n",
    "frequence.round(2)"
   ]
  },
  {
   "cell_type": "markdown",
   "metadata": {},
   "source": [
    "#### Conclusion: L’analyse par cluster d'âge est intéressante, elle permet de faire ressortir plusieurs informations. En effet, on peut observer que la majeur partie du CA est réalisé par les 25_40 et 40+. Que ces 2 clusters sont sur-représentés dans les categories 1 et 0. En revanche le cluster <25 est en tête dans la catégorie 2.\n",
    "\n",
    "\n",
    "#### Axe d’amélioration: D’un point de vue marketing, pour en améliorer nos ventes et faire croitre notre CA. Il serait judicieux de proposer des articles en fonction du cluster d’age. Mais aussi, de réaliser des campagnes promotionnelles sur la catégorie 2. Car nos clients, les plus susceptibles d’acheter de la catégorie2, sont également ceux qui ont le moins de pouvoir d’achat. Et, on sait également que la catégorie 2 est la catégorie qui propose les articles, les plus onéreux."
   ]
  },
  {
   "cell_type": "markdown",
   "metadata": {},
   "source": [
    "### 4) Visualisation à l'aide d'une courbe de lorentz:"
   ]
  },
  {
   "cell_type": "markdown",
   "metadata": {},
   "source": [
    "#### Courbe de lorentz:"
   ]
  },
  {
   "cell_type": "code",
   "execution_count": 608,
   "metadata": {},
   "outputs": [
    {
     "data": {
      "text/html": [
       "<div>\n",
       "<style scoped>\n",
       "    .dataframe tbody tr th:only-of-type {\n",
       "        vertical-align: middle;\n",
       "    }\n",
       "\n",
       "    .dataframe tbody tr th {\n",
       "        vertical-align: top;\n",
       "    }\n",
       "\n",
       "    .dataframe thead th {\n",
       "        text-align: right;\n",
       "    }\n",
       "</style>\n",
       "<table border=\"1\" class=\"dataframe\">\n",
       "  <thead>\n",
       "    <tr style=\"text-align: right;\">\n",
       "      <th></th>\n",
       "      <th>client_id</th>\n",
       "      <th>price</th>\n",
       "    </tr>\n",
       "  </thead>\n",
       "  <tbody>\n",
       "    <tr>\n",
       "      <th>677</th>\n",
       "      <td>c_1609</td>\n",
       "      <td>312400.27</td>\n",
       "    </tr>\n",
       "    <tr>\n",
       "      <th>4387</th>\n",
       "      <td>c_4958</td>\n",
       "      <td>281546.08</td>\n",
       "    </tr>\n",
       "    <tr>\n",
       "      <th>6336</th>\n",
       "      <td>c_6714</td>\n",
       "      <td>149538.49</td>\n",
       "    </tr>\n",
       "    <tr>\n",
       "      <th>2723</th>\n",
       "      <td>c_3454</td>\n",
       "      <td>111766.71</td>\n",
       "    </tr>\n",
       "    <tr>\n",
       "      <th>2108</th>\n",
       "      <td>c_2899</td>\n",
       "      <td>5214.05</td>\n",
       "    </tr>\n",
       "    <tr>\n",
       "      <th>...</th>\n",
       "      <td>...</td>\n",
       "      <td>...</td>\n",
       "    </tr>\n",
       "    <tr>\n",
       "      <th>1556</th>\n",
       "      <td>c_240</td>\n",
       "      <td>11.06</td>\n",
       "    </tr>\n",
       "    <tr>\n",
       "      <th>7888</th>\n",
       "      <td>c_8114</td>\n",
       "      <td>9.98</td>\n",
       "    </tr>\n",
       "    <tr>\n",
       "      <th>7917</th>\n",
       "      <td>c_8140</td>\n",
       "      <td>8.30</td>\n",
       "    </tr>\n",
       "    <tr>\n",
       "      <th>8598</th>\n",
       "      <td>ct_0</td>\n",
       "      <td>0.00</td>\n",
       "    </tr>\n",
       "    <tr>\n",
       "      <th>8599</th>\n",
       "      <td>ct_1</td>\n",
       "      <td>0.00</td>\n",
       "    </tr>\n",
       "  </tbody>\n",
       "</table>\n",
       "<p>8600 rows × 2 columns</p>\n",
       "</div>"
      ],
      "text/plain": [
       "     client_id      price\n",
       "677     c_1609  312400.27\n",
       "4387    c_4958  281546.08\n",
       "6336    c_6714  149538.49\n",
       "2723    c_3454  111766.71\n",
       "2108    c_2899    5214.05\n",
       "...        ...        ...\n",
       "1556     c_240      11.06\n",
       "7888    c_8114       9.98\n",
       "7917    c_8140       8.30\n",
       "8598      ct_0       0.00\n",
       "8599      ct_1       0.00\n",
       "\n",
       "[8600 rows x 2 columns]"
      ]
     },
     "execution_count": 608,
     "metadata": {},
     "output_type": "execute_result"
    }
   ],
   "source": [
    "#Dataframe croissant:\n",
    "df_l = df[['client_id', 'session_id', 'price']]\n",
    "client = df_l.groupby('client_id').price.sum().reset_index()\n",
    "client2 = client.sort_values(by='price', ascending=False)\n",
    "client2"
   ]
  },
  {
   "cell_type": "code",
   "execution_count": 609,
   "metadata": {},
   "outputs": [
    {
     "data": {
      "text/html": [
       "<div>\n",
       "<style scoped>\n",
       "    .dataframe tbody tr th:only-of-type {\n",
       "        vertical-align: middle;\n",
       "    }\n",
       "\n",
       "    .dataframe tbody tr th {\n",
       "        vertical-align: top;\n",
       "    }\n",
       "\n",
       "    .dataframe thead th {\n",
       "        text-align: right;\n",
       "    }\n",
       "</style>\n",
       "<table border=\"1\" class=\"dataframe\">\n",
       "  <thead>\n",
       "    <tr style=\"text-align: right;\">\n",
       "      <th></th>\n",
       "      <th>client_id</th>\n",
       "      <th>price</th>\n",
       "      <th>centile</th>\n",
       "    </tr>\n",
       "  </thead>\n",
       "  <tbody>\n",
       "    <tr>\n",
       "      <th>677</th>\n",
       "      <td>c_1609</td>\n",
       "      <td>312400.27</td>\n",
       "      <td>0</td>\n",
       "    </tr>\n",
       "    <tr>\n",
       "      <th>4387</th>\n",
       "      <td>c_4958</td>\n",
       "      <td>281546.08</td>\n",
       "      <td>0</td>\n",
       "    </tr>\n",
       "    <tr>\n",
       "      <th>6336</th>\n",
       "      <td>c_6714</td>\n",
       "      <td>149538.49</td>\n",
       "      <td>0</td>\n",
       "    </tr>\n",
       "    <tr>\n",
       "      <th>2723</th>\n",
       "      <td>c_3454</td>\n",
       "      <td>111766.71</td>\n",
       "      <td>0</td>\n",
       "    </tr>\n",
       "    <tr>\n",
       "      <th>2108</th>\n",
       "      <td>c_2899</td>\n",
       "      <td>5214.05</td>\n",
       "      <td>0</td>\n",
       "    </tr>\n",
       "    <tr>\n",
       "      <th>...</th>\n",
       "      <td>...</td>\n",
       "      <td>...</td>\n",
       "      <td>...</td>\n",
       "    </tr>\n",
       "    <tr>\n",
       "      <th>1556</th>\n",
       "      <td>c_240</td>\n",
       "      <td>11.06</td>\n",
       "      <td>99</td>\n",
       "    </tr>\n",
       "    <tr>\n",
       "      <th>7888</th>\n",
       "      <td>c_8114</td>\n",
       "      <td>9.98</td>\n",
       "      <td>99</td>\n",
       "    </tr>\n",
       "    <tr>\n",
       "      <th>7917</th>\n",
       "      <td>c_8140</td>\n",
       "      <td>8.30</td>\n",
       "      <td>99</td>\n",
       "    </tr>\n",
       "    <tr>\n",
       "      <th>8598</th>\n",
       "      <td>ct_0</td>\n",
       "      <td>0.00</td>\n",
       "      <td>99</td>\n",
       "    </tr>\n",
       "    <tr>\n",
       "      <th>8599</th>\n",
       "      <td>ct_1</td>\n",
       "      <td>0.00</td>\n",
       "      <td>99</td>\n",
       "    </tr>\n",
       "  </tbody>\n",
       "</table>\n",
       "<p>8600 rows × 3 columns</p>\n",
       "</div>"
      ],
      "text/plain": [
       "     client_id      price  centile\n",
       "677     c_1609  312400.27        0\n",
       "4387    c_4958  281546.08        0\n",
       "6336    c_6714  149538.49        0\n",
       "2723    c_3454  111766.71        0\n",
       "2108    c_2899    5214.05        0\n",
       "...        ...        ...      ...\n",
       "1556     c_240      11.06       99\n",
       "7888    c_8114       9.98       99\n",
       "7917    c_8140       8.30       99\n",
       "8598      ct_0       0.00       99\n",
       "8599      ct_1       0.00       99\n",
       "\n",
       "[8600 rows x 3 columns]"
      ]
     },
     "execution_count": 609,
     "metadata": {},
     "output_type": "execute_result"
    }
   ],
   "source": [
    "#centile client:\n",
    "total_client = client2.client_id.count()\n",
    "centile = pd.qcut(range(len(client2.client_id)), 100, labels=False)\n",
    "client2['centile'] = centile\n",
    "client2"
   ]
  },
  {
   "cell_type": "code",
   "execution_count": 610,
   "metadata": {},
   "outputs": [
    {
     "data": {
      "text/html": [
       "<div>\n",
       "<style scoped>\n",
       "    .dataframe tbody tr th:only-of-type {\n",
       "        vertical-align: middle;\n",
       "    }\n",
       "\n",
       "    .dataframe tbody tr th {\n",
       "        vertical-align: top;\n",
       "    }\n",
       "\n",
       "    .dataframe thead th {\n",
       "        text-align: right;\n",
       "    }\n",
       "</style>\n",
       "<table border=\"1\" class=\"dataframe\">\n",
       "  <thead>\n",
       "    <tr style=\"text-align: right;\">\n",
       "      <th></th>\n",
       "      <th>centile</th>\n",
       "      <th>price</th>\n",
       "      <th>pourcentage</th>\n",
       "      <th>cumule</th>\n",
       "    </tr>\n",
       "  </thead>\n",
       "  <tbody>\n",
       "    <tr>\n",
       "      <th>0</th>\n",
       "      <td>0</td>\n",
       "      <td>1223875.67</td>\n",
       "      <td>0.106275</td>\n",
       "      <td>0.106275</td>\n",
       "    </tr>\n",
       "    <tr>\n",
       "      <th>1</th>\n",
       "      <td>1</td>\n",
       "      <td>337953.97</td>\n",
       "      <td>0.029346</td>\n",
       "      <td>0.135621</td>\n",
       "    </tr>\n",
       "    <tr>\n",
       "      <th>2</th>\n",
       "      <td>2</td>\n",
       "      <td>311154.87</td>\n",
       "      <td>0.027019</td>\n",
       "      <td>0.162640</td>\n",
       "    </tr>\n",
       "    <tr>\n",
       "      <th>3</th>\n",
       "      <td>3</td>\n",
       "      <td>292464.13</td>\n",
       "      <td>0.025396</td>\n",
       "      <td>0.188036</td>\n",
       "    </tr>\n",
       "    <tr>\n",
       "      <th>4</th>\n",
       "      <td>4</td>\n",
       "      <td>278078.12</td>\n",
       "      <td>0.024147</td>\n",
       "      <td>0.212183</td>\n",
       "    </tr>\n",
       "    <tr>\n",
       "      <th>...</th>\n",
       "      <td>...</td>\n",
       "      <td>...</td>\n",
       "      <td>...</td>\n",
       "      <td>...</td>\n",
       "    </tr>\n",
       "    <tr>\n",
       "      <th>95</th>\n",
       "      <td>95</td>\n",
       "      <td>14315.80</td>\n",
       "      <td>0.001243</td>\n",
       "      <td>0.997165</td>\n",
       "    </tr>\n",
       "    <tr>\n",
       "      <th>96</th>\n",
       "      <td>96</td>\n",
       "      <td>12306.82</td>\n",
       "      <td>0.001069</td>\n",
       "      <td>0.998234</td>\n",
       "    </tr>\n",
       "    <tr>\n",
       "      <th>97</th>\n",
       "      <td>97</td>\n",
       "      <td>9837.36</td>\n",
       "      <td>0.000854</td>\n",
       "      <td>0.999088</td>\n",
       "    </tr>\n",
       "    <tr>\n",
       "      <th>98</th>\n",
       "      <td>98</td>\n",
       "      <td>7126.48</td>\n",
       "      <td>0.000619</td>\n",
       "      <td>0.999707</td>\n",
       "    </tr>\n",
       "    <tr>\n",
       "      <th>99</th>\n",
       "      <td>99</td>\n",
       "      <td>3379.18</td>\n",
       "      <td>0.000293</td>\n",
       "      <td>1.000000</td>\n",
       "    </tr>\n",
       "  </tbody>\n",
       "</table>\n",
       "<p>100 rows × 4 columns</p>\n",
       "</div>"
      ],
      "text/plain": [
       "    centile       price  pourcentage    cumule\n",
       "0         0  1223875.67     0.106275  0.106275\n",
       "1         1   337953.97     0.029346  0.135621\n",
       "2         2   311154.87     0.027019  0.162640\n",
       "3         3   292464.13     0.025396  0.188036\n",
       "4         4   278078.12     0.024147  0.212183\n",
       "..      ...         ...          ...       ...\n",
       "95       95    14315.80     0.001243  0.997165\n",
       "96       96    12306.82     0.001069  0.998234\n",
       "97       97     9837.36     0.000854  0.999088\n",
       "98       98     7126.48     0.000619  0.999707\n",
       "99       99     3379.18     0.000293  1.000000\n",
       "\n",
       "[100 rows x 4 columns]"
      ]
     },
     "execution_count": 610,
     "metadata": {},
     "output_type": "execute_result"
    }
   ],
   "source": [
    "#Pourcentage par centile:\n",
    "client3 = client2.groupby('centile').price.sum().reset_index()\n",
    "client3['pourcentage'] = client3.price/client3.price.sum()\n",
    "client3['cumule'] = client3.pourcentage.cumsum()\n",
    "client3"
   ]
  },
  {
   "cell_type": "code",
   "execution_count": 611,
   "metadata": {},
   "outputs": [
    {
     "data": {
      "text/html": [
       "<div>\n",
       "<style scoped>\n",
       "    .dataframe tbody tr th:only-of-type {\n",
       "        vertical-align: middle;\n",
       "    }\n",
       "\n",
       "    .dataframe tbody tr th {\n",
       "        vertical-align: top;\n",
       "    }\n",
       "\n",
       "    .dataframe thead th {\n",
       "        text-align: right;\n",
       "    }\n",
       "</style>\n",
       "<table border=\"1\" class=\"dataframe\">\n",
       "  <thead>\n",
       "    <tr style=\"text-align: right;\">\n",
       "      <th></th>\n",
       "      <th>centile</th>\n",
       "      <th>price</th>\n",
       "      <th>pourcentage</th>\n",
       "      <th>cumule</th>\n",
       "      <th>stand_centile</th>\n",
       "    </tr>\n",
       "  </thead>\n",
       "  <tbody>\n",
       "    <tr>\n",
       "      <th>0</th>\n",
       "      <td>0</td>\n",
       "      <td>1223875.67</td>\n",
       "      <td>0.106275</td>\n",
       "      <td>0.106275</td>\n",
       "      <td>0.000000</td>\n",
       "    </tr>\n",
       "    <tr>\n",
       "      <th>1</th>\n",
       "      <td>1</td>\n",
       "      <td>337953.97</td>\n",
       "      <td>0.029346</td>\n",
       "      <td>0.135621</td>\n",
       "      <td>0.010101</td>\n",
       "    </tr>\n",
       "    <tr>\n",
       "      <th>2</th>\n",
       "      <td>2</td>\n",
       "      <td>311154.87</td>\n",
       "      <td>0.027019</td>\n",
       "      <td>0.162640</td>\n",
       "      <td>0.020202</td>\n",
       "    </tr>\n",
       "    <tr>\n",
       "      <th>3</th>\n",
       "      <td>3</td>\n",
       "      <td>292464.13</td>\n",
       "      <td>0.025396</td>\n",
       "      <td>0.188036</td>\n",
       "      <td>0.030303</td>\n",
       "    </tr>\n",
       "    <tr>\n",
       "      <th>4</th>\n",
       "      <td>4</td>\n",
       "      <td>278078.12</td>\n",
       "      <td>0.024147</td>\n",
       "      <td>0.212183</td>\n",
       "      <td>0.040404</td>\n",
       "    </tr>\n",
       "    <tr>\n",
       "      <th>...</th>\n",
       "      <td>...</td>\n",
       "      <td>...</td>\n",
       "      <td>...</td>\n",
       "      <td>...</td>\n",
       "      <td>...</td>\n",
       "    </tr>\n",
       "    <tr>\n",
       "      <th>95</th>\n",
       "      <td>95</td>\n",
       "      <td>14315.80</td>\n",
       "      <td>0.001243</td>\n",
       "      <td>0.997165</td>\n",
       "      <td>0.959596</td>\n",
       "    </tr>\n",
       "    <tr>\n",
       "      <th>96</th>\n",
       "      <td>96</td>\n",
       "      <td>12306.82</td>\n",
       "      <td>0.001069</td>\n",
       "      <td>0.998234</td>\n",
       "      <td>0.969697</td>\n",
       "    </tr>\n",
       "    <tr>\n",
       "      <th>97</th>\n",
       "      <td>97</td>\n",
       "      <td>9837.36</td>\n",
       "      <td>0.000854</td>\n",
       "      <td>0.999088</td>\n",
       "      <td>0.979798</td>\n",
       "    </tr>\n",
       "    <tr>\n",
       "      <th>98</th>\n",
       "      <td>98</td>\n",
       "      <td>7126.48</td>\n",
       "      <td>0.000619</td>\n",
       "      <td>0.999707</td>\n",
       "      <td>0.989899</td>\n",
       "    </tr>\n",
       "    <tr>\n",
       "      <th>99</th>\n",
       "      <td>99</td>\n",
       "      <td>3379.18</td>\n",
       "      <td>0.000293</td>\n",
       "      <td>1.000000</td>\n",
       "      <td>1.000000</td>\n",
       "    </tr>\n",
       "  </tbody>\n",
       "</table>\n",
       "<p>100 rows × 5 columns</p>\n",
       "</div>"
      ],
      "text/plain": [
       "    centile       price  pourcentage    cumule  stand_centile\n",
       "0         0  1223875.67     0.106275  0.106275       0.000000\n",
       "1         1   337953.97     0.029346  0.135621       0.010101\n",
       "2         2   311154.87     0.027019  0.162640       0.020202\n",
       "3         3   292464.13     0.025396  0.188036       0.030303\n",
       "4         4   278078.12     0.024147  0.212183       0.040404\n",
       "..      ...         ...          ...       ...            ...\n",
       "95       95    14315.80     0.001243  0.997165       0.959596\n",
       "96       96    12306.82     0.001069  0.998234       0.969697\n",
       "97       97     9837.36     0.000854  0.999088       0.979798\n",
       "98       98     7126.48     0.000619  0.999707       0.989899\n",
       "99       99     3379.18     0.000293  1.000000       1.000000\n",
       "\n",
       "[100 rows x 5 columns]"
      ]
     },
     "execution_count": 611,
     "metadata": {},
     "output_type": "execute_result"
    }
   ],
   "source": [
    "#Standardization des centiles:\n",
    "mini = np.min(client3.centile)\n",
    "maxi = np.max(client3.centile)\n",
    "var = maxi-mini\n",
    "standardize2 = [(i-mini)/var for i in client3.centile]\n",
    "client3['stand_centile'] = standardize2\n",
    "client3"
   ]
  },
  {
   "cell_type": "code",
   "execution_count": 612,
   "metadata": {},
   "outputs": [
    {
     "name": "stderr",
     "output_type": "stream",
     "text": [
      "/opt/anaconda3/lib/python3.8/site-packages/seaborn/_decorators.py:36: FutureWarning: Pass the following variables as keyword args: x, y. From version 0.12, the only valid positional argument will be `data`, and passing other arguments without an explicit keyword will result in an error or misinterpretation.\n",
      "  warnings.warn(\n",
      "/opt/anaconda3/lib/python3.8/site-packages/seaborn/_decorators.py:36: FutureWarning: Pass the following variables as keyword args: x, y. From version 0.12, the only valid positional argument will be `data`, and passing other arguments without an explicit keyword will result in an error or misinterpretation.\n",
      "  warnings.warn(\n"
     ]
    },
    {
     "data": {
      "image/png": "[encoded data removed]",
      "text/plain": [
       "<Figure size 576x360 with 1 Axes>"
      ]
     },
     "metadata": {},
     "output_type": "display_data"
    }
   ],
   "source": [
    "#Calcul de la courbe:\n",
    "plt.figure(figsize=(8, 5))\n",
    "sns.set_theme(style='darkgrid')\n",
    "\n",
    "sns.lineplot(client3.cumule, client3.stand_centile, marker='o', color='green')\n",
    "sns.lineplot([0,1], [0,1], color='blue')\n",
    "\n",
    "plt.title('Courbe de lorentz')\n",
    "plt.xlabel('Chiffre cumulé')\n",
    "plt.ylabel('centile')\n",
    "\n",
    "plt.show()"
   ]
  },
  {
   "cell_type": "markdown",
   "metadata": {},
   "source": [
    "#### Indice de gini:"
   ]
  },
  {
   "cell_type": "code",
   "execution_count": 613,
   "metadata": {},
   "outputs": [
    {
     "name": "stdout",
     "output_type": "stream",
     "text": [
      "coefficient de gini: 0.45\n"
     ]
    }
   ],
   "source": [
    "#calcul indice de gini:\n",
    "def gini(array):\n",
    "    \n",
    "    \n",
    "    if np.amin(array) < 0:\n",
    "        array -= np.amin(array) #values cannot be negative\n",
    "    array += 0.0000001 #values cannot be 0\n",
    "    array = np.sort(array) #values must be sorted\n",
    "    index = np.arange(1,array.shape[0]+1) #index per array element\n",
    "    n = array.shape[0]#number of array elements\n",
    "    return ((np.sum((2 * index - n  - 1) * array)) / (n * np.sum(array))) #Gini coefficient\n",
    "\n",
    "print('coefficient de gini:', gini(client3.price).round(2))"
   ]
  },
  {
   "cell_type": "markdown",
   "metadata": {},
   "source": [
    "#### Conclusion: Analyse de la courbe de lorentz et de l'indice de gini. Nous indique une repartition des ventes inégalitaire. Car comme on peut le voir sur la courbe de lorentz, 80% du CA est réalisé par 50% des clients. D'ailleurs le coefficient de gini nous indique une inégalité de 45% sur le CA."
   ]
  },
  {
   "cell_type": "markdown",
   "metadata": {},
   "source": [
    "### 2) Relation entre la référence 0_525 et 2_159:"
   ]
  },
  {
   "cell_type": "markdown",
   "metadata": {},
   "source": [
    "#### Lien & Probabilité d'achat sur la ref 0_525, si le client à déjà la ref 2_159:"
   ]
  },
  {
   "cell_type": "code",
   "execution_count": 614,
   "metadata": {},
   "outputs": [
    {
     "data": {
      "text/html": [
       "<div>\n",
       "<style scoped>\n",
       "    .dataframe tbody tr th:only-of-type {\n",
       "        vertical-align: middle;\n",
       "    }\n",
       "\n",
       "    .dataframe tbody tr th {\n",
       "        vertical-align: top;\n",
       "    }\n",
       "\n",
       "    .dataframe thead th {\n",
       "        text-align: right;\n",
       "    }\n",
       "</style>\n",
       "<table border=\"1\" class=\"dataframe\">\n",
       "  <thead>\n",
       "    <tr style=\"text-align: right;\">\n",
       "      <th></th>\n",
       "      <th>index</th>\n",
       "      <th>id_prod</th>\n",
       "      <th>client_id</th>\n",
       "      <th>date</th>\n",
       "    </tr>\n",
       "  </thead>\n",
       "  <tbody>\n",
       "    <tr>\n",
       "      <th>0</th>\n",
       "      <td>258</td>\n",
       "      <td>2_159</td>\n",
       "      <td>c_6135</td>\n",
       "      <td>2023-02-03</td>\n",
       "    </tr>\n",
       "    <tr>\n",
       "      <th>1</th>\n",
       "      <td>1050</td>\n",
       "      <td>0_525</td>\n",
       "      <td>c_1403</td>\n",
       "      <td>2021-04-01</td>\n",
       "    </tr>\n",
       "    <tr>\n",
       "      <th>2</th>\n",
       "      <td>1184</td>\n",
       "      <td>2_159</td>\n",
       "      <td>c_4222</td>\n",
       "      <td>2022-01-24</td>\n",
       "    </tr>\n",
       "    <tr>\n",
       "      <th>3</th>\n",
       "      <td>1297</td>\n",
       "      <td>0_525</td>\n",
       "      <td>c_7285</td>\n",
       "      <td>2021-09-24</td>\n",
       "    </tr>\n",
       "    <tr>\n",
       "      <th>4</th>\n",
       "      <td>2248</td>\n",
       "      <td>2_159</td>\n",
       "      <td>c_2469</td>\n",
       "      <td>2022-04-16</td>\n",
       "    </tr>\n",
       "  </tbody>\n",
       "</table>\n",
       "</div>"
      ],
      "text/plain": [
       "   index id_prod client_id       date\n",
       "0    258   2_159    c_6135 2023-02-03\n",
       "1   1050   0_525    c_1403 2021-04-01\n",
       "2   1184   2_159    c_4222 2022-01-24\n",
       "3   1297   0_525    c_7285 2021-09-24\n",
       "4   2248   2_159    c_2469 2022-04-16"
      ]
     },
     "execution_count": 614,
     "metadata": {},
     "output_type": "execute_result"
    }
   ],
   "source": [
    "df_r = df[['id_prod','client_id', 'date']]\n",
    "df_r = df_r[(df_r['id_prod'] == '0_525') | (df_r['id_prod'] == '2_159')].reset_index()\n",
    "df_r.head()"
   ]
  },
  {
   "cell_type": "code",
   "execution_count": 615,
   "metadata": {},
   "outputs": [
    {
     "name": "stdout",
     "output_type": "stream",
     "text": [
      "nombre de clients pour la ref 0_525: 450\n"
     ]
    }
   ],
   "source": [
    "#probabilité:\n",
    "ref_0_525 = df_r[df_r['id_prod'] == '0_525']\n",
    "print('nombre de clients pour la ref 0_525:', ref_0_525.client_id.nunique())"
   ]
  },
  {
   "cell_type": "code",
   "execution_count": 616,
   "metadata": {},
   "outputs": [
    {
     "name": "stdout",
     "output_type": "stream",
     "text": [
      "nombre de clients pour la ref 2_159: 514\n"
     ]
    }
   ],
   "source": [
    "ref_2_159 = df_r[df_r['id_prod'] == '2_159']\n",
    "print('nombre de clients pour la ref 2_159:', ref_2_159.client_id.nunique())"
   ]
  },
  {
   "cell_type": "code",
   "execution_count": 617,
   "metadata": {},
   "outputs": [
    {
     "data": {
      "text/html": [
       "<div>\n",
       "<style scoped>\n",
       "    .dataframe tbody tr th:only-of-type {\n",
       "        vertical-align: middle;\n",
       "    }\n",
       "\n",
       "    .dataframe tbody tr th {\n",
       "        vertical-align: top;\n",
       "    }\n",
       "\n",
       "    .dataframe thead th {\n",
       "        text-align: right;\n",
       "    }\n",
       "</style>\n",
       "<table border=\"1\" class=\"dataframe\">\n",
       "  <thead>\n",
       "    <tr style=\"text-align: right;\">\n",
       "      <th></th>\n",
       "      <th>index_x</th>\n",
       "      <th>id_prod_x</th>\n",
       "      <th>client_id</th>\n",
       "      <th>date_x</th>\n",
       "      <th>index_y</th>\n",
       "      <th>id_prod_y</th>\n",
       "      <th>date_y</th>\n",
       "    </tr>\n",
       "  </thead>\n",
       "  <tbody>\n",
       "    <tr>\n",
       "      <th>0</th>\n",
       "      <td>258</td>\n",
       "      <td>2_159</td>\n",
       "      <td>c_6135</td>\n",
       "      <td>2023-02-03</td>\n",
       "      <td>406952</td>\n",
       "      <td>0_525</td>\n",
       "      <td>2023-02-03</td>\n",
       "    </tr>\n",
       "    <tr>\n",
       "      <th>1</th>\n",
       "      <td>1184</td>\n",
       "      <td>2_159</td>\n",
       "      <td>c_4222</td>\n",
       "      <td>2022-01-24</td>\n",
       "      <td>540235</td>\n",
       "      <td>0_525</td>\n",
       "      <td>2022-01-24</td>\n",
       "    </tr>\n",
       "    <tr>\n",
       "      <th>2</th>\n",
       "      <td>4439</td>\n",
       "      <td>2_159</td>\n",
       "      <td>c_5565</td>\n",
       "      <td>2022-11-29</td>\n",
       "      <td>343868</td>\n",
       "      <td>0_525</td>\n",
       "      <td>2022-11-29</td>\n",
       "    </tr>\n",
       "    <tr>\n",
       "      <th>3</th>\n",
       "      <td>7878</td>\n",
       "      <td>2_159</td>\n",
       "      <td>c_8481</td>\n",
       "      <td>2021-07-21</td>\n",
       "      <td>444861</td>\n",
       "      <td>0_525</td>\n",
       "      <td>2021-07-21</td>\n",
       "    </tr>\n",
       "    <tr>\n",
       "      <th>4</th>\n",
       "      <td>8134</td>\n",
       "      <td>2_159</td>\n",
       "      <td>c_5993</td>\n",
       "      <td>2022-06-03</td>\n",
       "      <td>58437</td>\n",
       "      <td>0_525</td>\n",
       "      <td>2022-06-03</td>\n",
       "    </tr>\n",
       "  </tbody>\n",
       "</table>\n",
       "</div>"
      ],
      "text/plain": [
       "   index_x id_prod_x client_id     date_x  index_y id_prod_y     date_y\n",
       "0      258     2_159    c_6135 2023-02-03   406952     0_525 2023-02-03\n",
       "1     1184     2_159    c_4222 2022-01-24   540235     0_525 2022-01-24\n",
       "2     4439     2_159    c_5565 2022-11-29   343868     0_525 2022-11-29\n",
       "3     7878     2_159    c_8481 2021-07-21   444861     0_525 2021-07-21\n",
       "4     8134     2_159    c_5993 2022-06-03    58437     0_525 2022-06-03"
      ]
     },
     "execution_count": 617,
     "metadata": {},
     "output_type": "execute_result"
    }
   ],
   "source": [
    "df_r2 = ref_2_159.merge(ref_0_525, how='inner', on='client_id')\n",
    "df_r2.head()"
   ]
  },
  {
   "cell_type": "code",
   "execution_count": 618,
   "metadata": {},
   "outputs": [
    {
     "name": "stdout",
     "output_type": "stream",
     "text": [
      "<class 'pandas.core.frame.DataFrame'>\n",
      "Int64Index: 700 entries, 0 to 699\n",
      "Data columns (total 7 columns):\n",
      " #   Column     Non-Null Count  Dtype         \n",
      "---  ------     --------------  -----         \n",
      " 0   index_x    700 non-null    int64         \n",
      " 1   id_prod_x  700 non-null    object        \n",
      " 2   client_id  700 non-null    object        \n",
      " 3   date_x     700 non-null    datetime64[ns]\n",
      " 4   index_y    700 non-null    int64         \n",
      " 5   id_prod_y  700 non-null    object        \n",
      " 6   date_y     700 non-null    datetime64[ns]\n",
      "dtypes: datetime64[ns](2), int64(2), object(3)\n",
      "memory usage: 43.8+ KB\n"
     ]
    }
   ],
   "source": [
    "df_r2.info()"
   ]
  },
  {
   "cell_type": "code",
   "execution_count": 619,
   "metadata": {},
   "outputs": [
    {
     "data": {
      "text/plain": [
       "250"
      ]
     },
     "execution_count": 619,
     "metadata": {},
     "output_type": "execute_result"
    }
   ],
   "source": [
    "df_r2.duplicated(subset=('client_id')).sum()"
   ]
  },
  {
   "cell_type": "code",
   "execution_count": 620,
   "metadata": {},
   "outputs": [],
   "source": [
    "df_r2 = df_r2.drop_duplicates(subset=('client_id')).reset_index()"
   ]
  },
  {
   "cell_type": "code",
   "execution_count": 621,
   "metadata": {},
   "outputs": [
    {
     "name": "stdout",
     "output_type": "stream",
     "text": [
      "clients ayant achetés les 2 reférences: 450\n"
     ]
    }
   ],
   "source": [
    "lien = df_r2.client_id.nunique()\n",
    "print('clients ayant achetés les 2 reférences:', lien)"
   ]
  },
  {
   "cell_type": "code",
   "execution_count": 622,
   "metadata": {},
   "outputs": [
    {
     "name": "stdout",
     "output_type": "stream",
     "text": [
      "probabilité d'achat: 87.55%\n"
     ]
    }
   ],
   "source": [
    "client1 = ref_2_159.client_id.nunique()\n",
    "p1 = lien/client1\n",
    "print(\"probabilité d'achat:\", '{:.2%}'.format(p1))"
   ]
  },
  {
   "cell_type": "code",
   "execution_count": 623,
   "metadata": {},
   "outputs": [
    {
     "name": "stdout",
     "output_type": "stream",
     "text": [
      "probabilité d'achat si le client à déjà la ref 2_159  86.58%\n"
     ]
    }
   ],
   "source": [
    "df_r3 = df_r2[df_r2['date_x'] <= df_r2['date_y']]\n",
    "client2 = df_r3.client_id.nunique()\n",
    "p2 = client2/client1\n",
    "print(\"probabilité d'achat si le client à déjà la ref 2_159 \", '{:,.2%}'.format(p2))"
   ]
  },
  {
   "cell_type": "markdown",
   "metadata": {},
   "source": [
    "#### Conclusion: L’analyse effectuer sur les références (0_525 et 2_159), nous permet effectivement d'établir un lien entre ces 2 réf. La probabilité d'achat sur la réf 0_525, si le client à déjà la réf 2_159 est de 86.58%.\n",
    "\n",
    "#### Axe d’amélioration: Suggérer l’article complémentaire dès lors que l’un de nos clients ajoute l’une des deux références à son panier. Effectuer des campagnes promotionnelles pour l’achat des deux articles."
   ]
  }
 ],
 "metadata": {
  "celltoolbar": "Format de la Cellule Texte Brut",
  "kernelspec": {
   "display_name": "Python 3",
   "language": "python",
   "name": "python3"
  },
  "language_info": {
   "codemirror_mode": {
    "name": "ipython",
    "version": 3
   },
   "file_extension": ".py",
   "mimetype": "text/x-python",
   "name": "python",
   "nbconvert_exporter": "python",
   "pygments_lexer": "ipython3",
   "version": "3.8.8"
  }
 },
 "nbformat": 4,
 "nbformat_minor": 4
}
