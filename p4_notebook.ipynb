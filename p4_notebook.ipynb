{
 "cells": [
  {
   "cell_type": "code",
   "execution_count": 706,
   "metadata": {},
   "outputs": [],
   "source": [
    "import pandas as pd\n",
    "import numpy as np"
   ]
  },
  {
   "cell_type": "markdown",
   "metadata": {},
   "source": [
    "## Import Data (aide alimentaire):"
   ]
  },
  {
   "cell_type": "code",
   "execution_count": 707,
   "metadata": {},
   "outputs": [],
   "source": [
    "aide_alimentaire = pd.read_csv('aide_alimentaire.csv')"
   ]
  },
  {
   "cell_type": "code",
   "execution_count": 708,
   "metadata": {},
   "outputs": [
    {
     "data": {
      "text/html": [
       "<div>\n",
       "<style scoped>\n",
       "    .dataframe tbody tr th:only-of-type {\n",
       "        vertical-align: middle;\n",
       "    }\n",
       "\n",
       "    .dataframe tbody tr th {\n",
       "        vertical-align: top;\n",
       "    }\n",
       "\n",
       "    .dataframe thead th {\n",
       "        text-align: right;\n",
       "    }\n",
       "</style>\n",
       "<table border=\"1\" class=\"dataframe\">\n",
       "  <thead>\n",
       "    <tr style=\"text-align: right;\">\n",
       "      <th></th>\n",
       "      <th>Pays bénéficiaire</th>\n",
       "      <th>Année</th>\n",
       "      <th>Produit</th>\n",
       "      <th>Valeur</th>\n",
       "    </tr>\n",
       "  </thead>\n",
       "  <tbody>\n",
       "    <tr>\n",
       "      <th>0</th>\n",
       "      <td>Afghanistan</td>\n",
       "      <td>2013</td>\n",
       "      <td>Autres non-céréales</td>\n",
       "      <td>682</td>\n",
       "    </tr>\n",
       "    <tr>\n",
       "      <th>1</th>\n",
       "      <td>Afghanistan</td>\n",
       "      <td>2014</td>\n",
       "      <td>Autres non-céréales</td>\n",
       "      <td>335</td>\n",
       "    </tr>\n",
       "    <tr>\n",
       "      <th>2</th>\n",
       "      <td>Afghanistan</td>\n",
       "      <td>2013</td>\n",
       "      <td>Blé et Farin</td>\n",
       "      <td>39224</td>\n",
       "    </tr>\n",
       "    <tr>\n",
       "      <th>3</th>\n",
       "      <td>Afghanistan</td>\n",
       "      <td>2014</td>\n",
       "      <td>Blé et Farin</td>\n",
       "      <td>15160</td>\n",
       "    </tr>\n",
       "    <tr>\n",
       "      <th>4</th>\n",
       "      <td>Afghanistan</td>\n",
       "      <td>2013</td>\n",
       "      <td>Céréales</td>\n",
       "      <td>40504</td>\n",
       "    </tr>\n",
       "  </tbody>\n",
       "</table>\n",
       "</div>"
      ],
      "text/plain": [
       "  Pays bénéficiaire  Année              Produit  Valeur\n",
       "0       Afghanistan   2013  Autres non-céréales     682\n",
       "1       Afghanistan   2014  Autres non-céréales     335\n",
       "2       Afghanistan   2013         Blé et Farin   39224\n",
       "3       Afghanistan   2014         Blé et Farin   15160\n",
       "4       Afghanistan   2013             Céréales   40504"
      ]
     },
     "execution_count": 708,
     "metadata": {},
     "output_type": "execute_result"
    }
   ],
   "source": [
    "aide_alimentaire.head()"
   ]
  },
  {
   "cell_type": "code",
   "execution_count": 709,
   "metadata": {},
   "outputs": [
    {
     "name": "stdout",
     "output_type": "stream",
     "text": [
      "<class 'pandas.core.frame.DataFrame'>\n",
      "RangeIndex: 1475 entries, 0 to 1474\n",
      "Data columns (total 4 columns):\n",
      " #   Column             Non-Null Count  Dtype \n",
      "---  ------             --------------  ----- \n",
      " 0   Pays bénéficiaire  1475 non-null   object\n",
      " 1   Année              1475 non-null   int64 \n",
      " 2   Produit            1475 non-null   object\n",
      " 3   Valeur             1475 non-null   int64 \n",
      "dtypes: int64(2), object(2)\n",
      "memory usage: 46.2+ KB\n"
     ]
    }
   ],
   "source": [
    "aide_alimentaire.info()"
   ]
  },
  {
   "cell_type": "markdown",
   "metadata": {},
   "source": [
    "## Cleaning Data (aide alimentaire):"
   ]
  },
  {
   "cell_type": "code",
   "execution_count": 710,
   "metadata": {},
   "outputs": [],
   "source": [
    "aide_alimentaire.columns = aide_alimentaire.columns.str.lower()"
   ]
  },
  {
   "cell_type": "code",
   "execution_count": 711,
   "metadata": {},
   "outputs": [],
   "source": [
    "aide_alimentaire = aide_alimentaire.rename(columns={'pays bénéficiaire':'zone'})"
   ]
  },
  {
   "cell_type": "code",
   "execution_count": 712,
   "metadata": {
    "scrolled": true
   },
   "outputs": [],
   "source": [
    "aide_alimentaire['valeur'] *= 1e3"
   ]
  },
  {
   "cell_type": "code",
   "execution_count": 713,
   "metadata": {},
   "outputs": [
    {
     "data": {
      "text/plain": [
       "0"
      ]
     },
     "execution_count": 713,
     "metadata": {},
     "output_type": "execute_result"
    }
   ],
   "source": [
    "aide_alimentaire.duplicated(subset=['zone', 'produit', 'année']).sum()"
   ]
  },
  {
   "cell_type": "code",
   "execution_count": 714,
   "metadata": {},
   "outputs": [
    {
     "data": {
      "text/plain": [
       "zone       0\n",
       "année      0\n",
       "produit    0\n",
       "valeur     0\n",
       "dtype: int64"
      ]
     },
     "execution_count": 714,
     "metadata": {},
     "output_type": "execute_result"
    }
   ],
   "source": [
    "aide_alimentaire.isnull().sum()"
   ]
  },
  {
   "cell_type": "code",
   "execution_count": 715,
   "metadata": {},
   "outputs": [
    {
     "data": {
      "text/html": [
       "<div>\n",
       "<style scoped>\n",
       "    .dataframe tbody tr th:only-of-type {\n",
       "        vertical-align: middle;\n",
       "    }\n",
       "\n",
       "    .dataframe tbody tr th {\n",
       "        vertical-align: top;\n",
       "    }\n",
       "\n",
       "    .dataframe thead th {\n",
       "        text-align: right;\n",
       "    }\n",
       "</style>\n",
       "<table border=\"1\" class=\"dataframe\">\n",
       "  <thead>\n",
       "    <tr style=\"text-align: right;\">\n",
       "      <th></th>\n",
       "      <th>zone</th>\n",
       "      <th>année</th>\n",
       "      <th>produit</th>\n",
       "      <th>valeur</th>\n",
       "    </tr>\n",
       "  </thead>\n",
       "  <tbody>\n",
       "    <tr>\n",
       "      <th>0</th>\n",
       "      <td>Afghanistan</td>\n",
       "      <td>2013</td>\n",
       "      <td>Autres non-céréales</td>\n",
       "      <td>682000.0</td>\n",
       "    </tr>\n",
       "    <tr>\n",
       "      <th>1</th>\n",
       "      <td>Afghanistan</td>\n",
       "      <td>2014</td>\n",
       "      <td>Autres non-céréales</td>\n",
       "      <td>335000.0</td>\n",
       "    </tr>\n",
       "    <tr>\n",
       "      <th>2</th>\n",
       "      <td>Afghanistan</td>\n",
       "      <td>2013</td>\n",
       "      <td>Blé et Farin</td>\n",
       "      <td>39224000.0</td>\n",
       "    </tr>\n",
       "    <tr>\n",
       "      <th>3</th>\n",
       "      <td>Afghanistan</td>\n",
       "      <td>2014</td>\n",
       "      <td>Blé et Farin</td>\n",
       "      <td>15160000.0</td>\n",
       "    </tr>\n",
       "    <tr>\n",
       "      <th>4</th>\n",
       "      <td>Afghanistan</td>\n",
       "      <td>2013</td>\n",
       "      <td>Céréales</td>\n",
       "      <td>40504000.0</td>\n",
       "    </tr>\n",
       "  </tbody>\n",
       "</table>\n",
       "</div>"
      ],
      "text/plain": [
       "          zone  année              produit      valeur\n",
       "0  Afghanistan   2013  Autres non-céréales    682000.0\n",
       "1  Afghanistan   2014  Autres non-céréales    335000.0\n",
       "2  Afghanistan   2013         Blé et Farin  39224000.0\n",
       "3  Afghanistan   2014         Blé et Farin  15160000.0\n",
       "4  Afghanistan   2013             Céréales  40504000.0"
      ]
     },
     "execution_count": 715,
     "metadata": {},
     "output_type": "execute_result"
    }
   ],
   "source": [
    "aide_alimentaire.head()"
   ]
  },
  {
   "cell_type": "markdown",
   "metadata": {},
   "source": [
    "## Import Data (dispo alimentaire):"
   ]
  },
  {
   "cell_type": "code",
   "execution_count": 716,
   "metadata": {},
   "outputs": [],
   "source": [
    "dispo_alimentaire = pd.read_csv('dispo_alimentaire.csv')"
   ]
  },
  {
   "cell_type": "code",
   "execution_count": 717,
   "metadata": {},
   "outputs": [
    {
     "data": {
      "text/html": [
       "<div>\n",
       "<style scoped>\n",
       "    .dataframe tbody tr th:only-of-type {\n",
       "        vertical-align: middle;\n",
       "    }\n",
       "\n",
       "    .dataframe tbody tr th {\n",
       "        vertical-align: top;\n",
       "    }\n",
       "\n",
       "    .dataframe thead th {\n",
       "        text-align: right;\n",
       "    }\n",
       "</style>\n",
       "<table border=\"1\" class=\"dataframe\">\n",
       "  <thead>\n",
       "    <tr style=\"text-align: right;\">\n",
       "      <th></th>\n",
       "      <th>Zone</th>\n",
       "      <th>Produit</th>\n",
       "      <th>Origine</th>\n",
       "      <th>Aliments pour animaux</th>\n",
       "      <th>Autres Utilisations</th>\n",
       "      <th>Disponibilité alimentaire (Kcal/personne/jour)</th>\n",
       "      <th>Disponibilité alimentaire en quantité (kg/personne/an)</th>\n",
       "      <th>Disponibilité de matière grasse en quantité (g/personne/jour)</th>\n",
       "      <th>Disponibilité de protéines en quantité (g/personne/jour)</th>\n",
       "      <th>Disponibilité intérieure</th>\n",
       "      <th>Exportations - Quantité</th>\n",
       "      <th>Importations - Quantité</th>\n",
       "      <th>Nourriture</th>\n",
       "      <th>Pertes</th>\n",
       "      <th>Production</th>\n",
       "      <th>Semences</th>\n",
       "      <th>Traitement</th>\n",
       "      <th>Variation de stock</th>\n",
       "    </tr>\n",
       "  </thead>\n",
       "  <tbody>\n",
       "    <tr>\n",
       "      <th>0</th>\n",
       "      <td>Afghanistan</td>\n",
       "      <td>Abats Comestible</td>\n",
       "      <td>animale</td>\n",
       "      <td>NaN</td>\n",
       "      <td>NaN</td>\n",
       "      <td>5.0</td>\n",
       "      <td>1.72</td>\n",
       "      <td>0.20</td>\n",
       "      <td>0.77</td>\n",
       "      <td>53.0</td>\n",
       "      <td>NaN</td>\n",
       "      <td>NaN</td>\n",
       "      <td>53.0</td>\n",
       "      <td>NaN</td>\n",
       "      <td>53.0</td>\n",
       "      <td>NaN</td>\n",
       "      <td>NaN</td>\n",
       "      <td>NaN</td>\n",
       "    </tr>\n",
       "    <tr>\n",
       "      <th>1</th>\n",
       "      <td>Afghanistan</td>\n",
       "      <td>Agrumes, Autres</td>\n",
       "      <td>vegetale</td>\n",
       "      <td>NaN</td>\n",
       "      <td>NaN</td>\n",
       "      <td>1.0</td>\n",
       "      <td>1.29</td>\n",
       "      <td>0.01</td>\n",
       "      <td>0.02</td>\n",
       "      <td>41.0</td>\n",
       "      <td>2.0</td>\n",
       "      <td>40.0</td>\n",
       "      <td>39.0</td>\n",
       "      <td>2.0</td>\n",
       "      <td>3.0</td>\n",
       "      <td>NaN</td>\n",
       "      <td>NaN</td>\n",
       "      <td>NaN</td>\n",
       "    </tr>\n",
       "    <tr>\n",
       "      <th>2</th>\n",
       "      <td>Afghanistan</td>\n",
       "      <td>Aliments pour enfants</td>\n",
       "      <td>vegetale</td>\n",
       "      <td>NaN</td>\n",
       "      <td>NaN</td>\n",
       "      <td>1.0</td>\n",
       "      <td>0.06</td>\n",
       "      <td>0.01</td>\n",
       "      <td>0.03</td>\n",
       "      <td>2.0</td>\n",
       "      <td>NaN</td>\n",
       "      <td>2.0</td>\n",
       "      <td>2.0</td>\n",
       "      <td>NaN</td>\n",
       "      <td>NaN</td>\n",
       "      <td>NaN</td>\n",
       "      <td>NaN</td>\n",
       "      <td>NaN</td>\n",
       "    </tr>\n",
       "    <tr>\n",
       "      <th>3</th>\n",
       "      <td>Afghanistan</td>\n",
       "      <td>Ananas</td>\n",
       "      <td>vegetale</td>\n",
       "      <td>NaN</td>\n",
       "      <td>NaN</td>\n",
       "      <td>0.0</td>\n",
       "      <td>0.00</td>\n",
       "      <td>NaN</td>\n",
       "      <td>NaN</td>\n",
       "      <td>0.0</td>\n",
       "      <td>NaN</td>\n",
       "      <td>0.0</td>\n",
       "      <td>0.0</td>\n",
       "      <td>NaN</td>\n",
       "      <td>NaN</td>\n",
       "      <td>NaN</td>\n",
       "      <td>NaN</td>\n",
       "      <td>NaN</td>\n",
       "    </tr>\n",
       "    <tr>\n",
       "      <th>4</th>\n",
       "      <td>Afghanistan</td>\n",
       "      <td>Bananes</td>\n",
       "      <td>vegetale</td>\n",
       "      <td>NaN</td>\n",
       "      <td>NaN</td>\n",
       "      <td>4.0</td>\n",
       "      <td>2.70</td>\n",
       "      <td>0.02</td>\n",
       "      <td>0.05</td>\n",
       "      <td>82.0</td>\n",
       "      <td>NaN</td>\n",
       "      <td>82.0</td>\n",
       "      <td>82.0</td>\n",
       "      <td>NaN</td>\n",
       "      <td>NaN</td>\n",
       "      <td>NaN</td>\n",
       "      <td>NaN</td>\n",
       "      <td>NaN</td>\n",
       "    </tr>\n",
       "  </tbody>\n",
       "</table>\n",
       "</div>"
      ],
      "text/plain": [
       "          Zone                Produit   Origine  Aliments pour animaux  \\\n",
       "0  Afghanistan       Abats Comestible   animale                    NaN   \n",
       "1  Afghanistan        Agrumes, Autres  vegetale                    NaN   \n",
       "2  Afghanistan  Aliments pour enfants  vegetale                    NaN   \n",
       "3  Afghanistan                 Ananas  vegetale                    NaN   \n",
       "4  Afghanistan                Bananes  vegetale                    NaN   \n",
       "\n",
       "   Autres Utilisations  Disponibilité alimentaire (Kcal/personne/jour)  \\\n",
       "0                  NaN                                             5.0   \n",
       "1                  NaN                                             1.0   \n",
       "2                  NaN                                             1.0   \n",
       "3                  NaN                                             0.0   \n",
       "4                  NaN                                             4.0   \n",
       "\n",
       "   Disponibilité alimentaire en quantité (kg/personne/an)  \\\n",
       "0                                               1.72        \n",
       "1                                               1.29        \n",
       "2                                               0.06        \n",
       "3                                               0.00        \n",
       "4                                               2.70        \n",
       "\n",
       "   Disponibilité de matière grasse en quantité (g/personne/jour)  \\\n",
       "0                                               0.20               \n",
       "1                                               0.01               \n",
       "2                                               0.01               \n",
       "3                                                NaN               \n",
       "4                                               0.02               \n",
       "\n",
       "   Disponibilité de protéines en quantité (g/personne/jour)  \\\n",
       "0                                               0.77          \n",
       "1                                               0.02          \n",
       "2                                               0.03          \n",
       "3                                                NaN          \n",
       "4                                               0.05          \n",
       "\n",
       "   Disponibilité intérieure  Exportations - Quantité  Importations - Quantité  \\\n",
       "0                      53.0                      NaN                      NaN   \n",
       "1                      41.0                      2.0                     40.0   \n",
       "2                       2.0                      NaN                      2.0   \n",
       "3                       0.0                      NaN                      0.0   \n",
       "4                      82.0                      NaN                     82.0   \n",
       "\n",
       "   Nourriture  Pertes  Production  Semences  Traitement  Variation de stock  \n",
       "0        53.0     NaN        53.0       NaN         NaN                 NaN  \n",
       "1        39.0     2.0         3.0       NaN         NaN                 NaN  \n",
       "2         2.0     NaN         NaN       NaN         NaN                 NaN  \n",
       "3         0.0     NaN         NaN       NaN         NaN                 NaN  \n",
       "4        82.0     NaN         NaN       NaN         NaN                 NaN  "
      ]
     },
     "execution_count": 717,
     "metadata": {},
     "output_type": "execute_result"
    }
   ],
   "source": [
    "dispo_alimentaire.head()"
   ]
  },
  {
   "cell_type": "code",
   "execution_count": 718,
   "metadata": {},
   "outputs": [
    {
     "name": "stdout",
     "output_type": "stream",
     "text": [
      "<class 'pandas.core.frame.DataFrame'>\n",
      "RangeIndex: 15605 entries, 0 to 15604\n",
      "Data columns (total 18 columns):\n",
      " #   Column                                                         Non-Null Count  Dtype  \n",
      "---  ------                                                         --------------  -----  \n",
      " 0   Zone                                                           15605 non-null  object \n",
      " 1   Produit                                                        15605 non-null  object \n",
      " 2   Origine                                                        15605 non-null  object \n",
      " 3   Aliments pour animaux                                          2720 non-null   float64\n",
      " 4   Autres Utilisations                                            5496 non-null   float64\n",
      " 5   Disponibilité alimentaire (Kcal/personne/jour)                 14241 non-null  float64\n",
      " 6   Disponibilité alimentaire en quantité (kg/personne/an)         14015 non-null  float64\n",
      " 7   Disponibilité de matière grasse en quantité (g/personne/jour)  11794 non-null  float64\n",
      " 8   Disponibilité de protéines en quantité (g/personne/jour)       11561 non-null  float64\n",
      " 9   Disponibilité intérieure                                       15382 non-null  float64\n",
      " 10  Exportations - Quantité                                        12226 non-null  float64\n",
      " 11  Importations - Quantité                                        14852 non-null  float64\n",
      " 12  Nourriture                                                     14015 non-null  float64\n",
      " 13  Pertes                                                         4278 non-null   float64\n",
      " 14  Production                                                     9180 non-null   float64\n",
      " 15  Semences                                                       2091 non-null   float64\n",
      " 16  Traitement                                                     2292 non-null   float64\n",
      " 17  Variation de stock                                             6776 non-null   float64\n",
      "dtypes: float64(15), object(3)\n",
      "memory usage: 2.1+ MB\n"
     ]
    }
   ],
   "source": [
    "dispo_alimentaire.info()"
   ]
  },
  {
   "cell_type": "markdown",
   "metadata": {},
   "source": [
    "## Cleaning Data (dispo alimentaire):"
   ]
  },
  {
   "cell_type": "code",
   "execution_count": 719,
   "metadata": {},
   "outputs": [],
   "source": [
    "dispo_alimentaire.columns = dispo_alimentaire.columns.str.lower()"
   ]
  },
  {
   "cell_type": "code",
   "execution_count": 720,
   "metadata": {},
   "outputs": [],
   "source": [
    "dispo_alimentaire = dispo_alimentaire.rename(columns = {'disponibilité alimentaire (kcal/personne/jour)' : 'kcal_pers_jour'})\n",
    "dispo_alimentaire = dispo_alimentaire.rename(columns = {'disponibilité alimentaire en quantité (kg/personne/an)' : 'kg_pers_an'})\n",
    "dispo_alimentaire = dispo_alimentaire.rename(columns = {'disponibilité de matière grasse en quantité (g/personne/jour)' : 'mg_g_pers_an'})\n",
    "dispo_alimentaire = dispo_alimentaire.rename(columns = {'disponibilité de protéines en quantité (g/personne/jour)' : 'proteine_g_pers_jour'})\n",
    "dispo_alimentaire = dispo_alimentaire.rename(columns = {'disponibilité intérieure' : 'dispo_inter'})\n",
    "dispo_alimentaire = dispo_alimentaire.rename(columns = {'exportations - quantité' : 'expor_qte'})\n",
    "dispo_alimentaire = dispo_alimentaire.rename(columns = {'importations - quantité' : 'impor_qte'})\n",
    "dispo_alimentaire = dispo_alimentaire.rename(columns = {'aliments pour animaux' : 'aliment_animal'})\n",
    "dispo_alimentaire = dispo_alimentaire.rename(columns = {'autres utilisations' : 'autre'})\n",
    "dispo_alimentaire = dispo_alimentaire.rename(columns = {'variation de stock' : 'variation_stock'})"
   ]
  },
  {
   "cell_type": "code",
   "execution_count": 721,
   "metadata": {},
   "outputs": [],
   "source": [
    "dispo_alimentaire['aliment_animal'] *= 1e6\n",
    "dispo_alimentaire['autre'] *= 1e6\n",
    "dispo_alimentaire['dispo_inter'] *= 1e6\n",
    "dispo_alimentaire['expor_qte'] *= 1e6 \n",
    "dispo_alimentaire['impor_qte'] *= 1e6 \n",
    "dispo_alimentaire['nourriture'] *= 1e6 \n",
    "dispo_alimentaire['pertes'] *= 1e6\n",
    "dispo_alimentaire['production'] *= 1e6 \n",
    "dispo_alimentaire['semences'] *= 1e6 \n",
    "dispo_alimentaire['traitement'] *= 1e6 \n",
    "dispo_alimentaire['variation_stock'] *= 1e6"
   ]
  },
  {
   "cell_type": "code",
   "execution_count": 722,
   "metadata": {},
   "outputs": [
    {
     "data": {
      "text/plain": [
       "0"
      ]
     },
     "execution_count": 722,
     "metadata": {},
     "output_type": "execute_result"
    }
   ],
   "source": [
    "dispo_alimentaire.duplicated(subset=['zone', 'produit']).sum()"
   ]
  },
  {
   "cell_type": "code",
   "execution_count": 723,
   "metadata": {},
   "outputs": [
    {
     "data": {
      "text/plain": [
       "zone                        0\n",
       "produit                     0\n",
       "origine                     0\n",
       "aliment_animal          12885\n",
       "autre                   10109\n",
       "kcal_pers_jour           1364\n",
       "kg_pers_an               1590\n",
       "mg_g_pers_an             3811\n",
       "proteine_g_pers_jour     4044\n",
       "dispo_inter               223\n",
       "expor_qte                3379\n",
       "impor_qte                 753\n",
       "nourriture               1590\n",
       "pertes                  11327\n",
       "production               6425\n",
       "semences                13514\n",
       "traitement              13313\n",
       "variation_stock          8829\n",
       "dtype: int64"
      ]
     },
     "execution_count": 723,
     "metadata": {},
     "output_type": "execute_result"
    }
   ],
   "source": [
    "dispo_alimentaire.isnull().sum()"
   ]
  },
  {
   "cell_type": "code",
   "execution_count": 724,
   "metadata": {},
   "outputs": [
    {
     "name": "stdout",
     "output_type": "stream",
     "text": [
      "(15605, 18)\n"
     ]
    }
   ],
   "source": [
    "print(dispo_alimentaire.shape)"
   ]
  },
  {
   "cell_type": "code",
   "execution_count": 725,
   "metadata": {},
   "outputs": [
    {
     "name": "stdout",
     "output_type": "stream",
     "text": [
      "zone                     0.000000\n",
      "produit                  0.000000\n",
      "origine                  0.000000\n",
      "aliment_animal          82.569689\n",
      "autre                   64.780519\n",
      "kcal_pers_jour           8.740788\n",
      "kg_pers_an              10.189042\n",
      "mg_g_pers_an            24.421660\n",
      "proteine_g_pers_jour    25.914771\n",
      "dispo_inter              1.429029\n",
      "expor_qte               21.653316\n",
      "impor_qte                4.825376\n",
      "nourriture              10.189042\n",
      "pertes                  72.585710\n",
      "production              41.172701\n",
      "semences                86.600449\n",
      "traitement              85.312400\n",
      "variation_stock         56.578020\n",
      "dtype: float64\n"
     ]
    }
   ],
   "source": [
    "valeurs_null = (dispo_alimentaire.isnull().sum()*100) / dispo_alimentaire.shape[0]\n",
    "print(valeurs_null)"
   ]
  },
  {
   "cell_type": "code",
   "execution_count": 726,
   "metadata": {},
   "outputs": [],
   "source": [
    "dispo_alimentaire = dispo_alimentaire.fillna(0)"
   ]
  },
  {
   "cell_type": "code",
   "execution_count": 727,
   "metadata": {},
   "outputs": [
    {
     "data": {
      "text/html": [
       "<div>\n",
       "<style scoped>\n",
       "    .dataframe tbody tr th:only-of-type {\n",
       "        vertical-align: middle;\n",
       "    }\n",
       "\n",
       "    .dataframe tbody tr th {\n",
       "        vertical-align: top;\n",
       "    }\n",
       "\n",
       "    .dataframe thead th {\n",
       "        text-align: right;\n",
       "    }\n",
       "</style>\n",
       "<table border=\"1\" class=\"dataframe\">\n",
       "  <thead>\n",
       "    <tr style=\"text-align: right;\">\n",
       "      <th></th>\n",
       "      <th>zone</th>\n",
       "      <th>produit</th>\n",
       "      <th>origine</th>\n",
       "      <th>aliment_animal</th>\n",
       "      <th>autre</th>\n",
       "      <th>kcal_pers_jour</th>\n",
       "      <th>kg_pers_an</th>\n",
       "      <th>mg_g_pers_an</th>\n",
       "      <th>proteine_g_pers_jour</th>\n",
       "      <th>dispo_inter</th>\n",
       "      <th>expor_qte</th>\n",
       "      <th>impor_qte</th>\n",
       "      <th>nourriture</th>\n",
       "      <th>pertes</th>\n",
       "      <th>production</th>\n",
       "      <th>semences</th>\n",
       "      <th>traitement</th>\n",
       "      <th>variation_stock</th>\n",
       "    </tr>\n",
       "  </thead>\n",
       "  <tbody>\n",
       "    <tr>\n",
       "      <th>0</th>\n",
       "      <td>Afghanistan</td>\n",
       "      <td>Abats Comestible</td>\n",
       "      <td>animale</td>\n",
       "      <td>0.0</td>\n",
       "      <td>0.0</td>\n",
       "      <td>5.0</td>\n",
       "      <td>1.72</td>\n",
       "      <td>0.20</td>\n",
       "      <td>0.77</td>\n",
       "      <td>53000000.0</td>\n",
       "      <td>0.0</td>\n",
       "      <td>0.0</td>\n",
       "      <td>53000000.0</td>\n",
       "      <td>0.0</td>\n",
       "      <td>53000000.0</td>\n",
       "      <td>0.0</td>\n",
       "      <td>0.0</td>\n",
       "      <td>0.0</td>\n",
       "    </tr>\n",
       "    <tr>\n",
       "      <th>1</th>\n",
       "      <td>Afghanistan</td>\n",
       "      <td>Agrumes, Autres</td>\n",
       "      <td>vegetale</td>\n",
       "      <td>0.0</td>\n",
       "      <td>0.0</td>\n",
       "      <td>1.0</td>\n",
       "      <td>1.29</td>\n",
       "      <td>0.01</td>\n",
       "      <td>0.02</td>\n",
       "      <td>41000000.0</td>\n",
       "      <td>2000000.0</td>\n",
       "      <td>40000000.0</td>\n",
       "      <td>39000000.0</td>\n",
       "      <td>2000000.0</td>\n",
       "      <td>3000000.0</td>\n",
       "      <td>0.0</td>\n",
       "      <td>0.0</td>\n",
       "      <td>0.0</td>\n",
       "    </tr>\n",
       "    <tr>\n",
       "      <th>2</th>\n",
       "      <td>Afghanistan</td>\n",
       "      <td>Aliments pour enfants</td>\n",
       "      <td>vegetale</td>\n",
       "      <td>0.0</td>\n",
       "      <td>0.0</td>\n",
       "      <td>1.0</td>\n",
       "      <td>0.06</td>\n",
       "      <td>0.01</td>\n",
       "      <td>0.03</td>\n",
       "      <td>2000000.0</td>\n",
       "      <td>0.0</td>\n",
       "      <td>2000000.0</td>\n",
       "      <td>2000000.0</td>\n",
       "      <td>0.0</td>\n",
       "      <td>0.0</td>\n",
       "      <td>0.0</td>\n",
       "      <td>0.0</td>\n",
       "      <td>0.0</td>\n",
       "    </tr>\n",
       "    <tr>\n",
       "      <th>3</th>\n",
       "      <td>Afghanistan</td>\n",
       "      <td>Ananas</td>\n",
       "      <td>vegetale</td>\n",
       "      <td>0.0</td>\n",
       "      <td>0.0</td>\n",
       "      <td>0.0</td>\n",
       "      <td>0.00</td>\n",
       "      <td>0.00</td>\n",
       "      <td>0.00</td>\n",
       "      <td>0.0</td>\n",
       "      <td>0.0</td>\n",
       "      <td>0.0</td>\n",
       "      <td>0.0</td>\n",
       "      <td>0.0</td>\n",
       "      <td>0.0</td>\n",
       "      <td>0.0</td>\n",
       "      <td>0.0</td>\n",
       "      <td>0.0</td>\n",
       "    </tr>\n",
       "    <tr>\n",
       "      <th>4</th>\n",
       "      <td>Afghanistan</td>\n",
       "      <td>Bananes</td>\n",
       "      <td>vegetale</td>\n",
       "      <td>0.0</td>\n",
       "      <td>0.0</td>\n",
       "      <td>4.0</td>\n",
       "      <td>2.70</td>\n",
       "      <td>0.02</td>\n",
       "      <td>0.05</td>\n",
       "      <td>82000000.0</td>\n",
       "      <td>0.0</td>\n",
       "      <td>82000000.0</td>\n",
       "      <td>82000000.0</td>\n",
       "      <td>0.0</td>\n",
       "      <td>0.0</td>\n",
       "      <td>0.0</td>\n",
       "      <td>0.0</td>\n",
       "      <td>0.0</td>\n",
       "    </tr>\n",
       "  </tbody>\n",
       "</table>\n",
       "</div>"
      ],
      "text/plain": [
       "          zone                produit   origine  aliment_animal  autre  \\\n",
       "0  Afghanistan       Abats Comestible   animale             0.0    0.0   \n",
       "1  Afghanistan        Agrumes, Autres  vegetale             0.0    0.0   \n",
       "2  Afghanistan  Aliments pour enfants  vegetale             0.0    0.0   \n",
       "3  Afghanistan                 Ananas  vegetale             0.0    0.0   \n",
       "4  Afghanistan                Bananes  vegetale             0.0    0.0   \n",
       "\n",
       "   kcal_pers_jour  kg_pers_an  mg_g_pers_an  proteine_g_pers_jour  \\\n",
       "0             5.0        1.72          0.20                  0.77   \n",
       "1             1.0        1.29          0.01                  0.02   \n",
       "2             1.0        0.06          0.01                  0.03   \n",
       "3             0.0        0.00          0.00                  0.00   \n",
       "4             4.0        2.70          0.02                  0.05   \n",
       "\n",
       "   dispo_inter  expor_qte   impor_qte  nourriture     pertes  production  \\\n",
       "0   53000000.0        0.0         0.0  53000000.0        0.0  53000000.0   \n",
       "1   41000000.0  2000000.0  40000000.0  39000000.0  2000000.0   3000000.0   \n",
       "2    2000000.0        0.0   2000000.0   2000000.0        0.0         0.0   \n",
       "3          0.0        0.0         0.0         0.0        0.0         0.0   \n",
       "4   82000000.0        0.0  82000000.0  82000000.0        0.0         0.0   \n",
       "\n",
       "   semences  traitement  variation_stock  \n",
       "0       0.0         0.0              0.0  \n",
       "1       0.0         0.0              0.0  \n",
       "2       0.0         0.0              0.0  \n",
       "3       0.0         0.0              0.0  \n",
       "4       0.0         0.0              0.0  "
      ]
     },
     "execution_count": 727,
     "metadata": {},
     "output_type": "execute_result"
    }
   ],
   "source": [
    "dispo_alimentaire.head()"
   ]
  },
  {
   "cell_type": "markdown",
   "metadata": {},
   "source": [
    "## Import Data (population):"
   ]
  },
  {
   "cell_type": "code",
   "execution_count": 728,
   "metadata": {},
   "outputs": [],
   "source": [
    "population = pd.read_csv('population.csv')"
   ]
  },
  {
   "cell_type": "code",
   "execution_count": 729,
   "metadata": {},
   "outputs": [
    {
     "data": {
      "text/html": [
       "<div>\n",
       "<style scoped>\n",
       "    .dataframe tbody tr th:only-of-type {\n",
       "        vertical-align: middle;\n",
       "    }\n",
       "\n",
       "    .dataframe tbody tr th {\n",
       "        vertical-align: top;\n",
       "    }\n",
       "\n",
       "    .dataframe thead th {\n",
       "        text-align: right;\n",
       "    }\n",
       "</style>\n",
       "<table border=\"1\" class=\"dataframe\">\n",
       "  <thead>\n",
       "    <tr style=\"text-align: right;\">\n",
       "      <th></th>\n",
       "      <th>Zone</th>\n",
       "      <th>Année</th>\n",
       "      <th>Valeur</th>\n",
       "    </tr>\n",
       "  </thead>\n",
       "  <tbody>\n",
       "    <tr>\n",
       "      <th>0</th>\n",
       "      <td>Afghanistan</td>\n",
       "      <td>2013</td>\n",
       "      <td>32269.589</td>\n",
       "    </tr>\n",
       "    <tr>\n",
       "      <th>1</th>\n",
       "      <td>Afghanistan</td>\n",
       "      <td>2014</td>\n",
       "      <td>33370.794</td>\n",
       "    </tr>\n",
       "    <tr>\n",
       "      <th>2</th>\n",
       "      <td>Afghanistan</td>\n",
       "      <td>2015</td>\n",
       "      <td>34413.603</td>\n",
       "    </tr>\n",
       "    <tr>\n",
       "      <th>3</th>\n",
       "      <td>Afghanistan</td>\n",
       "      <td>2016</td>\n",
       "      <td>35383.032</td>\n",
       "    </tr>\n",
       "    <tr>\n",
       "      <th>4</th>\n",
       "      <td>Afghanistan</td>\n",
       "      <td>2017</td>\n",
       "      <td>36296.113</td>\n",
       "    </tr>\n",
       "  </tbody>\n",
       "</table>\n",
       "</div>"
      ],
      "text/plain": [
       "          Zone  Année     Valeur\n",
       "0  Afghanistan   2013  32269.589\n",
       "1  Afghanistan   2014  33370.794\n",
       "2  Afghanistan   2015  34413.603\n",
       "3  Afghanistan   2016  35383.032\n",
       "4  Afghanistan   2017  36296.113"
      ]
     },
     "execution_count": 729,
     "metadata": {},
     "output_type": "execute_result"
    }
   ],
   "source": [
    "population.head()"
   ]
  },
  {
   "cell_type": "code",
   "execution_count": 730,
   "metadata": {},
   "outputs": [
    {
     "name": "stdout",
     "output_type": "stream",
     "text": [
      "<class 'pandas.core.frame.DataFrame'>\n",
      "RangeIndex: 1416 entries, 0 to 1415\n",
      "Data columns (total 3 columns):\n",
      " #   Column  Non-Null Count  Dtype  \n",
      "---  ------  --------------  -----  \n",
      " 0   Zone    1416 non-null   object \n",
      " 1   Année   1416 non-null   int64  \n",
      " 2   Valeur  1416 non-null   float64\n",
      "dtypes: float64(1), int64(1), object(1)\n",
      "memory usage: 33.3+ KB\n"
     ]
    }
   ],
   "source": [
    "population.info()"
   ]
  },
  {
   "cell_type": "markdown",
   "metadata": {},
   "source": [
    "## Cleaning Data (population):"
   ]
  },
  {
   "cell_type": "code",
   "execution_count": 731,
   "metadata": {},
   "outputs": [],
   "source": [
    "population.columns = population.columns.str.lower()"
   ]
  },
  {
   "cell_type": "code",
   "execution_count": 732,
   "metadata": {},
   "outputs": [],
   "source": [
    "population = population.rename(columns={'valeur':'populations'})"
   ]
  },
  {
   "cell_type": "code",
   "execution_count": 733,
   "metadata": {},
   "outputs": [],
   "source": [
    "population['populations'] *= 1e3\n"
   ]
  },
  {
   "cell_type": "code",
   "execution_count": 734,
   "metadata": {},
   "outputs": [
    {
     "data": {
      "text/plain": [
       "0"
      ]
     },
     "execution_count": 734,
     "metadata": {},
     "output_type": "execute_result"
    }
   ],
   "source": [
    "population.duplicated(subset=['zone', 'année']).sum()"
   ]
  },
  {
   "cell_type": "code",
   "execution_count": 735,
   "metadata": {},
   "outputs": [
    {
     "data": {
      "text/plain": [
       "zone           0\n",
       "année          0\n",
       "populations    0\n",
       "dtype: int64"
      ]
     },
     "execution_count": 735,
     "metadata": {},
     "output_type": "execute_result"
    }
   ],
   "source": [
    "population.isnull().sum()"
   ]
  },
  {
   "cell_type": "code",
   "execution_count": 736,
   "metadata": {},
   "outputs": [
    {
     "data": {
      "text/html": [
       "<div>\n",
       "<style scoped>\n",
       "    .dataframe tbody tr th:only-of-type {\n",
       "        vertical-align: middle;\n",
       "    }\n",
       "\n",
       "    .dataframe tbody tr th {\n",
       "        vertical-align: top;\n",
       "    }\n",
       "\n",
       "    .dataframe thead th {\n",
       "        text-align: right;\n",
       "    }\n",
       "</style>\n",
       "<table border=\"1\" class=\"dataframe\">\n",
       "  <thead>\n",
       "    <tr style=\"text-align: right;\">\n",
       "      <th></th>\n",
       "      <th>zone</th>\n",
       "      <th>année</th>\n",
       "      <th>populations</th>\n",
       "    </tr>\n",
       "  </thead>\n",
       "  <tbody>\n",
       "    <tr>\n",
       "      <th>0</th>\n",
       "      <td>Afghanistan</td>\n",
       "      <td>2013</td>\n",
       "      <td>32269589.0</td>\n",
       "    </tr>\n",
       "    <tr>\n",
       "      <th>1</th>\n",
       "      <td>Afghanistan</td>\n",
       "      <td>2014</td>\n",
       "      <td>33370794.0</td>\n",
       "    </tr>\n",
       "    <tr>\n",
       "      <th>2</th>\n",
       "      <td>Afghanistan</td>\n",
       "      <td>2015</td>\n",
       "      <td>34413603.0</td>\n",
       "    </tr>\n",
       "    <tr>\n",
       "      <th>3</th>\n",
       "      <td>Afghanistan</td>\n",
       "      <td>2016</td>\n",
       "      <td>35383032.0</td>\n",
       "    </tr>\n",
       "    <tr>\n",
       "      <th>4</th>\n",
       "      <td>Afghanistan</td>\n",
       "      <td>2017</td>\n",
       "      <td>36296113.0</td>\n",
       "    </tr>\n",
       "  </tbody>\n",
       "</table>\n",
       "</div>"
      ],
      "text/plain": [
       "          zone  année  populations\n",
       "0  Afghanistan   2013   32269589.0\n",
       "1  Afghanistan   2014   33370794.0\n",
       "2  Afghanistan   2015   34413603.0\n",
       "3  Afghanistan   2016   35383032.0\n",
       "4  Afghanistan   2017   36296113.0"
      ]
     },
     "execution_count": 736,
     "metadata": {},
     "output_type": "execute_result"
    }
   ],
   "source": [
    "population.head()"
   ]
  },
  {
   "cell_type": "markdown",
   "metadata": {},
   "source": [
    "## Import Data (sous nutrition):"
   ]
  },
  {
   "cell_type": "code",
   "execution_count": 737,
   "metadata": {},
   "outputs": [],
   "source": [
    "sous_nutrition = pd.read_csv('sous_nutrition.csv')"
   ]
  },
  {
   "cell_type": "code",
   "execution_count": 738,
   "metadata": {},
   "outputs": [
    {
     "data": {
      "text/html": [
       "<div>\n",
       "<style scoped>\n",
       "    .dataframe tbody tr th:only-of-type {\n",
       "        vertical-align: middle;\n",
       "    }\n",
       "\n",
       "    .dataframe tbody tr th {\n",
       "        vertical-align: top;\n",
       "    }\n",
       "\n",
       "    .dataframe thead th {\n",
       "        text-align: right;\n",
       "    }\n",
       "</style>\n",
       "<table border=\"1\" class=\"dataframe\">\n",
       "  <thead>\n",
       "    <tr style=\"text-align: right;\">\n",
       "      <th></th>\n",
       "      <th>Zone</th>\n",
       "      <th>Année</th>\n",
       "      <th>Valeur</th>\n",
       "    </tr>\n",
       "  </thead>\n",
       "  <tbody>\n",
       "    <tr>\n",
       "      <th>0</th>\n",
       "      <td>Afghanistan</td>\n",
       "      <td>2012-2014</td>\n",
       "      <td>8.6</td>\n",
       "    </tr>\n",
       "    <tr>\n",
       "      <th>1</th>\n",
       "      <td>Afghanistan</td>\n",
       "      <td>2013-2015</td>\n",
       "      <td>8.8</td>\n",
       "    </tr>\n",
       "    <tr>\n",
       "      <th>2</th>\n",
       "      <td>Afghanistan</td>\n",
       "      <td>2014-2016</td>\n",
       "      <td>8.9</td>\n",
       "    </tr>\n",
       "    <tr>\n",
       "      <th>3</th>\n",
       "      <td>Afghanistan</td>\n",
       "      <td>2015-2017</td>\n",
       "      <td>9.7</td>\n",
       "    </tr>\n",
       "    <tr>\n",
       "      <th>4</th>\n",
       "      <td>Afghanistan</td>\n",
       "      <td>2016-2018</td>\n",
       "      <td>10.5</td>\n",
       "    </tr>\n",
       "  </tbody>\n",
       "</table>\n",
       "</div>"
      ],
      "text/plain": [
       "          Zone      Année Valeur\n",
       "0  Afghanistan  2012-2014    8.6\n",
       "1  Afghanistan  2013-2015    8.8\n",
       "2  Afghanistan  2014-2016    8.9\n",
       "3  Afghanistan  2015-2017    9.7\n",
       "4  Afghanistan  2016-2018   10.5"
      ]
     },
     "execution_count": 738,
     "metadata": {},
     "output_type": "execute_result"
    }
   ],
   "source": [
    "sous_nutrition.head()"
   ]
  },
  {
   "cell_type": "code",
   "execution_count": 739,
   "metadata": {},
   "outputs": [
    {
     "name": "stdout",
     "output_type": "stream",
     "text": [
      "<class 'pandas.core.frame.DataFrame'>\n",
      "RangeIndex: 1218 entries, 0 to 1217\n",
      "Data columns (total 3 columns):\n",
      " #   Column  Non-Null Count  Dtype \n",
      "---  ------  --------------  ----- \n",
      " 0   Zone    1218 non-null   object\n",
      " 1   Année   1218 non-null   object\n",
      " 2   Valeur  624 non-null    object\n",
      "dtypes: object(3)\n",
      "memory usage: 28.7+ KB\n"
     ]
    }
   ],
   "source": [
    "sous_nutrition.info()"
   ]
  },
  {
   "cell_type": "markdown",
   "metadata": {},
   "source": [
    "## Cleaning Data (sous nutrition):"
   ]
  },
  {
   "cell_type": "code",
   "execution_count": 740,
   "metadata": {},
   "outputs": [],
   "source": [
    "sous_nutrition.columns = sous_nutrition.columns.str.lower()"
   ]
  },
  {
   "cell_type": "code",
   "execution_count": 741,
   "metadata": {},
   "outputs": [],
   "source": [
    "sous_nutrition = sous_nutrition.rename(columns={'valeur' : 'populations'})"
   ]
  },
  {
   "cell_type": "code",
   "execution_count": 742,
   "metadata": {},
   "outputs": [],
   "source": [
    "sous_nutrition['année'] = sous_nutrition.année.apply(\n",
    "    lambda x: x.split('-')[0])"
   ]
  },
  {
   "cell_type": "code",
   "execution_count": 743,
   "metadata": {},
   "outputs": [],
   "source": [
    "sous_nutrition['année'] = pd.to_numeric(sous_nutrition.année)\n",
    "sous_nutrition['année'] = sous_nutrition.année.apply(\n",
    "    lambda x: x+1)"
   ]
  },
  {
   "cell_type": "code",
   "execution_count": 744,
   "metadata": {},
   "outputs": [
    {
     "data": {
      "text/plain": [
       "0"
      ]
     },
     "execution_count": 744,
     "metadata": {},
     "output_type": "execute_result"
    }
   ],
   "source": [
    "sous_nutrition.duplicated(subset=['zone', 'année']).sum()"
   ]
  },
  {
   "cell_type": "code",
   "execution_count": 745,
   "metadata": {},
   "outputs": [
    {
     "data": {
      "text/plain": [
       "zone             0\n",
       "année            0\n",
       "populations    594\n",
       "dtype: int64"
      ]
     },
     "execution_count": 745,
     "metadata": {},
     "output_type": "execute_result"
    }
   ],
   "source": [
    "sous_nutrition.isnull().sum()"
   ]
  },
  {
   "cell_type": "code",
   "execution_count": 746,
   "metadata": {},
   "outputs": [
    {
     "name": "stdout",
     "output_type": "stream",
     "text": [
      "['8.6' '8.8' '8.9' '9.7' '10.5' '11.1' '2.2' '2.5' '2.8' '3' '3.1' '3.3'\n",
      " '0.1' '1.3' '1.2' nan '7.6' '6.2' '5.3' '5.6' '5.8' '5.7' '1.5' '1.6'\n",
      " '1.1' '1.7' '<0.1' '21.7' '22.4' '23.3' '22.3' '21.5' '20.9' '0.8' '2'\n",
      " '1.9' '1.8' '0.4' '0.5' '0.3' '0.2' '3.2' '3.4' '3.6' '3.8' '2.1' '2.3'\n",
      " '2.4' '0.6' '0.7' '0.9' '3.9' '2.7' '1.4' '4.8' '4.6' '4.9' '5' '4.4'\n",
      " '4.3' '4.2' '4.5' '26.2' '24.3' '21.3' '21.1' '2.9' '5.1' '5.2' '5.4'\n",
      " '203.8' '198.3' '193.1' '190.9' '190.1' '189.2' '23.6' '24' '24.1' '3.7'\n",
      " '7.3' '7.8' '8.4' '9' '9.1' '10.1' '10' '10.7' '11.5' '11.9' '11.8' '8.7'\n",
      " '10.3' '11' '1' '5.5' '6.8' '7.9' '5.9' '7' '9.2' '9.4' '9.6' '6.7' '7.1'\n",
      " '7.2' '14.7' '17.4' '20.2' '22.2' '22.8' '24.6' '31.1' '28.5' '25.4'\n",
      " '24.8' '26.1' '14.5' '15.4' '16.5' '15.8' '15.7' '10.8' '11.2' '11.6'\n",
      " '12' '12.2' '13.5' '13.2' '12.8' '13' '13.4' '14.1' '4.1' '6.1' '6' '6.5'\n",
      " '2.6' '8' '8.3']\n"
     ]
    }
   ],
   "source": [
    "print(sous_nutrition.populations.unique())"
   ]
  },
  {
   "cell_type": "code",
   "execution_count": 747,
   "metadata": {},
   "outputs": [
    {
     "name": "stdout",
     "output_type": "stream",
     "text": [
      "['8.6' '8.8' '8.9' '9.7' '10.5' '11.1' '2.2' '2.5' '2.8' '3' '3.1' '3.3'\n",
      " '0.1' '1.3' '1.2' nan '7.6' '6.2' '5.3' '5.6' '5.8' '5.7' '1.5' '1.6'\n",
      " '1.1' '1.7' 0.1 '21.7' '22.4' '23.3' '22.3' '21.5' '20.9' '0.8' '2' '1.9'\n",
      " '1.8' '0.4' '0.5' '0.3' '0.2' '3.2' '3.4' '3.6' '3.8' '2.1' '2.3' '2.4'\n",
      " '0.6' '0.7' '0.9' '3.9' '2.7' '1.4' '4.8' '4.6' '4.9' '5' '4.4' '4.3'\n",
      " '4.2' '4.5' '26.2' '24.3' '21.3' '21.1' '2.9' '5.1' '5.2' '5.4' '203.8'\n",
      " '198.3' '193.1' '190.9' '190.1' '189.2' '23.6' '24' '24.1' '3.7' '7.3'\n",
      " '7.8' '8.4' '9' '9.1' '10.1' '10' '10.7' '11.5' '11.9' '11.8' '8.7'\n",
      " '10.3' '11' '1' '5.5' '6.8' '7.9' '5.9' '7' '9.2' '9.4' '9.6' '6.7' '7.1'\n",
      " '7.2' '14.7' '17.4' '20.2' '22.2' '22.8' '24.6' '31.1' '28.5' '25.4'\n",
      " '24.8' '26.1' '14.5' '15.4' '16.5' '15.8' '15.7' '10.8' '11.2' '11.6'\n",
      " '12' '12.2' '13.5' '13.2' '12.8' '13' '13.4' '14.1' '4.1' '6.1' '6' '6.5'\n",
      " '2.6' '8' '8.3']\n"
     ]
    },
    {
     "data": {
      "text/plain": [
       "zone           object\n",
       "année           int64\n",
       "populations    object\n",
       "dtype: object"
      ]
     },
     "execution_count": 747,
     "metadata": {},
     "output_type": "execute_result"
    }
   ],
   "source": [
    "sous_nutrition['populations'] = sous_nutrition['populations'].replace(['<0.1'], 0.1)\n",
    "print(sous_nutrition.populations.unique())\n",
    "sous_nutrition.dtypes"
   ]
  },
  {
   "cell_type": "code",
   "execution_count": 748,
   "metadata": {},
   "outputs": [],
   "source": [
    "sous_nutrition['populations'] = pd.to_numeric(sous_nutrition['populations'], errors='coerce')\n",
    "sous_nutrition['populations'] = sous_nutrition.populations.fillna(0)"
   ]
  },
  {
   "cell_type": "code",
   "execution_count": 749,
   "metadata": {},
   "outputs": [],
   "source": [
    "sous_nutrition['populations'] *= 1e6"
   ]
  },
  {
   "cell_type": "code",
   "execution_count": 750,
   "metadata": {},
   "outputs": [
    {
     "data": {
      "text/plain": [
       "array(['Allemagne', 'Andorre', 'Antigua-et-Barbuda', 'Argentine',\n",
       "       'Australie', 'Autriche', 'Azerbaïdjan', 'Bahamas', 'Bahreïn',\n",
       "       'Bélarus', 'Belgique', 'Bermudes', 'Bhoutan', 'Bosnie-Herzégovine',\n",
       "       'Brésil', 'Brunéi Darussalam', 'Burundi', 'Canada',\n",
       "       'Chine - RAS de Hong-Kong', 'Chine, continentale', 'Comores',\n",
       "       'Croatie', 'Cuba', 'Danemark', 'Djibouti', 'Érythrée', 'Espagne',\n",
       "       'Estonie', \"États-Unis d'Amérique\", 'Fédération de Russie',\n",
       "       'Finlande', 'France', 'Grèce', 'Grenade', 'Groenland', 'Guinée',\n",
       "       'Guinée équatoriale', 'Guinée-Bissau', 'Hongrie', 'Îles Cook',\n",
       "       'Îles Marshall', 'Irlande', 'Islande', 'Israël', 'Italie', 'Japon',\n",
       "       'Kazakhstan', 'Koweït', 'Lettonie', 'Libye', 'Lituanie',\n",
       "       'Luxembourg', 'Maldives', 'Malte', 'Micronésie (États fédérés de)',\n",
       "       'Monténégro', 'Nauru', 'Niger', 'Nioué', 'Norvège',\n",
       "       'Nouvelle-Zélande', 'Ouganda', 'Palaos', 'Palestine',\n",
       "       'Papouasie-Nouvelle-Guinée', 'Pays-Bas', 'Pologne', 'Porto Rico',\n",
       "       'Portugal', 'Qatar', 'République arabe syrienne',\n",
       "       'République centrafricaine', 'République de Corée',\n",
       "       'République de Moldova', 'République démocratique du Congo',\n",
       "       'République démocratique populaire lao', 'Roumanie',\n",
       "       \"Royaume-Uni de Grande-Bretagne et d'Irlande du Nord\",\n",
       "       'Sainte-Lucie', 'Saint-Kitts-et-Nevis', 'Samoa',\n",
       "       'Samoa américaines', 'Seychelles', 'Singapour', 'Slovénie',\n",
       "       'Somalie', 'Soudan du Sud', 'Suède', 'Suisse', 'Tadjikistan',\n",
       "       'Tchéquie', 'Tokélaou', 'Tonga', 'Tunisie', 'Turquie', 'Tuvalu',\n",
       "       'Ukraine', 'Uruguay', 'Yémen', 'Zambie', 'Zimbabwe'], dtype=object)"
      ]
     },
     "execution_count": 750,
     "metadata": {},
     "output_type": "execute_result"
    }
   ],
   "source": [
    "ss = sous_nutrition[sous_nutrition['populations'] == 0.0]\n",
    "ss.zone.unique()"
   ]
  },
  {
   "cell_type": "code",
   "execution_count": 751,
   "metadata": {},
   "outputs": [
    {
     "data": {
      "text/plain": [
       "array(['Albanie', 'Arménie', 'Barbade', 'Belize', 'Cabo Verde',\n",
       "       'Chine - RAS de Macao', 'Chypre', 'Dominique', 'Eswatini', 'Fidji',\n",
       "       'Guyana', 'Îles Salomon', 'Kiribati', 'Macédoine du Nord',\n",
       "       'Maurice', 'Nouvelle-Calédonie', 'Polynésie française',\n",
       "       'Saint-Vincent-et-les Grenadines', 'Samoa', 'Sao Tomé-et-Principe',\n",
       "       'Suriname', 'Trinité-et-Tobago', 'Vanuatu'], dtype=object)"
      ]
     },
     "execution_count": 751,
     "metadata": {},
     "output_type": "execute_result"
    }
   ],
   "source": [
    "ss1 = sous_nutrition[sous_nutrition['populations'] == 100000]\n",
    "ss1.zone.unique()"
   ]
  },
  {
   "cell_type": "code",
   "execution_count": 752,
   "metadata": {},
   "outputs": [],
   "source": [
    "sous_nutrition['populations'] = sous_nutrition['populations'].replace([100000], 0.0)"
   ]
  },
  {
   "cell_type": "code",
   "execution_count": 753,
   "metadata": {},
   "outputs": [
    {
     "data": {
      "text/html": [
       "<div>\n",
       "<style scoped>\n",
       "    .dataframe tbody tr th:only-of-type {\n",
       "        vertical-align: middle;\n",
       "    }\n",
       "\n",
       "    .dataframe tbody tr th {\n",
       "        vertical-align: top;\n",
       "    }\n",
       "\n",
       "    .dataframe thead th {\n",
       "        text-align: right;\n",
       "    }\n",
       "</style>\n",
       "<table border=\"1\" class=\"dataframe\">\n",
       "  <thead>\n",
       "    <tr style=\"text-align: right;\">\n",
       "      <th></th>\n",
       "      <th>zone</th>\n",
       "      <th>année</th>\n",
       "      <th>populations</th>\n",
       "    </tr>\n",
       "  </thead>\n",
       "  <tbody>\n",
       "    <tr>\n",
       "      <th>0</th>\n",
       "      <td>Afghanistan</td>\n",
       "      <td>2013</td>\n",
       "      <td>8600000.0</td>\n",
       "    </tr>\n",
       "    <tr>\n",
       "      <th>1</th>\n",
       "      <td>Afghanistan</td>\n",
       "      <td>2014</td>\n",
       "      <td>8800000.0</td>\n",
       "    </tr>\n",
       "    <tr>\n",
       "      <th>2</th>\n",
       "      <td>Afghanistan</td>\n",
       "      <td>2015</td>\n",
       "      <td>8900000.0</td>\n",
       "    </tr>\n",
       "    <tr>\n",
       "      <th>3</th>\n",
       "      <td>Afghanistan</td>\n",
       "      <td>2016</td>\n",
       "      <td>9700000.0</td>\n",
       "    </tr>\n",
       "    <tr>\n",
       "      <th>4</th>\n",
       "      <td>Afghanistan</td>\n",
       "      <td>2017</td>\n",
       "      <td>10500000.0</td>\n",
       "    </tr>\n",
       "  </tbody>\n",
       "</table>\n",
       "</div>"
      ],
      "text/plain": [
       "          zone  année  populations\n",
       "0  Afghanistan   2013    8600000.0\n",
       "1  Afghanistan   2014    8800000.0\n",
       "2  Afghanistan   2015    8900000.0\n",
       "3  Afghanistan   2016    9700000.0\n",
       "4  Afghanistan   2017   10500000.0"
      ]
     },
     "execution_count": 753,
     "metadata": {},
     "output_type": "execute_result"
    }
   ],
   "source": [
    "sous_nutrition.head()"
   ]
  },
  {
   "cell_type": "markdown",
   "metadata": {},
   "source": [
    "## Data (mark):"
   ]
  },
  {
   "cell_type": "markdown",
   "metadata": {},
   "source": [
    "### 1) Proportion de personnes en état de sous-nutrition en 2017:"
   ]
  },
  {
   "cell_type": "code",
   "execution_count": 754,
   "metadata": {},
   "outputs": [
    {
     "name": "stdout",
     "output_type": "stream",
     "text": [
      "taux: 7.1\n"
     ]
    }
   ],
   "source": [
    "#total de la population en sous-nutrition sur 2017:\n",
    "sous_nutrition_2017 = sous_nutrition[sous_nutrition.année == 2017]\n",
    "\n",
    "#total de la population global sur 2017:\n",
    "population_2017 = population[population.année == 2017]\n",
    "\n",
    "#jointure:\n",
    "total_pop = population_2017.merge(sous_nutrition_2017,how='inner', on='zone')\n",
    "\n",
    "#calcul de la proportion de personnes en sous-nutrition:\n",
    "proportion = (total_pop.populations_y.sum() / total_pop.populations_x.sum())*100\n",
    "print('taux:', \"{:.2}\".format(proportion))"
   ]
  },
  {
   "cell_type": "markdown",
   "metadata": {},
   "source": [
    "### 2) Nombre théorique de personnes qui pourraient être nourries en 2017:"
   ]
  },
  {
   "cell_type": "code",
   "execution_count": 755,
   "metadata": {},
   "outputs": [
    {
     "name": "stdout",
     "output_type": "stream",
     "text": [
      "disponibilité total en kcal: 7.6e+15\n",
      "nombre de personnes nourries: 8.4e+09\n",
      "taux: 110.86%\n"
     ]
    }
   ],
   "source": [
    "#calcul nombre théorique de personnes nourries:\n",
    "df = dispo_alimentaire.merge(population[population.année == 2017], on='zone', how='inner')\n",
    "\n",
    "dispo_tot_kcal = (df.kcal_pers_jour * df.populations)*365\n",
    "dispo_tot_sum = dispo_tot_kcal.sum()\n",
    "print('disponibilité total en kcal:', \"{:.2}\".format(dispo_tot_sum))\n",
    "\n",
    "kcal_pers = 2500\n",
    "dispo_pers = (dispo_tot_sum / (kcal_pers*365))\n",
    "print('nombre de personnes nourries:', \"{:.2}\".format(dispo_pers))\n",
    "\n",
    "taux = dispo_pers / population[population.année == 2017].populations.sum()\n",
    "print('taux:', \"{:.2%}\".format(taux))"
   ]
  },
  {
   "cell_type": "code",
   "execution_count": null,
   "metadata": {},
   "outputs": [],
   "source": []
  },
  {
   "cell_type": "markdown",
   "metadata": {},
   "source": [
    "### 3) Disponibilité alimentaire des produits végétaux en 2017:"
   ]
  },
  {
   "cell_type": "code",
   "execution_count": 756,
   "metadata": {},
   "outputs": [
    {
     "name": "stdout",
     "output_type": "stream",
     "text": [
      "disponibilité total en kcal: 6.3e+15\n",
      "nombres de peronnes nourries: 6.9e+09\n",
      "taux: 91%\n"
     ]
    }
   ],
   "source": [
    "#calcul dispo vegetale:\n",
    "df = dispo_alimentaire.merge(population[population.année == 2017], on='zone', how='inner')\n",
    "\n",
    "dispo_vegetale = (df[df.origine == 'vegetale'].kcal_pers_jour * df.populations)*365\n",
    "dispo_vegetale_sum = dispo_vegetale.sum()\n",
    "print('disponibilité total en kcal:', \"{:.2}\".format(dispo_vegetale_sum))\n",
    "\n",
    "kcal_pers = 2500\n",
    "dispo_pers = (dispo_vegetale_sum / (kcal_pers*365))\n",
    "print('nombres de peronnes nourries:', \"{:.2}\".format(dispo_pers))\n",
    "\n",
    "taux = dispo_pers / population[population.année == 2017].populations.sum()\n",
    "\n",
    "print('taux:', \"{:.0%}\".format(taux))"
   ]
  },
  {
   "cell_type": "markdown",
   "metadata": {},
   "source": [
    "### 4) Proportion des disponibilités intérieurs pour l'alimentation (animale, humaine, perte) en 2017:"
   ]
  },
  {
   "cell_type": "code",
   "execution_count": 757,
   "metadata": {},
   "outputs": [
    {
     "name": "stdout",
     "output_type": "stream",
     "text": [
      "taux nourriture humaine: 49.5\n"
     ]
    }
   ],
   "source": [
    "#proportion nourriture humaine:\n",
    "nourriture_humaine_total = dispo_alimentaire.nourriture.sum()\n",
    "dispo_alimentaire_total = dispo_alimentaire.dispo_inter.sum()\n",
    "taux_nourriture_humaine = (nourriture_humaine_total / dispo_alimentaire_total)*100\n",
    "print('taux nourriture humaine:', \"{:.3}\".format(taux_nourriture_humaine))"
   ]
  },
  {
   "cell_type": "code",
   "execution_count": 758,
   "metadata": {},
   "outputs": [
    {
     "name": "stdout",
     "output_type": "stream",
     "text": [
      "taux nourriture animal: 13.2\n"
     ]
    }
   ],
   "source": [
    "#proportion nourriture animal:\n",
    "nourriture_animal_total = dispo_alimentaire.aliment_animal.sum()\n",
    "taux_nourriture_animal = (nourriture_animal_total / dispo_alimentaire_total)*100\n",
    "print('taux nourriture animal:', \"{:.3}\".format(taux_nourriture_animal))"
   ]
  },
  {
   "cell_type": "code",
   "execution_count": 759,
   "metadata": {},
   "outputs": [
    {
     "name": "stdout",
     "output_type": "stream",
     "text": [
      "taux pertes: 4.6\n"
     ]
    }
   ],
   "source": [
    "#proportion des pertes:\n",
    "pertes_total = dispo_alimentaire.pertes.sum()\n",
    "taux_pertes = (pertes_total / dispo_alimentaire_total)*100\n",
    "print('taux pertes:', \"{:.2}\".format(taux_pertes))"
   ]
  },
  {
   "cell_type": "code",
   "execution_count": 760,
   "metadata": {},
   "outputs": [
    {
     "name": "stdout",
     "output_type": "stream",
     "text": [
      "taux semences: 1.6\n",
      "taux traitement: 22.4\n",
      "taux autre: 8.8\n",
      "taux total: 100.1\n"
     ]
    }
   ],
   "source": [
    "#proportion de semence, traitement et autre:\n",
    "semence_total = dispo_alimentaire.semences.sum()\n",
    "traitement_total = dispo_alimentaire.traitement.sum()\n",
    "autre_total = dispo_alimentaire.autre.sum()\n",
    "taux_semence = (semence_total / dispo_alimentaire_total)*100\n",
    "taux_traitement = (traitement_total / dispo_alimentaire_total)*100\n",
    "taux_autre = (autre_total / dispo_alimentaire_total)*100\n",
    "print('taux semences:', \"{:.2}\".format(taux_semence))\n",
    "print('taux traitement:', \"{:.3}\".format(taux_traitement))\n",
    "print('taux autre:', \"{:.2}\".format(taux_autre))\n",
    "print('taux total:',\"{:.4}\".format(taux_nourriture_humaine + taux_nourriture_animal + taux_pertes + taux_semence + taux_traitement + taux_autre))"
   ]
  },
  {
   "cell_type": "markdown",
   "metadata": {},
   "source": [
    "## Data (melanie):"
   ]
  },
  {
   "cell_type": "markdown",
   "metadata": {},
   "source": [
    "### 1) Liste des 10 pays ou la proportion de personnes sous-alimentées est la plus élevée:"
   ]
  },
  {
   "cell_type": "code",
   "execution_count": 761,
   "metadata": {},
   "outputs": [
    {
     "name": "stdout",
     "output_type": "stream",
     "text": [
      "                                           zone  proportion\n",
      "72                                        Haïti   48.259182\n",
      "151  République populaire démocratique de Corée   47.188685\n",
      "99                                   Madagascar   41.062924\n",
      "95                                      Libéria   38.279742\n",
      "91                                      Lesotho   38.249438\n",
      "174                                       Tchad   37.957606\n",
      "143                                      Rwanda   35.055619\n",
      "112                                  Mozambique   32.810898\n",
      "177                                 Timor-Leste   32.173531\n",
      "0                                   Afghanistan   28.928718\n"
     ]
    }
   ],
   "source": [
    "#jointure:\n",
    "pop_sous_alimente = sous_nutrition[sous_nutrition.année == 2017].groupby('zone').sum().reset_index()\n",
    "pop_global = population[population.année == 2017].groupby('zone').sum().reset_index()\n",
    "df = pop_sous_alimente.merge(pop_global, how='inner', on='zone')\n",
    "\n",
    "#calcul:\n",
    "proportion = (df.populations_x/df.populations_y)*100\n",
    "df['proportion'] = proportion\n",
    "print(df[['zone','proportion']].sort_values(by='proportion', ascending=False).head(10))"
   ]
  },
  {
   "cell_type": "markdown",
   "metadata": {},
   "source": [
    "### 2) Liste des 10 pays qui ont le plus bénéficiés d'aide alimentaires:"
   ]
  },
  {
   "cell_type": "code",
   "execution_count": 762,
   "metadata": {},
   "outputs": [
    {
     "name": "stdout",
     "output_type": "stream",
     "text": [
      "zone\n",
      "République arabe syrienne           1.858943e+09\n",
      "Éthiopie                            1.381294e+09\n",
      "Yémen                               1.206484e+09\n",
      "Soudan du Sud                       6.952480e+08\n",
      "Soudan                              6.697840e+08\n",
      "Kenya                               5.528360e+08\n",
      "Bangladesh                          3.481880e+08\n",
      "Somalie                             2.926780e+08\n",
      "République démocratique du Congo    2.885020e+08\n",
      "Niger                               2.763440e+08\n",
      "Name: valeur, dtype: float64\n"
     ]
    }
   ],
   "source": [
    "#calcul:\n",
    "pays_aide_alimentaire = aide_alimentaire.groupby(['zone']).valeur.sum()\n",
    "print(pays_aide_alimentaire.sort_values(ascending=False).head(10))"
   ]
  },
  {
   "cell_type": "markdown",
   "metadata": {},
   "source": [
    "### 3) Liste des 10 pays ayants le plus de disponibilités alimentaires par habitant en 2013:"
   ]
  },
  {
   "cell_type": "code",
   "execution_count": 763,
   "metadata": {
    "scrolled": false
   },
   "outputs": [
    {
     "name": "stdout",
     "output_type": "stream",
     "text": [
      "zone\n",
      "Chine, continentale      2.036726e+12\n",
      "Inde                     1.100838e+12\n",
      "Brésil                   1.033314e+12\n",
      "États-Unis d'Amérique    7.779920e+11\n",
      "Fédération de Russie     2.637840e+11\n",
      "Indonésie                2.269300e+11\n",
      "Nigéria                  1.923880e+11\n",
      "Mexique                  1.867090e+11\n",
      "Pakistan                 1.686310e+11\n",
      "Allemagne                1.622750e+11\n",
      "Name: dispo_inter, dtype: float64\n"
     ]
    }
   ],
   "source": [
    "#Pays ayant le plus de disponibilités alimentaire:\n",
    "dataf = dispo_alimentaire.groupby('zone').dispo_inter.sum()\n",
    "print(dataf.sort_values(ascending=False).head(10))"
   ]
  },
  {
   "cell_type": "code",
   "execution_count": 764,
   "metadata": {},
   "outputs": [
    {
     "name": "stdout",
     "output_type": "stream",
     "text": [
      "zone\n",
      "Eswatini    65.387488\n",
      "Brésil      53.541118\n",
      "Belize      50.115970\n",
      "Guyana      48.685661\n",
      "Maurice     41.725701\n",
      "Danemark    37.663955\n",
      "Vanuatu     32.862762\n",
      "Bélarus     32.094165\n",
      "Fidji       31.042883\n",
      "Kiribati    30.599406\n",
      "dtype: float64\n"
     ]
    }
   ],
   "source": [
    "#jointure dataframe:\n",
    "df = dispo_alimentaire.merge(population, on='zone', how='inner')\n",
    "\n",
    "#calcul pour 2013:\n",
    "pays_dispo_alimentaire = df[df.année == 2013].groupby('zone').dispo_inter.sum()\n",
    "total_pop_pays = df[df.année == 2013].groupby('zone').populations.sum()\n",
    "dispo_alimentaire_habitant = pays_dispo_alimentaire/total_pop_pays\n",
    "print(dispo_alimentaire_habitant.sort_values(ascending=False).head(10))"
   ]
  },
  {
   "cell_type": "markdown",
   "metadata": {},
   "source": [
    "### 4) Liste des 10 pays ayant le moins de disponibilités alimentaires par habitant en 2013:"
   ]
  },
  {
   "cell_type": "code",
   "execution_count": 765,
   "metadata": {
    "scrolled": true
   },
   "outputs": [
    {
     "name": "stdout",
     "output_type": "stream",
     "text": [
      "zone\n",
      "Yémen          4.182699\n",
      "Éthiopie       5.015558\n",
      "Bangladesh     5.066794\n",
      "Tchad          5.495851\n",
      "Gambie         5.502129\n",
      "Sénégal        5.847404\n",
      "Mauritanie     6.234456\n",
      "Timor-Leste    6.353860\n",
      "Sri Lanka      6.438649\n",
      "Libéria        6.455391\n",
      "dtype: float64\n"
     ]
    }
   ],
   "source": [
    "#calcul pour 2013:\n",
    "pays_dispo_alimentaire = df[df.année == 2013].groupby('zone').dispo_inter.sum()\n",
    "total_pop_pays = df[df.année == 2013].groupby('zone').populations.sum()\n",
    "dispo_alimentaire_habitant = pays_dispo_alimentaire/total_pop_pays\n",
    "print(dispo_alimentaire_habitant.sort_values(ascending=True).head(10))"
   ]
  },
  {
   "cell_type": "markdown",
   "metadata": {},
   "source": [
    "### 5) Liste des 10 pays qui importent le plus nourriture, comparaison avec la situation de la population du pays:"
   ]
  },
  {
   "cell_type": "code",
   "execution_count": 766,
   "metadata": {},
   "outputs": [
    {
     "name": "stdout",
     "output_type": "stream",
     "text": [
      "                      zone     impor_qte  populations\n",
      "36     Chine, continentale  1.562460e+11          0.0\n",
      "169  États-Unis d'Amérique  8.188700e+10          0.0\n",
      "4                Allemagne  6.535300e+10          0.0\n",
      "77                   Japon  5.541400e+10          0.0\n",
      "119               Pays-Bas  5.291000e+10          0.0\n",
      "75                  Italie  3.869200e+10          0.0\n",
      "16                Belgique  3.527600e+10          0.0\n",
      "53                  France  3.376900e+10          0.0\n",
      "48                 Espagne  3.260800e+10          0.0\n",
      "100                Mexique  3.251200e+10  465500000.0\n"
     ]
    }
   ],
   "source": [
    "#jointure dataframe:\n",
    "pays_dispo_alimentaire = dispo_alimentaire.merge(sous_nutrition, on='zone', how='inner')\n",
    "\n",
    "#calcul pour 2013:\n",
    "pays_sous_nutri_2013 = pays_dispo_alimentaire[pays_dispo_alimentaire['année'] == 2013].groupby('zone').populations.sum().reset_index()\n",
    "pays_impor_2013 = pays_dispo_alimentaire[pays_dispo_alimentaire['année'] == 2013].groupby('zone').impor_qte.sum().reset_index()\n",
    "pays_impor = pays_impor_2013.merge(pays_sous_nutri_2013, on='zone', how='inner')\n",
    "print(pays_impor.sort_values(by=['impor_qte'], ascending=False).head(10))"
   ]
  },
  {
   "cell_type": "markdown",
   "metadata": {},
   "source": [
    "### 6) Liste des 10 pays qui exportent le plus, comparaison avec la situation de la population du pays:"
   ]
  },
  {
   "cell_type": "code",
   "execution_count": 767,
   "metadata": {},
   "outputs": [
    {
     "name": "stdout",
     "output_type": "stream",
     "text": [
      "                      zone     expor_qte   populations\n",
      "169  États-Unis d'Amérique  1.635240e+11  0.000000e+00\n",
      "23                  Brésil  1.265520e+11  0.000000e+00\n",
      "53                  France  6.594500e+10  0.000000e+00\n",
      "4                Allemagne  5.743100e+10  0.000000e+00\n",
      "31                  Canada  5.477100e+10  0.000000e+00\n",
      "8                Argentine  5.233300e+10  1.116000e+08\n",
      "119               Pays-Bas  5.217900e+10  0.000000e+00\n",
      "151              Thaïlande  5.043000e+10  5.890000e+08\n",
      "10               Australie  4.318400e+10  0.000000e+00\n",
      "68                    Inde  4.080700e+10  1.976860e+10\n"
     ]
    }
   ],
   "source": [
    "#calcul pour 2013:\n",
    "pays_sous_nutri_2013 = pays_dispo_alimentaire[pays_dispo_alimentaire['année'] == 2013].groupby('zone').populations.sum().reset_index()\n",
    "pays_expor_2013 = pays_dispo_alimentaire[pays_dispo_alimentaire['année'] == 2013].groupby('zone').expor_qte.sum().reset_index()\n",
    "pays_expor = pays_expor_2013.merge(pays_sous_nutri_2013, on='zone', how='inner')\n",
    "print(pays_expor.sort_values(by=['expor_qte'], ascending=False).head(10))"
   ]
  },
  {
   "cell_type": "markdown",
   "metadata": {},
   "source": [
    "### 7) Liste des 10 pays avec la population en sous-nutrition la plus élevée, en comparant la différence entre l'impor et l'expor:"
   ]
  },
  {
   "cell_type": "code",
   "execution_count": 768,
   "metadata": {},
   "outputs": [
    {
     "name": "stdout",
     "output_type": "stream",
     "text": [
      "zone                            populations\n",
      "Chine, continentale             0.0            1.201860e+11\n",
      "Japon                           0.0            5.343800e+10\n",
      "République de Corée             0.0            2.642300e+10\n",
      "Arabie saoudite                 1500000.0      2.296800e+10\n",
      "Égypte                          4400000.0      1.908300e+10\n",
      "Algérie                         1300000.0      1.668300e+10\n",
      "Italie                          0.0            1.503500e+10\n",
      "Nigéria                         14700000.0     1.369300e+10\n",
      "Iran (République islamique d')  3600000.0      1.304600e+10\n",
      "Chine, Taiwan Province de       900000.0       1.296600e+10\n",
      "dtype: float64\n"
     ]
    }
   ],
   "source": [
    "#calcul pour 2013:\n",
    "pays_sous_nutri_2013 = pays_dispo_alimentaire[pays_dispo_alimentaire['année'] == 2013].groupby(['zone', 'populations', 'expor_qte', 'impor_qte']).sum().reset_index()\n",
    "pays_sous_nutri = pays_sous_nutri_2013[['zone', 'populations', 'expor_qte', 'impor_qte']]\n",
    "impor_pays = pays_sous_nutri.groupby(['zone', 'populations']).impor_qte.sum()\n",
    "expor_pays = pays_sous_nutri.groupby(['zone', 'populations']).expor_qte.sum()\n",
    "diff_impor_expor = impor_pays - expor_pays\n",
    "\n",
    "#résultat descendant:\n",
    "print(diff_impor_expor.sort_values(ascending=False).head(10))"
   ]
  },
  {
   "cell_type": "code",
   "execution_count": 769,
   "metadata": {},
   "outputs": [
    {
     "name": "stdout",
     "output_type": "stream",
     "text": [
      "zone                   populations\n",
      "Brésil                 0.0           -1.097300e+11\n",
      "États-Unis d'Amérique  0.0           -8.163700e+10\n",
      "Argentine              1200000.0     -5.112600e+10\n",
      "Thaïlande              6200000.0     -3.913200e+10\n",
      "Australie              0.0           -3.732100e+10\n",
      "Canada                 0.0           -3.538600e+10\n",
      "Ukraine                0.0           -3.429200e+10\n",
      "France                 0.0           -3.217700e+10\n",
      "Inde                   203800000.0   -2.185100e+10\n",
      "Nouvelle-Zélande       0.0           -2.078100e+10\n",
      "dtype: float64\n"
     ]
    }
   ],
   "source": [
    "#résultat ascendant:\n",
    "print(diff_impor_expor.sort_values(ascending=True).head(10))"
   ]
  },
  {
   "cell_type": "code",
   "execution_count": null,
   "metadata": {},
   "outputs": [],
   "source": []
  },
  {
   "cell_type": "code",
   "execution_count": null,
   "metadata": {},
   "outputs": [],
   "source": []
  },
  {
   "cell_type": "code",
   "execution_count": null,
   "metadata": {},
   "outputs": [],
   "source": []
  }
 ],
 "metadata": {
  "kernelspec": {
   "display_name": "Python 3",
   "language": "python",
   "name": "python3"
  },
  "language_info": {
   "codemirror_mode": {
    "name": "ipython",
    "version": 3
   },
   "file_extension": ".py",
   "mimetype": "text/x-python",
   "name": "python",
   "nbconvert_exporter": "python",
   "pygments_lexer": "ipython3",
   "version": "3.8.8"
  }
 },
 "nbformat": 4,
 "nbformat_minor": 4
}
