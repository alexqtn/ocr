{
 "cells": [
  {
   "cell_type": "markdown",
   "id": "4e00789e",
   "metadata": {
    "extensions": {
     "jupyter_dashboards": {
      "version": 1,
      "views": {
       "grid_default": {},
       "report_default": {
        "hidden": false
       }
      }
     }
    }
   },
   "source": [
    "### Code couleur: Noir = Titre et Text,  <font color='green'>Vert = Conclusion</font>"
   ]
  },
  {
   "cell_type": "markdown",
   "id": "7f1040c1",
   "metadata": {
    "extensions": {
     "jupyter_dashboards": {
      "version": 1,
      "views": {
       "grid_default": {},
       "report_default": {
        "hidden": true
       }
      }
     }
    }
   },
   "source": [
    "### Import des librairies"
   ]
  },
  {
   "cell_type": "code",
   "execution_count": 96,
   "id": "25846db8",
   "metadata": {
    "extensions": {
     "jupyter_dashboards": {
      "version": 1,
      "views": {
       "grid_default": {},
       "report_default": {
        "hidden": true
       }
      }
     }
    }
   },
   "outputs": [],
   "source": [
    "#Librairie:\n",
    "\n",
    "import pandas as pd\n",
    "import numpy as np\n",
    "import matplotlib.pyplot as plt\n",
    "import seaborn as sns\n",
    "from sklearn.preprocessing import MinMaxScaler, StandardScaler\n",
    "from scipy.cluster.hierarchy import linkage, dendrogram\n",
    "from scipy import stats\n",
    "from sklearn.cluster import KMeans\n",
    "from sklearn.decomposition import PCA\n",
    "from sklearn.model_selection import train_test_split\n",
    "from sklearn.neighbors import KNeighborsClassifier\n",
    "from sklearn.metrics import classification_report, confusion_matrix\n",
    "from sklearn.linear_model import LogisticRegression, LinearRegression\n",
    "from sklearn.metrics import mean_squared_error, r2_score\n",
    "from sklearn.pipeline import Pipeline\n",
    "from functions import *"
   ]
  },
  {
   "cell_type": "markdown",
   "id": "704e300a",
   "metadata": {
    "extensions": {
     "jupyter_dashboards": {
      "version": 1,
      "views": {
       "grid_default": {},
       "report_default": {
        "hidden": true
       }
      }
     }
    }
   },
   "source": [
    "### Import & Cleaning "
   ]
  },
  {
   "cell_type": "markdown",
   "id": "a7fe31c3",
   "metadata": {
    "extensions": {
     "jupyter_dashboards": {
      "version": 1,
      "views": {
       "grid_default": {},
       "report_default": {
        "hidden": false
       }
      }
     }
    }
   },
   "source": [
    "##### Import data:"
   ]
  },
  {
   "cell_type": "code",
   "execution_count": 97,
   "id": "41eec0f0",
   "metadata": {
    "extensions": {
     "jupyter_dashboards": {
      "version": 1,
      "views": {
       "grid_default": {},
       "report_default": {
        "hidden": false
       }
      }
     }
    }
   },
   "outputs": [
    {
     "data": {
      "text/html": [
       "<div>\n",
       "<style scoped>\n",
       "    .dataframe tbody tr th:only-of-type {\n",
       "        vertical-align: middle;\n",
       "    }\n",
       "\n",
       "    .dataframe tbody tr th {\n",
       "        vertical-align: top;\n",
       "    }\n",
       "\n",
       "    .dataframe thead th {\n",
       "        text-align: right;\n",
       "    }\n",
       "</style>\n",
       "<table border=\"1\" class=\"dataframe\">\n",
       "  <thead>\n",
       "    <tr style=\"text-align: right;\">\n",
       "      <th></th>\n",
       "      <th>is_genuine</th>\n",
       "      <th>diagonal</th>\n",
       "      <th>height_left</th>\n",
       "      <th>height_right</th>\n",
       "      <th>margin_low</th>\n",
       "      <th>margin_up</th>\n",
       "      <th>length</th>\n",
       "    </tr>\n",
       "  </thead>\n",
       "  <tbody>\n",
       "    <tr>\n",
       "      <th>0</th>\n",
       "      <td>True</td>\n",
       "      <td>171.81</td>\n",
       "      <td>104.86</td>\n",
       "      <td>104.95</td>\n",
       "      <td>4.52</td>\n",
       "      <td>2.89</td>\n",
       "      <td>112.83</td>\n",
       "    </tr>\n",
       "    <tr>\n",
       "      <th>1</th>\n",
       "      <td>True</td>\n",
       "      <td>171.46</td>\n",
       "      <td>103.36</td>\n",
       "      <td>103.66</td>\n",
       "      <td>3.77</td>\n",
       "      <td>2.99</td>\n",
       "      <td>113.09</td>\n",
       "    </tr>\n",
       "    <tr>\n",
       "      <th>2</th>\n",
       "      <td>True</td>\n",
       "      <td>172.69</td>\n",
       "      <td>104.48</td>\n",
       "      <td>103.50</td>\n",
       "      <td>4.40</td>\n",
       "      <td>2.94</td>\n",
       "      <td>113.16</td>\n",
       "    </tr>\n",
       "    <tr>\n",
       "      <th>3</th>\n",
       "      <td>True</td>\n",
       "      <td>171.36</td>\n",
       "      <td>103.91</td>\n",
       "      <td>103.94</td>\n",
       "      <td>3.62</td>\n",
       "      <td>3.01</td>\n",
       "      <td>113.51</td>\n",
       "    </tr>\n",
       "    <tr>\n",
       "      <th>4</th>\n",
       "      <td>True</td>\n",
       "      <td>171.73</td>\n",
       "      <td>104.28</td>\n",
       "      <td>103.46</td>\n",
       "      <td>4.04</td>\n",
       "      <td>3.48</td>\n",
       "      <td>112.54</td>\n",
       "    </tr>\n",
       "    <tr>\n",
       "      <th>...</th>\n",
       "      <td>...</td>\n",
       "      <td>...</td>\n",
       "      <td>...</td>\n",
       "      <td>...</td>\n",
       "      <td>...</td>\n",
       "      <td>...</td>\n",
       "      <td>...</td>\n",
       "    </tr>\n",
       "    <tr>\n",
       "      <th>1495</th>\n",
       "      <td>False</td>\n",
       "      <td>171.75</td>\n",
       "      <td>104.38</td>\n",
       "      <td>104.17</td>\n",
       "      <td>4.42</td>\n",
       "      <td>3.09</td>\n",
       "      <td>111.28</td>\n",
       "    </tr>\n",
       "    <tr>\n",
       "      <th>1496</th>\n",
       "      <td>False</td>\n",
       "      <td>172.19</td>\n",
       "      <td>104.63</td>\n",
       "      <td>104.44</td>\n",
       "      <td>5.27</td>\n",
       "      <td>3.37</td>\n",
       "      <td>110.97</td>\n",
       "    </tr>\n",
       "    <tr>\n",
       "      <th>1497</th>\n",
       "      <td>False</td>\n",
       "      <td>171.80</td>\n",
       "      <td>104.01</td>\n",
       "      <td>104.12</td>\n",
       "      <td>5.51</td>\n",
       "      <td>3.36</td>\n",
       "      <td>111.95</td>\n",
       "    </tr>\n",
       "    <tr>\n",
       "      <th>1498</th>\n",
       "      <td>False</td>\n",
       "      <td>172.06</td>\n",
       "      <td>104.28</td>\n",
       "      <td>104.06</td>\n",
       "      <td>5.17</td>\n",
       "      <td>3.46</td>\n",
       "      <td>112.25</td>\n",
       "    </tr>\n",
       "    <tr>\n",
       "      <th>1499</th>\n",
       "      <td>False</td>\n",
       "      <td>171.47</td>\n",
       "      <td>104.15</td>\n",
       "      <td>103.82</td>\n",
       "      <td>4.63</td>\n",
       "      <td>3.37</td>\n",
       "      <td>112.07</td>\n",
       "    </tr>\n",
       "  </tbody>\n",
       "</table>\n",
       "<p>1500 rows × 7 columns</p>\n",
       "</div>"
      ],
      "text/plain": [
       "      is_genuine  diagonal  height_left  height_right  margin_low  margin_up  \\\n",
       "0           True    171.81       104.86        104.95        4.52       2.89   \n",
       "1           True    171.46       103.36        103.66        3.77       2.99   \n",
       "2           True    172.69       104.48        103.50        4.40       2.94   \n",
       "3           True    171.36       103.91        103.94        3.62       3.01   \n",
       "4           True    171.73       104.28        103.46        4.04       3.48   \n",
       "...          ...       ...          ...           ...         ...        ...   \n",
       "1495       False    171.75       104.38        104.17        4.42       3.09   \n",
       "1496       False    172.19       104.63        104.44        5.27       3.37   \n",
       "1497       False    171.80       104.01        104.12        5.51       3.36   \n",
       "1498       False    172.06       104.28        104.06        5.17       3.46   \n",
       "1499       False    171.47       104.15        103.82        4.63       3.37   \n",
       "\n",
       "      length  \n",
       "0     112.83  \n",
       "1     113.09  \n",
       "2     113.16  \n",
       "3     113.51  \n",
       "4     112.54  \n",
       "...      ...  \n",
       "1495  111.28  \n",
       "1496  110.97  \n",
       "1497  111.95  \n",
       "1498  112.25  \n",
       "1499  112.07  \n",
       "\n",
       "[1500 rows x 7 columns]"
      ]
     },
     "execution_count": 97,
     "metadata": {},
     "output_type": "execute_result"
    }
   ],
   "source": [
    "df = pd.read_csv('p10_data.csv', delimiter=';')\n",
    "df"
   ]
  },
  {
   "cell_type": "markdown",
   "id": "f0ab2180",
   "metadata": {
    "extensions": {
     "jupyter_dashboards": {
      "version": 1,
      "views": {
       "grid_default": {},
       "report_default": {
        "hidden": true
       }
      }
     }
    }
   },
   "source": [
    "##### Info:"
   ]
  },
  {
   "cell_type": "code",
   "execution_count": 98,
   "id": "d6295255",
   "metadata": {
    "extensions": {
     "jupyter_dashboards": {
      "version": 1,
      "views": {
       "grid_default": {},
       "report_default": {
        "hidden": true
       }
      }
     }
    }
   },
   "outputs": [
    {
     "name": "stdout",
     "output_type": "stream",
     "text": [
      "<class 'pandas.core.frame.DataFrame'>\n",
      "RangeIndex: 1500 entries, 0 to 1499\n",
      "Data columns (total 7 columns):\n",
      " #   Column        Non-Null Count  Dtype  \n",
      "---  ------        --------------  -----  \n",
      " 0   is_genuine    1500 non-null   bool   \n",
      " 1   diagonal      1500 non-null   float64\n",
      " 2   height_left   1500 non-null   float64\n",
      " 3   height_right  1500 non-null   float64\n",
      " 4   margin_low    1463 non-null   float64\n",
      " 5   margin_up     1500 non-null   float64\n",
      " 6   length        1500 non-null   float64\n",
      "dtypes: bool(1), float64(6)\n",
      "memory usage: 71.9 KB\n"
     ]
    }
   ],
   "source": [
    "df.info()"
   ]
  },
  {
   "cell_type": "markdown",
   "id": "8ec8876b",
   "metadata": {
    "extensions": {
     "jupyter_dashboards": {
      "version": 1,
      "views": {
       "grid_default": {},
       "report_default": {
        "hidden": true
       }
      }
     }
    }
   },
   "source": [
    "##### Description:"
   ]
  },
  {
   "cell_type": "code",
   "execution_count": 99,
   "id": "b258d2b2",
   "metadata": {
    "extensions": {
     "jupyter_dashboards": {
      "version": 1,
      "views": {
       "grid_default": {},
       "report_default": {
        "hidden": true
       }
      }
     }
    },
    "scrolled": true
   },
   "outputs": [
    {
     "data": {
      "text/html": [
       "<div>\n",
       "<style scoped>\n",
       "    .dataframe tbody tr th:only-of-type {\n",
       "        vertical-align: middle;\n",
       "    }\n",
       "\n",
       "    .dataframe tbody tr th {\n",
       "        vertical-align: top;\n",
       "    }\n",
       "\n",
       "    .dataframe thead th {\n",
       "        text-align: right;\n",
       "    }\n",
       "</style>\n",
       "<table border=\"1\" class=\"dataframe\">\n",
       "  <thead>\n",
       "    <tr style=\"text-align: right;\">\n",
       "      <th></th>\n",
       "      <th>diagonal</th>\n",
       "      <th>height_left</th>\n",
       "      <th>height_right</th>\n",
       "      <th>margin_low</th>\n",
       "      <th>margin_up</th>\n",
       "      <th>length</th>\n",
       "    </tr>\n",
       "  </thead>\n",
       "  <tbody>\n",
       "    <tr>\n",
       "      <th>count</th>\n",
       "      <td>1500.000000</td>\n",
       "      <td>1500.000000</td>\n",
       "      <td>1500.000000</td>\n",
       "      <td>1463.000000</td>\n",
       "      <td>1500.000000</td>\n",
       "      <td>1500.00000</td>\n",
       "    </tr>\n",
       "    <tr>\n",
       "      <th>mean</th>\n",
       "      <td>171.958440</td>\n",
       "      <td>104.029533</td>\n",
       "      <td>103.920307</td>\n",
       "      <td>4.485967</td>\n",
       "      <td>3.151473</td>\n",
       "      <td>112.67850</td>\n",
       "    </tr>\n",
       "    <tr>\n",
       "      <th>std</th>\n",
       "      <td>0.305195</td>\n",
       "      <td>0.299462</td>\n",
       "      <td>0.325627</td>\n",
       "      <td>0.663813</td>\n",
       "      <td>0.231813</td>\n",
       "      <td>0.87273</td>\n",
       "    </tr>\n",
       "    <tr>\n",
       "      <th>min</th>\n",
       "      <td>171.040000</td>\n",
       "      <td>103.140000</td>\n",
       "      <td>102.820000</td>\n",
       "      <td>2.980000</td>\n",
       "      <td>2.270000</td>\n",
       "      <td>109.49000</td>\n",
       "    </tr>\n",
       "    <tr>\n",
       "      <th>25%</th>\n",
       "      <td>171.750000</td>\n",
       "      <td>103.820000</td>\n",
       "      <td>103.710000</td>\n",
       "      <td>4.015000</td>\n",
       "      <td>2.990000</td>\n",
       "      <td>112.03000</td>\n",
       "    </tr>\n",
       "    <tr>\n",
       "      <th>50%</th>\n",
       "      <td>171.960000</td>\n",
       "      <td>104.040000</td>\n",
       "      <td>103.920000</td>\n",
       "      <td>4.310000</td>\n",
       "      <td>3.140000</td>\n",
       "      <td>112.96000</td>\n",
       "    </tr>\n",
       "    <tr>\n",
       "      <th>75%</th>\n",
       "      <td>172.170000</td>\n",
       "      <td>104.230000</td>\n",
       "      <td>104.150000</td>\n",
       "      <td>4.870000</td>\n",
       "      <td>3.310000</td>\n",
       "      <td>113.34000</td>\n",
       "    </tr>\n",
       "    <tr>\n",
       "      <th>max</th>\n",
       "      <td>173.010000</td>\n",
       "      <td>104.880000</td>\n",
       "      <td>104.950000</td>\n",
       "      <td>6.900000</td>\n",
       "      <td>3.910000</td>\n",
       "      <td>114.44000</td>\n",
       "    </tr>\n",
       "  </tbody>\n",
       "</table>\n",
       "</div>"
      ],
      "text/plain": [
       "          diagonal  height_left  height_right   margin_low    margin_up  \\\n",
       "count  1500.000000  1500.000000   1500.000000  1463.000000  1500.000000   \n",
       "mean    171.958440   104.029533    103.920307     4.485967     3.151473   \n",
       "std       0.305195     0.299462      0.325627     0.663813     0.231813   \n",
       "min     171.040000   103.140000    102.820000     2.980000     2.270000   \n",
       "25%     171.750000   103.820000    103.710000     4.015000     2.990000   \n",
       "50%     171.960000   104.040000    103.920000     4.310000     3.140000   \n",
       "75%     172.170000   104.230000    104.150000     4.870000     3.310000   \n",
       "max     173.010000   104.880000    104.950000     6.900000     3.910000   \n",
       "\n",
       "           length  \n",
       "count  1500.00000  \n",
       "mean    112.67850  \n",
       "std       0.87273  \n",
       "min     109.49000  \n",
       "25%     112.03000  \n",
       "50%     112.96000  \n",
       "75%     113.34000  \n",
       "max     114.44000  "
      ]
     },
     "execution_count": 99,
     "metadata": {},
     "output_type": "execute_result"
    }
   ],
   "source": [
    "df.describe()"
   ]
  },
  {
   "cell_type": "markdown",
   "id": "22cbbcaa",
   "metadata": {
    "extensions": {
     "jupyter_dashboards": {
      "version": 1,
      "views": {
       "grid_default": {},
       "report_default": {
        "hidden": true
       }
      }
     }
    }
   },
   "source": [
    "##### Duplicat:"
   ]
  },
  {
   "cell_type": "code",
   "execution_count": 100,
   "id": "94130f3b",
   "metadata": {
    "extensions": {
     "jupyter_dashboards": {
      "version": 1,
      "views": {
       "grid_default": {},
       "report_default": {
        "hidden": true
       }
      }
     }
    }
   },
   "outputs": [
    {
     "data": {
      "text/plain": [
       "0"
      ]
     },
     "execution_count": 100,
     "metadata": {},
     "output_type": "execute_result"
    }
   ],
   "source": [
    "df.duplicated().sum()"
   ]
  },
  {
   "cell_type": "markdown",
   "id": "d1ba231d",
   "metadata": {
    "extensions": {
     "jupyter_dashboards": {
      "version": 1,
      "views": {
       "grid_default": {},
       "report_default": {
        "hidden": true
       }
      }
     }
    }
   },
   "source": [
    "##### Valeur manquante:"
   ]
  },
  {
   "cell_type": "code",
   "execution_count": 101,
   "id": "8119f6ac",
   "metadata": {
    "extensions": {
     "jupyter_dashboards": {
      "version": 1,
      "views": {
       "grid_default": {},
       "report_default": {
        "hidden": true
       }
      }
     }
    }
   },
   "outputs": [
    {
     "data": {
      "text/plain": [
       "is_genuine       0\n",
       "diagonal         0\n",
       "height_left      0\n",
       "height_right     0\n",
       "margin_low      37\n",
       "margin_up        0\n",
       "length           0\n",
       "dtype: int64"
      ]
     },
     "execution_count": 101,
     "metadata": {},
     "output_type": "execute_result"
    }
   ],
   "source": [
    "df.isnull().sum()"
   ]
  },
  {
   "cell_type": "markdown",
   "id": "e4980131",
   "metadata": {
    "extensions": {
     "jupyter_dashboards": {
      "version": 1,
      "views": {
       "grid_default": {},
       "report_default": {
        "hidden": true
       }
      }
     }
    }
   },
   "source": [
    "##### Remplacement des valeurs manquantes:"
   ]
  },
  {
   "cell_type": "code",
   "execution_count": 102,
   "id": "7214f0ed",
   "metadata": {
    "extensions": {
     "jupyter_dashboards": {
      "version": 1,
      "views": {
       "grid_default": {},
       "report_default": {
        "hidden": true
       }
      }
     }
    }
   },
   "outputs": [],
   "source": [
    "df = df.fillna(0)"
   ]
  },
  {
   "cell_type": "markdown",
   "id": "bbc56b22",
   "metadata": {
    "extensions": {
     "jupyter_dashboards": {
      "version": 1,
      "views": {
       "grid_default": {},
       "report_default": {
        "hidden": true
       }
      }
     }
    }
   },
   "source": [
    "##### Check valeur manquante:"
   ]
  },
  {
   "cell_type": "code",
   "execution_count": 103,
   "id": "ca8ed512",
   "metadata": {
    "extensions": {
     "jupyter_dashboards": {
      "version": 1,
      "views": {
       "grid_default": {},
       "report_default": {
        "hidden": true
       }
      }
     }
    }
   },
   "outputs": [
    {
     "data": {
      "text/plain": [
       "is_genuine      0\n",
       "diagonal        0\n",
       "height_left     0\n",
       "height_right    0\n",
       "margin_low      0\n",
       "margin_up       0\n",
       "length          0\n",
       "dtype: int64"
      ]
     },
     "execution_count": 103,
     "metadata": {},
     "output_type": "execute_result"
    }
   ],
   "source": [
    "df.isnull().sum()"
   ]
  },
  {
   "cell_type": "markdown",
   "id": "497ea7e5",
   "metadata": {
    "extensions": {
     "jupyter_dashboards": {
      "version": 1,
      "views": {
       "grid_default": {},
       "report_default": {
        "hidden": true
       }
      }
     }
    }
   },
   "source": [
    "##### Transformation de la variable is_genuine en valeur binaire:"
   ]
  },
  {
   "cell_type": "code",
   "execution_count": 104,
   "id": "ad541570",
   "metadata": {
    "extensions": {
     "jupyter_dashboards": {
      "version": 1,
      "views": {
       "grid_default": {},
       "report_default": {
        "hidden": true
       }
      }
     }
    }
   },
   "outputs": [
    {
     "data": {
      "text/html": [
       "<div>\n",
       "<style scoped>\n",
       "    .dataframe tbody tr th:only-of-type {\n",
       "        vertical-align: middle;\n",
       "    }\n",
       "\n",
       "    .dataframe tbody tr th {\n",
       "        vertical-align: top;\n",
       "    }\n",
       "\n",
       "    .dataframe thead th {\n",
       "        text-align: right;\n",
       "    }\n",
       "</style>\n",
       "<table border=\"1\" class=\"dataframe\">\n",
       "  <thead>\n",
       "    <tr style=\"text-align: right;\">\n",
       "      <th></th>\n",
       "      <th>is_genuine</th>\n",
       "      <th>diagonal</th>\n",
       "      <th>height_left</th>\n",
       "      <th>height_right</th>\n",
       "      <th>margin_low</th>\n",
       "      <th>margin_up</th>\n",
       "      <th>length</th>\n",
       "    </tr>\n",
       "  </thead>\n",
       "  <tbody>\n",
       "    <tr>\n",
       "      <th>0</th>\n",
       "      <td>1</td>\n",
       "      <td>171.81</td>\n",
       "      <td>104.86</td>\n",
       "      <td>104.95</td>\n",
       "      <td>4.52</td>\n",
       "      <td>2.89</td>\n",
       "      <td>112.83</td>\n",
       "    </tr>\n",
       "    <tr>\n",
       "      <th>1</th>\n",
       "      <td>1</td>\n",
       "      <td>171.46</td>\n",
       "      <td>103.36</td>\n",
       "      <td>103.66</td>\n",
       "      <td>3.77</td>\n",
       "      <td>2.99</td>\n",
       "      <td>113.09</td>\n",
       "    </tr>\n",
       "    <tr>\n",
       "      <th>2</th>\n",
       "      <td>1</td>\n",
       "      <td>172.69</td>\n",
       "      <td>104.48</td>\n",
       "      <td>103.50</td>\n",
       "      <td>4.40</td>\n",
       "      <td>2.94</td>\n",
       "      <td>113.16</td>\n",
       "    </tr>\n",
       "    <tr>\n",
       "      <th>3</th>\n",
       "      <td>1</td>\n",
       "      <td>171.36</td>\n",
       "      <td>103.91</td>\n",
       "      <td>103.94</td>\n",
       "      <td>3.62</td>\n",
       "      <td>3.01</td>\n",
       "      <td>113.51</td>\n",
       "    </tr>\n",
       "    <tr>\n",
       "      <th>4</th>\n",
       "      <td>1</td>\n",
       "      <td>171.73</td>\n",
       "      <td>104.28</td>\n",
       "      <td>103.46</td>\n",
       "      <td>4.04</td>\n",
       "      <td>3.48</td>\n",
       "      <td>112.54</td>\n",
       "    </tr>\n",
       "    <tr>\n",
       "      <th>...</th>\n",
       "      <td>...</td>\n",
       "      <td>...</td>\n",
       "      <td>...</td>\n",
       "      <td>...</td>\n",
       "      <td>...</td>\n",
       "      <td>...</td>\n",
       "      <td>...</td>\n",
       "    </tr>\n",
       "    <tr>\n",
       "      <th>1495</th>\n",
       "      <td>0</td>\n",
       "      <td>171.75</td>\n",
       "      <td>104.38</td>\n",
       "      <td>104.17</td>\n",
       "      <td>4.42</td>\n",
       "      <td>3.09</td>\n",
       "      <td>111.28</td>\n",
       "    </tr>\n",
       "    <tr>\n",
       "      <th>1496</th>\n",
       "      <td>0</td>\n",
       "      <td>172.19</td>\n",
       "      <td>104.63</td>\n",
       "      <td>104.44</td>\n",
       "      <td>5.27</td>\n",
       "      <td>3.37</td>\n",
       "      <td>110.97</td>\n",
       "    </tr>\n",
       "    <tr>\n",
       "      <th>1497</th>\n",
       "      <td>0</td>\n",
       "      <td>171.80</td>\n",
       "      <td>104.01</td>\n",
       "      <td>104.12</td>\n",
       "      <td>5.51</td>\n",
       "      <td>3.36</td>\n",
       "      <td>111.95</td>\n",
       "    </tr>\n",
       "    <tr>\n",
       "      <th>1498</th>\n",
       "      <td>0</td>\n",
       "      <td>172.06</td>\n",
       "      <td>104.28</td>\n",
       "      <td>104.06</td>\n",
       "      <td>5.17</td>\n",
       "      <td>3.46</td>\n",
       "      <td>112.25</td>\n",
       "    </tr>\n",
       "    <tr>\n",
       "      <th>1499</th>\n",
       "      <td>0</td>\n",
       "      <td>171.47</td>\n",
       "      <td>104.15</td>\n",
       "      <td>103.82</td>\n",
       "      <td>4.63</td>\n",
       "      <td>3.37</td>\n",
       "      <td>112.07</td>\n",
       "    </tr>\n",
       "  </tbody>\n",
       "</table>\n",
       "<p>1500 rows × 7 columns</p>\n",
       "</div>"
      ],
      "text/plain": [
       "      is_genuine  diagonal  height_left  height_right  margin_low  margin_up  \\\n",
       "0              1    171.81       104.86        104.95        4.52       2.89   \n",
       "1              1    171.46       103.36        103.66        3.77       2.99   \n",
       "2              1    172.69       104.48        103.50        4.40       2.94   \n",
       "3              1    171.36       103.91        103.94        3.62       3.01   \n",
       "4              1    171.73       104.28        103.46        4.04       3.48   \n",
       "...          ...       ...          ...           ...         ...        ...   \n",
       "1495           0    171.75       104.38        104.17        4.42       3.09   \n",
       "1496           0    172.19       104.63        104.44        5.27       3.37   \n",
       "1497           0    171.80       104.01        104.12        5.51       3.36   \n",
       "1498           0    172.06       104.28        104.06        5.17       3.46   \n",
       "1499           0    171.47       104.15        103.82        4.63       3.37   \n",
       "\n",
       "      length  \n",
       "0     112.83  \n",
       "1     113.09  \n",
       "2     113.16  \n",
       "3     113.51  \n",
       "4     112.54  \n",
       "...      ...  \n",
       "1495  111.28  \n",
       "1496  110.97  \n",
       "1497  111.95  \n",
       "1498  112.25  \n",
       "1499  112.07  \n",
       "\n",
       "[1500 rows x 7 columns]"
      ]
     },
     "execution_count": 104,
     "metadata": {},
     "output_type": "execute_result"
    }
   ],
   "source": [
    "df['is_genuine'] = df['is_genuine'].replace({True:1, False:0})\n",
    "df"
   ]
  },
  {
   "cell_type": "markdown",
   "id": "e014db06",
   "metadata": {
    "extensions": {
     "jupyter_dashboards": {
      "version": 1,
      "views": {
       "grid_default": {},
       "report_default": {
        "hidden": true
       }
      }
     }
    }
   },
   "source": [
    "##### Data types:"
   ]
  },
  {
   "cell_type": "code",
   "execution_count": 105,
   "id": "64fd0e90",
   "metadata": {
    "extensions": {
     "jupyter_dashboards": {
      "version": 1,
      "views": {
       "grid_default": {},
       "report_default": {
        "hidden": true
       }
      }
     }
    }
   },
   "outputs": [
    {
     "data": {
      "text/plain": [
       "is_genuine        int64\n",
       "diagonal        float64\n",
       "height_left     float64\n",
       "height_right    float64\n",
       "margin_low      float64\n",
       "margin_up       float64\n",
       "length          float64\n",
       "dtype: object"
      ]
     },
     "execution_count": 105,
     "metadata": {},
     "output_type": "execute_result"
    }
   ],
   "source": [
    "df.dtypes"
   ]
  },
  {
   "cell_type": "markdown",
   "id": "c9af2078",
   "metadata": {
    "extensions": {
     "jupyter_dashboards": {
      "version": 1,
      "views": {
       "grid_default": {},
       "report_default": {
        "hidden": true
       }
      }
     }
    }
   },
   "source": [
    "##### Dataframe comprenant les valeurs manquantes:"
   ]
  },
  {
   "cell_type": "code",
   "execution_count": 106,
   "id": "da46df23",
   "metadata": {
    "extensions": {
     "jupyter_dashboards": {
      "version": 1,
      "views": {
       "grid_default": {
        "hidden": true
       },
       "report_default": {
        "hidden": true
       }
      }
     }
    }
   },
   "outputs": [
    {
     "data": {
      "text/html": [
       "<div>\n",
       "<style scoped>\n",
       "    .dataframe tbody tr th:only-of-type {\n",
       "        vertical-align: middle;\n",
       "    }\n",
       "\n",
       "    .dataframe tbody tr th {\n",
       "        vertical-align: top;\n",
       "    }\n",
       "\n",
       "    .dataframe thead th {\n",
       "        text-align: right;\n",
       "    }\n",
       "</style>\n",
       "<table border=\"1\" class=\"dataframe\">\n",
       "  <thead>\n",
       "    <tr style=\"text-align: right;\">\n",
       "      <th></th>\n",
       "      <th>is_genuine</th>\n",
       "      <th>diagonal</th>\n",
       "      <th>height_left</th>\n",
       "      <th>height_right</th>\n",
       "      <th>margin_low</th>\n",
       "      <th>margin_up</th>\n",
       "      <th>length</th>\n",
       "    </tr>\n",
       "  </thead>\n",
       "  <tbody>\n",
       "    <tr>\n",
       "      <th>72</th>\n",
       "      <td>1</td>\n",
       "      <td>171.94</td>\n",
       "      <td>103.89</td>\n",
       "      <td>103.45</td>\n",
       "      <td>0.0</td>\n",
       "      <td>3.25</td>\n",
       "      <td>112.79</td>\n",
       "    </tr>\n",
       "    <tr>\n",
       "      <th>99</th>\n",
       "      <td>1</td>\n",
       "      <td>171.93</td>\n",
       "      <td>104.07</td>\n",
       "      <td>104.18</td>\n",
       "      <td>0.0</td>\n",
       "      <td>3.14</td>\n",
       "      <td>113.08</td>\n",
       "    </tr>\n",
       "    <tr>\n",
       "      <th>151</th>\n",
       "      <td>1</td>\n",
       "      <td>172.07</td>\n",
       "      <td>103.80</td>\n",
       "      <td>104.38</td>\n",
       "      <td>0.0</td>\n",
       "      <td>3.02</td>\n",
       "      <td>112.93</td>\n",
       "    </tr>\n",
       "    <tr>\n",
       "      <th>197</th>\n",
       "      <td>1</td>\n",
       "      <td>171.45</td>\n",
       "      <td>103.66</td>\n",
       "      <td>103.80</td>\n",
       "      <td>0.0</td>\n",
       "      <td>3.62</td>\n",
       "      <td>113.27</td>\n",
       "    </tr>\n",
       "    <tr>\n",
       "      <th>241</th>\n",
       "      <td>1</td>\n",
       "      <td>171.83</td>\n",
       "      <td>104.14</td>\n",
       "      <td>104.06</td>\n",
       "      <td>0.0</td>\n",
       "      <td>3.02</td>\n",
       "      <td>112.36</td>\n",
       "    </tr>\n",
       "    <tr>\n",
       "      <th>251</th>\n",
       "      <td>1</td>\n",
       "      <td>171.80</td>\n",
       "      <td>103.26</td>\n",
       "      <td>102.82</td>\n",
       "      <td>0.0</td>\n",
       "      <td>2.95</td>\n",
       "      <td>113.22</td>\n",
       "    </tr>\n",
       "    <tr>\n",
       "      <th>284</th>\n",
       "      <td>1</td>\n",
       "      <td>171.92</td>\n",
       "      <td>103.83</td>\n",
       "      <td>103.76</td>\n",
       "      <td>0.0</td>\n",
       "      <td>3.23</td>\n",
       "      <td>113.29</td>\n",
       "    </tr>\n",
       "    <tr>\n",
       "      <th>334</th>\n",
       "      <td>1</td>\n",
       "      <td>171.85</td>\n",
       "      <td>103.70</td>\n",
       "      <td>103.96</td>\n",
       "      <td>0.0</td>\n",
       "      <td>3.00</td>\n",
       "      <td>113.36</td>\n",
       "    </tr>\n",
       "    <tr>\n",
       "      <th>410</th>\n",
       "      <td>1</td>\n",
       "      <td>172.56</td>\n",
       "      <td>103.72</td>\n",
       "      <td>103.51</td>\n",
       "      <td>0.0</td>\n",
       "      <td>3.12</td>\n",
       "      <td>112.95</td>\n",
       "    </tr>\n",
       "    <tr>\n",
       "      <th>413</th>\n",
       "      <td>1</td>\n",
       "      <td>172.30</td>\n",
       "      <td>103.66</td>\n",
       "      <td>103.50</td>\n",
       "      <td>0.0</td>\n",
       "      <td>3.16</td>\n",
       "      <td>112.95</td>\n",
       "    </tr>\n",
       "    <tr>\n",
       "      <th>445</th>\n",
       "      <td>1</td>\n",
       "      <td>172.34</td>\n",
       "      <td>104.42</td>\n",
       "      <td>103.22</td>\n",
       "      <td>0.0</td>\n",
       "      <td>3.01</td>\n",
       "      <td>112.97</td>\n",
       "    </tr>\n",
       "    <tr>\n",
       "      <th>481</th>\n",
       "      <td>1</td>\n",
       "      <td>171.81</td>\n",
       "      <td>103.53</td>\n",
       "      <td>103.96</td>\n",
       "      <td>0.0</td>\n",
       "      <td>2.71</td>\n",
       "      <td>113.99</td>\n",
       "    </tr>\n",
       "    <tr>\n",
       "      <th>505</th>\n",
       "      <td>1</td>\n",
       "      <td>172.01</td>\n",
       "      <td>103.97</td>\n",
       "      <td>104.05</td>\n",
       "      <td>0.0</td>\n",
       "      <td>2.98</td>\n",
       "      <td>113.65</td>\n",
       "    </tr>\n",
       "    <tr>\n",
       "      <th>611</th>\n",
       "      <td>1</td>\n",
       "      <td>171.80</td>\n",
       "      <td>103.68</td>\n",
       "      <td>103.49</td>\n",
       "      <td>0.0</td>\n",
       "      <td>3.30</td>\n",
       "      <td>112.84</td>\n",
       "    </tr>\n",
       "    <tr>\n",
       "      <th>654</th>\n",
       "      <td>1</td>\n",
       "      <td>171.97</td>\n",
       "      <td>103.69</td>\n",
       "      <td>103.54</td>\n",
       "      <td>0.0</td>\n",
       "      <td>2.70</td>\n",
       "      <td>112.79</td>\n",
       "    </tr>\n",
       "    <tr>\n",
       "      <th>675</th>\n",
       "      <td>1</td>\n",
       "      <td>171.60</td>\n",
       "      <td>103.85</td>\n",
       "      <td>103.91</td>\n",
       "      <td>0.0</td>\n",
       "      <td>2.56</td>\n",
       "      <td>113.27</td>\n",
       "    </tr>\n",
       "    <tr>\n",
       "      <th>710</th>\n",
       "      <td>1</td>\n",
       "      <td>172.03</td>\n",
       "      <td>103.97</td>\n",
       "      <td>103.86</td>\n",
       "      <td>0.0</td>\n",
       "      <td>3.07</td>\n",
       "      <td>112.65</td>\n",
       "    </tr>\n",
       "    <tr>\n",
       "      <th>739</th>\n",
       "      <td>1</td>\n",
       "      <td>172.07</td>\n",
       "      <td>103.74</td>\n",
       "      <td>103.76</td>\n",
       "      <td>0.0</td>\n",
       "      <td>3.09</td>\n",
       "      <td>112.41</td>\n",
       "    </tr>\n",
       "    <tr>\n",
       "      <th>742</th>\n",
       "      <td>1</td>\n",
       "      <td>172.14</td>\n",
       "      <td>104.06</td>\n",
       "      <td>103.96</td>\n",
       "      <td>0.0</td>\n",
       "      <td>3.24</td>\n",
       "      <td>113.07</td>\n",
       "    </tr>\n",
       "    <tr>\n",
       "      <th>780</th>\n",
       "      <td>1</td>\n",
       "      <td>172.41</td>\n",
       "      <td>103.95</td>\n",
       "      <td>103.79</td>\n",
       "      <td>0.0</td>\n",
       "      <td>3.13</td>\n",
       "      <td>113.41</td>\n",
       "    </tr>\n",
       "    <tr>\n",
       "      <th>798</th>\n",
       "      <td>1</td>\n",
       "      <td>171.96</td>\n",
       "      <td>103.84</td>\n",
       "      <td>103.62</td>\n",
       "      <td>0.0</td>\n",
       "      <td>3.01</td>\n",
       "      <td>114.44</td>\n",
       "    </tr>\n",
       "    <tr>\n",
       "      <th>844</th>\n",
       "      <td>1</td>\n",
       "      <td>171.62</td>\n",
       "      <td>104.14</td>\n",
       "      <td>104.49</td>\n",
       "      <td>0.0</td>\n",
       "      <td>2.99</td>\n",
       "      <td>113.35</td>\n",
       "    </tr>\n",
       "    <tr>\n",
       "      <th>845</th>\n",
       "      <td>1</td>\n",
       "      <td>172.02</td>\n",
       "      <td>104.21</td>\n",
       "      <td>104.05</td>\n",
       "      <td>0.0</td>\n",
       "      <td>2.90</td>\n",
       "      <td>113.62</td>\n",
       "    </tr>\n",
       "    <tr>\n",
       "      <th>871</th>\n",
       "      <td>1</td>\n",
       "      <td>171.37</td>\n",
       "      <td>104.07</td>\n",
       "      <td>103.75</td>\n",
       "      <td>0.0</td>\n",
       "      <td>3.07</td>\n",
       "      <td>113.27</td>\n",
       "    </tr>\n",
       "    <tr>\n",
       "      <th>895</th>\n",
       "      <td>1</td>\n",
       "      <td>171.81</td>\n",
       "      <td>103.68</td>\n",
       "      <td>103.80</td>\n",
       "      <td>0.0</td>\n",
       "      <td>2.98</td>\n",
       "      <td>113.82</td>\n",
       "    </tr>\n",
       "    <tr>\n",
       "      <th>919</th>\n",
       "      <td>1</td>\n",
       "      <td>171.92</td>\n",
       "      <td>103.68</td>\n",
       "      <td>103.45</td>\n",
       "      <td>0.0</td>\n",
       "      <td>2.58</td>\n",
       "      <td>113.68</td>\n",
       "    </tr>\n",
       "    <tr>\n",
       "      <th>945</th>\n",
       "      <td>1</td>\n",
       "      <td>172.09</td>\n",
       "      <td>103.74</td>\n",
       "      <td>103.52</td>\n",
       "      <td>0.0</td>\n",
       "      <td>3.02</td>\n",
       "      <td>112.78</td>\n",
       "    </tr>\n",
       "    <tr>\n",
       "      <th>946</th>\n",
       "      <td>1</td>\n",
       "      <td>171.63</td>\n",
       "      <td>103.87</td>\n",
       "      <td>104.66</td>\n",
       "      <td>0.0</td>\n",
       "      <td>3.27</td>\n",
       "      <td>112.68</td>\n",
       "    </tr>\n",
       "    <tr>\n",
       "      <th>981</th>\n",
       "      <td>1</td>\n",
       "      <td>172.02</td>\n",
       "      <td>104.23</td>\n",
       "      <td>103.72</td>\n",
       "      <td>0.0</td>\n",
       "      <td>2.99</td>\n",
       "      <td>113.37</td>\n",
       "    </tr>\n",
       "    <tr>\n",
       "      <th>1076</th>\n",
       "      <td>0</td>\n",
       "      <td>171.57</td>\n",
       "      <td>104.27</td>\n",
       "      <td>104.44</td>\n",
       "      <td>0.0</td>\n",
       "      <td>3.21</td>\n",
       "      <td>111.87</td>\n",
       "    </tr>\n",
       "    <tr>\n",
       "      <th>1121</th>\n",
       "      <td>0</td>\n",
       "      <td>171.40</td>\n",
       "      <td>104.38</td>\n",
       "      <td>104.19</td>\n",
       "      <td>0.0</td>\n",
       "      <td>3.17</td>\n",
       "      <td>112.39</td>\n",
       "    </tr>\n",
       "    <tr>\n",
       "      <th>1176</th>\n",
       "      <td>0</td>\n",
       "      <td>171.59</td>\n",
       "      <td>104.05</td>\n",
       "      <td>103.94</td>\n",
       "      <td>0.0</td>\n",
       "      <td>3.02</td>\n",
       "      <td>111.29</td>\n",
       "    </tr>\n",
       "    <tr>\n",
       "      <th>1303</th>\n",
       "      <td>0</td>\n",
       "      <td>172.17</td>\n",
       "      <td>104.49</td>\n",
       "      <td>103.76</td>\n",
       "      <td>0.0</td>\n",
       "      <td>2.93</td>\n",
       "      <td>111.21</td>\n",
       "    </tr>\n",
       "    <tr>\n",
       "      <th>1315</th>\n",
       "      <td>0</td>\n",
       "      <td>172.08</td>\n",
       "      <td>104.15</td>\n",
       "      <td>104.17</td>\n",
       "      <td>0.0</td>\n",
       "      <td>3.40</td>\n",
       "      <td>112.29</td>\n",
       "    </tr>\n",
       "    <tr>\n",
       "      <th>1347</th>\n",
       "      <td>0</td>\n",
       "      <td>171.72</td>\n",
       "      <td>104.46</td>\n",
       "      <td>104.12</td>\n",
       "      <td>0.0</td>\n",
       "      <td>3.61</td>\n",
       "      <td>110.31</td>\n",
       "    </tr>\n",
       "    <tr>\n",
       "      <th>1435</th>\n",
       "      <td>0</td>\n",
       "      <td>172.66</td>\n",
       "      <td>104.33</td>\n",
       "      <td>104.41</td>\n",
       "      <td>0.0</td>\n",
       "      <td>3.56</td>\n",
       "      <td>111.47</td>\n",
       "    </tr>\n",
       "    <tr>\n",
       "      <th>1438</th>\n",
       "      <td>0</td>\n",
       "      <td>171.90</td>\n",
       "      <td>104.28</td>\n",
       "      <td>104.29</td>\n",
       "      <td>0.0</td>\n",
       "      <td>3.24</td>\n",
       "      <td>111.49</td>\n",
       "    </tr>\n",
       "  </tbody>\n",
       "</table>\n",
       "</div>"
      ],
      "text/plain": [
       "      is_genuine  diagonal  height_left  height_right  margin_low  margin_up  \\\n",
       "72             1    171.94       103.89        103.45         0.0       3.25   \n",
       "99             1    171.93       104.07        104.18         0.0       3.14   \n",
       "151            1    172.07       103.80        104.38         0.0       3.02   \n",
       "197            1    171.45       103.66        103.80         0.0       3.62   \n",
       "241            1    171.83       104.14        104.06         0.0       3.02   \n",
       "251            1    171.80       103.26        102.82         0.0       2.95   \n",
       "284            1    171.92       103.83        103.76         0.0       3.23   \n",
       "334            1    171.85       103.70        103.96         0.0       3.00   \n",
       "410            1    172.56       103.72        103.51         0.0       3.12   \n",
       "413            1    172.30       103.66        103.50         0.0       3.16   \n",
       "445            1    172.34       104.42        103.22         0.0       3.01   \n",
       "481            1    171.81       103.53        103.96         0.0       2.71   \n",
       "505            1    172.01       103.97        104.05         0.0       2.98   \n",
       "611            1    171.80       103.68        103.49         0.0       3.30   \n",
       "654            1    171.97       103.69        103.54         0.0       2.70   \n",
       "675            1    171.60       103.85        103.91         0.0       2.56   \n",
       "710            1    172.03       103.97        103.86         0.0       3.07   \n",
       "739            1    172.07       103.74        103.76         0.0       3.09   \n",
       "742            1    172.14       104.06        103.96         0.0       3.24   \n",
       "780            1    172.41       103.95        103.79         0.0       3.13   \n",
       "798            1    171.96       103.84        103.62         0.0       3.01   \n",
       "844            1    171.62       104.14        104.49         0.0       2.99   \n",
       "845            1    172.02       104.21        104.05         0.0       2.90   \n",
       "871            1    171.37       104.07        103.75         0.0       3.07   \n",
       "895            1    171.81       103.68        103.80         0.0       2.98   \n",
       "919            1    171.92       103.68        103.45         0.0       2.58   \n",
       "945            1    172.09       103.74        103.52         0.0       3.02   \n",
       "946            1    171.63       103.87        104.66         0.0       3.27   \n",
       "981            1    172.02       104.23        103.72         0.0       2.99   \n",
       "1076           0    171.57       104.27        104.44         0.0       3.21   \n",
       "1121           0    171.40       104.38        104.19         0.0       3.17   \n",
       "1176           0    171.59       104.05        103.94         0.0       3.02   \n",
       "1303           0    172.17       104.49        103.76         0.0       2.93   \n",
       "1315           0    172.08       104.15        104.17         0.0       3.40   \n",
       "1347           0    171.72       104.46        104.12         0.0       3.61   \n",
       "1435           0    172.66       104.33        104.41         0.0       3.56   \n",
       "1438           0    171.90       104.28        104.29         0.0       3.24   \n",
       "\n",
       "      length  \n",
       "72    112.79  \n",
       "99    113.08  \n",
       "151   112.93  \n",
       "197   113.27  \n",
       "241   112.36  \n",
       "251   113.22  \n",
       "284   113.29  \n",
       "334   113.36  \n",
       "410   112.95  \n",
       "413   112.95  \n",
       "445   112.97  \n",
       "481   113.99  \n",
       "505   113.65  \n",
       "611   112.84  \n",
       "654   112.79  \n",
       "675   113.27  \n",
       "710   112.65  \n",
       "739   112.41  \n",
       "742   113.07  \n",
       "780   113.41  \n",
       "798   114.44  \n",
       "844   113.35  \n",
       "845   113.62  \n",
       "871   113.27  \n",
       "895   113.82  \n",
       "919   113.68  \n",
       "945   112.78  \n",
       "946   112.68  \n",
       "981   113.37  \n",
       "1076  111.87  \n",
       "1121  112.39  \n",
       "1176  111.29  \n",
       "1303  111.21  \n",
       "1315  112.29  \n",
       "1347  110.31  \n",
       "1435  111.47  \n",
       "1438  111.49  "
      ]
     },
     "execution_count": 106,
     "metadata": {},
     "output_type": "execute_result"
    }
   ],
   "source": [
    "null_value = df[df['margin_low']==0]\n",
    "null_value"
   ]
  },
  {
   "cell_type": "markdown",
   "id": "d9d42ded",
   "metadata": {
    "extensions": {
     "jupyter_dashboards": {
      "version": 1,
      "views": {
       "grid_default": {},
       "report_default": {
        "hidden": true
       }
      }
     }
    }
   },
   "source": [
    "##### Dataframe ne comprenant pas les valeurs manquantes:"
   ]
  },
  {
   "cell_type": "code",
   "execution_count": 107,
   "id": "43dc94ba",
   "metadata": {
    "extensions": {
     "jupyter_dashboards": {
      "version": 1,
      "views": {
       "grid_default": {},
       "report_default": {
        "hidden": true
       }
      }
     }
    }
   },
   "outputs": [
    {
     "data": {
      "text/html": [
       "<div>\n",
       "<style scoped>\n",
       "    .dataframe tbody tr th:only-of-type {\n",
       "        vertical-align: middle;\n",
       "    }\n",
       "\n",
       "    .dataframe tbody tr th {\n",
       "        vertical-align: top;\n",
       "    }\n",
       "\n",
       "    .dataframe thead th {\n",
       "        text-align: right;\n",
       "    }\n",
       "</style>\n",
       "<table border=\"1\" class=\"dataframe\">\n",
       "  <thead>\n",
       "    <tr style=\"text-align: right;\">\n",
       "      <th></th>\n",
       "      <th>is_genuine</th>\n",
       "      <th>diagonal</th>\n",
       "      <th>height_left</th>\n",
       "      <th>height_right</th>\n",
       "      <th>margin_low</th>\n",
       "      <th>margin_up</th>\n",
       "      <th>length</th>\n",
       "    </tr>\n",
       "  </thead>\n",
       "  <tbody>\n",
       "    <tr>\n",
       "      <th>0</th>\n",
       "      <td>1</td>\n",
       "      <td>171.81</td>\n",
       "      <td>104.86</td>\n",
       "      <td>104.95</td>\n",
       "      <td>4.52</td>\n",
       "      <td>2.89</td>\n",
       "      <td>112.83</td>\n",
       "    </tr>\n",
       "    <tr>\n",
       "      <th>1</th>\n",
       "      <td>1</td>\n",
       "      <td>171.46</td>\n",
       "      <td>103.36</td>\n",
       "      <td>103.66</td>\n",
       "      <td>3.77</td>\n",
       "      <td>2.99</td>\n",
       "      <td>113.09</td>\n",
       "    </tr>\n",
       "    <tr>\n",
       "      <th>2</th>\n",
       "      <td>1</td>\n",
       "      <td>172.69</td>\n",
       "      <td>104.48</td>\n",
       "      <td>103.50</td>\n",
       "      <td>4.40</td>\n",
       "      <td>2.94</td>\n",
       "      <td>113.16</td>\n",
       "    </tr>\n",
       "    <tr>\n",
       "      <th>3</th>\n",
       "      <td>1</td>\n",
       "      <td>171.36</td>\n",
       "      <td>103.91</td>\n",
       "      <td>103.94</td>\n",
       "      <td>3.62</td>\n",
       "      <td>3.01</td>\n",
       "      <td>113.51</td>\n",
       "    </tr>\n",
       "    <tr>\n",
       "      <th>4</th>\n",
       "      <td>1</td>\n",
       "      <td>171.73</td>\n",
       "      <td>104.28</td>\n",
       "      <td>103.46</td>\n",
       "      <td>4.04</td>\n",
       "      <td>3.48</td>\n",
       "      <td>112.54</td>\n",
       "    </tr>\n",
       "    <tr>\n",
       "      <th>...</th>\n",
       "      <td>...</td>\n",
       "      <td>...</td>\n",
       "      <td>...</td>\n",
       "      <td>...</td>\n",
       "      <td>...</td>\n",
       "      <td>...</td>\n",
       "      <td>...</td>\n",
       "    </tr>\n",
       "    <tr>\n",
       "      <th>1495</th>\n",
       "      <td>0</td>\n",
       "      <td>171.75</td>\n",
       "      <td>104.38</td>\n",
       "      <td>104.17</td>\n",
       "      <td>4.42</td>\n",
       "      <td>3.09</td>\n",
       "      <td>111.28</td>\n",
       "    </tr>\n",
       "    <tr>\n",
       "      <th>1496</th>\n",
       "      <td>0</td>\n",
       "      <td>172.19</td>\n",
       "      <td>104.63</td>\n",
       "      <td>104.44</td>\n",
       "      <td>5.27</td>\n",
       "      <td>3.37</td>\n",
       "      <td>110.97</td>\n",
       "    </tr>\n",
       "    <tr>\n",
       "      <th>1497</th>\n",
       "      <td>0</td>\n",
       "      <td>171.80</td>\n",
       "      <td>104.01</td>\n",
       "      <td>104.12</td>\n",
       "      <td>5.51</td>\n",
       "      <td>3.36</td>\n",
       "      <td>111.95</td>\n",
       "    </tr>\n",
       "    <tr>\n",
       "      <th>1498</th>\n",
       "      <td>0</td>\n",
       "      <td>172.06</td>\n",
       "      <td>104.28</td>\n",
       "      <td>104.06</td>\n",
       "      <td>5.17</td>\n",
       "      <td>3.46</td>\n",
       "      <td>112.25</td>\n",
       "    </tr>\n",
       "    <tr>\n",
       "      <th>1499</th>\n",
       "      <td>0</td>\n",
       "      <td>171.47</td>\n",
       "      <td>104.15</td>\n",
       "      <td>103.82</td>\n",
       "      <td>4.63</td>\n",
       "      <td>3.37</td>\n",
       "      <td>112.07</td>\n",
       "    </tr>\n",
       "  </tbody>\n",
       "</table>\n",
       "<p>1463 rows × 7 columns</p>\n",
       "</div>"
      ],
      "text/plain": [
       "      is_genuine  diagonal  height_left  height_right  margin_low  margin_up  \\\n",
       "0              1    171.81       104.86        104.95        4.52       2.89   \n",
       "1              1    171.46       103.36        103.66        3.77       2.99   \n",
       "2              1    172.69       104.48        103.50        4.40       2.94   \n",
       "3              1    171.36       103.91        103.94        3.62       3.01   \n",
       "4              1    171.73       104.28        103.46        4.04       3.48   \n",
       "...          ...       ...          ...           ...         ...        ...   \n",
       "1495           0    171.75       104.38        104.17        4.42       3.09   \n",
       "1496           0    172.19       104.63        104.44        5.27       3.37   \n",
       "1497           0    171.80       104.01        104.12        5.51       3.36   \n",
       "1498           0    172.06       104.28        104.06        5.17       3.46   \n",
       "1499           0    171.47       104.15        103.82        4.63       3.37   \n",
       "\n",
       "      length  \n",
       "0     112.83  \n",
       "1     113.09  \n",
       "2     113.16  \n",
       "3     113.51  \n",
       "4     112.54  \n",
       "...      ...  \n",
       "1495  111.28  \n",
       "1496  110.97  \n",
       "1497  111.95  \n",
       "1498  112.25  \n",
       "1499  112.07  \n",
       "\n",
       "[1463 rows x 7 columns]"
      ]
     },
     "execution_count": 107,
     "metadata": {},
     "output_type": "execute_result"
    }
   ],
   "source": [
    "df2 = df[df['margin_low']>0]\n",
    "df2"
   ]
  },
  {
   "cell_type": "markdown",
   "id": "601c3ad1",
   "metadata": {
    "extensions": {
     "jupyter_dashboards": {
      "version": 1,
      "views": {
       "grid_default": {},
       "report_default": {
        "hidden": false
       }
      }
     }
    }
   },
   "source": [
    "##### Corrélation:"
   ]
  },
  {
   "cell_type": "code",
   "execution_count": 108,
   "id": "10ba1b64",
   "metadata": {
    "extensions": {
     "jupyter_dashboards": {
      "version": 1,
      "views": {
       "grid_default": {},
       "report_default": {
        "hidden": false
       }
      }
     }
    }
   },
   "outputs": [
    {
     "data": {
      "image/png": "[encoded data removed]",
      "text/plain": [
       "<Figure size 1152x648 with 2 Axes>"
      ]
     },
     "metadata": {},
     "output_type": "display_data"
    }
   ],
   "source": [
    "plt.figure(figsize=(16,9))\n",
    "\n",
    "sns.heatmap(df.corr(), annot=True)\n",
    "\n",
    "plt.show()"
   ]
  },
  {
   "cell_type": "markdown",
   "id": "04e10c53",
   "metadata": {
    "extensions": {
     "jupyter_dashboards": {
      "version": 1,
      "views": {
       "grid_default": {},
       "report_default": {
        "hidden": false
       }
      }
     }
    }
   },
   "source": [
    "#### <font color='green'>La heatmap permet de mettre en relief les corrélations observables dans le dataframe. Dans cette heatmap, on peut mettre en évidence un lien positif fort entre la variable lenght et is_genuine. Mais aussi, un lien négatif faible entre les variable margin_up, margin_low et is_genuine.</font>"
   ]
  },
  {
   "cell_type": "markdown",
   "id": "ffab8967",
   "metadata": {
    "extensions": {
     "jupyter_dashboards": {
      "version": 1,
      "views": {
       "grid_default": {},
       "report_default": {
        "hidden": false
       }
      }
     }
    }
   },
   "source": [
    "### Regression linéaire"
   ]
  },
  {
   "cell_type": "markdown",
   "id": "713941d7",
   "metadata": {
    "extensions": {
     "jupyter_dashboards": {
      "version": 1,
      "views": {
       "grid_default": {},
       "report_default": {
        "hidden": false
       }
      }
     }
    }
   },
   "source": [
    "#### La régression linéaire va permettre de déterminer les valeurs manquantes par rapport aux autres variables du Dataframe."
   ]
  },
  {
   "cell_type": "markdown",
   "id": "521c2214",
   "metadata": {
    "extensions": {
     "jupyter_dashboards": {
      "version": 1,
      "views": {
       "grid_default": {},
       "report_default": {
        "hidden": true
       }
      }
     }
    }
   },
   "source": [
    "##### Séparation du dataset en 2 dataframe:"
   ]
  },
  {
   "cell_type": "code",
   "execution_count": 109,
   "id": "51fa184d",
   "metadata": {
    "extensions": {
     "jupyter_dashboards": {
      "version": 1,
      "views": {
       "grid_default": {},
       "report_default": {
        "hidden": true
       }
      }
     }
    }
   },
   "outputs": [],
   "source": [
    "X = df2.drop(['margin_low'], axis=1)\n",
    "y = df2[['margin_low']]"
   ]
  },
  {
   "cell_type": "markdown",
   "id": "a2643eee",
   "metadata": {
    "extensions": {
     "jupyter_dashboards": {
      "version": 1,
      "views": {
       "grid_default": {},
       "report_default": {
        "hidden": true
       }
      }
     }
    }
   },
   "source": [
    "##### Train Test Split:"
   ]
  },
  {
   "cell_type": "code",
   "execution_count": 110,
   "id": "cb986b90",
   "metadata": {
    "extensions": {
     "jupyter_dashboards": {
      "version": 1,
      "views": {
       "grid_default": {},
       "report_default": {
        "hidden": true
       }
      }
     }
    }
   },
   "outputs": [],
   "source": [
    "X_train, X_test, y_train, y_test = train_test_split(X, y, test_size=0.25)"
   ]
  },
  {
   "cell_type": "markdown",
   "id": "b1adf364",
   "metadata": {
    "extensions": {
     "jupyter_dashboards": {
      "version": 1,
      "views": {
       "grid_default": {},
       "report_default": {
        "hidden": true
       }
      }
     }
    }
   },
   "source": [
    "##### Regression linéaire:"
   ]
  },
  {
   "cell_type": "code",
   "execution_count": 111,
   "id": "716b7b0c",
   "metadata": {
    "extensions": {
     "jupyter_dashboards": {
      "version": 1,
      "views": {
       "grid_default": {},
       "report_default": {
        "hidden": true
       }
      }
     }
    }
   },
   "outputs": [],
   "source": [
    "linReg = LinearRegression()"
   ]
  },
  {
   "cell_type": "markdown",
   "id": "abbbca0d",
   "metadata": {
    "extensions": {
     "jupyter_dashboards": {
      "version": 1,
      "views": {
       "grid_default": {},
       "report_default": {
        "hidden": true
       }
      }
     }
    }
   },
   "source": [
    "##### Ajuster & Prédire:"
   ]
  },
  {
   "cell_type": "code",
   "execution_count": 112,
   "id": "69235dbb",
   "metadata": {
    "extensions": {
     "jupyter_dashboards": {
      "version": 1,
      "views": {
       "grid_default": {},
       "report_default": {
        "hidden": true
       }
      }
     }
    }
   },
   "outputs": [
    {
     "data": {
      "text/plain": [
       "LinearRegression()"
      ]
     },
     "execution_count": 112,
     "metadata": {},
     "output_type": "execute_result"
    }
   ],
   "source": [
    "linReg.fit(X_train, y_train)"
   ]
  },
  {
   "cell_type": "markdown",
   "id": "51aad37c",
   "metadata": {
    "extensions": {
     "jupyter_dashboards": {
      "version": 1,
      "views": {
       "grid_default": {},
       "report_default": {
        "hidden": false
       }
      }
     }
    }
   },
   "source": [
    "##### Coefficents directeurs & Ordonnée à l'origine:"
   ]
  },
  {
   "cell_type": "code",
   "execution_count": 113,
   "id": "30f66702",
   "metadata": {
    "extensions": {
     "jupyter_dashboards": {
      "version": 1,
      "views": {
       "grid_default": {},
       "report_default": {
        "hidden": false
       }
      }
     }
    }
   },
   "outputs": [
    {
     "name": "stdout",
     "output_type": "stream",
     "text": [
      "[[-1.144095    0.01967823 -0.0191869  -0.00344321 -0.13843984 -0.00222656]] [4.90473901]\n"
     ]
    }
   ],
   "source": [
    "a = linReg.coef_\n",
    "b = linReg.intercept_\n",
    "print(a,b)"
   ]
  },
  {
   "cell_type": "markdown",
   "id": "41184efb",
   "metadata": {
    "extensions": {
     "jupyter_dashboards": {
      "version": 1,
      "views": {
       "grid_default": {},
       "report_default": {
        "hidden": false
       }
      }
     }
    }
   },
   "source": [
    "##### Différence entre les valeurs prédites et observées:"
   ]
  },
  {
   "cell_type": "markdown",
   "id": "f6c8dd36",
   "metadata": {
    "extensions": {
     "jupyter_dashboards": {
      "version": 1,
      "views": {
       "grid_default": {},
       "report_default": {
        "hidden": false
       }
      }
     }
    }
   },
   "source": [
    "##### Jeu d'entraînement:"
   ]
  },
  {
   "cell_type": "code",
   "execution_count": 114,
   "id": "07d4f9fc",
   "metadata": {
    "extensions": {
     "jupyter_dashboards": {
      "version": 1,
      "views": {
       "grid_default": {},
       "report_default": {
        "hidden": true
       }
      }
     }
    }
   },
   "outputs": [],
   "source": [
    "y_train_pred = linReg.predict(X_train)"
   ]
  },
  {
   "cell_type": "code",
   "execution_count": 115,
   "id": "fbd2497a",
   "metadata": {
    "extensions": {
     "jupyter_dashboards": {
      "version": 1,
      "views": {
       "grid_default": {},
       "report_default": {
        "hidden": false
       }
      }
     }
    }
   },
   "outputs": [
    {
     "name": "stdout",
     "output_type": "stream",
     "text": [
      "RMSE:  0.4091759960878095\n"
     ]
    }
   ],
   "source": [
    "print('RMSE: ', np.sqrt(mean_squared_error(y_train, y_train_pred))) "
   ]
  },
  {
   "cell_type": "markdown",
   "id": "e5c1aafd",
   "metadata": {
    "extensions": {
     "jupyter_dashboards": {
      "version": 1,
      "views": {
       "grid_default": {},
       "report_default": {
        "hidden": false
       }
      }
     }
    }
   },
   "source": [
    "##### Jeu de test:"
   ]
  },
  {
   "cell_type": "code",
   "execution_count": 116,
   "id": "b19ce346",
   "metadata": {
    "extensions": {
     "jupyter_dashboards": {
      "version": 1,
      "views": {
       "grid_default": {},
       "report_default": {
        "hidden": true
       }
      }
     }
    }
   },
   "outputs": [],
   "source": [
    "y_pred = linReg.predict(X_test)"
   ]
  },
  {
   "cell_type": "code",
   "execution_count": 117,
   "id": "f3c9f614",
   "metadata": {
    "extensions": {
     "jupyter_dashboards": {
      "version": 1,
      "views": {
       "grid_default": {},
       "report_default": {
        "hidden": false
       }
      }
     }
    }
   },
   "outputs": [
    {
     "name": "stdout",
     "output_type": "stream",
     "text": [
      "RMSE:  0.41787677258482514\n"
     ]
    }
   ],
   "source": [
    "print('RMSE: ', np.sqrt(mean_squared_error(y_test, y_pred))) "
   ]
  },
  {
   "cell_type": "markdown",
   "id": "08fee605",
   "metadata": {
    "extensions": {
     "jupyter_dashboards": {
      "version": 1,
      "views": {
       "grid_default": {},
       "report_default": {
        "hidden": true
       }
      }
     }
    }
   },
   "source": [
    "##### Prédire les valeurs manquantes d'après le model:"
   ]
  },
  {
   "cell_type": "code",
   "execution_count": 118,
   "id": "ddccefd6",
   "metadata": {
    "extensions": {
     "jupyter_dashboards": {
      "version": 1,
      "views": {
       "grid_default": {},
       "report_default": {
        "hidden": true
       }
      }
     }
    }
   },
   "outputs": [],
   "source": [
    "X_null = null_value.drop(['margin_low'], axis=1)\n",
    "y_null = linReg.predict(X_null)"
   ]
  },
  {
   "cell_type": "markdown",
   "id": "11c4827d",
   "metadata": {
    "extensions": {
     "jupyter_dashboards": {
      "version": 1,
      "views": {
       "grid_default": {},
       "report_default": {
        "hidden": true
       }
      }
     }
    }
   },
   "source": [
    "##### Reformer le dataframe avec les valeurs manquantes ajoutées:"
   ]
  },
  {
   "cell_type": "code",
   "execution_count": 119,
   "id": "cf2e00f4",
   "metadata": {
    "extensions": {
     "jupyter_dashboards": {
      "version": 1,
      "views": {
       "grid_default": {},
       "report_default": {
        "hidden": true
       }
      }
     }
    }
   },
   "outputs": [
    {
     "data": {
      "text/html": [
       "<div>\n",
       "<style scoped>\n",
       "    .dataframe tbody tr th:only-of-type {\n",
       "        vertical-align: middle;\n",
       "    }\n",
       "\n",
       "    .dataframe tbody tr th {\n",
       "        vertical-align: top;\n",
       "    }\n",
       "\n",
       "    .dataframe thead th {\n",
       "        text-align: right;\n",
       "    }\n",
       "</style>\n",
       "<table border=\"1\" class=\"dataframe\">\n",
       "  <thead>\n",
       "    <tr style=\"text-align: right;\">\n",
       "      <th></th>\n",
       "      <th>is_genuine</th>\n",
       "      <th>diagonal</th>\n",
       "      <th>height_left</th>\n",
       "      <th>height_right</th>\n",
       "      <th>margin_up</th>\n",
       "      <th>length</th>\n",
       "      <th>margin_low</th>\n",
       "    </tr>\n",
       "  </thead>\n",
       "  <tbody>\n",
       "    <tr>\n",
       "      <th>72</th>\n",
       "      <td>1</td>\n",
       "      <td>171.94</td>\n",
       "      <td>103.89</td>\n",
       "      <td>103.45</td>\n",
       "      <td>3.25</td>\n",
       "      <td>112.79</td>\n",
       "      <td>4.093528</td>\n",
       "    </tr>\n",
       "    <tr>\n",
       "      <th>99</th>\n",
       "      <td>1</td>\n",
       "      <td>171.93</td>\n",
       "      <td>104.07</td>\n",
       "      <td>104.18</td>\n",
       "      <td>3.14</td>\n",
       "      <td>113.08</td>\n",
       "      <td>4.101947</td>\n",
       "    </tr>\n",
       "    <tr>\n",
       "      <th>151</th>\n",
       "      <td>1</td>\n",
       "      <td>172.07</td>\n",
       "      <td>103.80</td>\n",
       "      <td>104.38</td>\n",
       "      <td>3.02</td>\n",
       "      <td>112.93</td>\n",
       "      <td>4.126141</td>\n",
       "    </tr>\n",
       "    <tr>\n",
       "      <th>197</th>\n",
       "      <td>1</td>\n",
       "      <td>171.45</td>\n",
       "      <td>103.66</td>\n",
       "      <td>103.80</td>\n",
       "      <td>3.62</td>\n",
       "      <td>113.27</td>\n",
       "      <td>4.034802</td>\n",
       "    </tr>\n",
       "    <tr>\n",
       "      <th>241</th>\n",
       "      <td>1</td>\n",
       "      <td>171.83</td>\n",
       "      <td>104.14</td>\n",
       "      <td>104.06</td>\n",
       "      <td>3.02</td>\n",
       "      <td>112.36</td>\n",
       "      <td>4.117265</td>\n",
       "    </tr>\n",
       "    <tr>\n",
       "      <th>251</th>\n",
       "      <td>1</td>\n",
       "      <td>171.80</td>\n",
       "      <td>103.26</td>\n",
       "      <td>102.82</td>\n",
       "      <td>2.95</td>\n",
       "      <td>113.22</td>\n",
       "      <td>4.145605</td>\n",
       "    </tr>\n",
       "    <tr>\n",
       "      <th>284</th>\n",
       "      <td>1</td>\n",
       "      <td>171.92</td>\n",
       "      <td>103.83</td>\n",
       "      <td>103.76</td>\n",
       "      <td>3.23</td>\n",
       "      <td>113.29</td>\n",
       "      <td>4.094874</td>\n",
       "    </tr>\n",
       "    <tr>\n",
       "      <th>334</th>\n",
       "      <td>1</td>\n",
       "      <td>171.85</td>\n",
       "      <td>103.70</td>\n",
       "      <td>103.96</td>\n",
       "      <td>3.00</td>\n",
       "      <td>113.36</td>\n",
       "      <td>4.126988</td>\n",
       "    </tr>\n",
       "    <tr>\n",
       "      <th>410</th>\n",
       "      <td>1</td>\n",
       "      <td>172.56</td>\n",
       "      <td>103.72</td>\n",
       "      <td>103.51</td>\n",
       "      <td>3.12</td>\n",
       "      <td>112.95</td>\n",
       "      <td>4.126425</td>\n",
       "    </tr>\n",
       "    <tr>\n",
       "      <th>413</th>\n",
       "      <td>1</td>\n",
       "      <td>172.30</td>\n",
       "      <td>103.66</td>\n",
       "      <td>103.50</td>\n",
       "      <td>3.16</td>\n",
       "      <td>112.95</td>\n",
       "      <td>4.116957</td>\n",
       "    </tr>\n",
       "    <tr>\n",
       "      <th>445</th>\n",
       "      <td>1</td>\n",
       "      <td>172.34</td>\n",
       "      <td>104.42</td>\n",
       "      <td>103.22</td>\n",
       "      <td>3.01</td>\n",
       "      <td>112.97</td>\n",
       "      <td>4.124847</td>\n",
       "    </tr>\n",
       "    <tr>\n",
       "      <th>481</th>\n",
       "      <td>1</td>\n",
       "      <td>171.81</td>\n",
       "      <td>103.53</td>\n",
       "      <td>103.96</td>\n",
       "      <td>2.71</td>\n",
       "      <td>113.99</td>\n",
       "      <td>4.168207</td>\n",
       "    </tr>\n",
       "    <tr>\n",
       "      <th>505</th>\n",
       "      <td>1</td>\n",
       "      <td>172.01</td>\n",
       "      <td>103.97</td>\n",
       "      <td>104.05</td>\n",
       "      <td>2.98</td>\n",
       "      <td>113.65</td>\n",
       "      <td>4.126769</td>\n",
       "    </tr>\n",
       "    <tr>\n",
       "      <th>611</th>\n",
       "      <td>1</td>\n",
       "      <td>171.80</td>\n",
       "      <td>103.68</td>\n",
       "      <td>103.49</td>\n",
       "      <td>3.30</td>\n",
       "      <td>112.84</td>\n",
       "      <td>4.087632</td>\n",
       "    </tr>\n",
       "    <tr>\n",
       "      <th>654</th>\n",
       "      <td>1</td>\n",
       "      <td>171.97</td>\n",
       "      <td>103.69</td>\n",
       "      <td>103.54</td>\n",
       "      <td>2.70</td>\n",
       "      <td>112.79</td>\n",
       "      <td>4.173788</td>\n",
       "    </tr>\n",
       "    <tr>\n",
       "      <th>675</th>\n",
       "      <td>1</td>\n",
       "      <td>171.60</td>\n",
       "      <td>103.85</td>\n",
       "      <td>103.91</td>\n",
       "      <td>2.56</td>\n",
       "      <td>113.27</td>\n",
       "      <td>4.180476</td>\n",
       "    </tr>\n",
       "    <tr>\n",
       "      <th>710</th>\n",
       "      <td>1</td>\n",
       "      <td>172.03</td>\n",
       "      <td>103.97</td>\n",
       "      <td>103.86</td>\n",
       "      <td>3.07</td>\n",
       "      <td>112.65</td>\n",
       "      <td>4.117584</td>\n",
       "    </tr>\n",
       "    <tr>\n",
       "      <th>739</th>\n",
       "      <td>1</td>\n",
       "      <td>172.07</td>\n",
       "      <td>103.74</td>\n",
       "      <td>103.76</td>\n",
       "      <td>3.09</td>\n",
       "      <td>112.41</td>\n",
       "      <td>4.120894</td>\n",
       "    </tr>\n",
       "    <tr>\n",
       "      <th>742</th>\n",
       "      <td>1</td>\n",
       "      <td>172.14</td>\n",
       "      <td>104.06</td>\n",
       "      <td>103.96</td>\n",
       "      <td>3.24</td>\n",
       "      <td>113.07</td>\n",
       "      <td>4.093207</td>\n",
       "    </tr>\n",
       "    <tr>\n",
       "      <th>780</th>\n",
       "      <td>1</td>\n",
       "      <td>172.41</td>\n",
       "      <td>103.95</td>\n",
       "      <td>103.79</td>\n",
       "      <td>3.13</td>\n",
       "      <td>113.41</td>\n",
       "      <td>4.115688</td>\n",
       "    </tr>\n",
       "    <tr>\n",
       "      <th>798</th>\n",
       "      <td>1</td>\n",
       "      <td>171.96</td>\n",
       "      <td>103.84</td>\n",
       "      <td>103.62</td>\n",
       "      <td>3.01</td>\n",
       "      <td>114.44</td>\n",
       "      <td>4.123848</td>\n",
       "    </tr>\n",
       "    <tr>\n",
       "      <th>844</th>\n",
       "      <td>1</td>\n",
       "      <td>171.62</td>\n",
       "      <td>104.14</td>\n",
       "      <td>104.49</td>\n",
       "      <td>2.99</td>\n",
       "      <td>113.35</td>\n",
       "      <td>4.113601</td>\n",
       "    </tr>\n",
       "    <tr>\n",
       "      <th>845</th>\n",
       "      <td>1</td>\n",
       "      <td>172.02</td>\n",
       "      <td>104.21</td>\n",
       "      <td>104.05</td>\n",
       "      <td>2.90</td>\n",
       "      <td>113.62</td>\n",
       "      <td>4.133503</td>\n",
       "    </tr>\n",
       "    <tr>\n",
       "      <th>871</th>\n",
       "      <td>1</td>\n",
       "      <td>171.37</td>\n",
       "      <td>104.07</td>\n",
       "      <td>103.75</td>\n",
       "      <td>3.07</td>\n",
       "      <td>113.27</td>\n",
       "      <td>4.101676</td>\n",
       "    </tr>\n",
       "    <tr>\n",
       "      <th>895</th>\n",
       "      <td>1</td>\n",
       "      <td>171.81</td>\n",
       "      <td>103.68</td>\n",
       "      <td>103.80</td>\n",
       "      <td>2.98</td>\n",
       "      <td>113.82</td>\n",
       "      <td>4.128880</td>\n",
       "    </tr>\n",
       "    <tr>\n",
       "      <th>919</th>\n",
       "      <td>1</td>\n",
       "      <td>171.92</td>\n",
       "      <td>103.68</td>\n",
       "      <td>103.45</td>\n",
       "      <td>2.58</td>\n",
       "      <td>113.68</td>\n",
       "      <td>4.187937</td>\n",
       "    </tr>\n",
       "    <tr>\n",
       "      <th>945</th>\n",
       "      <td>1</td>\n",
       "      <td>172.09</td>\n",
       "      <td>103.74</td>\n",
       "      <td>103.52</td>\n",
       "      <td>3.02</td>\n",
       "      <td>112.78</td>\n",
       "      <td>4.130981</td>\n",
       "    </tr>\n",
       "    <tr>\n",
       "      <th>946</th>\n",
       "      <td>1</td>\n",
       "      <td>171.63</td>\n",
       "      <td>103.87</td>\n",
       "      <td>104.66</td>\n",
       "      <td>3.27</td>\n",
       "      <td>112.68</td>\n",
       "      <td>4.081122</td>\n",
       "    </tr>\n",
       "    <tr>\n",
       "      <th>981</th>\n",
       "      <td>1</td>\n",
       "      <td>172.02</td>\n",
       "      <td>104.23</td>\n",
       "      <td>103.72</td>\n",
       "      <td>2.99</td>\n",
       "      <td>113.37</td>\n",
       "      <td>4.122352</td>\n",
       "    </tr>\n",
       "    <tr>\n",
       "      <th>1076</th>\n",
       "      <td>0</td>\n",
       "      <td>171.57</td>\n",
       "      <td>104.27</td>\n",
       "      <td>104.44</td>\n",
       "      <td>3.21</td>\n",
       "      <td>111.87</td>\n",
       "      <td>5.227229</td>\n",
       "    </tr>\n",
       "    <tr>\n",
       "      <th>1121</th>\n",
       "      <td>0</td>\n",
       "      <td>171.40</td>\n",
       "      <td>104.38</td>\n",
       "      <td>104.19</td>\n",
       "      <td>3.17</td>\n",
       "      <td>112.39</td>\n",
       "      <td>5.227013</td>\n",
       "    </tr>\n",
       "    <tr>\n",
       "      <th>1176</th>\n",
       "      <td>0</td>\n",
       "      <td>171.59</td>\n",
       "      <td>104.05</td>\n",
       "      <td>103.94</td>\n",
       "      <td>3.02</td>\n",
       "      <td>111.29</td>\n",
       "      <td>5.261160</td>\n",
       "    </tr>\n",
       "    <tr>\n",
       "      <th>1303</th>\n",
       "      <td>0</td>\n",
       "      <td>172.17</td>\n",
       "      <td>104.49</td>\n",
       "      <td>103.76</td>\n",
       "      <td>2.93</td>\n",
       "      <td>111.21</td>\n",
       "      <td>5.277389</td>\n",
       "    </tr>\n",
       "    <tr>\n",
       "      <th>1315</th>\n",
       "      <td>0</td>\n",
       "      <td>172.08</td>\n",
       "      <td>104.15</td>\n",
       "      <td>104.17</td>\n",
       "      <td>3.40</td>\n",
       "      <td>112.29</td>\n",
       "      <td>5.213258</td>\n",
       "    </tr>\n",
       "    <tr>\n",
       "      <th>1347</th>\n",
       "      <td>0</td>\n",
       "      <td>171.72</td>\n",
       "      <td>104.46</td>\n",
       "      <td>104.12</td>\n",
       "      <td>3.61</td>\n",
       "      <td>110.31</td>\n",
       "      <td>5.175734</td>\n",
       "    </tr>\n",
       "    <tr>\n",
       "      <th>1435</th>\n",
       "      <td>0</td>\n",
       "      <td>172.66</td>\n",
       "      <td>104.33</td>\n",
       "      <td>104.41</td>\n",
       "      <td>3.56</td>\n",
       "      <td>111.47</td>\n",
       "      <td>5.200067</td>\n",
       "    </tr>\n",
       "    <tr>\n",
       "      <th>1438</th>\n",
       "      <td>0</td>\n",
       "      <td>171.90</td>\n",
       "      <td>104.28</td>\n",
       "      <td>104.29</td>\n",
       "      <td>3.24</td>\n",
       "      <td>111.49</td>\n",
       "      <td>5.230740</td>\n",
       "    </tr>\n",
       "  </tbody>\n",
       "</table>\n",
       "</div>"
      ],
      "text/plain": [
       "      is_genuine  diagonal  height_left  height_right  margin_up  length  \\\n",
       "72             1    171.94       103.89        103.45       3.25  112.79   \n",
       "99             1    171.93       104.07        104.18       3.14  113.08   \n",
       "151            1    172.07       103.80        104.38       3.02  112.93   \n",
       "197            1    171.45       103.66        103.80       3.62  113.27   \n",
       "241            1    171.83       104.14        104.06       3.02  112.36   \n",
       "251            1    171.80       103.26        102.82       2.95  113.22   \n",
       "284            1    171.92       103.83        103.76       3.23  113.29   \n",
       "334            1    171.85       103.70        103.96       3.00  113.36   \n",
       "410            1    172.56       103.72        103.51       3.12  112.95   \n",
       "413            1    172.30       103.66        103.50       3.16  112.95   \n",
       "445            1    172.34       104.42        103.22       3.01  112.97   \n",
       "481            1    171.81       103.53        103.96       2.71  113.99   \n",
       "505            1    172.01       103.97        104.05       2.98  113.65   \n",
       "611            1    171.80       103.68        103.49       3.30  112.84   \n",
       "654            1    171.97       103.69        103.54       2.70  112.79   \n",
       "675            1    171.60       103.85        103.91       2.56  113.27   \n",
       "710            1    172.03       103.97        103.86       3.07  112.65   \n",
       "739            1    172.07       103.74        103.76       3.09  112.41   \n",
       "742            1    172.14       104.06        103.96       3.24  113.07   \n",
       "780            1    172.41       103.95        103.79       3.13  113.41   \n",
       "798            1    171.96       103.84        103.62       3.01  114.44   \n",
       "844            1    171.62       104.14        104.49       2.99  113.35   \n",
       "845            1    172.02       104.21        104.05       2.90  113.62   \n",
       "871            1    171.37       104.07        103.75       3.07  113.27   \n",
       "895            1    171.81       103.68        103.80       2.98  113.82   \n",
       "919            1    171.92       103.68        103.45       2.58  113.68   \n",
       "945            1    172.09       103.74        103.52       3.02  112.78   \n",
       "946            1    171.63       103.87        104.66       3.27  112.68   \n",
       "981            1    172.02       104.23        103.72       2.99  113.37   \n",
       "1076           0    171.57       104.27        104.44       3.21  111.87   \n",
       "1121           0    171.40       104.38        104.19       3.17  112.39   \n",
       "1176           0    171.59       104.05        103.94       3.02  111.29   \n",
       "1303           0    172.17       104.49        103.76       2.93  111.21   \n",
       "1315           0    172.08       104.15        104.17       3.40  112.29   \n",
       "1347           0    171.72       104.46        104.12       3.61  110.31   \n",
       "1435           0    172.66       104.33        104.41       3.56  111.47   \n",
       "1438           0    171.90       104.28        104.29       3.24  111.49   \n",
       "\n",
       "      margin_low  \n",
       "72      4.093528  \n",
       "99      4.101947  \n",
       "151     4.126141  \n",
       "197     4.034802  \n",
       "241     4.117265  \n",
       "251     4.145605  \n",
       "284     4.094874  \n",
       "334     4.126988  \n",
       "410     4.126425  \n",
       "413     4.116957  \n",
       "445     4.124847  \n",
       "481     4.168207  \n",
       "505     4.126769  \n",
       "611     4.087632  \n",
       "654     4.173788  \n",
       "675     4.180476  \n",
       "710     4.117584  \n",
       "739     4.120894  \n",
       "742     4.093207  \n",
       "780     4.115688  \n",
       "798     4.123848  \n",
       "844     4.113601  \n",
       "845     4.133503  \n",
       "871     4.101676  \n",
       "895     4.128880  \n",
       "919     4.187937  \n",
       "945     4.130981  \n",
       "946     4.081122  \n",
       "981     4.122352  \n",
       "1076    5.227229  \n",
       "1121    5.227013  \n",
       "1176    5.261160  \n",
       "1303    5.277389  \n",
       "1315    5.213258  \n",
       "1347    5.175734  \n",
       "1435    5.200067  \n",
       "1438    5.230740  "
      ]
     },
     "execution_count": 119,
     "metadata": {},
     "output_type": "execute_result"
    }
   ],
   "source": [
    "X_null['y_null'] = y_null\n",
    "X_null = X_null.rename(columns={'y_null':'margin_low'})\n",
    "X_null"
   ]
  },
  {
   "cell_type": "markdown",
   "id": "56e79442",
   "metadata": {
    "extensions": {
     "jupyter_dashboards": {
      "version": 1,
      "views": {
       "grid_default": {},
       "report_default": {
        "hidden": false
       }
      }
     }
    }
   },
   "source": [
    "##### Reformer le dataframe principal:"
   ]
  },
  {
   "cell_type": "code",
   "execution_count": 120,
   "id": "39a5b9ca",
   "metadata": {
    "extensions": {
     "jupyter_dashboards": {
      "version": 1,
      "views": {
       "grid_default": {},
       "report_default": {
        "hidden": false
       }
      }
     }
    }
   },
   "outputs": [
    {
     "data": {
      "text/html": [
       "<div>\n",
       "<style scoped>\n",
       "    .dataframe tbody tr th:only-of-type {\n",
       "        vertical-align: middle;\n",
       "    }\n",
       "\n",
       "    .dataframe tbody tr th {\n",
       "        vertical-align: top;\n",
       "    }\n",
       "\n",
       "    .dataframe thead th {\n",
       "        text-align: right;\n",
       "    }\n",
       "</style>\n",
       "<table border=\"1\" class=\"dataframe\">\n",
       "  <thead>\n",
       "    <tr style=\"text-align: right;\">\n",
       "      <th></th>\n",
       "      <th>is_genuine</th>\n",
       "      <th>diagonal</th>\n",
       "      <th>height_left</th>\n",
       "      <th>height_right</th>\n",
       "      <th>margin_low</th>\n",
       "      <th>margin_up</th>\n",
       "      <th>length</th>\n",
       "    </tr>\n",
       "  </thead>\n",
       "  <tbody>\n",
       "    <tr>\n",
       "      <th>0</th>\n",
       "      <td>1</td>\n",
       "      <td>171.81</td>\n",
       "      <td>104.86</td>\n",
       "      <td>104.95</td>\n",
       "      <td>4.520000</td>\n",
       "      <td>2.89</td>\n",
       "      <td>112.83</td>\n",
       "    </tr>\n",
       "    <tr>\n",
       "      <th>1</th>\n",
       "      <td>1</td>\n",
       "      <td>171.46</td>\n",
       "      <td>103.36</td>\n",
       "      <td>103.66</td>\n",
       "      <td>3.770000</td>\n",
       "      <td>2.99</td>\n",
       "      <td>113.09</td>\n",
       "    </tr>\n",
       "    <tr>\n",
       "      <th>2</th>\n",
       "      <td>1</td>\n",
       "      <td>172.69</td>\n",
       "      <td>104.48</td>\n",
       "      <td>103.50</td>\n",
       "      <td>4.400000</td>\n",
       "      <td>2.94</td>\n",
       "      <td>113.16</td>\n",
       "    </tr>\n",
       "    <tr>\n",
       "      <th>3</th>\n",
       "      <td>1</td>\n",
       "      <td>171.36</td>\n",
       "      <td>103.91</td>\n",
       "      <td>103.94</td>\n",
       "      <td>3.620000</td>\n",
       "      <td>3.01</td>\n",
       "      <td>113.51</td>\n",
       "    </tr>\n",
       "    <tr>\n",
       "      <th>4</th>\n",
       "      <td>1</td>\n",
       "      <td>171.73</td>\n",
       "      <td>104.28</td>\n",
       "      <td>103.46</td>\n",
       "      <td>4.040000</td>\n",
       "      <td>3.48</td>\n",
       "      <td>112.54</td>\n",
       "    </tr>\n",
       "    <tr>\n",
       "      <th>...</th>\n",
       "      <td>...</td>\n",
       "      <td>...</td>\n",
       "      <td>...</td>\n",
       "      <td>...</td>\n",
       "      <td>...</td>\n",
       "      <td>...</td>\n",
       "      <td>...</td>\n",
       "    </tr>\n",
       "    <tr>\n",
       "      <th>1303</th>\n",
       "      <td>0</td>\n",
       "      <td>172.17</td>\n",
       "      <td>104.49</td>\n",
       "      <td>103.76</td>\n",
       "      <td>5.277389</td>\n",
       "      <td>2.93</td>\n",
       "      <td>111.21</td>\n",
       "    </tr>\n",
       "    <tr>\n",
       "      <th>1315</th>\n",
       "      <td>0</td>\n",
       "      <td>172.08</td>\n",
       "      <td>104.15</td>\n",
       "      <td>104.17</td>\n",
       "      <td>5.213258</td>\n",
       "      <td>3.40</td>\n",
       "      <td>112.29</td>\n",
       "    </tr>\n",
       "    <tr>\n",
       "      <th>1347</th>\n",
       "      <td>0</td>\n",
       "      <td>171.72</td>\n",
       "      <td>104.46</td>\n",
       "      <td>104.12</td>\n",
       "      <td>5.175734</td>\n",
       "      <td>3.61</td>\n",
       "      <td>110.31</td>\n",
       "    </tr>\n",
       "    <tr>\n",
       "      <th>1435</th>\n",
       "      <td>0</td>\n",
       "      <td>172.66</td>\n",
       "      <td>104.33</td>\n",
       "      <td>104.41</td>\n",
       "      <td>5.200067</td>\n",
       "      <td>3.56</td>\n",
       "      <td>111.47</td>\n",
       "    </tr>\n",
       "    <tr>\n",
       "      <th>1438</th>\n",
       "      <td>0</td>\n",
       "      <td>171.90</td>\n",
       "      <td>104.28</td>\n",
       "      <td>104.29</td>\n",
       "      <td>5.230740</td>\n",
       "      <td>3.24</td>\n",
       "      <td>111.49</td>\n",
       "    </tr>\n",
       "  </tbody>\n",
       "</table>\n",
       "<p>1500 rows × 7 columns</p>\n",
       "</div>"
      ],
      "text/plain": [
       "      is_genuine  diagonal  height_left  height_right  margin_low  margin_up  \\\n",
       "0              1    171.81       104.86        104.95    4.520000       2.89   \n",
       "1              1    171.46       103.36        103.66    3.770000       2.99   \n",
       "2              1    172.69       104.48        103.50    4.400000       2.94   \n",
       "3              1    171.36       103.91        103.94    3.620000       3.01   \n",
       "4              1    171.73       104.28        103.46    4.040000       3.48   \n",
       "...          ...       ...          ...           ...         ...        ...   \n",
       "1303           0    172.17       104.49        103.76    5.277389       2.93   \n",
       "1315           0    172.08       104.15        104.17    5.213258       3.40   \n",
       "1347           0    171.72       104.46        104.12    5.175734       3.61   \n",
       "1435           0    172.66       104.33        104.41    5.200067       3.56   \n",
       "1438           0    171.90       104.28        104.29    5.230740       3.24   \n",
       "\n",
       "      length  \n",
       "0     112.83  \n",
       "1     113.09  \n",
       "2     113.16  \n",
       "3     113.51  \n",
       "4     112.54  \n",
       "...      ...  \n",
       "1303  111.21  \n",
       "1315  112.29  \n",
       "1347  110.31  \n",
       "1435  111.47  \n",
       "1438  111.49  \n",
       "\n",
       "[1500 rows x 7 columns]"
      ]
     },
     "execution_count": 120,
     "metadata": {},
     "output_type": "execute_result"
    }
   ],
   "source": [
    "df3 = pd.concat([df2, X_null])\n",
    "df3"
   ]
  },
  {
   "cell_type": "markdown",
   "id": "1688020d",
   "metadata": {
    "extensions": {
     "jupyter_dashboards": {
      "version": 1,
      "views": {
       "grid_default": {},
       "report_default": {
        "hidden": true
       }
      }
     }
    }
   },
   "source": [
    "##### Descirption du dataframe:"
   ]
  },
  {
   "cell_type": "code",
   "execution_count": 121,
   "id": "1bf34a96",
   "metadata": {
    "extensions": {
     "jupyter_dashboards": {
      "version": 1,
      "views": {
       "grid_default": {},
       "report_default": {
        "hidden": true
       }
      }
     }
    }
   },
   "outputs": [
    {
     "data": {
      "text/html": [
       "<div>\n",
       "<style scoped>\n",
       "    .dataframe tbody tr th:only-of-type {\n",
       "        vertical-align: middle;\n",
       "    }\n",
       "\n",
       "    .dataframe tbody tr th {\n",
       "        vertical-align: top;\n",
       "    }\n",
       "\n",
       "    .dataframe thead th {\n",
       "        text-align: right;\n",
       "    }\n",
       "</style>\n",
       "<table border=\"1\" class=\"dataframe\">\n",
       "  <thead>\n",
       "    <tr style=\"text-align: right;\">\n",
       "      <th></th>\n",
       "      <th>is_genuine</th>\n",
       "      <th>diagonal</th>\n",
       "      <th>height_left</th>\n",
       "      <th>height_right</th>\n",
       "      <th>margin_low</th>\n",
       "      <th>margin_up</th>\n",
       "      <th>length</th>\n",
       "    </tr>\n",
       "  </thead>\n",
       "  <tbody>\n",
       "    <tr>\n",
       "      <th>count</th>\n",
       "      <td>1500.000000</td>\n",
       "      <td>1500.000000</td>\n",
       "      <td>1500.000000</td>\n",
       "      <td>1500.000000</td>\n",
       "      <td>1500.000000</td>\n",
       "      <td>1500.000000</td>\n",
       "      <td>1500.00000</td>\n",
       "    </tr>\n",
       "    <tr>\n",
       "      <th>mean</th>\n",
       "      <td>0.666667</td>\n",
       "      <td>171.958440</td>\n",
       "      <td>104.029533</td>\n",
       "      <td>103.920307</td>\n",
       "      <td>4.482867</td>\n",
       "      <td>3.151473</td>\n",
       "      <td>112.67850</td>\n",
       "    </tr>\n",
       "    <tr>\n",
       "      <th>std</th>\n",
       "      <td>0.471562</td>\n",
       "      <td>0.305195</td>\n",
       "      <td>0.299462</td>\n",
       "      <td>0.325627</td>\n",
       "      <td>0.659761</td>\n",
       "      <td>0.231813</td>\n",
       "      <td>0.87273</td>\n",
       "    </tr>\n",
       "    <tr>\n",
       "      <th>min</th>\n",
       "      <td>0.000000</td>\n",
       "      <td>171.040000</td>\n",
       "      <td>103.140000</td>\n",
       "      <td>102.820000</td>\n",
       "      <td>2.980000</td>\n",
       "      <td>2.270000</td>\n",
       "      <td>109.49000</td>\n",
       "    </tr>\n",
       "    <tr>\n",
       "      <th>25%</th>\n",
       "      <td>0.000000</td>\n",
       "      <td>171.750000</td>\n",
       "      <td>103.820000</td>\n",
       "      <td>103.710000</td>\n",
       "      <td>4.030000</td>\n",
       "      <td>2.990000</td>\n",
       "      <td>112.03000</td>\n",
       "    </tr>\n",
       "    <tr>\n",
       "      <th>50%</th>\n",
       "      <td>1.000000</td>\n",
       "      <td>171.960000</td>\n",
       "      <td>104.040000</td>\n",
       "      <td>103.920000</td>\n",
       "      <td>4.310000</td>\n",
       "      <td>3.140000</td>\n",
       "      <td>112.96000</td>\n",
       "    </tr>\n",
       "    <tr>\n",
       "      <th>75%</th>\n",
       "      <td>1.000000</td>\n",
       "      <td>172.170000</td>\n",
       "      <td>104.230000</td>\n",
       "      <td>104.150000</td>\n",
       "      <td>4.870000</td>\n",
       "      <td>3.310000</td>\n",
       "      <td>113.34000</td>\n",
       "    </tr>\n",
       "    <tr>\n",
       "      <th>max</th>\n",
       "      <td>1.000000</td>\n",
       "      <td>173.010000</td>\n",
       "      <td>104.880000</td>\n",
       "      <td>104.950000</td>\n",
       "      <td>6.900000</td>\n",
       "      <td>3.910000</td>\n",
       "      <td>114.44000</td>\n",
       "    </tr>\n",
       "  </tbody>\n",
       "</table>\n",
       "</div>"
      ],
      "text/plain": [
       "        is_genuine     diagonal  height_left  height_right   margin_low  \\\n",
       "count  1500.000000  1500.000000  1500.000000   1500.000000  1500.000000   \n",
       "mean      0.666667   171.958440   104.029533    103.920307     4.482867   \n",
       "std       0.471562     0.305195     0.299462      0.325627     0.659761   \n",
       "min       0.000000   171.040000   103.140000    102.820000     2.980000   \n",
       "25%       0.000000   171.750000   103.820000    103.710000     4.030000   \n",
       "50%       1.000000   171.960000   104.040000    103.920000     4.310000   \n",
       "75%       1.000000   172.170000   104.230000    104.150000     4.870000   \n",
       "max       1.000000   173.010000   104.880000    104.950000     6.900000   \n",
       "\n",
       "         margin_up      length  \n",
       "count  1500.000000  1500.00000  \n",
       "mean      3.151473   112.67850  \n",
       "std       0.231813     0.87273  \n",
       "min       2.270000   109.49000  \n",
       "25%       2.990000   112.03000  \n",
       "50%       3.140000   112.96000  \n",
       "75%       3.310000   113.34000  \n",
       "max       3.910000   114.44000  "
      ]
     },
     "execution_count": 121,
     "metadata": {},
     "output_type": "execute_result"
    }
   ],
   "source": [
    "df3.describe()"
   ]
  },
  {
   "cell_type": "markdown",
   "id": "6fd2c951",
   "metadata": {
    "extensions": {
     "jupyter_dashboards": {
      "version": 1,
      "views": {
       "grid_default": {},
       "report_default": {
        "hidden": true
       }
      }
     }
    }
   },
   "source": [
    "### Split values, labels:"
   ]
  },
  {
   "cell_type": "markdown",
   "id": "66641520",
   "metadata": {
    "extensions": {
     "jupyter_dashboards": {
      "version": 1,
      "views": {
       "grid_default": {},
       "report_default": {
        "hidden": true
       }
      }
     }
    }
   },
   "source": [
    "##### Séparation du dataset en 2 dataframe:"
   ]
  },
  {
   "cell_type": "code",
   "execution_count": 122,
   "id": "1b4f0da1",
   "metadata": {
    "extensions": {
     "jupyter_dashboards": {
      "version": 1,
      "views": {
       "grid_default": {},
       "report_default": {
        "hidden": true
       }
      }
     }
    }
   },
   "outputs": [],
   "source": [
    "X = df3.iloc[:,1:]\n",
    "y = df3[['is_genuine']]"
   ]
  },
  {
   "cell_type": "markdown",
   "id": "3f8b01f1",
   "metadata": {
    "extensions": {
     "jupyter_dashboards": {
      "version": 1,
      "views": {
       "grid_default": {},
       "report_default": {
        "hidden": true
       }
      }
     }
    }
   },
   "source": [
    "### Distribution"
   ]
  },
  {
   "cell_type": "markdown",
   "id": "8178cc29",
   "metadata": {
    "extensions": {
     "jupyter_dashboards": {
      "version": 1,
      "views": {
       "grid_default": {},
       "report_default": {
        "hidden": true
       }
      }
     }
    }
   },
   "source": [
    "#### Visualisation des distributions à l'aide d'histogrammes pour vérifier la forme des variables."
   ]
  },
  {
   "cell_type": "code",
   "execution_count": 123,
   "id": "91dde9ee",
   "metadata": {
    "extensions": {
     "jupyter_dashboards": {
      "version": 1,
      "views": {
       "grid_default": {},
       "report_default": {
        "hidden": true
       }
      }
     }
    }
   },
   "outputs": [],
   "source": [
    "def distribution(item):\n",
    "\n",
    "    for i in item.iloc[:,:]:\n",
    "        plt.figure(figsize=(16,9))\n",
    "        sns.distplot(item[i])\n",
    "        plt.show()"
   ]
  },
  {
   "cell_type": "code",
   "execution_count": 124,
   "id": "d06db9a8",
   "metadata": {
    "extensions": {
     "jupyter_dashboards": {
      "version": 1,
      "views": {
       "grid_default": {},
       "report_default": {
        "hidden": true
       }
      }
     }
    },
    "scrolled": false
   },
   "outputs": [
    {
     "name": "stderr",
     "output_type": "stream",
     "text": [
      "/opt/anaconda3/lib/python3.8/site-packages/seaborn/distributions.py:2557: FutureWarning: `distplot` is a deprecated function and will be removed in a future version. Please adapt your code to use either `displot` (a figure-level function with similar flexibility) or `histplot` (an axes-level function for histograms).\n",
      "  warnings.warn(msg, FutureWarning)\n"
     ]
    },
    {
     "data": {
      "image/png": "[encoded data removed]",
      "text/plain": [
       "<Figure size 1152x648 with 1 Axes>"
      ]
     },
     "metadata": {},
     "output_type": "display_data"
    },
    {
     "name": "stderr",
     "output_type": "stream",
     "text": [
      "/opt/anaconda3/lib/python3.8/site-packages/seaborn/distributions.py:2557: FutureWarning: `distplot` is a deprecated function and will be removed in a future version. Please adapt your code to use either `displot` (a figure-level function with similar flexibility) or `histplot` (an axes-level function for histograms).\n",
      "  warnings.warn(msg, FutureWarning)\n"
     ]
    },
    {
     "data": {
      "image/png": "[encoded data removed]",
      "text/plain": [
       "<Figure size 1152x648 with 1 Axes>"
      ]
     },
     "metadata": {},
     "output_type": "display_data"
    },
    {
     "name": "stderr",
     "output_type": "stream",
     "text": [
      "/opt/anaconda3/lib/python3.8/site-packages/seaborn/distributions.py:2557: FutureWarning: `distplot` is a deprecated function and will be removed in a future version. Please adapt your code to use either `displot` (a figure-level function with similar flexibility) or `histplot` (an axes-level function for histograms).\n",
      "  warnings.warn(msg, FutureWarning)\n"
     ]
    },
    {
     "data": {
      "image/png": "[encoded data removed]",
      "text/plain": [
       "<Figure size 1152x648 with 1 Axes>"
      ]
     },
     "metadata": {},
     "output_type": "display_data"
    },
    {
     "name": "stderr",
     "output_type": "stream",
     "text": [
      "/opt/anaconda3/lib/python3.8/site-packages/seaborn/distributions.py:2557: FutureWarning: `distplot` is a deprecated function and will be removed in a future version. Please adapt your code to use either `displot` (a figure-level function with similar flexibility) or `histplot` (an axes-level function for histograms).\n",
      "  warnings.warn(msg, FutureWarning)\n"
     ]
    },
    {
     "data": {
      "image/png": "[encoded data removed]",
      "text/plain": [
       "<Figure size 1152x648 with 1 Axes>"
      ]
     },
     "metadata": {},
     "output_type": "display_data"
    },
    {
     "name": "stderr",
     "output_type": "stream",
     "text": [
      "/opt/anaconda3/lib/python3.8/site-packages/seaborn/distributions.py:2557: FutureWarning: `distplot` is a deprecated function and will be removed in a future version. Please adapt your code to use either `displot` (a figure-level function with similar flexibility) or `histplot` (an axes-level function for histograms).\n",
      "  warnings.warn(msg, FutureWarning)\n"
     ]
    },
    {
     "data": {
      "image/png": "[encoded data removed]",
      "text/plain": [
       "<Figure size 1152x648 with 1 Axes>"
      ]
     },
     "metadata": {},
     "output_type": "display_data"
    },
    {
     "name": "stderr",
     "output_type": "stream",
     "text": [
      "/opt/anaconda3/lib/python3.8/site-packages/seaborn/distributions.py:2557: FutureWarning: `distplot` is a deprecated function and will be removed in a future version. Please adapt your code to use either `displot` (a figure-level function with similar flexibility) or `histplot` (an axes-level function for histograms).\n",
      "  warnings.warn(msg, FutureWarning)\n"
     ]
    },
    {
     "data": {
      "image/png": "[encoded data removed]",
      "text/plain": [
       "<Figure size 1152x648 with 1 Axes>"
      ]
     },
     "metadata": {},
     "output_type": "display_data"
    }
   ],
   "source": [
    "distribution(X)"
   ]
  },
  {
   "cell_type": "markdown",
   "id": "7f1ca5e1",
   "metadata": {
    "extensions": {
     "jupyter_dashboards": {
      "version": 1,
      "views": {
       "grid_default": {},
       "report_default": {
        "hidden": true
       }
      }
     }
    }
   },
   "source": [
    "#### <font color='green'>Les histogrammes, permettent de mieux se représenter la forme des variables et les valeurs qui les composent. Cela nous donne du contexte et une meilleure compréhension des données.</font>"
   ]
  },
  {
   "cell_type": "markdown",
   "id": "3519aca2",
   "metadata": {
    "extensions": {
     "jupyter_dashboards": {
      "version": 1,
      "views": {
       "grid_default": {},
       "report_default": {
        "hidden": true
       }
      }
     }
    }
   },
   "source": [
    "### Normality test:"
   ]
  },
  {
   "cell_type": "markdown",
   "id": "87d2675a",
   "metadata": {
    "extensions": {
     "jupyter_dashboards": {
      "version": 1,
      "views": {
       "grid_default": {},
       "report_default": {
        "hidden": true
       }
      }
     }
    }
   },
   "source": [
    "#### Les tests de normalité permettent de s'assurer que la distribution des variables est gaussienne ou non. Le test de normalité nous aide à bien définir les traitements à appliquer en fonction des résultats obtenus."
   ]
  },
  {
   "cell_type": "markdown",
   "id": "d17b0907",
   "metadata": {
    "extensions": {
     "jupyter_dashboards": {
      "version": 1,
      "views": {
       "grid_default": {},
       "report_default": {
        "hidden": true
       }
      }
     }
    }
   },
   "source": [
    "#### Test D’Agostino and Pearson’s:"
   ]
  },
  {
   "cell_type": "code",
   "execution_count": 125,
   "id": "39e7ba2c",
   "metadata": {
    "extensions": {
     "jupyter_dashboards": {
      "version": 1,
      "views": {
       "grid_default": {},
       "report_default": {
        "hidden": true
       }
      }
     }
    }
   },
   "outputs": [
    {
     "name": "stdout",
     "output_type": "stream",
     "text": [
      "0.5262691448948474\n",
      "The data is gaussian\n",
      "0.08668791850090003\n",
      "The data is gaussian\n",
      "0.9875807688260532\n",
      "The data is gaussian\n",
      "3.08925873901489e-33\n",
      "The data is not gaussian\n",
      "0.0067538346667370625\n",
      "The data is not gaussian\n",
      "1.5877066154685026e-30\n",
      "The data is not gaussian\n"
     ]
    }
   ],
   "source": [
    "#NormalTest:\n",
    "\n",
    "alpha = 0.05\n",
    "\n",
    "for i in X.iloc[:,:]:\n",
    "    stat, pvalue = stats.normaltest(X[i])\n",
    "    print(pvalue)\n",
    "    if pvalue > alpha:\n",
    "        print('The data is gaussian')\n",
    "    else:\n",
    "        print('The data is not gaussian')"
   ]
  },
  {
   "cell_type": "markdown",
   "id": "fe7a46e6",
   "metadata": {
    "extensions": {
     "jupyter_dashboards": {
      "version": 1,
      "views": {
       "grid_default": {},
       "report_default": {
        "hidden": true
       }
      }
     }
    }
   },
   "source": [
    "#### Test Shapiro-Wilk:"
   ]
  },
  {
   "cell_type": "code",
   "execution_count": 126,
   "id": "eefa8fad",
   "metadata": {
    "extensions": {
     "jupyter_dashboards": {
      "version": 1,
      "views": {
       "grid_default": {},
       "report_default": {
        "hidden": true
       }
      }
     }
    }
   },
   "outputs": [
    {
     "name": "stdout",
     "output_type": "stream",
     "text": [
      "0.323654443025589\n",
      "The data is gaussian\n",
      "0.051517147570848465\n",
      "The data is gaussian\n",
      "0.9806451797485352\n",
      "The data is gaussian\n",
      "5.965654592549763e-25\n",
      "The data is not gaussian\n",
      "0.000814208120573312\n",
      "The data is not gaussian\n",
      "7.865591300479774e-28\n",
      "The data is not gaussian\n"
     ]
    }
   ],
   "source": [
    "#ShapiroTest:\n",
    "\n",
    "alpha = 0.05\n",
    "\n",
    "for i in X.iloc[:,:]:\n",
    "    stat, pvalue = stats.shapiro(X[i])\n",
    "    print(pvalue)\n",
    "    if pvalue > alpha:\n",
    "        print('The data is gaussian')\n",
    "    else:\n",
    "        print('The data is not gaussian')"
   ]
  },
  {
   "cell_type": "markdown",
   "id": "808c6da0",
   "metadata": {
    "extensions": {
     "jupyter_dashboards": {
      "version": 1,
      "views": {
       "grid_default": {},
       "report_default": {
        "hidden": true
       }
      }
     }
    }
   },
   "source": [
    "#### <font color='green'>Ces deux tests ont donné du sens au histogramme. De plus, on retrouve des résultats équivalents dans les deux tests ce qui renforce leurs fiabilités.</font>"
   ]
  },
  {
   "cell_type": "markdown",
   "id": "ec4c97d1",
   "metadata": {
    "extensions": {
     "jupyter_dashboards": {
      "version": 1,
      "views": {
       "grid_default": {},
       "report_default": {
        "hidden": false
       }
      }
     }
    }
   },
   "source": [
    "### New Dataframe:"
   ]
  },
  {
   "cell_type": "markdown",
   "id": "b626ca7b",
   "metadata": {
    "extensions": {
     "jupyter_dashboards": {
      "version": 1,
      "views": {
       "grid_default": {},
       "report_default": {
        "hidden": false
       }
      }
     }
    }
   },
   "source": [
    "##### Traitement des valeurs extrêmes:"
   ]
  },
  {
   "cell_type": "code",
   "execution_count": 127,
   "id": "53dd5639",
   "metadata": {
    "extensions": {
     "jupyter_dashboards": {
      "version": 1,
      "views": {
       "grid_default": {},
       "report_default": {
        "hidden": false
       }
      }
     }
    }
   },
   "outputs": [
    {
     "data": {
      "text/html": [
       "<div>\n",
       "<style scoped>\n",
       "    .dataframe tbody tr th:only-of-type {\n",
       "        vertical-align: middle;\n",
       "    }\n",
       "\n",
       "    .dataframe tbody tr th {\n",
       "        vertical-align: top;\n",
       "    }\n",
       "\n",
       "    .dataframe thead th {\n",
       "        text-align: right;\n",
       "    }\n",
       "</style>\n",
       "<table border=\"1\" class=\"dataframe\">\n",
       "  <thead>\n",
       "    <tr style=\"text-align: right;\">\n",
       "      <th></th>\n",
       "      <th>diagonal</th>\n",
       "      <th>height_left</th>\n",
       "      <th>height_right</th>\n",
       "      <th>margin_low</th>\n",
       "      <th>margin_up</th>\n",
       "      <th>length</th>\n",
       "    </tr>\n",
       "  </thead>\n",
       "  <tbody>\n",
       "    <tr>\n",
       "      <th>1</th>\n",
       "      <td>171.46</td>\n",
       "      <td>103.36</td>\n",
       "      <td>103.66</td>\n",
       "      <td>3.770000</td>\n",
       "      <td>2.99</td>\n",
       "      <td>113.09</td>\n",
       "    </tr>\n",
       "    <tr>\n",
       "      <th>2</th>\n",
       "      <td>172.69</td>\n",
       "      <td>104.48</td>\n",
       "      <td>103.50</td>\n",
       "      <td>4.400000</td>\n",
       "      <td>2.94</td>\n",
       "      <td>113.16</td>\n",
       "    </tr>\n",
       "    <tr>\n",
       "      <th>3</th>\n",
       "      <td>171.36</td>\n",
       "      <td>103.91</td>\n",
       "      <td>103.94</td>\n",
       "      <td>3.620000</td>\n",
       "      <td>3.01</td>\n",
       "      <td>113.51</td>\n",
       "    </tr>\n",
       "    <tr>\n",
       "      <th>4</th>\n",
       "      <td>171.73</td>\n",
       "      <td>104.28</td>\n",
       "      <td>103.46</td>\n",
       "      <td>4.040000</td>\n",
       "      <td>3.48</td>\n",
       "      <td>112.54</td>\n",
       "    </tr>\n",
       "    <tr>\n",
       "      <th>5</th>\n",
       "      <td>172.17</td>\n",
       "      <td>103.74</td>\n",
       "      <td>104.08</td>\n",
       "      <td>4.420000</td>\n",
       "      <td>2.95</td>\n",
       "      <td>112.81</td>\n",
       "    </tr>\n",
       "    <tr>\n",
       "      <th>...</th>\n",
       "      <td>...</td>\n",
       "      <td>...</td>\n",
       "      <td>...</td>\n",
       "      <td>...</td>\n",
       "      <td>...</td>\n",
       "      <td>...</td>\n",
       "    </tr>\n",
       "    <tr>\n",
       "      <th>1303</th>\n",
       "      <td>172.17</td>\n",
       "      <td>104.49</td>\n",
       "      <td>103.76</td>\n",
       "      <td>5.277389</td>\n",
       "      <td>2.93</td>\n",
       "      <td>111.21</td>\n",
       "    </tr>\n",
       "    <tr>\n",
       "      <th>1315</th>\n",
       "      <td>172.08</td>\n",
       "      <td>104.15</td>\n",
       "      <td>104.17</td>\n",
       "      <td>5.213258</td>\n",
       "      <td>3.40</td>\n",
       "      <td>112.29</td>\n",
       "    </tr>\n",
       "    <tr>\n",
       "      <th>1347</th>\n",
       "      <td>171.72</td>\n",
       "      <td>104.46</td>\n",
       "      <td>104.12</td>\n",
       "      <td>5.175734</td>\n",
       "      <td>3.61</td>\n",
       "      <td>110.31</td>\n",
       "    </tr>\n",
       "    <tr>\n",
       "      <th>1435</th>\n",
       "      <td>172.66</td>\n",
       "      <td>104.33</td>\n",
       "      <td>104.41</td>\n",
       "      <td>5.200067</td>\n",
       "      <td>3.56</td>\n",
       "      <td>111.47</td>\n",
       "    </tr>\n",
       "    <tr>\n",
       "      <th>1438</th>\n",
       "      <td>171.90</td>\n",
       "      <td>104.28</td>\n",
       "      <td>104.29</td>\n",
       "      <td>5.230740</td>\n",
       "      <td>3.24</td>\n",
       "      <td>111.49</td>\n",
       "    </tr>\n",
       "  </tbody>\n",
       "</table>\n",
       "<p>1484 rows × 6 columns</p>\n",
       "</div>"
      ],
      "text/plain": [
       "      diagonal  height_left  height_right  margin_low  margin_up  length\n",
       "1       171.46       103.36        103.66    3.770000       2.99  113.09\n",
       "2       172.69       104.48        103.50    4.400000       2.94  113.16\n",
       "3       171.36       103.91        103.94    3.620000       3.01  113.51\n",
       "4       171.73       104.28        103.46    4.040000       3.48  112.54\n",
       "5       172.17       103.74        104.08    4.420000       2.95  112.81\n",
       "...        ...          ...           ...         ...        ...     ...\n",
       "1303    172.17       104.49        103.76    5.277389       2.93  111.21\n",
       "1315    172.08       104.15        104.17    5.213258       3.40  112.29\n",
       "1347    171.72       104.46        104.12    5.175734       3.61  110.31\n",
       "1435    172.66       104.33        104.41    5.200067       3.56  111.47\n",
       "1438    171.90       104.28        104.29    5.230740       3.24  111.49\n",
       "\n",
       "[1484 rows x 6 columns]"
      ]
     },
     "execution_count": 127,
     "metadata": {},
     "output_type": "execute_result"
    }
   ],
   "source": [
    "X2 = X[(np.abs(stats.zscore(X)<3)).all(axis=1)]\n",
    "X2"
   ]
  },
  {
   "cell_type": "markdown",
   "id": "6d760ab7",
   "metadata": {
    "extensions": {
     "jupyter_dashboards": {
      "version": 1,
      "views": {
       "grid_default": {},
       "report_default": {
        "hidden": true
       }
      }
     }
    }
   },
   "source": [
    "##### Info:"
   ]
  },
  {
   "cell_type": "code",
   "execution_count": 128,
   "id": "783068bf",
   "metadata": {
    "extensions": {
     "jupyter_dashboards": {
      "version": 1,
      "views": {
       "grid_default": {},
       "report_default": {
        "hidden": true
       }
      }
     }
    }
   },
   "outputs": [
    {
     "name": "stdout",
     "output_type": "stream",
     "text": [
      "<class 'pandas.core.frame.DataFrame'>\n",
      "Int64Index: 1484 entries, 1 to 1438\n",
      "Data columns (total 6 columns):\n",
      " #   Column        Non-Null Count  Dtype  \n",
      "---  ------        --------------  -----  \n",
      " 0   diagonal      1484 non-null   float64\n",
      " 1   height_left   1484 non-null   float64\n",
      " 2   height_right  1484 non-null   float64\n",
      " 3   margin_low    1484 non-null   float64\n",
      " 4   margin_up     1484 non-null   float64\n",
      " 5   length        1484 non-null   float64\n",
      "dtypes: float64(6)\n",
      "memory usage: 81.2 KB\n"
     ]
    }
   ],
   "source": [
    "X2.info()"
   ]
  },
  {
   "cell_type": "markdown",
   "id": "e61f35b4",
   "metadata": {
    "extensions": {
     "jupyter_dashboards": {
      "version": 1,
      "views": {
       "grid_default": {},
       "report_default": {
        "hidden": true
       }
      }
     }
    }
   },
   "source": [
    "##### Description:"
   ]
  },
  {
   "cell_type": "code",
   "execution_count": 129,
   "id": "6b723c89",
   "metadata": {
    "extensions": {
     "jupyter_dashboards": {
      "version": 1,
      "views": {
       "grid_default": {},
       "report_default": {
        "hidden": true
       }
      }
     }
    }
   },
   "outputs": [
    {
     "data": {
      "text/html": [
       "<div>\n",
       "<style scoped>\n",
       "    .dataframe tbody tr th:only-of-type {\n",
       "        vertical-align: middle;\n",
       "    }\n",
       "\n",
       "    .dataframe tbody tr th {\n",
       "        vertical-align: top;\n",
       "    }\n",
       "\n",
       "    .dataframe thead th {\n",
       "        text-align: right;\n",
       "    }\n",
       "</style>\n",
       "<table border=\"1\" class=\"dataframe\">\n",
       "  <thead>\n",
       "    <tr style=\"text-align: right;\">\n",
       "      <th></th>\n",
       "      <th>diagonal</th>\n",
       "      <th>height_left</th>\n",
       "      <th>height_right</th>\n",
       "      <th>margin_low</th>\n",
       "      <th>margin_up</th>\n",
       "      <th>length</th>\n",
       "    </tr>\n",
       "  </thead>\n",
       "  <tbody>\n",
       "    <tr>\n",
       "      <th>count</th>\n",
       "      <td>1484.000000</td>\n",
       "      <td>1484.000000</td>\n",
       "      <td>1484.000000</td>\n",
       "      <td>1484.000000</td>\n",
       "      <td>1484.000000</td>\n",
       "      <td>1484.000000</td>\n",
       "    </tr>\n",
       "    <tr>\n",
       "      <th>mean</th>\n",
       "      <td>171.957082</td>\n",
       "      <td>104.028208</td>\n",
       "      <td>103.916267</td>\n",
       "      <td>4.466981</td>\n",
       "      <td>3.150061</td>\n",
       "      <td>112.687204</td>\n",
       "    </tr>\n",
       "    <tr>\n",
       "      <th>std</th>\n",
       "      <td>0.301536</td>\n",
       "      <td>0.299063</td>\n",
       "      <td>0.323373</td>\n",
       "      <td>0.638751</td>\n",
       "      <td>0.231108</td>\n",
       "      <td>0.868373</td>\n",
       "    </tr>\n",
       "    <tr>\n",
       "      <th>min</th>\n",
       "      <td>171.040000</td>\n",
       "      <td>103.140000</td>\n",
       "      <td>102.820000</td>\n",
       "      <td>2.980000</td>\n",
       "      <td>2.270000</td>\n",
       "      <td>109.490000</td>\n",
       "    </tr>\n",
       "    <tr>\n",
       "      <th>25%</th>\n",
       "      <td>171.750000</td>\n",
       "      <td>103.820000</td>\n",
       "      <td>103.700000</td>\n",
       "      <td>4.020000</td>\n",
       "      <td>2.990000</td>\n",
       "      <td>112.060000</td>\n",
       "    </tr>\n",
       "    <tr>\n",
       "      <th>50%</th>\n",
       "      <td>171.960000</td>\n",
       "      <td>104.040000</td>\n",
       "      <td>103.910000</td>\n",
       "      <td>4.300000</td>\n",
       "      <td>3.140000</td>\n",
       "      <td>112.970000</td>\n",
       "    </tr>\n",
       "    <tr>\n",
       "      <th>75%</th>\n",
       "      <td>172.170000</td>\n",
       "      <td>104.230000</td>\n",
       "      <td>104.142500</td>\n",
       "      <td>4.852500</td>\n",
       "      <td>3.310000</td>\n",
       "      <td>113.350000</td>\n",
       "    </tr>\n",
       "    <tr>\n",
       "      <th>max</th>\n",
       "      <td>172.760000</td>\n",
       "      <td>104.880000</td>\n",
       "      <td>104.870000</td>\n",
       "      <td>6.380000</td>\n",
       "      <td>3.810000</td>\n",
       "      <td>114.440000</td>\n",
       "    </tr>\n",
       "  </tbody>\n",
       "</table>\n",
       "</div>"
      ],
      "text/plain": [
       "          diagonal  height_left  height_right   margin_low    margin_up  \\\n",
       "count  1484.000000  1484.000000   1484.000000  1484.000000  1484.000000   \n",
       "mean    171.957082   104.028208    103.916267     4.466981     3.150061   \n",
       "std       0.301536     0.299063      0.323373     0.638751     0.231108   \n",
       "min     171.040000   103.140000    102.820000     2.980000     2.270000   \n",
       "25%     171.750000   103.820000    103.700000     4.020000     2.990000   \n",
       "50%     171.960000   104.040000    103.910000     4.300000     3.140000   \n",
       "75%     172.170000   104.230000    104.142500     4.852500     3.310000   \n",
       "max     172.760000   104.880000    104.870000     6.380000     3.810000   \n",
       "\n",
       "            length  \n",
       "count  1484.000000  \n",
       "mean    112.687204  \n",
       "std       0.868373  \n",
       "min     109.490000  \n",
       "25%     112.060000  \n",
       "50%     112.970000  \n",
       "75%     113.350000  \n",
       "max     114.440000  "
      ]
     },
     "execution_count": 129,
     "metadata": {},
     "output_type": "execute_result"
    }
   ],
   "source": [
    "X2.describe()"
   ]
  },
  {
   "cell_type": "markdown",
   "id": "b4bb7747",
   "metadata": {
    "extensions": {
     "jupyter_dashboards": {
      "version": 1,
      "views": {
       "grid_default": {},
       "report_default": {
        "hidden": false
       }
      }
     }
    }
   },
   "source": [
    "### Standardization:"
   ]
  },
  {
   "cell_type": "markdown",
   "id": "9827cdff",
   "metadata": {
    "extensions": {
     "jupyter_dashboards": {
      "version": 1,
      "views": {
       "grid_default": {},
       "report_default": {
        "hidden": false
       }
      }
     }
    }
   },
   "source": [
    "#### La standardisation sert à mettre les données à la même échelle pour optimisation des futurs traitements."
   ]
  },
  {
   "cell_type": "markdown",
   "id": "ec12277a",
   "metadata": {
    "extensions": {
     "jupyter_dashboards": {
      "version": 1,
      "views": {
       "grid_default": {},
       "report_default": {
        "hidden": false
       }
      }
     }
    }
   },
   "source": [
    "##### Standardize Data:"
   ]
  },
  {
   "cell_type": "code",
   "execution_count": 130,
   "id": "9ad5fc29",
   "metadata": {
    "extensions": {
     "jupyter_dashboards": {
      "version": 1,
      "views": {
       "grid_default": {},
       "report_default": {
        "hidden": false
       }
      }
     }
    }
   },
   "outputs": [
    {
     "data": {
      "text/html": [
       "<div>\n",
       "<style scoped>\n",
       "    .dataframe tbody tr th:only-of-type {\n",
       "        vertical-align: middle;\n",
       "    }\n",
       "\n",
       "    .dataframe tbody tr th {\n",
       "        vertical-align: top;\n",
       "    }\n",
       "\n",
       "    .dataframe thead th {\n",
       "        text-align: right;\n",
       "    }\n",
       "</style>\n",
       "<table border=\"1\" class=\"dataframe\">\n",
       "  <thead>\n",
       "    <tr style=\"text-align: right;\">\n",
       "      <th></th>\n",
       "      <th>diagonal</th>\n",
       "      <th>height_left</th>\n",
       "      <th>height_right</th>\n",
       "      <th>margin_low</th>\n",
       "      <th>margin_up</th>\n",
       "      <th>length</th>\n",
       "    </tr>\n",
       "  </thead>\n",
       "  <tbody>\n",
       "    <tr>\n",
       "      <th>0</th>\n",
       "      <td>-1.649055</td>\n",
       "      <td>-2.235088</td>\n",
       "      <td>-0.792748</td>\n",
       "      <td>-1.091531</td>\n",
       "      <td>-0.692813</td>\n",
       "      <td>0.464008</td>\n",
       "    </tr>\n",
       "    <tr>\n",
       "      <th>1</th>\n",
       "      <td>2.431432</td>\n",
       "      <td>1.511201</td>\n",
       "      <td>-1.287699</td>\n",
       "      <td>-0.104898</td>\n",
       "      <td>-0.909235</td>\n",
       "      <td>0.544646</td>\n",
       "    </tr>\n",
       "    <tr>\n",
       "      <th>2</th>\n",
       "      <td>-1.980802</td>\n",
       "      <td>-0.395393</td>\n",
       "      <td>0.073417</td>\n",
       "      <td>-1.326444</td>\n",
       "      <td>-0.606244</td>\n",
       "      <td>0.947835</td>\n",
       "    </tr>\n",
       "    <tr>\n",
       "      <th>3</th>\n",
       "      <td>-0.753338</td>\n",
       "      <td>0.842221</td>\n",
       "      <td>-1.411437</td>\n",
       "      <td>-0.668688</td>\n",
       "      <td>1.428123</td>\n",
       "      <td>-0.169574</td>\n",
       "    </tr>\n",
       "    <tr>\n",
       "      <th>4</th>\n",
       "      <td>0.706348</td>\n",
       "      <td>-0.964026</td>\n",
       "      <td>0.506500</td>\n",
       "      <td>-0.073577</td>\n",
       "      <td>-0.865951</td>\n",
       "      <td>0.141458</td>\n",
       "    </tr>\n",
       "    <tr>\n",
       "      <th>...</th>\n",
       "      <td>...</td>\n",
       "      <td>...</td>\n",
       "      <td>...</td>\n",
       "      <td>...</td>\n",
       "      <td>...</td>\n",
       "      <td>...</td>\n",
       "    </tr>\n",
       "    <tr>\n",
       "      <th>1479</th>\n",
       "      <td>0.706348</td>\n",
       "      <td>1.544650</td>\n",
       "      <td>-0.483403</td>\n",
       "      <td>1.269166</td>\n",
       "      <td>-0.952520</td>\n",
       "      <td>-1.701690</td>\n",
       "    </tr>\n",
       "    <tr>\n",
       "      <th>1480</th>\n",
       "      <td>0.407776</td>\n",
       "      <td>0.407384</td>\n",
       "      <td>0.784910</td>\n",
       "      <td>1.168732</td>\n",
       "      <td>1.081848</td>\n",
       "      <td>-0.457565</td>\n",
       "    </tr>\n",
       "    <tr>\n",
       "      <th>1481</th>\n",
       "      <td>-0.786513</td>\n",
       "      <td>1.444303</td>\n",
       "      <td>0.630237</td>\n",
       "      <td>1.109967</td>\n",
       "      <td>1.990821</td>\n",
       "      <td>-2.738461</td>\n",
       "    </tr>\n",
       "    <tr>\n",
       "      <th>1482</th>\n",
       "      <td>2.331908</td>\n",
       "      <td>1.009466</td>\n",
       "      <td>1.527337</td>\n",
       "      <td>1.148074</td>\n",
       "      <td>1.774399</td>\n",
       "      <td>-1.402179</td>\n",
       "    </tr>\n",
       "    <tr>\n",
       "      <th>1483</th>\n",
       "      <td>-0.189368</td>\n",
       "      <td>0.842221</td>\n",
       "      <td>1.156123</td>\n",
       "      <td>1.196111</td>\n",
       "      <td>0.389297</td>\n",
       "      <td>-1.379139</td>\n",
       "    </tr>\n",
       "  </tbody>\n",
       "</table>\n",
       "<p>1484 rows × 6 columns</p>\n",
       "</div>"
      ],
      "text/plain": [
       "      diagonal  height_left  height_right  margin_low  margin_up    length\n",
       "0    -1.649055    -2.235088     -0.792748   -1.091531  -0.692813  0.464008\n",
       "1     2.431432     1.511201     -1.287699   -0.104898  -0.909235  0.544646\n",
       "2    -1.980802    -0.395393      0.073417   -1.326444  -0.606244  0.947835\n",
       "3    -0.753338     0.842221     -1.411437   -0.668688   1.428123 -0.169574\n",
       "4     0.706348    -0.964026      0.506500   -0.073577  -0.865951  0.141458\n",
       "...        ...          ...           ...         ...        ...       ...\n",
       "1479  0.706348     1.544650     -0.483403    1.269166  -0.952520 -1.701690\n",
       "1480  0.407776     0.407384      0.784910    1.168732   1.081848 -0.457565\n",
       "1481 -0.786513     1.444303      0.630237    1.109967   1.990821 -2.738461\n",
       "1482  2.331908     1.009466      1.527337    1.148074   1.774399 -1.402179\n",
       "1483 -0.189368     0.842221      1.156123    1.196111   0.389297 -1.379139\n",
       "\n",
       "[1484 rows x 6 columns]"
      ]
     },
     "execution_count": 130,
     "metadata": {},
     "output_type": "execute_result"
    }
   ],
   "source": [
    "scaler = StandardScaler()\n",
    "z = scaler.fit_transform(X2)\n",
    "data = pd.DataFrame(z)\n",
    "data = data.rename(columns={\n",
    "    0:'diagonal',\n",
    "    1:'height_left',\n",
    "    2:'height_right',\n",
    "    3:'margin_low',\n",
    "    4:'margin_up',\n",
    "    5:'length'\n",
    "})\n",
    "\n",
    "data"
   ]
  },
  {
   "cell_type": "markdown",
   "id": "aab028a7",
   "metadata": {
    "extensions": {
     "jupyter_dashboards": {
      "version": 1,
      "views": {
       "grid_default": {},
       "report_default": {
        "hidden": false
       }
      }
     }
    }
   },
   "source": [
    "### PCA"
   ]
  },
  {
   "cell_type": "markdown",
   "id": "7e5a418c",
   "metadata": {
    "extensions": {
     "jupyter_dashboards": {
      "version": 1,
      "views": {
       "grid_default": {},
       "report_default": {
        "hidden": false
       }
      }
     }
    }
   },
   "source": [
    "#### L'algorithme de l'Analyse en composante principal permet de réduire le jeu de donnée tout en gardant un maximum d'informations."
   ]
  },
  {
   "cell_type": "markdown",
   "id": "cd56c7a4",
   "metadata": {
    "extensions": {
     "jupyter_dashboards": {
      "version": 1,
      "views": {
       "grid_default": {},
       "report_default": {
        "hidden": true
       }
      }
     }
    }
   },
   "source": [
    "##### Decomposition:"
   ]
  },
  {
   "cell_type": "code",
   "execution_count": 131,
   "id": "f08554cf",
   "metadata": {
    "extensions": {
     "jupyter_dashboards": {
      "version": 1,
      "views": {
       "grid_default": {},
       "report_default": {
        "hidden": true
       }
      }
     }
    }
   },
   "outputs": [
    {
     "name": "stdout",
     "output_type": "stream",
     "text": [
      "Ratio de Variance: [0.43176566 0.16994085 0.12959734 0.11864775 0.09689037 0.05315803]\n",
      "Valeurs par Axes: [62.00356006 38.89927118 33.96961443 32.5029166  29.37195643 21.75589862]\n"
     ]
    }
   ],
   "source": [
    "pca = PCA()\n",
    "pca.fit_transform(data)\n",
    "\n",
    "print('Ratio de Variance:', pca.explained_variance_ratio_)\n",
    "print('Valeurs par Axes:', pca.singular_values_)"
   ]
  },
  {
   "cell_type": "markdown",
   "id": "8b123fe1",
   "metadata": {
    "extensions": {
     "jupyter_dashboards": {
      "version": 1,
      "views": {
       "grid_default": {},
       "report_default": {
        "hidden": false
       }
      }
     }
    }
   },
   "source": [
    "##### Représentation des différentes composantes dans un dataframe:"
   ]
  },
  {
   "cell_type": "code",
   "execution_count": 132,
   "id": "42d0cf6b",
   "metadata": {
    "extensions": {
     "jupyter_dashboards": {
      "version": 1,
      "views": {
       "grid_default": {},
       "report_default": {
        "hidden": false
       }
      }
     }
    }
   },
   "outputs": [
    {
     "data": {
      "text/html": [
       "<div>\n",
       "<style scoped>\n",
       "    .dataframe tbody tr th:only-of-type {\n",
       "        vertical-align: middle;\n",
       "    }\n",
       "\n",
       "    .dataframe tbody tr th {\n",
       "        vertical-align: top;\n",
       "    }\n",
       "\n",
       "    .dataframe thead th {\n",
       "        text-align: right;\n",
       "    }\n",
       "</style>\n",
       "<table border=\"1\" class=\"dataframe\">\n",
       "  <thead>\n",
       "    <tr style=\"text-align: right;\">\n",
       "      <th></th>\n",
       "      <th>dimension</th>\n",
       "      <th>variancre expliquée</th>\n",
       "      <th>% variance expliquée</th>\n",
       "      <th>% cum. var. expliquée</th>\n",
       "    </tr>\n",
       "  </thead>\n",
       "  <tbody>\n",
       "    <tr>\n",
       "      <th>0</th>\n",
       "      <td>PC1</td>\n",
       "      <td>2.592341</td>\n",
       "      <td>43.0</td>\n",
       "      <td>43.0</td>\n",
       "    </tr>\n",
       "    <tr>\n",
       "      <th>1</th>\n",
       "      <td>PC2</td>\n",
       "      <td>1.020333</td>\n",
       "      <td>17.0</td>\n",
       "      <td>60.0</td>\n",
       "    </tr>\n",
       "    <tr>\n",
       "      <th>2</th>\n",
       "      <td>PC3</td>\n",
       "      <td>0.778108</td>\n",
       "      <td>13.0</td>\n",
       "      <td>73.0</td>\n",
       "    </tr>\n",
       "    <tr>\n",
       "      <th>3</th>\n",
       "      <td>PC4</td>\n",
       "      <td>0.712367</td>\n",
       "      <td>12.0</td>\n",
       "      <td>85.0</td>\n",
       "    </tr>\n",
       "    <tr>\n",
       "      <th>4</th>\n",
       "      <td>PC5</td>\n",
       "      <td>0.581734</td>\n",
       "      <td>10.0</td>\n",
       "      <td>95.0</td>\n",
       "    </tr>\n",
       "    <tr>\n",
       "      <th>5</th>\n",
       "      <td>PC6</td>\n",
       "      <td>0.319163</td>\n",
       "      <td>5.0</td>\n",
       "      <td>100.0</td>\n",
       "    </tr>\n",
       "  </tbody>\n",
       "</table>\n",
       "</div>"
      ],
      "text/plain": [
       "  dimension  variancre expliquée  % variance expliquée  % cum. var. expliquée\n",
       "0       PC1             2.592341                  43.0                   43.0\n",
       "1       PC2             1.020333                  17.0                   60.0\n",
       "2       PC3             0.778108                  13.0                   73.0\n",
       "3       PC4             0.712367                  12.0                   85.0\n",
       "4       PC5             0.581734                  10.0                   95.0\n",
       "5       PC6             0.319163                   5.0                  100.0"
      ]
     },
     "execution_count": 132,
     "metadata": {},
     "output_type": "execute_result"
    }
   ],
   "source": [
    "eigen = pd.DataFrame(\n",
    "    {\n",
    "        'dimension': ['PC' + str(x+1) for x in range(6)],\n",
    "        'variancre expliquée': pca.explained_variance_,\n",
    "        '% variance expliquée': np.round(pca.explained_variance_ratio_ *100),\n",
    "        '% cum. var. expliquée': np.round(np.cumsum(pca.explained_variance_ratio_ )* 100),\n",
    "    }\n",
    ")\n",
    "eigen"
   ]
  },
  {
   "cell_type": "markdown",
   "id": "3c538e1e",
   "metadata": {
    "extensions": {
     "jupyter_dashboards": {
      "version": 1,
      "views": {
       "grid_default": {},
       "report_default": {
        "hidden": false
       }
      }
     }
    }
   },
   "source": [
    "##### Visualisation du poids de l'information contenu dans chaque composantes:"
   ]
  },
  {
   "cell_type": "code",
   "execution_count": 133,
   "id": "3cad7d36",
   "metadata": {
    "extensions": {
     "jupyter_dashboards": {
      "version": 1,
      "views": {
       "grid_default": {},
       "report_default": {
        "hidden": false
       }
      }
     }
    }
   },
   "outputs": [
    {
     "data": {
      "image/png": "[encoded data removed]",
      "text/plain": [
       "<Figure size 1152x648 with 1 Axes>"
      ]
     },
     "metadata": {},
     "output_type": "display_data"
    }
   ],
   "source": [
    "sns.set_style('darkgrid')\n",
    "\n",
    "plt.figure(figsize=(16,9))\n",
    "\n",
    "plt.bar(eigen['dimension'], eigen['% variance expliquée'] )\n",
    "\n",
    "plt.show()"
   ]
  },
  {
   "cell_type": "markdown",
   "id": "f16c8f4a",
   "metadata": {
    "extensions": {
     "jupyter_dashboards": {
      "version": 1,
      "views": {
       "grid_default": {},
       "report_default": {
        "hidden": false
       }
      }
     }
    }
   },
   "source": [
    "#### <font color='green'>La PCA effectuée nous indique que les 4 premières composantes semble être le choix qui s'impose. En effet, en gardant les 4 premières composantes, on minimise la perte d'information à hauteur de 15%. De plus, on passe de 7 à 4 dimensions, ce qui facilitera le travail effectué par les algorithmes de clustering. </font>"
   ]
  },
  {
   "cell_type": "markdown",
   "id": "77bdd048",
   "metadata": {
    "extensions": {
     "jupyter_dashboards": {
      "version": 1,
      "views": {
       "grid_default": {},
       "report_default": {
        "hidden": false
       }
      }
     }
    }
   },
   "source": [
    "##### Heatmap:"
   ]
  },
  {
   "cell_type": "code",
   "execution_count": 134,
   "id": "640d3cdd",
   "metadata": {
    "extensions": {
     "jupyter_dashboards": {
      "version": 1,
      "views": {
       "grid_default": {},
       "report_default": {
        "hidden": false
       }
      }
     }
    }
   },
   "outputs": [
    {
     "data": {
      "image/png": "[encoded data removed]",
      "text/plain": [
       "<Figure size 1152x648 with 2 Axes>"
      ]
     },
     "metadata": {},
     "output_type": "display_data"
    }
   ],
   "source": [
    "plt.figure(figsize=(16, 9))\n",
    "\n",
    "sns.heatmap(data.corr(), annot=True)\n",
    "\n",
    "plt.show()"
   ]
  },
  {
   "cell_type": "markdown",
   "id": "ca7373f3",
   "metadata": {
    "extensions": {
     "jupyter_dashboards": {
      "version": 1,
      "views": {
       "grid_default": {},
       "report_default": {
        "hidden": false
       }
      }
     }
    }
   },
   "source": [
    "#### <font color='green'>La heatmap nous aide à interpréter les différents liens entre nos variables. Mais aussi, de donner du sens aux différentes corrélations observées.</font>"
   ]
  },
  {
   "cell_type": "markdown",
   "id": "4d749140",
   "metadata": {
    "extensions": {
     "jupyter_dashboards": {
      "version": 1,
      "views": {
       "grid_default": {},
       "report_default": {
        "hidden": true
       }
      }
     }
    }
   },
   "source": [
    "##### Préparations des données pour interpréter les composantes:"
   ]
  },
  {
   "cell_type": "code",
   "execution_count": 135,
   "id": "6373bdcf",
   "metadata": {
    "extensions": {
     "jupyter_dashboards": {
      "version": 1,
      "views": {
       "grid_default": {},
       "report_default": {
        "hidden": true
       }
      }
     }
    }
   },
   "outputs": [],
   "source": [
    "pcs = pca.components_\n",
    "names = y\n",
    "features = data.columns\n",
    "n_comp = 6"
   ]
  },
  {
   "cell_type": "markdown",
   "id": "34a58b32",
   "metadata": {
    "extensions": {
     "jupyter_dashboards": {
      "version": 1,
      "views": {
       "grid_default": {},
       "report_default": {
        "hidden": false
       }
      }
     }
    }
   },
   "source": [
    "##### Visualisation des cercles de corrélations:"
   ]
  },
  {
   "cell_type": "code",
   "execution_count": 136,
   "id": "888a8298",
   "metadata": {
    "extensions": {
     "jupyter_dashboards": {
      "version": 1,
      "views": {
       "grid_default": {},
       "report_default": {
        "hidden": false
       }
      }
     }
    }
   },
   "outputs": [
    {
     "data": {
      "image/png": "[encoded data removed]",
      "text/plain": [
       "<Figure size 1152x648 with 1 Axes>"
      ]
     },
     "metadata": {},
     "output_type": "display_data"
    },
    {
     "data": {
      "image/png": "[encoded data removed]",
      "text/plain": [
       "<Figure size 1152x648 with 1 Axes>"
      ]
     },
     "metadata": {},
     "output_type": "display_data"
    }
   ],
   "source": [
    "display_circles(pcs, n_comp, pca, [(0,1),(0,2)], labels=np.array(features))"
   ]
  },
  {
   "cell_type": "markdown",
   "id": "517325e1",
   "metadata": {
    "extensions": {
     "jupyter_dashboards": {
      "version": 1,
      "views": {
       "grid_default": {},
       "report_default": {
        "hidden": false
       }
      }
     }
    }
   },
   "source": [
    "#### <font color='green'>Les cercles de corrélations, nous offrent la possibilité de donner du sens à nos composantes principal. En effet, on peut observer ici que la PC1 est représentée par les variables margin_low, margin_up et length. La PC2, elle est représentée par la diagonal, la PC3 par height_left et pour terminer la PC4 par la height_right.</font>"
   ]
  },
  {
   "cell_type": "markdown",
   "id": "f231b8a5",
   "metadata": {
    "extensions": {
     "jupyter_dashboards": {
      "version": 1,
      "views": {
       "grid_default": {},
       "report_default": {
        "hidden": false
       }
      }
     }
    }
   },
   "source": [
    "##### PCA avec le nombres de composantes choisies:"
   ]
  },
  {
   "cell_type": "code",
   "execution_count": 137,
   "id": "5bad72d8",
   "metadata": {
    "extensions": {
     "jupyter_dashboards": {
      "version": 1,
      "views": {
       "grid_default": {},
       "report_default": {
        "hidden": true
       }
      }
     }
    }
   },
   "outputs": [
    {
     "data": {
      "text/plain": [
       "array([[-2.01575201,  2.23452802, -0.97454232, -0.01874592],\n",
       "       [-0.94982212, -2.67096537,  1.20044673,  0.88516024],\n",
       "       [-1.37345144,  1.82884061,  0.63953932, -0.87017069],\n",
       "       ...,\n",
       "       [ 3.67755376,  0.44186245,  0.35793077,  0.87864252],\n",
       "       [ 2.83827116, -2.50330393, -0.87528442,  0.09647522],\n",
       "       [ 2.25382369, -0.04433314,  0.14978563, -0.45660664]])"
      ]
     },
     "execution_count": 137,
     "metadata": {},
     "output_type": "execute_result"
    }
   ],
   "source": [
    "pca2 = PCA(4)\n",
    "pca_data = pca2.fit_transform(data)\n",
    "pca_data"
   ]
  },
  {
   "cell_type": "markdown",
   "id": "8414230a",
   "metadata": {
    "extensions": {
     "jupyter_dashboards": {
      "version": 1,
      "views": {
       "grid_default": {},
       "report_default": {
        "hidden": true
       }
      }
     }
    }
   },
   "source": [
    "##### Dataframe:"
   ]
  },
  {
   "cell_type": "code",
   "execution_count": 138,
   "id": "063b708a",
   "metadata": {
    "extensions": {
     "jupyter_dashboards": {
      "version": 1,
      "views": {
       "grid_default": {},
       "report_default": {
        "hidden": true
       }
      }
     }
    }
   },
   "outputs": [
    {
     "data": {
      "text/html": [
       "<div>\n",
       "<style scoped>\n",
       "    .dataframe tbody tr th:only-of-type {\n",
       "        vertical-align: middle;\n",
       "    }\n",
       "\n",
       "    .dataframe tbody tr th {\n",
       "        vertical-align: top;\n",
       "    }\n",
       "\n",
       "    .dataframe thead th {\n",
       "        text-align: right;\n",
       "    }\n",
       "</style>\n",
       "<table border=\"1\" class=\"dataframe\">\n",
       "  <thead>\n",
       "    <tr style=\"text-align: right;\">\n",
       "      <th></th>\n",
       "      <th>PC1</th>\n",
       "      <th>PC2</th>\n",
       "      <th>PC3</th>\n",
       "      <th>PC4</th>\n",
       "    </tr>\n",
       "  </thead>\n",
       "  <tbody>\n",
       "    <tr>\n",
       "      <th>0</th>\n",
       "      <td>-2.015752</td>\n",
       "      <td>2.234528</td>\n",
       "      <td>-0.974542</td>\n",
       "      <td>-0.018746</td>\n",
       "    </tr>\n",
       "    <tr>\n",
       "      <th>1</th>\n",
       "      <td>-0.949822</td>\n",
       "      <td>-2.670965</td>\n",
       "      <td>1.200447</td>\n",
       "      <td>0.885160</td>\n",
       "    </tr>\n",
       "    <tr>\n",
       "      <th>2</th>\n",
       "      <td>-1.373451</td>\n",
       "      <td>1.828841</td>\n",
       "      <td>0.639539</td>\n",
       "      <td>-0.870171</td>\n",
       "    </tr>\n",
       "    <tr>\n",
       "      <th>3</th>\n",
       "      <td>0.170648</td>\n",
       "      <td>0.537418</td>\n",
       "      <td>0.917296</td>\n",
       "      <td>1.726073</td>\n",
       "    </tr>\n",
       "    <tr>\n",
       "      <th>4</th>\n",
       "      <td>-0.675163</td>\n",
       "      <td>-0.417731</td>\n",
       "      <td>-0.907451</td>\n",
       "      <td>-0.780967</td>\n",
       "    </tr>\n",
       "    <tr>\n",
       "      <th>...</th>\n",
       "      <td>...</td>\n",
       "      <td>...</td>\n",
       "      <td>...</td>\n",
       "      <td>...</td>\n",
       "    </tr>\n",
       "    <tr>\n",
       "      <th>1479</th>\n",
       "      <td>1.385347</td>\n",
       "      <td>-0.921228</td>\n",
       "      <td>1.128512</td>\n",
       "      <td>0.554430</td>\n",
       "    </tr>\n",
       "    <tr>\n",
       "      <th>1480</th>\n",
       "      <td>1.718041</td>\n",
       "      <td>-0.481192</td>\n",
       "      <td>-0.376196</td>\n",
       "      <td>0.052336</td>\n",
       "    </tr>\n",
       "    <tr>\n",
       "      <th>1481</th>\n",
       "      <td>3.677554</td>\n",
       "      <td>0.441862</td>\n",
       "      <td>0.357931</td>\n",
       "      <td>0.878643</td>\n",
       "    </tr>\n",
       "    <tr>\n",
       "      <th>1482</th>\n",
       "      <td>2.838271</td>\n",
       "      <td>-2.503304</td>\n",
       "      <td>-0.875284</td>\n",
       "      <td>0.096475</td>\n",
       "    </tr>\n",
       "    <tr>\n",
       "      <th>1483</th>\n",
       "      <td>2.253824</td>\n",
       "      <td>-0.044333</td>\n",
       "      <td>0.149786</td>\n",
       "      <td>-0.456607</td>\n",
       "    </tr>\n",
       "  </tbody>\n",
       "</table>\n",
       "<p>1484 rows × 4 columns</p>\n",
       "</div>"
      ],
      "text/plain": [
       "           PC1       PC2       PC3       PC4\n",
       "0    -2.015752  2.234528 -0.974542 -0.018746\n",
       "1    -0.949822 -2.670965  1.200447  0.885160\n",
       "2    -1.373451  1.828841  0.639539 -0.870171\n",
       "3     0.170648  0.537418  0.917296  1.726073\n",
       "4    -0.675163 -0.417731 -0.907451 -0.780967\n",
       "...        ...       ...       ...       ...\n",
       "1479  1.385347 -0.921228  1.128512  0.554430\n",
       "1480  1.718041 -0.481192 -0.376196  0.052336\n",
       "1481  3.677554  0.441862  0.357931  0.878643\n",
       "1482  2.838271 -2.503304 -0.875284  0.096475\n",
       "1483  2.253824 -0.044333  0.149786 -0.456607\n",
       "\n",
       "[1484 rows x 4 columns]"
      ]
     },
     "execution_count": 138,
     "metadata": {},
     "output_type": "execute_result"
    }
   ],
   "source": [
    "pca_data = pd.DataFrame(pca_data)\n",
    "\n",
    "pca_data.columns = ['PC1', 'PC2', 'PC3', 'PC4']\n",
    "\n",
    "pca_data"
   ]
  },
  {
   "cell_type": "markdown",
   "id": "b25b721d",
   "metadata": {
    "extensions": {
     "jupyter_dashboards": {
      "version": 1,
      "views": {
       "grid_default": {},
       "report_default": {
        "hidden": true
       }
      }
     }
    }
   },
   "source": [
    "##### Ajout des labels"
   ]
  },
  {
   "cell_type": "code",
   "execution_count": 139,
   "id": "0f15bf09",
   "metadata": {
    "extensions": {
     "jupyter_dashboards": {
      "version": 1,
      "views": {
       "grid_default": {},
       "report_default": {
        "hidden": false
       }
      }
     }
    }
   },
   "outputs": [
    {
     "data": {
      "text/html": [
       "<div>\n",
       "<style scoped>\n",
       "    .dataframe tbody tr th:only-of-type {\n",
       "        vertical-align: middle;\n",
       "    }\n",
       "\n",
       "    .dataframe tbody tr th {\n",
       "        vertical-align: top;\n",
       "    }\n",
       "\n",
       "    .dataframe thead th {\n",
       "        text-align: right;\n",
       "    }\n",
       "</style>\n",
       "<table border=\"1\" class=\"dataframe\">\n",
       "  <thead>\n",
       "    <tr style=\"text-align: right;\">\n",
       "      <th></th>\n",
       "      <th>PC1</th>\n",
       "      <th>PC2</th>\n",
       "      <th>PC3</th>\n",
       "      <th>PC4</th>\n",
       "      <th>target</th>\n",
       "    </tr>\n",
       "  </thead>\n",
       "  <tbody>\n",
       "    <tr>\n",
       "      <th>0</th>\n",
       "      <td>-2.015752</td>\n",
       "      <td>2.234528</td>\n",
       "      <td>-0.974542</td>\n",
       "      <td>-0.018746</td>\n",
       "      <td>1</td>\n",
       "    </tr>\n",
       "    <tr>\n",
       "      <th>1</th>\n",
       "      <td>-0.949822</td>\n",
       "      <td>-2.670965</td>\n",
       "      <td>1.200447</td>\n",
       "      <td>0.885160</td>\n",
       "      <td>1</td>\n",
       "    </tr>\n",
       "    <tr>\n",
       "      <th>2</th>\n",
       "      <td>-1.373451</td>\n",
       "      <td>1.828841</td>\n",
       "      <td>0.639539</td>\n",
       "      <td>-0.870171</td>\n",
       "      <td>1</td>\n",
       "    </tr>\n",
       "    <tr>\n",
       "      <th>3</th>\n",
       "      <td>0.170648</td>\n",
       "      <td>0.537418</td>\n",
       "      <td>0.917296</td>\n",
       "      <td>1.726073</td>\n",
       "      <td>1</td>\n",
       "    </tr>\n",
       "    <tr>\n",
       "      <th>4</th>\n",
       "      <td>-0.675163</td>\n",
       "      <td>-0.417731</td>\n",
       "      <td>-0.907451</td>\n",
       "      <td>-0.780967</td>\n",
       "      <td>1</td>\n",
       "    </tr>\n",
       "    <tr>\n",
       "      <th>...</th>\n",
       "      <td>...</td>\n",
       "      <td>...</td>\n",
       "      <td>...</td>\n",
       "      <td>...</td>\n",
       "      <td>...</td>\n",
       "    </tr>\n",
       "    <tr>\n",
       "      <th>1479</th>\n",
       "      <td>1.385347</td>\n",
       "      <td>-0.921228</td>\n",
       "      <td>1.128512</td>\n",
       "      <td>0.554430</td>\n",
       "      <td>0</td>\n",
       "    </tr>\n",
       "    <tr>\n",
       "      <th>1480</th>\n",
       "      <td>1.718041</td>\n",
       "      <td>-0.481192</td>\n",
       "      <td>-0.376196</td>\n",
       "      <td>0.052336</td>\n",
       "      <td>0</td>\n",
       "    </tr>\n",
       "    <tr>\n",
       "      <th>1481</th>\n",
       "      <td>3.677554</td>\n",
       "      <td>0.441862</td>\n",
       "      <td>0.357931</td>\n",
       "      <td>0.878643</td>\n",
       "      <td>0</td>\n",
       "    </tr>\n",
       "    <tr>\n",
       "      <th>1482</th>\n",
       "      <td>2.838271</td>\n",
       "      <td>-2.503304</td>\n",
       "      <td>-0.875284</td>\n",
       "      <td>0.096475</td>\n",
       "      <td>0</td>\n",
       "    </tr>\n",
       "    <tr>\n",
       "      <th>1483</th>\n",
       "      <td>2.253824</td>\n",
       "      <td>-0.044333</td>\n",
       "      <td>0.149786</td>\n",
       "      <td>-0.456607</td>\n",
       "      <td>0</td>\n",
       "    </tr>\n",
       "  </tbody>\n",
       "</table>\n",
       "<p>1484 rows × 5 columns</p>\n",
       "</div>"
      ],
      "text/plain": [
       "           PC1       PC2       PC3       PC4  target\n",
       "0    -2.015752  2.234528 -0.974542 -0.018746       1\n",
       "1    -0.949822 -2.670965  1.200447  0.885160       1\n",
       "2    -1.373451  1.828841  0.639539 -0.870171       1\n",
       "3     0.170648  0.537418  0.917296  1.726073       1\n",
       "4    -0.675163 -0.417731 -0.907451 -0.780967       1\n",
       "...        ...       ...       ...       ...     ...\n",
       "1479  1.385347 -0.921228  1.128512  0.554430       0\n",
       "1480  1.718041 -0.481192 -0.376196  0.052336       0\n",
       "1481  3.677554  0.441862  0.357931  0.878643       0\n",
       "1482  2.838271 -2.503304 -0.875284  0.096475       0\n",
       "1483  2.253824 -0.044333  0.149786 -0.456607       0\n",
       "\n",
       "[1484 rows x 5 columns]"
      ]
     },
     "execution_count": 139,
     "metadata": {},
     "output_type": "execute_result"
    }
   ],
   "source": [
    "pca_data['target'] = y\n",
    "pca_data"
   ]
  },
  {
   "cell_type": "markdown",
   "id": "de59fe22",
   "metadata": {
    "extensions": {
     "jupyter_dashboards": {
      "version": 1,
      "views": {
       "grid_default": {},
       "report_default": {
        "hidden": false
       }
      }
     }
    }
   },
   "source": [
    "#### <font color='green'>Une fois le traitement PCA terminé. On obtient, ce dataframe avec les 4 composantes déterminés plus la variable target.</font>"
   ]
  },
  {
   "cell_type": "markdown",
   "id": "05293aa7",
   "metadata": {
    "extensions": {
     "jupyter_dashboards": {
      "version": 1,
      "views": {
       "grid_default": {},
       "report_default": {
        "hidden": false
       }
      }
     }
    }
   },
   "source": [
    "### KMeans"
   ]
  },
  {
   "cell_type": "markdown",
   "id": "89ee4190",
   "metadata": {
    "extensions": {
     "jupyter_dashboards": {
      "version": 1,
      "views": {
       "grid_default": {},
       "report_default": {
        "hidden": false
       }
      }
     }
    }
   },
   "source": [
    "#### Le KMeans, est un algorithme de clustering non-supervisé. Il permet de créer k-clusters, en déterminant k-centroïdes tout en minimisant l'inertie intra-classe des clusters."
   ]
  },
  {
   "cell_type": "markdown",
   "id": "28c34270",
   "metadata": {
    "extensions": {
     "jupyter_dashboards": {
      "version": 1,
      "views": {
       "grid_default": {},
       "report_default": {
        "hidden": true
       }
      }
     }
    }
   },
   "source": [
    "##### Data Prep:"
   ]
  },
  {
   "cell_type": "code",
   "execution_count": 140,
   "id": "f234b4c1",
   "metadata": {
    "extensions": {
     "jupyter_dashboards": {
      "version": 1,
      "views": {
       "grid_default": {},
       "report_default": {
        "hidden": true
       }
      }
     }
    }
   },
   "outputs": [],
   "source": [
    "z = pca_data.iloc[:,:4].copy()\n",
    "y = pca_data[['target']]"
   ]
  },
  {
   "cell_type": "markdown",
   "id": "614ba740",
   "metadata": {
    "extensions": {
     "jupyter_dashboards": {
      "version": 1,
      "views": {
       "grid_default": {},
       "report_default": {
        "hidden": false
       }
      }
     }
    }
   },
   "source": [
    "##### Elbow:"
   ]
  },
  {
   "cell_type": "code",
   "execution_count": 141,
   "id": "25fea425",
   "metadata": {
    "extensions": {
     "jupyter_dashboards": {
      "version": 1,
      "views": {
       "grid_default": {},
       "report_default": {
        "hidden": false
       }
      }
     }
    }
   },
   "outputs": [
    {
     "data": {
      "image/png": "[encoded data removed]",
      "text/plain": [
       "<Figure size 432x288 with 1 Axes>"
      ]
     },
     "metadata": {},
     "output_type": "display_data"
    }
   ],
   "source": [
    "inertia = []\n",
    "\n",
    "for i in range(1, 11):\n",
    "    kmeans = KMeans(n_clusters=i, init='random', n_init=50).fit(z)\n",
    "    inertia += [kmeans.inertia_]\n",
    "    \n",
    "inertia = pd.DataFrame({\"i\": range(1, 11), \"inertia\": inertia})\n",
    "inertia.plot.line(x = \"i\", y = \"inertia\", marker='o')\n",
    "\n",
    "plt.show()"
   ]
  },
  {
   "cell_type": "markdown",
   "id": "41c084a6",
   "metadata": {
    "extensions": {
     "jupyter_dashboards": {
      "version": 1,
      "views": {
       "grid_default": {},
       "report_default": {
        "hidden": false
       }
      }
     }
    }
   },
   "source": [
    "#### <font color='green'>Cette visualisation en forme de coude, aide à définir le nombre de k-clusters. Ici, le choix le plus probant est donc de 2 clusters.</font>"
   ]
  },
  {
   "cell_type": "markdown",
   "id": "2cad4b9d",
   "metadata": {
    "extensions": {
     "jupyter_dashboards": {
      "version": 1,
      "views": {
       "grid_default": {},
       "report_default": {
        "hidden": true
       }
      }
     }
    }
   },
   "source": [
    "##### Clusters:"
   ]
  },
  {
   "cell_type": "code",
   "execution_count": 142,
   "id": "e3190667",
   "metadata": {
    "extensions": {
     "jupyter_dashboards": {
      "version": 1,
      "views": {
       "grid_default": {},
       "report_default": {
        "hidden": true
       }
      }
     }
    }
   },
   "outputs": [
    {
     "data": {
      "text/plain": [
       "array([1, 1, 1, ..., 0, 0, 0], dtype=int32)"
      ]
     },
     "execution_count": 142,
     "metadata": {},
     "output_type": "execute_result"
    }
   ],
   "source": [
    "cluster = KMeans(n_clusters=2, init='k-means++')\n",
    "cluster.fit_predict(pca_data)"
   ]
  },
  {
   "cell_type": "markdown",
   "id": "28849ae1",
   "metadata": {
    "extensions": {
     "jupyter_dashboards": {
      "version": 1,
      "views": {
       "grid_default": {},
       "report_default": {
        "hidden": true
       }
      }
     }
    }
   },
   "source": [
    "##### Labels:"
   ]
  },
  {
   "cell_type": "code",
   "execution_count": 143,
   "id": "f30963c1",
   "metadata": {
    "extensions": {
     "jupyter_dashboards": {
      "version": 1,
      "views": {
       "grid_default": {},
       "report_default": {
        "hidden": true
       }
      }
     }
    }
   },
   "outputs": [
    {
     "data": {
      "text/plain": [
       "array([1, 1, 1, ..., 0, 0, 0], dtype=int32)"
      ]
     },
     "execution_count": 143,
     "metadata": {},
     "output_type": "execute_result"
    }
   ],
   "source": [
    "Klabel = cluster.labels_\n",
    "Klabel"
   ]
  },
  {
   "cell_type": "markdown",
   "id": "be5bcc90",
   "metadata": {
    "extensions": {
     "jupyter_dashboards": {
      "version": 1,
      "views": {
       "grid_default": {},
       "report_default": {
        "hidden": true
       }
      }
     }
    }
   },
   "source": [
    "##### Centroïdes:"
   ]
  },
  {
   "cell_type": "code",
   "execution_count": 144,
   "id": "cbfbd33d",
   "metadata": {
    "extensions": {
     "jupyter_dashboards": {
      "version": 1,
      "views": {
       "grid_default": {},
       "report_default": {
        "hidden": true
       }
      }
     }
    }
   },
   "outputs": [
    {
     "name": "stdout",
     "output_type": "stream",
     "text": [
      "[[ 2.08295665  0.08198443 -0.09918745  0.10337649  0.07628866]\n",
      " [-1.01124522 -0.03980225  0.04815407 -0.05018779  0.96396396]]\n"
     ]
    }
   ],
   "source": [
    "centroide = cluster.cluster_centers_\n",
    "print(centroide)"
   ]
  },
  {
   "cell_type": "markdown",
   "id": "49886beb",
   "metadata": {
    "extensions": {
     "jupyter_dashboards": {
      "version": 1,
      "views": {
       "grid_default": {},
       "report_default": {
        "hidden": false
       }
      }
     }
    }
   },
   "source": [
    "##### Visualisation:"
   ]
  },
  {
   "cell_type": "code",
   "execution_count": 145,
   "id": "3e35d93f",
   "metadata": {
    "extensions": {
     "jupyter_dashboards": {
      "version": 1,
      "views": {
       "grid_default": {},
       "report_default": {
        "hidden": false
       }
      }
     }
    },
    "scrolled": false
   },
   "outputs": [
    {
     "name": "stderr",
     "output_type": "stream",
     "text": [
      "/opt/anaconda3/lib/python3.8/site-packages/seaborn/_decorators.py:36: FutureWarning: Pass the following variables as keyword args: x, y. From version 0.12, the only valid positional argument will be `data`, and passing other arguments without an explicit keyword will result in an error or misinterpretation.\n",
      "  warnings.warn(\n"
     ]
    },
    {
     "data": {
      "image/png": "[encoded data removed]",
      "text/plain": [
       "<Figure size 1152x648 with 1 Axes>"
      ]
     },
     "metadata": {},
     "output_type": "display_data"
    }
   ],
   "source": [
    "sns.set_style('darkgrid')\n",
    "\n",
    "plt.figure(figsize=(16,9))\n",
    "\n",
    "sns.scatterplot(z.iloc[:,0] , z.iloc[:,1], hue=Klabel, palette='rainbow')\n",
    "plt.scatter(centroide[:,0] , centroide[:,1], c='black', label='centroides')\n",
    "\n",
    "plt.legend()\n",
    "\n",
    "plt.show()"
   ]
  },
  {
   "cell_type": "markdown",
   "id": "5d8cae49",
   "metadata": {
    "extensions": {
     "jupyter_dashboards": {
      "version": 1,
      "views": {
       "grid_default": {},
       "report_default": {
        "hidden": false
       }
      }
     }
    }
   },
   "source": [
    "#### <font color='green'>Visualisation des clusters ainsi que leurs centroïdes respectifs. Cela permet de mieux comprendre comment on été influencé ses clusters en fonction des PC.</font>"
   ]
  },
  {
   "cell_type": "markdown",
   "id": "55a4e809",
   "metadata": {
    "extensions": {
     "jupyter_dashboards": {
      "version": 1,
      "views": {
       "grid_default": {},
       "report_default": {
        "hidden": true
       }
      }
     }
    }
   },
   "source": [
    "##### Dataframe avec les Klabels:"
   ]
  },
  {
   "cell_type": "code",
   "execution_count": 146,
   "id": "f0f0c874",
   "metadata": {
    "extensions": {
     "jupyter_dashboards": {
      "version": 1,
      "views": {
       "grid_default": {},
       "report_default": {
        "hidden": true
       }
      }
     }
    }
   },
   "outputs": [
    {
     "data": {
      "text/html": [
       "<div>\n",
       "<style scoped>\n",
       "    .dataframe tbody tr th:only-of-type {\n",
       "        vertical-align: middle;\n",
       "    }\n",
       "\n",
       "    .dataframe tbody tr th {\n",
       "        vertical-align: top;\n",
       "    }\n",
       "\n",
       "    .dataframe thead th {\n",
       "        text-align: right;\n",
       "    }\n",
       "</style>\n",
       "<table border=\"1\" class=\"dataframe\">\n",
       "  <thead>\n",
       "    <tr style=\"text-align: right;\">\n",
       "      <th></th>\n",
       "      <th>Klabels</th>\n",
       "    </tr>\n",
       "  </thead>\n",
       "  <tbody>\n",
       "    <tr>\n",
       "      <th>0</th>\n",
       "      <td>1</td>\n",
       "    </tr>\n",
       "    <tr>\n",
       "      <th>1</th>\n",
       "      <td>1</td>\n",
       "    </tr>\n",
       "    <tr>\n",
       "      <th>2</th>\n",
       "      <td>1</td>\n",
       "    </tr>\n",
       "    <tr>\n",
       "      <th>3</th>\n",
       "      <td>1</td>\n",
       "    </tr>\n",
       "    <tr>\n",
       "      <th>4</th>\n",
       "      <td>1</td>\n",
       "    </tr>\n",
       "    <tr>\n",
       "      <th>...</th>\n",
       "      <td>...</td>\n",
       "    </tr>\n",
       "    <tr>\n",
       "      <th>1479</th>\n",
       "      <td>0</td>\n",
       "    </tr>\n",
       "    <tr>\n",
       "      <th>1480</th>\n",
       "      <td>0</td>\n",
       "    </tr>\n",
       "    <tr>\n",
       "      <th>1481</th>\n",
       "      <td>0</td>\n",
       "    </tr>\n",
       "    <tr>\n",
       "      <th>1482</th>\n",
       "      <td>0</td>\n",
       "    </tr>\n",
       "    <tr>\n",
       "      <th>1483</th>\n",
       "      <td>0</td>\n",
       "    </tr>\n",
       "  </tbody>\n",
       "</table>\n",
       "<p>1484 rows × 1 columns</p>\n",
       "</div>"
      ],
      "text/plain": [
       "      Klabels\n",
       "0           1\n",
       "1           1\n",
       "2           1\n",
       "3           1\n",
       "4           1\n",
       "...       ...\n",
       "1479        0\n",
       "1480        0\n",
       "1481        0\n",
       "1482        0\n",
       "1483        0\n",
       "\n",
       "[1484 rows x 1 columns]"
      ]
     },
     "execution_count": 146,
     "metadata": {},
     "output_type": "execute_result"
    }
   ],
   "source": [
    "Klabel = pd.DataFrame(Klabel, index=z.index, columns=['Klabels'])\n",
    "Klabel"
   ]
  },
  {
   "cell_type": "markdown",
   "id": "25bda4d1",
   "metadata": {
    "extensions": {
     "jupyter_dashboards": {
      "version": 1,
      "views": {
       "grid_default": {},
       "report_default": {
        "hidden": true
       }
      }
     }
    }
   },
   "source": [
    "##### Ajout des Klabels au dataframe principal:"
   ]
  },
  {
   "cell_type": "code",
   "execution_count": 147,
   "id": "05b16829",
   "metadata": {
    "extensions": {
     "jupyter_dashboards": {
      "version": 1,
      "views": {
       "grid_default": {},
       "report_default": {
        "hidden": true
       }
      }
     }
    }
   },
   "outputs": [
    {
     "data": {
      "text/html": [
       "<div>\n",
       "<style scoped>\n",
       "    .dataframe tbody tr th:only-of-type {\n",
       "        vertical-align: middle;\n",
       "    }\n",
       "\n",
       "    .dataframe tbody tr th {\n",
       "        vertical-align: top;\n",
       "    }\n",
       "\n",
       "    .dataframe thead th {\n",
       "        text-align: right;\n",
       "    }\n",
       "</style>\n",
       "<table border=\"1\" class=\"dataframe\">\n",
       "  <thead>\n",
       "    <tr style=\"text-align: right;\">\n",
       "      <th></th>\n",
       "      <th>PC1</th>\n",
       "      <th>PC2</th>\n",
       "      <th>PC3</th>\n",
       "      <th>PC4</th>\n",
       "      <th>Klabels</th>\n",
       "    </tr>\n",
       "  </thead>\n",
       "  <tbody>\n",
       "    <tr>\n",
       "      <th>0</th>\n",
       "      <td>-2.015752</td>\n",
       "      <td>2.234528</td>\n",
       "      <td>-0.974542</td>\n",
       "      <td>-0.018746</td>\n",
       "      <td>1</td>\n",
       "    </tr>\n",
       "    <tr>\n",
       "      <th>1</th>\n",
       "      <td>-0.949822</td>\n",
       "      <td>-2.670965</td>\n",
       "      <td>1.200447</td>\n",
       "      <td>0.885160</td>\n",
       "      <td>1</td>\n",
       "    </tr>\n",
       "    <tr>\n",
       "      <th>2</th>\n",
       "      <td>-1.373451</td>\n",
       "      <td>1.828841</td>\n",
       "      <td>0.639539</td>\n",
       "      <td>-0.870171</td>\n",
       "      <td>1</td>\n",
       "    </tr>\n",
       "    <tr>\n",
       "      <th>3</th>\n",
       "      <td>0.170648</td>\n",
       "      <td>0.537418</td>\n",
       "      <td>0.917296</td>\n",
       "      <td>1.726073</td>\n",
       "      <td>1</td>\n",
       "    </tr>\n",
       "    <tr>\n",
       "      <th>4</th>\n",
       "      <td>-0.675163</td>\n",
       "      <td>-0.417731</td>\n",
       "      <td>-0.907451</td>\n",
       "      <td>-0.780967</td>\n",
       "      <td>1</td>\n",
       "    </tr>\n",
       "    <tr>\n",
       "      <th>...</th>\n",
       "      <td>...</td>\n",
       "      <td>...</td>\n",
       "      <td>...</td>\n",
       "      <td>...</td>\n",
       "      <td>...</td>\n",
       "    </tr>\n",
       "    <tr>\n",
       "      <th>1479</th>\n",
       "      <td>1.385347</td>\n",
       "      <td>-0.921228</td>\n",
       "      <td>1.128512</td>\n",
       "      <td>0.554430</td>\n",
       "      <td>0</td>\n",
       "    </tr>\n",
       "    <tr>\n",
       "      <th>1480</th>\n",
       "      <td>1.718041</td>\n",
       "      <td>-0.481192</td>\n",
       "      <td>-0.376196</td>\n",
       "      <td>0.052336</td>\n",
       "      <td>0</td>\n",
       "    </tr>\n",
       "    <tr>\n",
       "      <th>1481</th>\n",
       "      <td>3.677554</td>\n",
       "      <td>0.441862</td>\n",
       "      <td>0.357931</td>\n",
       "      <td>0.878643</td>\n",
       "      <td>0</td>\n",
       "    </tr>\n",
       "    <tr>\n",
       "      <th>1482</th>\n",
       "      <td>2.838271</td>\n",
       "      <td>-2.503304</td>\n",
       "      <td>-0.875284</td>\n",
       "      <td>0.096475</td>\n",
       "      <td>0</td>\n",
       "    </tr>\n",
       "    <tr>\n",
       "      <th>1483</th>\n",
       "      <td>2.253824</td>\n",
       "      <td>-0.044333</td>\n",
       "      <td>0.149786</td>\n",
       "      <td>-0.456607</td>\n",
       "      <td>0</td>\n",
       "    </tr>\n",
       "  </tbody>\n",
       "</table>\n",
       "<p>1484 rows × 5 columns</p>\n",
       "</div>"
      ],
      "text/plain": [
       "           PC1       PC2       PC3       PC4  Klabels\n",
       "0    -2.015752  2.234528 -0.974542 -0.018746        1\n",
       "1    -0.949822 -2.670965  1.200447  0.885160        1\n",
       "2    -1.373451  1.828841  0.639539 -0.870171        1\n",
       "3     0.170648  0.537418  0.917296  1.726073        1\n",
       "4    -0.675163 -0.417731 -0.907451 -0.780967        1\n",
       "...        ...       ...       ...       ...      ...\n",
       "1479  1.385347 -0.921228  1.128512  0.554430        0\n",
       "1480  1.718041 -0.481192 -0.376196  0.052336        0\n",
       "1481  3.677554  0.441862  0.357931  0.878643        0\n",
       "1482  2.838271 -2.503304 -0.875284  0.096475        0\n",
       "1483  2.253824 -0.044333  0.149786 -0.456607        0\n",
       "\n",
       "[1484 rows x 5 columns]"
      ]
     },
     "execution_count": 147,
     "metadata": {},
     "output_type": "execute_result"
    }
   ],
   "source": [
    "z['Klabels'] = Klabel\n",
    "z"
   ]
  },
  {
   "cell_type": "markdown",
   "id": "c0f65c51",
   "metadata": {
    "extensions": {
     "jupyter_dashboards": {
      "version": 1,
      "views": {
       "grid_default": {},
       "report_default": {
        "hidden": true
       }
      }
     }
    }
   },
   "source": [
    "##### Ajout des targets:"
   ]
  },
  {
   "cell_type": "code",
   "execution_count": 148,
   "id": "47a2bd25",
   "metadata": {
    "extensions": {
     "jupyter_dashboards": {
      "version": 1,
      "views": {
       "grid_default": {},
       "report_default": {
        "hidden": true
       }
      }
     }
    }
   },
   "outputs": [
    {
     "data": {
      "text/html": [
       "<div>\n",
       "<style scoped>\n",
       "    .dataframe tbody tr th:only-of-type {\n",
       "        vertical-align: middle;\n",
       "    }\n",
       "\n",
       "    .dataframe tbody tr th {\n",
       "        vertical-align: top;\n",
       "    }\n",
       "\n",
       "    .dataframe thead th {\n",
       "        text-align: right;\n",
       "    }\n",
       "</style>\n",
       "<table border=\"1\" class=\"dataframe\">\n",
       "  <thead>\n",
       "    <tr style=\"text-align: right;\">\n",
       "      <th></th>\n",
       "      <th>PC1</th>\n",
       "      <th>PC2</th>\n",
       "      <th>PC3</th>\n",
       "      <th>PC4</th>\n",
       "      <th>Klabels</th>\n",
       "      <th>target</th>\n",
       "    </tr>\n",
       "  </thead>\n",
       "  <tbody>\n",
       "    <tr>\n",
       "      <th>0</th>\n",
       "      <td>-2.015752</td>\n",
       "      <td>2.234528</td>\n",
       "      <td>-0.974542</td>\n",
       "      <td>-0.018746</td>\n",
       "      <td>1</td>\n",
       "      <td>1</td>\n",
       "    </tr>\n",
       "    <tr>\n",
       "      <th>1</th>\n",
       "      <td>-0.949822</td>\n",
       "      <td>-2.670965</td>\n",
       "      <td>1.200447</td>\n",
       "      <td>0.885160</td>\n",
       "      <td>1</td>\n",
       "      <td>1</td>\n",
       "    </tr>\n",
       "    <tr>\n",
       "      <th>2</th>\n",
       "      <td>-1.373451</td>\n",
       "      <td>1.828841</td>\n",
       "      <td>0.639539</td>\n",
       "      <td>-0.870171</td>\n",
       "      <td>1</td>\n",
       "      <td>1</td>\n",
       "    </tr>\n",
       "    <tr>\n",
       "      <th>3</th>\n",
       "      <td>0.170648</td>\n",
       "      <td>0.537418</td>\n",
       "      <td>0.917296</td>\n",
       "      <td>1.726073</td>\n",
       "      <td>1</td>\n",
       "      <td>1</td>\n",
       "    </tr>\n",
       "    <tr>\n",
       "      <th>4</th>\n",
       "      <td>-0.675163</td>\n",
       "      <td>-0.417731</td>\n",
       "      <td>-0.907451</td>\n",
       "      <td>-0.780967</td>\n",
       "      <td>1</td>\n",
       "      <td>1</td>\n",
       "    </tr>\n",
       "    <tr>\n",
       "      <th>...</th>\n",
       "      <td>...</td>\n",
       "      <td>...</td>\n",
       "      <td>...</td>\n",
       "      <td>...</td>\n",
       "      <td>...</td>\n",
       "      <td>...</td>\n",
       "    </tr>\n",
       "    <tr>\n",
       "      <th>1479</th>\n",
       "      <td>1.385347</td>\n",
       "      <td>-0.921228</td>\n",
       "      <td>1.128512</td>\n",
       "      <td>0.554430</td>\n",
       "      <td>0</td>\n",
       "      <td>0</td>\n",
       "    </tr>\n",
       "    <tr>\n",
       "      <th>1480</th>\n",
       "      <td>1.718041</td>\n",
       "      <td>-0.481192</td>\n",
       "      <td>-0.376196</td>\n",
       "      <td>0.052336</td>\n",
       "      <td>0</td>\n",
       "      <td>0</td>\n",
       "    </tr>\n",
       "    <tr>\n",
       "      <th>1481</th>\n",
       "      <td>3.677554</td>\n",
       "      <td>0.441862</td>\n",
       "      <td>0.357931</td>\n",
       "      <td>0.878643</td>\n",
       "      <td>0</td>\n",
       "      <td>0</td>\n",
       "    </tr>\n",
       "    <tr>\n",
       "      <th>1482</th>\n",
       "      <td>2.838271</td>\n",
       "      <td>-2.503304</td>\n",
       "      <td>-0.875284</td>\n",
       "      <td>0.096475</td>\n",
       "      <td>0</td>\n",
       "      <td>0</td>\n",
       "    </tr>\n",
       "    <tr>\n",
       "      <th>1483</th>\n",
       "      <td>2.253824</td>\n",
       "      <td>-0.044333</td>\n",
       "      <td>0.149786</td>\n",
       "      <td>-0.456607</td>\n",
       "      <td>0</td>\n",
       "      <td>0</td>\n",
       "    </tr>\n",
       "  </tbody>\n",
       "</table>\n",
       "<p>1484 rows × 6 columns</p>\n",
       "</div>"
      ],
      "text/plain": [
       "           PC1       PC2       PC3       PC4  Klabels  target\n",
       "0    -2.015752  2.234528 -0.974542 -0.018746        1       1\n",
       "1    -0.949822 -2.670965  1.200447  0.885160        1       1\n",
       "2    -1.373451  1.828841  0.639539 -0.870171        1       1\n",
       "3     0.170648  0.537418  0.917296  1.726073        1       1\n",
       "4    -0.675163 -0.417731 -0.907451 -0.780967        1       1\n",
       "...        ...       ...       ...       ...      ...     ...\n",
       "1479  1.385347 -0.921228  1.128512  0.554430        0       0\n",
       "1480  1.718041 -0.481192 -0.376196  0.052336        0       0\n",
       "1481  3.677554  0.441862  0.357931  0.878643        0       0\n",
       "1482  2.838271 -2.503304 -0.875284  0.096475        0       0\n",
       "1483  2.253824 -0.044333  0.149786 -0.456607        0       0\n",
       "\n",
       "[1484 rows x 6 columns]"
      ]
     },
     "execution_count": 148,
     "metadata": {},
     "output_type": "execute_result"
    }
   ],
   "source": [
    "z['target'] = y\n",
    "z"
   ]
  },
  {
   "cell_type": "markdown",
   "id": "5cd32114",
   "metadata": {
    "extensions": {
     "jupyter_dashboards": {
      "version": 1,
      "views": {
       "grid_default": {},
       "report_default": {
        "hidden": false
       }
      }
     }
    }
   },
   "source": [
    "##### Matrice de confusion:"
   ]
  },
  {
   "cell_type": "code",
   "execution_count": 149,
   "id": "9e663b7a",
   "metadata": {
    "extensions": {
     "jupyter_dashboards": {
      "version": 1,
      "views": {
       "grid_default": {},
       "report_default": {
        "hidden": false
       }
      }
     }
    }
   },
   "outputs": [
    {
     "name": "stdout",
     "output_type": "stream",
     "text": [
      "[[448  37]\n",
      " [ 36 963]]\n"
     ]
    }
   ],
   "source": [
    "print(confusion_matrix(z.Klabels, z.target))"
   ]
  },
  {
   "cell_type": "markdown",
   "id": "7f4bf1f6",
   "metadata": {
    "extensions": {
     "jupyter_dashboards": {
      "version": 1,
      "views": {
       "grid_default": {},
       "report_default": {
        "hidden": false
       }
      }
     }
    }
   },
   "source": [
    "#### <font color='green'>La matrice de confusion permet de voir les résultats obtenus. On observe, 448 Vrai négatif, 37 faux négatif, 36 faux positif et 963 vrai positif.</font>"
   ]
  },
  {
   "cell_type": "markdown",
   "id": "8c1c075c",
   "metadata": {
    "extensions": {
     "jupyter_dashboards": {
      "version": 1,
      "views": {
       "grid_default": {},
       "report_default": {
        "hidden": false
       }
      }
     }
    }
   },
   "source": [
    "##### Classification report:"
   ]
  },
  {
   "cell_type": "code",
   "execution_count": 150,
   "id": "3a7c05d9",
   "metadata": {
    "extensions": {
     "jupyter_dashboards": {
      "version": 1,
      "views": {
       "grid_default": {},
       "report_default": {
        "hidden": false
       }
      }
     }
    }
   },
   "outputs": [
    {
     "name": "stdout",
     "output_type": "stream",
     "text": [
      "              precision    recall  f1-score   support\n",
      "\n",
      "           0       0.93      0.92      0.92       485\n",
      "           1       0.96      0.96      0.96       999\n",
      "\n",
      "    accuracy                           0.95      1484\n",
      "   macro avg       0.94      0.94      0.94      1484\n",
      "weighted avg       0.95      0.95      0.95      1484\n",
      "\n"
     ]
    }
   ],
   "source": [
    "print(classification_report(z.Klabels, z.target))"
   ]
  },
  {
   "cell_type": "markdown",
   "id": "06dd5965",
   "metadata": {
    "extensions": {
     "jupyter_dashboards": {
      "version": 1,
      "views": {
       "grid_default": {},
       "report_default": {
        "hidden": false
       }
      }
     }
    }
   },
   "source": [
    "#### <font color='green'>Le rapport ci-dessus nous aide à mieux comprendre comment on été interprété les résultats obtenus. On observe d'ailleurs une exactitude des résultats à hauteur de 95%</font>"
   ]
  },
  {
   "cell_type": "markdown",
   "id": "560f0583",
   "metadata": {
    "extensions": {
     "jupyter_dashboards": {
      "version": 1,
      "views": {
       "grid_default": {},
       "report_default": {
        "hidden": false
       }
      }
     }
    }
   },
   "source": [
    "### KNN"
   ]
  },
  {
   "cell_type": "markdown",
   "id": "76f15595",
   "metadata": {
    "extensions": {
     "jupyter_dashboards": {
      "version": 1,
      "views": {
       "grid_default": {},
       "report_default": {
        "hidden": false
       }
      }
     }
    }
   },
   "source": [
    "#### Le KNN, est un algorithme de classification supervisé. Il permet de classer plusieurs valeurs dans une même classe en déterminants les k plus proche voisin de cette classe. "
   ]
  },
  {
   "cell_type": "markdown",
   "id": "a45b535a",
   "metadata": {
    "extensions": {
     "jupyter_dashboards": {
      "version": 1,
      "views": {
       "grid_default": {},
       "report_default": {
        "hidden": true
       }
      }
     }
    }
   },
   "source": [
    "##### Data Prep:"
   ]
  },
  {
   "cell_type": "code",
   "execution_count": 151,
   "id": "3752c7ee",
   "metadata": {
    "extensions": {
     "jupyter_dashboards": {
      "version": 1,
      "views": {
       "grid_default": {},
       "report_default": {
        "hidden": true
       }
      }
     }
    }
   },
   "outputs": [],
   "source": [
    "z = pca_data.iloc[:,:4].copy()\n",
    "y = pca_data[['target']]"
   ]
  },
  {
   "cell_type": "markdown",
   "id": "6afa4dd0",
   "metadata": {
    "extensions": {
     "jupyter_dashboards": {
      "version": 1,
      "views": {
       "grid_default": {},
       "report_default": {
        "hidden": true
       }
      }
     }
    }
   },
   "source": [
    "##### Train Test Split:"
   ]
  },
  {
   "cell_type": "code",
   "execution_count": 152,
   "id": "785d5662",
   "metadata": {
    "extensions": {
     "jupyter_dashboards": {
      "version": 1,
      "views": {
       "grid_default": {},
       "report_default": {
        "hidden": true
       }
      }
     }
    }
   },
   "outputs": [],
   "source": [
    "x_train, x_test, y_train, y_test = train_test_split(z, y, test_size=0.25)"
   ]
  },
  {
   "cell_type": "markdown",
   "id": "fbbdb8b3",
   "metadata": {
    "extensions": {
     "jupyter_dashboards": {
      "version": 1,
      "views": {
       "grid_default": {},
       "report_default": {
        "hidden": true
       }
      }
     }
    }
   },
   "source": [
    "##### Elbow:"
   ]
  },
  {
   "cell_type": "code",
   "execution_count": 153,
   "id": "036632c5",
   "metadata": {
    "extensions": {
     "jupyter_dashboards": {
      "version": 1,
      "views": {
       "grid_default": {},
       "report_default": {
        "hidden": true
       }
      }
     }
    },
    "scrolled": true
   },
   "outputs": [
    {
     "name": "stderr",
     "output_type": "stream",
     "text": [
      "/opt/anaconda3/lib/python3.8/site-packages/sklearn/neighbors/_classification.py:179: DataConversionWarning: A column-vector y was passed when a 1d array was expected. Please change the shape of y to (n_samples,), for example using ravel().\n",
      "  return self._fit(X, y)\n",
      "/opt/anaconda3/lib/python3.8/site-packages/sklearn/neighbors/_classification.py:179: DataConversionWarning: A column-vector y was passed when a 1d array was expected. Please change the shape of y to (n_samples,), for example using ravel().\n",
      "  return self._fit(X, y)\n",
      "/opt/anaconda3/lib/python3.8/site-packages/sklearn/neighbors/_classification.py:179: DataConversionWarning: A column-vector y was passed when a 1d array was expected. Please change the shape of y to (n_samples,), for example using ravel().\n",
      "  return self._fit(X, y)\n",
      "/opt/anaconda3/lib/python3.8/site-packages/sklearn/neighbors/_classification.py:179: DataConversionWarning: A column-vector y was passed when a 1d array was expected. Please change the shape of y to (n_samples,), for example using ravel().\n",
      "  return self._fit(X, y)\n",
      "/opt/anaconda3/lib/python3.8/site-packages/sklearn/neighbors/_classification.py:179: DataConversionWarning: A column-vector y was passed when a 1d array was expected. Please change the shape of y to (n_samples,), for example using ravel().\n",
      "  return self._fit(X, y)\n",
      "/opt/anaconda3/lib/python3.8/site-packages/sklearn/neighbors/_classification.py:179: DataConversionWarning: A column-vector y was passed when a 1d array was expected. Please change the shape of y to (n_samples,), for example using ravel().\n",
      "  return self._fit(X, y)\n",
      "/opt/anaconda3/lib/python3.8/site-packages/sklearn/neighbors/_classification.py:179: DataConversionWarning: A column-vector y was passed when a 1d array was expected. Please change the shape of y to (n_samples,), for example using ravel().\n",
      "  return self._fit(X, y)\n",
      "/opt/anaconda3/lib/python3.8/site-packages/sklearn/neighbors/_classification.py:179: DataConversionWarning: A column-vector y was passed when a 1d array was expected. Please change the shape of y to (n_samples,), for example using ravel().\n",
      "  return self._fit(X, y)\n",
      "/opt/anaconda3/lib/python3.8/site-packages/sklearn/neighbors/_classification.py:179: DataConversionWarning: A column-vector y was passed when a 1d array was expected. Please change the shape of y to (n_samples,), for example using ravel().\n",
      "  return self._fit(X, y)\n",
      "/opt/anaconda3/lib/python3.8/site-packages/sklearn/neighbors/_classification.py:179: DataConversionWarning: A column-vector y was passed when a 1d array was expected. Please change the shape of y to (n_samples,), for example using ravel().\n",
      "  return self._fit(X, y)\n",
      "/opt/anaconda3/lib/python3.8/site-packages/sklearn/neighbors/_classification.py:179: DataConversionWarning: A column-vector y was passed when a 1d array was expected. Please change the shape of y to (n_samples,), for example using ravel().\n",
      "  return self._fit(X, y)\n",
      "/opt/anaconda3/lib/python3.8/site-packages/sklearn/neighbors/_classification.py:179: DataConversionWarning: A column-vector y was passed when a 1d array was expected. Please change the shape of y to (n_samples,), for example using ravel().\n",
      "  return self._fit(X, y)\n",
      "/opt/anaconda3/lib/python3.8/site-packages/sklearn/neighbors/_classification.py:179: DataConversionWarning: A column-vector y was passed when a 1d array was expected. Please change the shape of y to (n_samples,), for example using ravel().\n",
      "  return self._fit(X, y)\n",
      "/opt/anaconda3/lib/python3.8/site-packages/sklearn/neighbors/_classification.py:179: DataConversionWarning: A column-vector y was passed when a 1d array was expected. Please change the shape of y to (n_samples,), for example using ravel().\n",
      "  return self._fit(X, y)\n",
      "/opt/anaconda3/lib/python3.8/site-packages/sklearn/neighbors/_classification.py:179: DataConversionWarning: A column-vector y was passed when a 1d array was expected. Please change the shape of y to (n_samples,), for example using ravel().\n",
      "  return self._fit(X, y)\n",
      "/opt/anaconda3/lib/python3.8/site-packages/sklearn/neighbors/_classification.py:179: DataConversionWarning: A column-vector y was passed when a 1d array was expected. Please change the shape of y to (n_samples,), for example using ravel().\n",
      "  return self._fit(X, y)\n",
      "/opt/anaconda3/lib/python3.8/site-packages/sklearn/neighbors/_classification.py:179: DataConversionWarning: A column-vector y was passed when a 1d array was expected. Please change the shape of y to (n_samples,), for example using ravel().\n",
      "  return self._fit(X, y)\n",
      "/opt/anaconda3/lib/python3.8/site-packages/sklearn/neighbors/_classification.py:179: DataConversionWarning: A column-vector y was passed when a 1d array was expected. Please change the shape of y to (n_samples,), for example using ravel().\n",
      "  return self._fit(X, y)\n",
      "/opt/anaconda3/lib/python3.8/site-packages/sklearn/neighbors/_classification.py:179: DataConversionWarning: A column-vector y was passed when a 1d array was expected. Please change the shape of y to (n_samples,), for example using ravel().\n",
      "  return self._fit(X, y)\n",
      "/opt/anaconda3/lib/python3.8/site-packages/sklearn/neighbors/_classification.py:179: DataConversionWarning: A column-vector y was passed when a 1d array was expected. Please change the shape of y to (n_samples,), for example using ravel().\n",
      "  return self._fit(X, y)\n",
      "/opt/anaconda3/lib/python3.8/site-packages/sklearn/neighbors/_classification.py:179: DataConversionWarning: A column-vector y was passed when a 1d array was expected. Please change the shape of y to (n_samples,), for example using ravel().\n",
      "  return self._fit(X, y)\n",
      "/opt/anaconda3/lib/python3.8/site-packages/sklearn/neighbors/_classification.py:179: DataConversionWarning: A column-vector y was passed when a 1d array was expected. Please change the shape of y to (n_samples,), for example using ravel().\n",
      "  return self._fit(X, y)\n",
      "/opt/anaconda3/lib/python3.8/site-packages/sklearn/neighbors/_classification.py:179: DataConversionWarning: A column-vector y was passed when a 1d array was expected. Please change the shape of y to (n_samples,), for example using ravel().\n",
      "  return self._fit(X, y)\n",
      "/opt/anaconda3/lib/python3.8/site-packages/sklearn/neighbors/_classification.py:179: DataConversionWarning: A column-vector y was passed when a 1d array was expected. Please change the shape of y to (n_samples,), for example using ravel().\n",
      "  return self._fit(X, y)\n",
      "/opt/anaconda3/lib/python3.8/site-packages/sklearn/neighbors/_classification.py:179: DataConversionWarning: A column-vector y was passed when a 1d array was expected. Please change the shape of y to (n_samples,), for example using ravel().\n",
      "  return self._fit(X, y)\n",
      "/opt/anaconda3/lib/python3.8/site-packages/sklearn/neighbors/_classification.py:179: DataConversionWarning: A column-vector y was passed when a 1d array was expected. Please change the shape of y to (n_samples,), for example using ravel().\n",
      "  return self._fit(X, y)\n",
      "/opt/anaconda3/lib/python3.8/site-packages/sklearn/neighbors/_classification.py:179: DataConversionWarning: A column-vector y was passed when a 1d array was expected. Please change the shape of y to (n_samples,), for example using ravel().\n",
      "  return self._fit(X, y)\n",
      "/opt/anaconda3/lib/python3.8/site-packages/sklearn/neighbors/_classification.py:179: DataConversionWarning: A column-vector y was passed when a 1d array was expected. Please change the shape of y to (n_samples,), for example using ravel().\n",
      "  return self._fit(X, y)\n",
      "/opt/anaconda3/lib/python3.8/site-packages/sklearn/neighbors/_classification.py:179: DataConversionWarning: A column-vector y was passed when a 1d array was expected. Please change the shape of y to (n_samples,), for example using ravel().\n",
      "  return self._fit(X, y)\n",
      "/opt/anaconda3/lib/python3.8/site-packages/sklearn/neighbors/_classification.py:179: DataConversionWarning: A column-vector y was passed when a 1d array was expected. Please change the shape of y to (n_samples,), for example using ravel().\n",
      "  return self._fit(X, y)\n",
      "/opt/anaconda3/lib/python3.8/site-packages/sklearn/neighbors/_classification.py:179: DataConversionWarning: A column-vector y was passed when a 1d array was expected. Please change the shape of y to (n_samples,), for example using ravel().\n",
      "  return self._fit(X, y)\n",
      "/opt/anaconda3/lib/python3.8/site-packages/sklearn/neighbors/_classification.py:179: DataConversionWarning: A column-vector y was passed when a 1d array was expected. Please change the shape of y to (n_samples,), for example using ravel().\n",
      "  return self._fit(X, y)\n",
      "/opt/anaconda3/lib/python3.8/site-packages/sklearn/neighbors/_classification.py:179: DataConversionWarning: A column-vector y was passed when a 1d array was expected. Please change the shape of y to (n_samples,), for example using ravel().\n",
      "  return self._fit(X, y)\n",
      "/opt/anaconda3/lib/python3.8/site-packages/sklearn/neighbors/_classification.py:179: DataConversionWarning: A column-vector y was passed when a 1d array was expected. Please change the shape of y to (n_samples,), for example using ravel().\n",
      "  return self._fit(X, y)\n",
      "/opt/anaconda3/lib/python3.8/site-packages/sklearn/neighbors/_classification.py:179: DataConversionWarning: A column-vector y was passed when a 1d array was expected. Please change the shape of y to (n_samples,), for example using ravel().\n",
      "  return self._fit(X, y)\n",
      "/opt/anaconda3/lib/python3.8/site-packages/sklearn/neighbors/_classification.py:179: DataConversionWarning: A column-vector y was passed when a 1d array was expected. Please change the shape of y to (n_samples,), for example using ravel().\n",
      "  return self._fit(X, y)\n",
      "/opt/anaconda3/lib/python3.8/site-packages/sklearn/neighbors/_classification.py:179: DataConversionWarning: A column-vector y was passed when a 1d array was expected. Please change the shape of y to (n_samples,), for example using ravel().\n",
      "  return self._fit(X, y)\n",
      "/opt/anaconda3/lib/python3.8/site-packages/sklearn/neighbors/_classification.py:179: DataConversionWarning: A column-vector y was passed when a 1d array was expected. Please change the shape of y to (n_samples,), for example using ravel().\n",
      "  return self._fit(X, y)\n",
      "/opt/anaconda3/lib/python3.8/site-packages/sklearn/neighbors/_classification.py:179: DataConversionWarning: A column-vector y was passed when a 1d array was expected. Please change the shape of y to (n_samples,), for example using ravel().\n",
      "  return self._fit(X, y)\n"
     ]
    }
   ],
   "source": [
    "error = []\n",
    "\n",
    "for i in range(1, 40):\n",
    "    Knn = KNeighborsClassifier(n_neighbors=i)\n",
    "    Knn.fit(x_train, y_train)\n",
    "    pred_i = Knn.predict(x_test).reshape(371,1)\n",
    "    error.append(np.mean(pred_i != y_test))\n",
    "    "
   ]
  },
  {
   "cell_type": "markdown",
   "id": "36d811cf",
   "metadata": {
    "extensions": {
     "jupyter_dashboards": {
      "version": 1,
      "views": {
       "grid_default": {},
       "report_default": {
        "hidden": false
       }
      }
     }
    }
   },
   "source": [
    "##### Visualisation:"
   ]
  },
  {
   "cell_type": "code",
   "execution_count": 154,
   "id": "99a6c2f5",
   "metadata": {
    "extensions": {
     "jupyter_dashboards": {
      "version": 1,
      "views": {
       "grid_default": {},
       "report_default": {
        "hidden": false
       }
      }
     }
    }
   },
   "outputs": [
    {
     "data": {
      "image/png": "[encoded data removed]",
      "text/plain": [
       "<Figure size 1152x648 with 1 Axes>"
      ]
     },
     "metadata": {},
     "output_type": "display_data"
    }
   ],
   "source": [
    "plt.figure(figsize=(16,9))\n",
    "\n",
    "plt.plot(range(1,40), error, marker='o')\n",
    "\n",
    "plt.show()"
   ]
  },
  {
   "cell_type": "markdown",
   "id": "ee327ffc",
   "metadata": {
    "extensions": {
     "jupyter_dashboards": {
      "version": 1,
      "views": {
       "grid_default": {},
       "report_default": {
        "hidden": false
       }
      }
     }
    }
   },
   "source": [
    "#### <font color='green'>Cette visualisation en forme de coude, aide à définir le nombre de k-clusters. Ici, le choix le plus probant est donc de 4 clusters.</font>"
   ]
  },
  {
   "cell_type": "markdown",
   "id": "7901d732",
   "metadata": {
    "extensions": {
     "jupyter_dashboards": {
      "version": 1,
      "views": {
       "grid_default": {},
       "report_default": {
        "hidden": true
       }
      }
     }
    }
   },
   "source": [
    "##### KNN:"
   ]
  },
  {
   "cell_type": "code",
   "execution_count": 181,
   "id": "8356e23b",
   "metadata": {
    "extensions": {
     "jupyter_dashboards": {
      "version": 1,
      "views": {
       "grid_default": {},
       "report_default": {
        "hidden": true
       }
      }
     }
    }
   },
   "outputs": [
    {
     "name": "stderr",
     "output_type": "stream",
     "text": [
      "/opt/anaconda3/lib/python3.8/site-packages/sklearn/neighbors/_classification.py:179: DataConversionWarning: A column-vector y was passed when a 1d array was expected. Please change the shape of y to (n_samples,), for example using ravel().\n",
      "  return self._fit(X, y)\n"
     ]
    },
    {
     "data": {
      "text/plain": [
       "KNeighborsClassifier(n_neighbors=4)"
      ]
     },
     "execution_count": 181,
     "metadata": {},
     "output_type": "execute_result"
    }
   ],
   "source": [
    "classifier = KNeighborsClassifier(n_neighbors=4)\n",
    "classifier.fit(x_train, y_train)"
   ]
  },
  {
   "cell_type": "markdown",
   "id": "e201cfa4",
   "metadata": {
    "extensions": {
     "jupyter_dashboards": {
      "version": 1,
      "views": {
       "grid_default": {},
       "report_default": {
        "hidden": false
       }
      }
     }
    }
   },
   "source": [
    "##### Jeu d'entraînement:"
   ]
  },
  {
   "cell_type": "code",
   "execution_count": 182,
   "id": "0f03b749",
   "metadata": {
    "extensions": {
     "jupyter_dashboards": {
      "version": 1,
      "views": {
       "grid_default": {},
       "report_default": {
        "hidden": true
       }
      }
     }
    }
   },
   "outputs": [],
   "source": [
    "y_train_pred = classifier.predict(x_train)"
   ]
  },
  {
   "cell_type": "markdown",
   "id": "024bd4d1",
   "metadata": {
    "extensions": {
     "jupyter_dashboards": {
      "version": 1,
      "views": {
       "grid_default": {},
       "report_default": {
        "hidden": false
       }
      }
     }
    }
   },
   "source": [
    "##### Matrice de confusion:"
   ]
  },
  {
   "cell_type": "code",
   "execution_count": 183,
   "id": "a51616aa",
   "metadata": {
    "extensions": {
     "jupyter_dashboards": {
      "version": 1,
      "views": {
       "grid_default": {},
       "report_default": {
        "hidden": false
       }
      }
     }
    }
   },
   "outputs": [
    {
     "name": "stdout",
     "output_type": "stream",
     "text": [
      "[[339  32]\n",
      " [ 32 710]]\n"
     ]
    }
   ],
   "source": [
    "print(confusion_matrix(y_train, y_train_pred))"
   ]
  },
  {
   "cell_type": "markdown",
   "id": "2fb1ecc5",
   "metadata": {
    "extensions": {
     "jupyter_dashboards": {
      "version": 1,
      "views": {
       "grid_default": {},
       "report_default": {
        "hidden": false
       }
      }
     }
    }
   },
   "source": [
    "#### <font color='green'>La matrice de confusion permet de voir les résultats obtenus. On observe, 339 Vrai négatif, 32 faux négatif, 32 faux positif et 710 vrai positif.</font>"
   ]
  },
  {
   "cell_type": "markdown",
   "id": "12c46a53",
   "metadata": {
    "extensions": {
     "jupyter_dashboards": {
      "version": 1,
      "views": {
       "grid_default": {},
       "report_default": {
        "hidden": false
       }
      }
     }
    }
   },
   "source": [
    "##### Classification report:"
   ]
  },
  {
   "cell_type": "code",
   "execution_count": 184,
   "id": "194ff9ed",
   "metadata": {
    "extensions": {
     "jupyter_dashboards": {
      "version": 1,
      "views": {
       "grid_default": {},
       "report_default": {
        "hidden": false
       }
      }
     }
    }
   },
   "outputs": [
    {
     "name": "stdout",
     "output_type": "stream",
     "text": [
      "              precision    recall  f1-score   support\n",
      "\n",
      "           0       0.91      0.91      0.91       371\n",
      "           1       0.96      0.96      0.96       742\n",
      "\n",
      "    accuracy                           0.94      1113\n",
      "   macro avg       0.94      0.94      0.94      1113\n",
      "weighted avg       0.94      0.94      0.94      1113\n",
      "\n"
     ]
    }
   ],
   "source": [
    "print(classification_report(y_train, y_train_pred))"
   ]
  },
  {
   "cell_type": "markdown",
   "id": "07013332",
   "metadata": {
    "extensions": {
     "jupyter_dashboards": {
      "version": 1,
      "views": {
       "grid_default": {},
       "report_default": {
        "hidden": false
       }
      }
     }
    }
   },
   "source": [
    "#### <font color='green'>Le rapport ci-dessus nous aide à mieux comprendre comment on été interprété les résultats obtenus. On observe d'ailleurs une exactitude des résultats à hauteur de 94%</font>"
   ]
  },
  {
   "cell_type": "markdown",
   "id": "b37000c4",
   "metadata": {
    "extensions": {
     "jupyter_dashboards": {
      "version": 1,
      "views": {
       "grid_default": {},
       "report_default": {
        "hidden": false
       }
      }
     }
    }
   },
   "source": [
    "##### Jeu de test:"
   ]
  },
  {
   "cell_type": "code",
   "execution_count": 185,
   "id": "215bdde2",
   "metadata": {
    "extensions": {
     "jupyter_dashboards": {
      "version": 1,
      "views": {
       "grid_default": {},
       "report_default": {
        "hidden": true
       }
      }
     }
    }
   },
   "outputs": [],
   "source": [
    "y_pred = classifier.predict(x_test)"
   ]
  },
  {
   "cell_type": "markdown",
   "id": "e5d7c64b",
   "metadata": {
    "extensions": {
     "jupyter_dashboards": {
      "version": 1,
      "views": {
       "grid_default": {},
       "report_default": {
        "hidden": false
       }
      }
     }
    }
   },
   "source": [
    "##### Matrice de confusion:"
   ]
  },
  {
   "cell_type": "code",
   "execution_count": 186,
   "id": "2d4f8fc3",
   "metadata": {
    "extensions": {
     "jupyter_dashboards": {
      "version": 1,
      "views": {
       "grid_default": {},
       "report_default": {
        "hidden": false
       }
      }
     }
    },
    "scrolled": true
   },
   "outputs": [
    {
     "name": "stdout",
     "output_type": "stream",
     "text": [
      "[[109   4]\n",
      " [ 10 248]]\n"
     ]
    }
   ],
   "source": [
    "print(confusion_matrix(y_test, y_pred))"
   ]
  },
  {
   "cell_type": "markdown",
   "id": "60454309",
   "metadata": {
    "extensions": {
     "jupyter_dashboards": {
      "version": 1,
      "views": {
       "grid_default": {},
       "report_default": {
        "hidden": false
       }
      }
     }
    }
   },
   "source": [
    "#### <font color='green'>La matrice de confusion permet de voir les résultats obtenus. On observe, 109 Vrai négatif, 4 faux négatif, 10 faux positif et 248 vrai positif.</font>"
   ]
  },
  {
   "cell_type": "markdown",
   "id": "d2691111",
   "metadata": {
    "extensions": {
     "jupyter_dashboards": {
      "version": 1,
      "views": {
       "grid_default": {},
       "report_default": {
        "hidden": false
       }
      }
     }
    }
   },
   "source": [
    "##### Classification report:"
   ]
  },
  {
   "cell_type": "code",
   "execution_count": 187,
   "id": "dfd9e17f",
   "metadata": {
    "extensions": {
     "jupyter_dashboards": {
      "version": 1,
      "views": {
       "grid_default": {},
       "report_default": {
        "hidden": false
       }
      }
     }
    }
   },
   "outputs": [
    {
     "name": "stdout",
     "output_type": "stream",
     "text": [
      "              precision    recall  f1-score   support\n",
      "\n",
      "           0       0.92      0.96      0.94       113\n",
      "           1       0.98      0.96      0.97       258\n",
      "\n",
      "    accuracy                           0.96       371\n",
      "   macro avg       0.95      0.96      0.96       371\n",
      "weighted avg       0.96      0.96      0.96       371\n",
      "\n"
     ]
    }
   ],
   "source": [
    "print(classification_report(y_test, y_pred))"
   ]
  },
  {
   "cell_type": "markdown",
   "id": "1ec6640b",
   "metadata": {
    "extensions": {
     "jupyter_dashboards": {
      "version": 1,
      "views": {
       "grid_default": {},
       "report_default": {
        "hidden": false
       }
      }
     }
    }
   },
   "source": [
    "#### <font color='green'>Le rapport ci-dessus nous aide à mieux comprendre comment on été interprété les résultats obtenus. On observe d'ailleurs une exactitude des résultats à hauteur de 96%</font>"
   ]
  },
  {
   "cell_type": "markdown",
   "id": "f1b4db73",
   "metadata": {
    "extensions": {
     "jupyter_dashboards": {
      "version": 1,
      "views": {
       "grid_default": {},
       "report_default": {
        "hidden": false
       }
      }
     }
    }
   },
   "source": [
    "### Regression logistique"
   ]
  },
  {
   "cell_type": "markdown",
   "id": "5879d4dc",
   "metadata": {
    "extensions": {
     "jupyter_dashboards": {
      "version": 1,
      "views": {
       "grid_default": {},
       "report_default": {
        "hidden": false
       }
      }
     }
    }
   },
   "source": [
    "#### La régression logistique, est un algorithme de classification supervisé. Elle permet de classer plusieurs valeurs dans une même classe en déterminant la relation que la valeur a avec les autres. "
   ]
  },
  {
   "cell_type": "markdown",
   "id": "d94b1e2e",
   "metadata": {
    "extensions": {
     "jupyter_dashboards": {
      "version": 1,
      "views": {
       "grid_default": {},
       "report_default": {
        "hidden": true
       }
      }
     }
    }
   },
   "source": [
    "##### Data Prep:"
   ]
  },
  {
   "cell_type": "code",
   "execution_count": 162,
   "id": "e4233701",
   "metadata": {
    "extensions": {
     "jupyter_dashboards": {
      "version": 1,
      "views": {
       "grid_default": {},
       "report_default": {
        "hidden": true
       }
      }
     }
    }
   },
   "outputs": [],
   "source": [
    "z = pca_data.iloc[:,:4].copy()\n",
    "y = pca_data[['target']]"
   ]
  },
  {
   "cell_type": "markdown",
   "id": "42c396fc",
   "metadata": {
    "extensions": {
     "jupyter_dashboards": {
      "version": 1,
      "views": {
       "grid_default": {},
       "report_default": {
        "hidden": true
       }
      }
     }
    }
   },
   "source": [
    "##### Train Test Split:"
   ]
  },
  {
   "cell_type": "code",
   "execution_count": 163,
   "id": "dc26e78a",
   "metadata": {
    "extensions": {
     "jupyter_dashboards": {
      "version": 1,
      "views": {
       "grid_default": {},
       "report_default": {
        "hidden": true
       }
      }
     }
    }
   },
   "outputs": [],
   "source": [
    "x_train, x_test, y_train, y_test = train_test_split(z, y, test_size=0.25)"
   ]
  },
  {
   "cell_type": "markdown",
   "id": "af276b49",
   "metadata": {
    "extensions": {
     "jupyter_dashboards": {
      "version": 1,
      "views": {
       "grid_default": {},
       "report_default": {
        "hidden": true
       }
      }
     }
    }
   },
   "source": [
    "##### Regression logistique:"
   ]
  },
  {
   "cell_type": "code",
   "execution_count": 164,
   "id": "8e451528",
   "metadata": {
    "extensions": {
     "jupyter_dashboards": {
      "version": 1,
      "views": {
       "grid_default": {},
       "report_default": {
        "hidden": true
       }
      }
     }
    }
   },
   "outputs": [
    {
     "name": "stderr",
     "output_type": "stream",
     "text": [
      "/opt/anaconda3/lib/python3.8/site-packages/sklearn/utils/validation.py:63: DataConversionWarning: A column-vector y was passed when a 1d array was expected. Please change the shape of y to (n_samples, ), for example using ravel().\n",
      "  return f(*args, **kwargs)\n"
     ]
    },
    {
     "data": {
      "text/plain": [
       "LogisticRegression()"
      ]
     },
     "execution_count": 164,
     "metadata": {},
     "output_type": "execute_result"
    }
   ],
   "source": [
    "logReg = LogisticRegression()\n",
    "\n",
    "logReg.fit(x_train, y_train)"
   ]
  },
  {
   "cell_type": "markdown",
   "id": "7e442427",
   "metadata": {
    "extensions": {
     "jupyter_dashboards": {
      "version": 1,
      "views": {
       "grid_default": {},
       "report_default": {
        "hidden": false
       }
      }
     }
    }
   },
   "source": [
    "##### Jeu d'entraînement:"
   ]
  },
  {
   "cell_type": "code",
   "execution_count": 165,
   "id": "42c7ba4e",
   "metadata": {
    "extensions": {
     "jupyter_dashboards": {
      "version": 1,
      "views": {
       "grid_default": {},
       "report_default": {
        "hidden": true
       }
      }
     }
    }
   },
   "outputs": [],
   "source": [
    "y_train_pred = logReg.predict(x_train)"
   ]
  },
  {
   "cell_type": "markdown",
   "id": "4e4729fb",
   "metadata": {
    "extensions": {
     "jupyter_dashboards": {
      "version": 1,
      "views": {
       "grid_default": {},
       "report_default": {
        "hidden": false
       }
      }
     }
    }
   },
   "source": [
    "##### Matrice de confusion:"
   ]
  },
  {
   "cell_type": "code",
   "execution_count": 166,
   "id": "3d648514",
   "metadata": {
    "extensions": {
     "jupyter_dashboards": {
      "version": 1,
      "views": {
       "grid_default": {},
       "report_default": {
        "hidden": false
       }
      }
     }
    }
   },
   "outputs": [
    {
     "name": "stdout",
     "output_type": "stream",
     "text": [
      "[[332  39]\n",
      " [ 27 715]]\n"
     ]
    }
   ],
   "source": [
    "print(confusion_matrix(y_train, y_train_pred))"
   ]
  },
  {
   "cell_type": "markdown",
   "id": "f6054697",
   "metadata": {
    "extensions": {
     "jupyter_dashboards": {
      "version": 1,
      "views": {
       "grid_default": {},
       "report_default": {
        "hidden": false
       }
      }
     }
    }
   },
   "source": [
    "#### <font color='green'>La matrice de confusion permet de voir les résultats obtenus. On observe, 332 Vrai négatif, 39 faux négatif, 27 faux positif et 715 vrai positif.</font>"
   ]
  },
  {
   "cell_type": "markdown",
   "id": "9a91b07b",
   "metadata": {
    "extensions": {
     "jupyter_dashboards": {
      "version": 1,
      "views": {
       "grid_default": {},
       "report_default": {
        "hidden": false
       }
      }
     }
    }
   },
   "source": [
    "##### Classification report:"
   ]
  },
  {
   "cell_type": "code",
   "execution_count": 167,
   "id": "0a6288ed",
   "metadata": {
    "extensions": {
     "jupyter_dashboards": {
      "version": 1,
      "views": {
       "grid_default": {},
       "report_default": {
        "hidden": false
       }
      }
     }
    }
   },
   "outputs": [
    {
     "name": "stdout",
     "output_type": "stream",
     "text": [
      "              precision    recall  f1-score   support\n",
      "\n",
      "           0       0.92      0.89      0.91       371\n",
      "           1       0.95      0.96      0.96       742\n",
      "\n",
      "    accuracy                           0.94      1113\n",
      "   macro avg       0.94      0.93      0.93      1113\n",
      "weighted avg       0.94      0.94      0.94      1113\n",
      "\n"
     ]
    }
   ],
   "source": [
    "print(classification_report(y_train, y_train_pred))"
   ]
  },
  {
   "cell_type": "markdown",
   "id": "8241c702",
   "metadata": {
    "extensions": {
     "jupyter_dashboards": {
      "version": 1,
      "views": {
       "grid_default": {},
       "report_default": {
        "hidden": false
       }
      }
     }
    }
   },
   "source": [
    "#### <font color='green'>Le rapport ci-dessus nous aide à mieux comprendre comment on été interprété les résultats obtenus. On observe d'ailleurs une exactitude des résultats à hauteur de 94%</font>"
   ]
  },
  {
   "cell_type": "markdown",
   "id": "1126c93c",
   "metadata": {
    "extensions": {
     "jupyter_dashboards": {
      "version": 1,
      "views": {
       "grid_default": {},
       "report_default": {
        "hidden": false
       }
      }
     }
    }
   },
   "source": [
    "##### Jeu de test:"
   ]
  },
  {
   "cell_type": "code",
   "execution_count": 168,
   "id": "8dc6c63d",
   "metadata": {
    "extensions": {
     "jupyter_dashboards": {
      "version": 1,
      "views": {
       "grid_default": {},
       "report_default": {
        "hidden": true
       }
      }
     }
    }
   },
   "outputs": [],
   "source": [
    "y_pred = logReg.predict(x_test)"
   ]
  },
  {
   "cell_type": "markdown",
   "id": "bbd496bc",
   "metadata": {
    "extensions": {
     "jupyter_dashboards": {
      "version": 1,
      "views": {
       "grid_default": {},
       "report_default": {
        "hidden": false
       }
      }
     }
    }
   },
   "source": [
    "##### Matrice de confusion:"
   ]
  },
  {
   "cell_type": "code",
   "execution_count": 169,
   "id": "3f70a049",
   "metadata": {
    "extensions": {
     "jupyter_dashboards": {
      "version": 1,
      "views": {
       "grid_default": {},
       "report_default": {
        "hidden": false
       }
      }
     }
    }
   },
   "outputs": [
    {
     "name": "stdout",
     "output_type": "stream",
     "text": [
      "[[107   6]\n",
      " [  6 252]]\n"
     ]
    }
   ],
   "source": [
    "print(confusion_matrix(y_test, y_pred))"
   ]
  },
  {
   "cell_type": "markdown",
   "id": "fc2f325c",
   "metadata": {
    "extensions": {
     "jupyter_dashboards": {
      "version": 1,
      "views": {
       "grid_default": {},
       "report_default": {
        "hidden": false
       }
      }
     }
    }
   },
   "source": [
    "#### <font color='green'>La matrice de confusion permet de voir les résultats obtenus. On observe, 107 Vrai négatif, 6 faux négatif, 6 faux positif et 252 vrai positif.</font>"
   ]
  },
  {
   "cell_type": "markdown",
   "id": "99b9a206",
   "metadata": {
    "extensions": {
     "jupyter_dashboards": {
      "version": 1,
      "views": {
       "grid_default": {},
       "report_default": {
        "hidden": false
       }
      }
     }
    }
   },
   "source": [
    "##### Classification report:"
   ]
  },
  {
   "cell_type": "code",
   "execution_count": 170,
   "id": "23d19797",
   "metadata": {
    "extensions": {
     "jupyter_dashboards": {
      "version": 1,
      "views": {
       "grid_default": {},
       "report_default": {
        "hidden": false
       }
      }
     }
    }
   },
   "outputs": [
    {
     "name": "stdout",
     "output_type": "stream",
     "text": [
      "              precision    recall  f1-score   support\n",
      "\n",
      "           0       0.95      0.95      0.95       113\n",
      "           1       0.98      0.98      0.98       258\n",
      "\n",
      "    accuracy                           0.97       371\n",
      "   macro avg       0.96      0.96      0.96       371\n",
      "weighted avg       0.97      0.97      0.97       371\n",
      "\n"
     ]
    }
   ],
   "source": [
    "print(classification_report(y_test, y_pred))"
   ]
  },
  {
   "cell_type": "markdown",
   "id": "0dd34127",
   "metadata": {
    "extensions": {
     "jupyter_dashboards": {
      "version": 1,
      "views": {
       "grid_default": {},
       "report_default": {
        "hidden": false
       }
      }
     }
    }
   },
   "source": [
    "#### <font color='green'>Le rapport ci-dessus nous aide à mieux comprendre comment on été interprété les résultats obtenus. On observe d'ailleurs une exactitude des résultats à hauteur de 97%</font>"
   ]
  },
  {
   "cell_type": "markdown",
   "id": "0a5bb95b",
   "metadata": {
    "extensions": {
     "jupyter_dashboards": {
      "version": 1,
      "views": {
       "grid_default": {},
       "report_default": {
        "hidden": false
       }
      }
     }
    }
   },
   "source": [
    "### Analyse prédictive"
   ]
  },
  {
   "cell_type": "code",
   "execution_count": 215,
   "id": "a7f371cb",
   "metadata": {
    "extensions": {
     "jupyter_dashboards": {
      "version": 1,
      "views": {
       "grid_default": {},
       "report_default": {
        "hidden": false
       }
      }
     }
    }
   },
   "outputs": [
    {
     "data": {
      "text/html": [
       "<div>\n",
       "<style scoped>\n",
       "    .dataframe tbody tr th:only-of-type {\n",
       "        vertical-align: middle;\n",
       "    }\n",
       "\n",
       "    .dataframe tbody tr th {\n",
       "        vertical-align: top;\n",
       "    }\n",
       "\n",
       "    .dataframe thead th {\n",
       "        text-align: right;\n",
       "    }\n",
       "</style>\n",
       "<table border=\"1\" class=\"dataframe\">\n",
       "  <thead>\n",
       "    <tr style=\"text-align: right;\">\n",
       "      <th></th>\n",
       "      <th>diagonal</th>\n",
       "      <th>height_left</th>\n",
       "      <th>height_right</th>\n",
       "      <th>margin_low</th>\n",
       "      <th>margin_up</th>\n",
       "      <th>length</th>\n",
       "      <th>id</th>\n",
       "    </tr>\n",
       "  </thead>\n",
       "  <tbody>\n",
       "    <tr>\n",
       "      <th>0</th>\n",
       "      <td>172.09</td>\n",
       "      <td>103.95</td>\n",
       "      <td>103.73</td>\n",
       "      <td>4.39</td>\n",
       "      <td>3.09</td>\n",
       "      <td>113.19</td>\n",
       "      <td>B_1</td>\n",
       "    </tr>\n",
       "    <tr>\n",
       "      <th>1</th>\n",
       "      <td>171.52</td>\n",
       "      <td>104.17</td>\n",
       "      <td>104.03</td>\n",
       "      <td>5.27</td>\n",
       "      <td>3.16</td>\n",
       "      <td>111.82</td>\n",
       "      <td>B_2</td>\n",
       "    </tr>\n",
       "    <tr>\n",
       "      <th>2</th>\n",
       "      <td>171.78</td>\n",
       "      <td>103.80</td>\n",
       "      <td>103.75</td>\n",
       "      <td>3.81</td>\n",
       "      <td>3.24</td>\n",
       "      <td>113.39</td>\n",
       "      <td>B_3</td>\n",
       "    </tr>\n",
       "    <tr>\n",
       "      <th>3</th>\n",
       "      <td>172.02</td>\n",
       "      <td>104.08</td>\n",
       "      <td>103.99</td>\n",
       "      <td>5.57</td>\n",
       "      <td>3.30</td>\n",
       "      <td>111.10</td>\n",
       "      <td>B_4</td>\n",
       "    </tr>\n",
       "    <tr>\n",
       "      <th>4</th>\n",
       "      <td>171.79</td>\n",
       "      <td>104.34</td>\n",
       "      <td>104.37</td>\n",
       "      <td>5.00</td>\n",
       "      <td>3.07</td>\n",
       "      <td>111.87</td>\n",
       "      <td>B_5</td>\n",
       "    </tr>\n",
       "  </tbody>\n",
       "</table>\n",
       "</div>"
      ],
      "text/plain": [
       "   diagonal  height_left  height_right  margin_low  margin_up  length   id\n",
       "0    172.09       103.95        103.73        4.39       3.09  113.19  B_1\n",
       "1    171.52       104.17        104.03        5.27       3.16  111.82  B_2\n",
       "2    171.78       103.80        103.75        3.81       3.24  113.39  B_3\n",
       "3    172.02       104.08        103.99        5.57       3.30  111.10  B_4\n",
       "4    171.79       104.34        104.37        5.00       3.07  111.87  B_5"
      ]
     },
     "execution_count": 215,
     "metadata": {},
     "output_type": "execute_result"
    }
   ],
   "source": [
    "#Import:\n",
    "\n",
    "df = pd.read_csv('billets_testt.csv', delimiter=';', skiprows=1)\n",
    "df"
   ]
  },
  {
   "cell_type": "code",
   "execution_count": 216,
   "id": "57bf4431",
   "metadata": {
    "extensions": {
     "jupyter_dashboards": {
      "version": 1,
      "views": {
       "grid_default": {},
       "report_default": {
        "hidden": false
       }
      }
     }
    }
   },
   "outputs": [
    {
     "name": "stdout",
     "output_type": "stream",
     "text": [
      "<class 'pandas.core.frame.DataFrame'>\n",
      "RangeIndex: 5 entries, 0 to 4\n",
      "Data columns (total 7 columns):\n",
      " #   Column        Non-Null Count  Dtype  \n",
      "---  ------        --------------  -----  \n",
      " 0   diagonal      5 non-null      float64\n",
      " 1   height_left   5 non-null      float64\n",
      " 2   height_right  5 non-null      float64\n",
      " 3   margin_low    5 non-null      float64\n",
      " 4   margin_up     5 non-null      float64\n",
      " 5   length        5 non-null      float64\n",
      " 6   id            5 non-null      object \n",
      "dtypes: float64(6), object(1)\n",
      "memory usage: 408.0+ bytes\n"
     ]
    }
   ],
   "source": [
    "#Info:\n",
    "\n",
    "df.info()"
   ]
  },
  {
   "cell_type": "code",
   "execution_count": 217,
   "id": "8f0d8bed",
   "metadata": {
    "extensions": {
     "jupyter_dashboards": {
      "version": 1,
      "views": {
       "grid_default": {},
       "report_default": {
        "hidden": false
       }
      }
     }
    }
   },
   "outputs": [
    {
     "data": {
      "text/html": [
       "<div>\n",
       "<style scoped>\n",
       "    .dataframe tbody tr th:only-of-type {\n",
       "        vertical-align: middle;\n",
       "    }\n",
       "\n",
       "    .dataframe tbody tr th {\n",
       "        vertical-align: top;\n",
       "    }\n",
       "\n",
       "    .dataframe thead th {\n",
       "        text-align: right;\n",
       "    }\n",
       "</style>\n",
       "<table border=\"1\" class=\"dataframe\">\n",
       "  <thead>\n",
       "    <tr style=\"text-align: right;\">\n",
       "      <th></th>\n",
       "      <th>diagonal</th>\n",
       "      <th>height_left</th>\n",
       "      <th>height_right</th>\n",
       "      <th>margin_low</th>\n",
       "      <th>margin_up</th>\n",
       "      <th>length</th>\n",
       "    </tr>\n",
       "  </thead>\n",
       "  <tbody>\n",
       "    <tr>\n",
       "      <th>count</th>\n",
       "      <td>5.000000</td>\n",
       "      <td>5.000000</td>\n",
       "      <td>5.000000</td>\n",
       "      <td>5.000000</td>\n",
       "      <td>5.000000</td>\n",
       "      <td>5.00000</td>\n",
       "    </tr>\n",
       "    <tr>\n",
       "      <th>mean</th>\n",
       "      <td>171.840000</td>\n",
       "      <td>104.068000</td>\n",
       "      <td>103.974000</td>\n",
       "      <td>4.808000</td>\n",
       "      <td>3.172000</td>\n",
       "      <td>112.27400</td>\n",
       "    </tr>\n",
       "    <tr>\n",
       "      <th>std</th>\n",
       "      <td>0.225499</td>\n",
       "      <td>0.206325</td>\n",
       "      <td>0.259769</td>\n",
       "      <td>0.707404</td>\n",
       "      <td>0.097826</td>\n",
       "      <td>0.97879</td>\n",
       "    </tr>\n",
       "    <tr>\n",
       "      <th>min</th>\n",
       "      <td>171.520000</td>\n",
       "      <td>103.800000</td>\n",
       "      <td>103.730000</td>\n",
       "      <td>3.810000</td>\n",
       "      <td>3.070000</td>\n",
       "      <td>111.10000</td>\n",
       "    </tr>\n",
       "    <tr>\n",
       "      <th>25%</th>\n",
       "      <td>171.780000</td>\n",
       "      <td>103.950000</td>\n",
       "      <td>103.750000</td>\n",
       "      <td>4.390000</td>\n",
       "      <td>3.090000</td>\n",
       "      <td>111.82000</td>\n",
       "    </tr>\n",
       "    <tr>\n",
       "      <th>50%</th>\n",
       "      <td>171.790000</td>\n",
       "      <td>104.080000</td>\n",
       "      <td>103.990000</td>\n",
       "      <td>5.000000</td>\n",
       "      <td>3.160000</td>\n",
       "      <td>111.87000</td>\n",
       "    </tr>\n",
       "    <tr>\n",
       "      <th>75%</th>\n",
       "      <td>172.020000</td>\n",
       "      <td>104.170000</td>\n",
       "      <td>104.030000</td>\n",
       "      <td>5.270000</td>\n",
       "      <td>3.240000</td>\n",
       "      <td>113.19000</td>\n",
       "    </tr>\n",
       "    <tr>\n",
       "      <th>max</th>\n",
       "      <td>172.090000</td>\n",
       "      <td>104.340000</td>\n",
       "      <td>104.370000</td>\n",
       "      <td>5.570000</td>\n",
       "      <td>3.300000</td>\n",
       "      <td>113.39000</td>\n",
       "    </tr>\n",
       "  </tbody>\n",
       "</table>\n",
       "</div>"
      ],
      "text/plain": [
       "         diagonal  height_left  height_right  margin_low  margin_up     length\n",
       "count    5.000000     5.000000      5.000000    5.000000   5.000000    5.00000\n",
       "mean   171.840000   104.068000    103.974000    4.808000   3.172000  112.27400\n",
       "std      0.225499     0.206325      0.259769    0.707404   0.097826    0.97879\n",
       "min    171.520000   103.800000    103.730000    3.810000   3.070000  111.10000\n",
       "25%    171.780000   103.950000    103.750000    4.390000   3.090000  111.82000\n",
       "50%    171.790000   104.080000    103.990000    5.000000   3.160000  111.87000\n",
       "75%    172.020000   104.170000    104.030000    5.270000   3.240000  113.19000\n",
       "max    172.090000   104.340000    104.370000    5.570000   3.300000  113.39000"
      ]
     },
     "execution_count": 217,
     "metadata": {},
     "output_type": "execute_result"
    }
   ],
   "source": [
    "#Description:\n",
    "\n",
    "df.describe()"
   ]
  },
  {
   "cell_type": "code",
   "execution_count": 231,
   "id": "3558d45b",
   "metadata": {
    "extensions": {
     "jupyter_dashboards": {
      "version": 1,
      "views": {
       "grid_default": {},
       "report_default": {
        "hidden": true
       }
      }
     }
    }
   },
   "outputs": [
    {
     "data": {
      "text/html": [
       "<div>\n",
       "<style scoped>\n",
       "    .dataframe tbody tr th:only-of-type {\n",
       "        vertical-align: middle;\n",
       "    }\n",
       "\n",
       "    .dataframe tbody tr th {\n",
       "        vertical-align: top;\n",
       "    }\n",
       "\n",
       "    .dataframe thead th {\n",
       "        text-align: right;\n",
       "    }\n",
       "</style>\n",
       "<table border=\"1\" class=\"dataframe\">\n",
       "  <thead>\n",
       "    <tr style=\"text-align: right;\">\n",
       "      <th></th>\n",
       "      <th>diagonal</th>\n",
       "      <th>height_left</th>\n",
       "      <th>height_right</th>\n",
       "      <th>margin_low</th>\n",
       "      <th>margin_up</th>\n",
       "      <th>length</th>\n",
       "    </tr>\n",
       "  </thead>\n",
       "  <tbody>\n",
       "    <tr>\n",
       "      <th>0</th>\n",
       "      <td>172.09</td>\n",
       "      <td>103.95</td>\n",
       "      <td>103.73</td>\n",
       "      <td>4.39</td>\n",
       "      <td>3.09</td>\n",
       "      <td>113.19</td>\n",
       "    </tr>\n",
       "    <tr>\n",
       "      <th>1</th>\n",
       "      <td>171.52</td>\n",
       "      <td>104.17</td>\n",
       "      <td>104.03</td>\n",
       "      <td>5.27</td>\n",
       "      <td>3.16</td>\n",
       "      <td>111.82</td>\n",
       "    </tr>\n",
       "    <tr>\n",
       "      <th>2</th>\n",
       "      <td>171.78</td>\n",
       "      <td>103.80</td>\n",
       "      <td>103.75</td>\n",
       "      <td>3.81</td>\n",
       "      <td>3.24</td>\n",
       "      <td>113.39</td>\n",
       "    </tr>\n",
       "    <tr>\n",
       "      <th>3</th>\n",
       "      <td>172.02</td>\n",
       "      <td>104.08</td>\n",
       "      <td>103.99</td>\n",
       "      <td>5.57</td>\n",
       "      <td>3.30</td>\n",
       "      <td>111.10</td>\n",
       "    </tr>\n",
       "    <tr>\n",
       "      <th>4</th>\n",
       "      <td>171.79</td>\n",
       "      <td>104.34</td>\n",
       "      <td>104.37</td>\n",
       "      <td>5.00</td>\n",
       "      <td>3.07</td>\n",
       "      <td>111.87</td>\n",
       "    </tr>\n",
       "  </tbody>\n",
       "</table>\n",
       "</div>"
      ],
      "text/plain": [
       "   diagonal  height_left  height_right  margin_low  margin_up  length\n",
       "0    172.09       103.95        103.73        4.39       3.09  113.19\n",
       "1    171.52       104.17        104.03        5.27       3.16  111.82\n",
       "2    171.78       103.80        103.75        3.81       3.24  113.39\n",
       "3    172.02       104.08        103.99        5.57       3.30  111.10\n",
       "4    171.79       104.34        104.37        5.00       3.07  111.87"
      ]
     },
     "execution_count": 231,
     "metadata": {},
     "output_type": "execute_result"
    }
   ],
   "source": [
    "#Séparation du dataframe\n",
    "\n",
    "X = df.iloc[:,:-1]\n",
    "X"
   ]
  },
  {
   "cell_type": "code",
   "execution_count": 232,
   "id": "14b53fbe",
   "metadata": {
    "extensions": {
     "jupyter_dashboards": {
      "version": 1,
      "views": {
       "grid_default": {},
       "report_default": {
        "hidden": true
       }
      }
     }
    }
   },
   "outputs": [],
   "source": [
    "#Création d'un pipeline:\n",
    "\n",
    "pipe = Pipeline([('std', scaler), ('pca', pca2)])"
   ]
  },
  {
   "cell_type": "raw",
   "id": "c4117f7f",
   "metadata": {},
   "source": []
  },
  {
   "cell_type": "code",
   "execution_count": 233,
   "id": "7a51d3d8",
   "metadata": {
    "extensions": {
     "jupyter_dashboards": {
      "version": 1,
      "views": {
       "grid_default": {},
       "report_default": {
        "hidden": false
       }
      }
     }
    }
   },
   "outputs": [
    {
     "data": {
      "text/plain": [
       "<bound method Pipeline.get_params of Pipeline(steps=[('std', StandardScaler()), ('pca', PCA(n_components=4))])>"
      ]
     },
     "execution_count": 233,
     "metadata": {},
     "output_type": "execute_result"
    }
   ],
   "source": [
    "#Vérification des paramètres du pipeline:\n",
    "\n",
    "pipe.get_params"
   ]
  },
  {
   "cell_type": "code",
   "execution_count": 234,
   "id": "207a04df",
   "metadata": {
    "extensions": {
     "jupyter_dashboards": {
      "version": 1,
      "views": {
       "grid_default": {},
       "report_default": {
        "hidden": false
       }
      }
     }
    }
   },
   "outputs": [
    {
     "data": {
      "text/plain": [
       "array([[-0.83122602, -0.31265137, -0.08100435,  0.31121797],\n",
       "       [ 1.60180705,  1.32005765,  0.49708489, -0.11303299],\n",
       "       [-1.18214658,  0.72625465, -0.28131046,  0.2790902 ],\n",
       "       [ 2.25497014, -0.04871119, -0.55258283,  0.64216567],\n",
       "       [ 1.71030261,  0.15973014,  0.67218696, -1.15071097]])"
      ]
     },
     "execution_count": 234,
     "metadata": {},
     "output_type": "execute_result"
    }
   ],
   "source": [
    "#Ajuster le pipeline:\n",
    "\n",
    "X2 = pipe.transform(X)\n",
    "X2"
   ]
  },
  {
   "cell_type": "code",
   "execution_count": 235,
   "id": "c2f0d44e",
   "metadata": {
    "extensions": {
     "jupyter_dashboards": {
      "version": 1,
      "views": {
       "grid_default": {},
       "report_default": {
        "hidden": false
       }
      }
     }
    }
   },
   "outputs": [
    {
     "data": {
      "text/html": [
       "<div>\n",
       "<style scoped>\n",
       "    .dataframe tbody tr th:only-of-type {\n",
       "        vertical-align: middle;\n",
       "    }\n",
       "\n",
       "    .dataframe tbody tr th {\n",
       "        vertical-align: top;\n",
       "    }\n",
       "\n",
       "    .dataframe thead th {\n",
       "        text-align: right;\n",
       "    }\n",
       "</style>\n",
       "<table border=\"1\" class=\"dataframe\">\n",
       "  <thead>\n",
       "    <tr style=\"text-align: right;\">\n",
       "      <th></th>\n",
       "      <th>PC1</th>\n",
       "      <th>PC2</th>\n",
       "      <th>PC3</th>\n",
       "      <th>PC4</th>\n",
       "    </tr>\n",
       "  </thead>\n",
       "  <tbody>\n",
       "    <tr>\n",
       "      <th>0</th>\n",
       "      <td>-0.831226</td>\n",
       "      <td>-0.312651</td>\n",
       "      <td>-0.081004</td>\n",
       "      <td>0.311218</td>\n",
       "    </tr>\n",
       "    <tr>\n",
       "      <th>1</th>\n",
       "      <td>1.601807</td>\n",
       "      <td>1.320058</td>\n",
       "      <td>0.497085</td>\n",
       "      <td>-0.113033</td>\n",
       "    </tr>\n",
       "    <tr>\n",
       "      <th>2</th>\n",
       "      <td>-1.182147</td>\n",
       "      <td>0.726255</td>\n",
       "      <td>-0.281310</td>\n",
       "      <td>0.279090</td>\n",
       "    </tr>\n",
       "    <tr>\n",
       "      <th>3</th>\n",
       "      <td>2.254970</td>\n",
       "      <td>-0.048711</td>\n",
       "      <td>-0.552583</td>\n",
       "      <td>0.642166</td>\n",
       "    </tr>\n",
       "    <tr>\n",
       "      <th>4</th>\n",
       "      <td>1.710303</td>\n",
       "      <td>0.159730</td>\n",
       "      <td>0.672187</td>\n",
       "      <td>-1.150711</td>\n",
       "    </tr>\n",
       "  </tbody>\n",
       "</table>\n",
       "</div>"
      ],
      "text/plain": [
       "        PC1       PC2       PC3       PC4\n",
       "0 -0.831226 -0.312651 -0.081004  0.311218\n",
       "1  1.601807  1.320058  0.497085 -0.113033\n",
       "2 -1.182147  0.726255 -0.281310  0.279090\n",
       "3  2.254970 -0.048711 -0.552583  0.642166\n",
       "4  1.710303  0.159730  0.672187 -1.150711"
      ]
     },
     "execution_count": 235,
     "metadata": {},
     "output_type": "execute_result"
    }
   ],
   "source": [
    "#Reformer le Dataframe:\n",
    "\n",
    "X2 = pd.DataFrame(X2)\n",
    "X2.columns = ['PC1', 'PC2', 'PC3', 'PC4']\n",
    "X2"
   ]
  },
  {
   "cell_type": "code",
   "execution_count": 236,
   "id": "6f016534",
   "metadata": {
    "extensions": {
     "jupyter_dashboards": {
      "version": 1,
      "views": {
       "grid_default": {},
       "report_default": {
        "hidden": false
       }
      }
     }
    }
   },
   "outputs": [
    {
     "data": {
      "text/plain": [
       "array([1, 0, 1, 0, 0])"
      ]
     },
     "execution_count": 236,
     "metadata": {},
     "output_type": "execute_result"
    }
   ],
   "source": [
    "#Prediction:\n",
    "\n",
    "y_pred2 = logReg.predict(X2)\n",
    "y_pred2"
   ]
  },
  {
   "cell_type": "code",
   "execution_count": 237,
   "id": "8a6a0c1b",
   "metadata": {
    "extensions": {
     "jupyter_dashboards": {
      "version": 1,
      "views": {
       "grid_default": {},
       "report_default": {
        "hidden": false
       }
      }
     }
    }
   },
   "outputs": [
    {
     "data": {
      "text/html": [
       "<div>\n",
       "<style scoped>\n",
       "    .dataframe tbody tr th:only-of-type {\n",
       "        vertical-align: middle;\n",
       "    }\n",
       "\n",
       "    .dataframe tbody tr th {\n",
       "        vertical-align: top;\n",
       "    }\n",
       "\n",
       "    .dataframe thead th {\n",
       "        text-align: right;\n",
       "    }\n",
       "</style>\n",
       "<table border=\"1\" class=\"dataframe\">\n",
       "  <thead>\n",
       "    <tr style=\"text-align: right;\">\n",
       "      <th></th>\n",
       "      <th>PC1</th>\n",
       "      <th>PC2</th>\n",
       "      <th>PC3</th>\n",
       "      <th>PC4</th>\n",
       "      <th>prediction</th>\n",
       "    </tr>\n",
       "  </thead>\n",
       "  <tbody>\n",
       "    <tr>\n",
       "      <th>0</th>\n",
       "      <td>-0.831226</td>\n",
       "      <td>-0.312651</td>\n",
       "      <td>-0.081004</td>\n",
       "      <td>0.311218</td>\n",
       "      <td>1</td>\n",
       "    </tr>\n",
       "    <tr>\n",
       "      <th>1</th>\n",
       "      <td>1.601807</td>\n",
       "      <td>1.320058</td>\n",
       "      <td>0.497085</td>\n",
       "      <td>-0.113033</td>\n",
       "      <td>0</td>\n",
       "    </tr>\n",
       "    <tr>\n",
       "      <th>2</th>\n",
       "      <td>-1.182147</td>\n",
       "      <td>0.726255</td>\n",
       "      <td>-0.281310</td>\n",
       "      <td>0.279090</td>\n",
       "      <td>1</td>\n",
       "    </tr>\n",
       "    <tr>\n",
       "      <th>3</th>\n",
       "      <td>2.254970</td>\n",
       "      <td>-0.048711</td>\n",
       "      <td>-0.552583</td>\n",
       "      <td>0.642166</td>\n",
       "      <td>0</td>\n",
       "    </tr>\n",
       "    <tr>\n",
       "      <th>4</th>\n",
       "      <td>1.710303</td>\n",
       "      <td>0.159730</td>\n",
       "      <td>0.672187</td>\n",
       "      <td>-1.150711</td>\n",
       "      <td>0</td>\n",
       "    </tr>\n",
       "  </tbody>\n",
       "</table>\n",
       "</div>"
      ],
      "text/plain": [
       "        PC1       PC2       PC3       PC4  prediction\n",
       "0 -0.831226 -0.312651 -0.081004  0.311218           1\n",
       "1  1.601807  1.320058  0.497085 -0.113033           0\n",
       "2 -1.182147  0.726255 -0.281310  0.279090           1\n",
       "3  2.254970 -0.048711 -0.552583  0.642166           0\n",
       "4  1.710303  0.159730  0.672187 -1.150711           0"
      ]
     },
     "execution_count": 237,
     "metadata": {},
     "output_type": "execute_result"
    }
   ],
   "source": [
    "#Resultat:\n",
    "\n",
    "X2['prediction'] = y_pred2\n",
    "X2"
   ]
  },
  {
   "cell_type": "code",
   "execution_count": null,
   "id": "37570cae",
   "metadata": {
    "extensions": {
     "jupyter_dashboards": {
      "version": 1,
      "views": {
       "grid_default": {},
       "report_default": {
        "hidden": true
       }
      }
     }
    }
   },
   "outputs": [],
   "source": []
  },
  {
   "cell_type": "code",
   "execution_count": null,
   "id": "9ec70a85",
   "metadata": {},
   "outputs": [],
   "source": []
  }
 ],
 "metadata": {
  "extensions": {
   "jupyter_dashboards": {
    "activeView": "report_default",
    "version": 1,
    "views": {
     "grid_default": {
      "name": "grid",
      "type": "grid"
     },
     "report_default": {
      "name": "report",
      "type": "report"
     }
    }
   }
  },
  "kernelspec": {
   "display_name": "Python 3",
   "language": "python",
   "name": "python3"
  },
  "language_info": {
   "codemirror_mode": {
    "name": "ipython",
    "version": 3
   },
   "file_extension": ".py",
   "mimetype": "text/x-python",
   "name": "python",
   "nbconvert_exporter": "python",
   "pygments_lexer": "ipython3",
   "version": "3.8.8"
  }
 },
 "nbformat": 4,
 "nbformat_minor": 5
}
